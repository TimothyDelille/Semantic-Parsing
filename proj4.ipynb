{
 "cells": [
  {
   "cell_type": "markdown",
   "metadata": {
    "colab_type": "text",
    "id": "CeUOYktpXtOz"
   },
   "source": [
    "# Project 4: Semantic Parsing"
   ]
  },
  {
   "cell_type": "markdown",
   "metadata": {
    "colab_type": "text",
    "id": "XFEIwsqI7YKR"
   },
   "source": [
    "This project will have you implement a neural semantic parser for the GeoQA dataset of [Krishnamurthy and Kollar, 2013](http://rtw.ml.cmu.edu/tacl2013_lsp/tacl2013-krishnamurthy-kollar.pdf), which consists of a database of simple geographic facts about 10 US states, questions and answers about the database, and annotated logical forms for the questions. Your final system will go from natural language questions to their answers, computed from the database, via logical forms that are executed on the database. \n",
    "\n",
    "First, you'll implement a method for executing logical forms on the database. Then, you'll implement some components of a constrained sequence-to-sequence model for producing logical forms from questions. You will train it using paired questions and logical forms. Then, you will train it from questions-answer pairs, by searching over latent logical forms."
   ]
  },
  {
   "cell_type": "markdown",
   "metadata": {
    "colab_type": "text",
    "id": "FEF2PcoBc97Q"
   },
   "source": [
    "Note: this dataset is small enough that we will be able to train on CPU; you don't need a GPU instance."
   ]
  },
  {
   "cell_type": "markdown",
   "metadata": {
    "colab_type": "text",
    "id": "acPh_4GwYID0"
   },
   "source": [
    "## Setup"
   ]
  },
  {
   "cell_type": "markdown",
   "metadata": {
    "colab_type": "text",
    "id": "c7cggO7mjZ5L"
   },
   "source": [
    "The dependencies for this project include:\n",
    "* `torch` for modeling and training\n",
    "* `sexpdata` for loading logical forms from [S-expressions](https://en.wikipedia.org/wiki/S-expression)\n",
    "* `geoqa`: support code for loading and preprocessing the GeoQA database, evaluating predicted answers, and support code, available at this [github repo](https://github.com/dpfried/geoqa-release) (although you can treat the code as a black box and not worry about the details)."
   ]
  },
  {
   "cell_type": "code",
   "execution_count": 0,
   "metadata": {
    "colab": {},
    "colab_type": "code",
    "id": "FjPOhBQs6-IQ"
   },
   "outputs": [],
   "source": [
    "%%capture\n",
    "!pip install --upgrade torch tqdm sexpdata\n",
    "# this provides the packages available here: https://github.com/dpfried/geoqa-release\n",
    "!wget https://github.com/dpfried/geoqa-release/archive/master.zip -O geoqa.zip\n",
    "!unzip geoqa.zip\n",
    "!rm geoqa.zip\n",
    "!mv geoqa-release-master/data.tgz .\n",
    "!mv geoqa-release-master/geoqa .\n",
    "!mv geoqa-release-master/vecs .\n",
    "!rm -r geoqa-release-master\n",
    "!tar xf data.tgz\n",
    "\n",
    "# Standard library imports\n",
    "import math\n",
    "import random\n",
    "import pprint\n",
    "import pickle\n",
    "from typing import Union, List, Set, Tuple\n",
    "from collections import namedtuple\n",
    "\n",
    "# Third party imports\n",
    "import editdistance\n",
    "import matplotlib.pyplot as plt\n",
    "import numpy as np\n",
    "import torch\n",
    "import time\n",
    "import torch.nn as nn\n",
    "import tqdm.notebook\n",
    "import sexpdata\n",
    "\n",
    "from torch.nn.utils.rnn import pad_sequence\n",
    "from torch.utils.data import Dataset, DataLoader\n",
    "\n",
    "# geoqa imports; we'll examine these shortly\n",
    "import geoqa\n",
    "import geoqa.geo\n",
    "import geoqa.utils\n",
    "\n",
    "from geoqa.utils import Stack, Index, logical_form_to_str\n",
    "from geoqa.geo import STATES, World\n",
    "from geoqa.geo import CATS, RELS, ENTITY_ACTIONS_TO_ENTITIES\n",
    "from geoqa.geo import LAMBDA, EXISTS, AND, VARS, MAX_LITERALS\n",
    "from geoqa.dataset import GeoDataset\n",
    "from geoqa.evaluation import evaluate_predictions\n",
    "\n",
    "BIG_NEG = -1e9"
   ]
  },
  {
   "cell_type": "markdown",
   "metadata": {
    "colab_type": "text",
    "id": "tOcjFTuVYI6C"
   },
   "source": [
    "## Data"
   ]
  },
  {
   "cell_type": "markdown",
   "metadata": {
    "colab_type": "text",
    "id": "cv81fe200KlE"
   },
   "source": [
    "First, let's examine the dataset. GeoQA contains 10 databases, one for each of 10 states."
   ]
  },
  {
   "cell_type": "code",
   "execution_count": 0,
   "metadata": {
    "colab": {
     "base_uri": "https://localhost:8080/",
     "height": 34
    },
    "colab_type": "code",
    "id": "4uPT-oz40gYQ",
    "outputId": "b5b29e6c-5fc2-4045-f7f9-feebcbe9fdf9"
   },
   "outputs": [
    {
     "data": {
      "text/plain": [
       "['fl', 'ga', 'mi', 'nc', 'ok', 'pa', 'sc', 'tn', 'va', 'wv']"
      ]
     },
     "execution_count": 153,
     "metadata": {
      "tags": []
     },
     "output_type": "execute_result"
    }
   ],
   "source": [
    "STATES"
   ]
  },
  {
   "cell_type": "code",
   "execution_count": 0,
   "metadata": {
    "colab": {},
    "colab_type": "code",
    "id": "DLv68jB2y6Rc"
   },
   "outputs": [],
   "source": [
    "DEV_STATES = [\"va\", \"wv\"]\n",
    "TEST_STATES = [\"fl\", \"ga\"]\n",
    "TRAIN_STATES = [env for env in STATES if env not in DEV_STATES + TEST_STATES]"
   ]
  },
  {
   "cell_type": "markdown",
   "metadata": {
    "colab_type": "text",
    "id": "W_zKfbxB4sHC"
   },
   "source": [
    "A database consists of a set of entities, and a collection of facts about these entities. Facts are either categories, which are unary predicates on entities, or relations, which are binary predicates between entity pairs."
   ]
  },
  {
   "cell_type": "code",
   "execution_count": 0,
   "metadata": {
    "colab": {
     "base_uri": "https://localhost:8080/",
     "height": 34
    },
    "colab_type": "code",
    "id": "131kc8aj5ySe",
    "outputId": "6c263979-829b-4136-d118-da26e1881bdd"
   },
   "outputs": [
    {
     "data": {
      "text/plain": [
       "'city state park island beach ocean lake forest major peninsula capital body water salt fresh place'"
      ]
     },
     "execution_count": 155,
     "metadata": {
      "tags": []
     },
     "output_type": "execute_result"
    }
   ],
   "source": [
    "# all possible categories that can be used across states\n",
    "' '.join(CATS)"
   ]
  },
  {
   "cell_type": "code",
   "execution_count": 0,
   "metadata": {
    "colab": {
     "base_uri": "https://localhost:8080/",
     "height": 54
    },
    "colab_type": "code",
    "id": "qeDYWJ_k52YP",
    "outputId": "0798a61f-afc4-4234-d9aa-ed570363c7e7"
   },
   "outputs": [
    {
     "data": {
      "text/plain": [
       "'in-rel on-rel north-rel south-rel east-rel west-rel northeast-rel southeast-rel southwest-rel northwest-rel border-rel capital-rel near-rel close-rel surround-rel bigger-rel abut-rel along-rel inside-rel contain-rel'"
      ]
     },
     "execution_count": 156,
     "metadata": {
      "tags": []
     },
     "output_type": "execute_result"
    }
   ],
   "source": [
    "# all possible relations that can be used across states\n",
    "' '.join(RELS)"
   ]
  },
  {
   "cell_type": "markdown",
   "metadata": {
    "colab_type": "text",
    "id": "aeznyh2p55d7"
   },
   "source": [
    "Not all categories and relations will be used in a given database; but here are a representation of the entities, categories, and relations for one state. This dataset is quite small, and the state data below represents one of the larger databases."
   ]
  },
  {
   "cell_type": "code",
   "execution_count": 0,
   "metadata": {
    "colab": {
     "base_uri": "https://localhost:8080/",
     "height": 1000
    },
    "colab_type": "code",
    "id": "CJHntYwQ1XVs",
    "outputId": "addc0fde-d30b-4383-a43a-aac36b97429b"
   },
   "outputs": [
    {
     "name": "stdout",
     "output_type": "stream",
     "text": [
      "name: va\n",
      "entities:\n",
      "\tvirginia\n",
      "\tvirginia_beach\n",
      "\trichmond\n",
      "\tatlantic_ocean\n",
      "\twest_virginia\n",
      "\tnorth_carolina\n",
      "categories:\n",
      "\tcity(virginia_beach)\n",
      "\tcity(richmond)\n",
      "\tstate(virginia)\n",
      "\tstate(west_virginia)\n",
      "\tstate(north_carolina)\n",
      "\tocean(atlantic_ocean)\n",
      "relations:\n",
      "\tin-rel(virginia_beach, virginia)\n",
      "\tin-rel(richmond, virginia)\n",
      "\ton-rel(virginia, atlantic_ocean)\n",
      "\ton-rel(virginia_beach, atlantic_ocean)\n",
      "\ton-rel(west_virginia, atlantic_ocean)\n",
      "\ton-rel(north_carolina, atlantic_ocean)\n",
      "\tsouth-rel(virginia, west_virginia)\n",
      "\tsouth-rel(north_carolina, virginia)\n",
      "\tsouth-rel(north_carolina, virginia_beach)\n",
      "\tsouth-rel(north_carolina, richmond)\n",
      "\teast-rel(virginia, west_virginia)\n",
      "\teast-rel(virginia_beach, richmond)\n",
      "\teast-rel(atlantic_ocean, virginia)\n",
      "\teast-rel(atlantic_ocean, virginia_beach)\n",
      "\teast-rel(atlantic_ocean, richmond)\n",
      "\teast-rel(atlantic_ocean, west_virginia)\n",
      "\teast-rel(atlantic_ocean, north_carolina)\n",
      "\twest-rel(virginia, atlantic_ocean)\n",
      "\twest-rel(virginia_beach, atlantic_ocean)\n",
      "\twest-rel(richmond, virginia_beach)\n",
      "\twest-rel(richmond, atlantic_ocean)\n",
      "\twest-rel(west_virginia, virginia)\n",
      "\twest-rel(north_carolina, atlantic_ocean)\n",
      "\tsoutheast-rel(virginia, west_virginia)\n",
      "\tsoutheast-rel(virginia_beach, richmond)\n",
      "\tsoutheast-rel(atlantic_ocean, virginia)\n",
      "\tsoutheast-rel(atlantic_ocean, north_carolina)\n",
      "\tborder-rel(virginia, atlantic_ocean)\n",
      "\tborder-rel(virginia, west_virginia)\n",
      "\tborder-rel(virginia, north_carolina)\n",
      "\tborder-rel(virginia_beach, atlantic_ocean)\n",
      "\tborder-rel(atlantic_ocean, virginia)\n",
      "\tborder-rel(atlantic_ocean, virginia_beach)\n",
      "\tborder-rel(atlantic_ocean, west_virginia)\n",
      "\tborder-rel(atlantic_ocean, north_carolina)\n",
      "\tborder-rel(west_virginia, virginia)\n",
      "\tborder-rel(west_virginia, atlantic_ocean)\n",
      "\tborder-rel(north_carolina, virginia)\n",
      "\tborder-rel(north_carolina, atlantic_ocean)\n",
      "\tcapital-rel(richmond, virginia)\n",
      "\tnear-rel(virginia, atlantic_ocean)\n",
      "\tnear-rel(virginia, west_virginia)\n",
      "\tnear-rel(virginia, north_carolina)\n",
      "\tnear-rel(virginia_beach, richmond)\n",
      "\tnear-rel(virginia_beach, atlantic_ocean)\n",
      "\tnear-rel(virginia_beach, north_carolina)\n",
      "\tnear-rel(richmond, virginia_beach)\n",
      "\tnear-rel(atlantic_ocean, virginia)\n",
      "\tnear-rel(atlantic_ocean, virginia_beach)\n",
      "\tnear-rel(atlantic_ocean, north_carolina)\n",
      "\tnear-rel(west_virginia, virginia)\n",
      "\tnear-rel(north_carolina, virginia)\n",
      "\tnear-rel(north_carolina, virginia_beach)\n",
      "\tnear-rel(north_carolina, atlantic_ocean)\n",
      "\tabut-rel(virginia, atlantic_ocean)\n",
      "\tabut-rel(virginia, west_virginia)\n",
      "\tabut-rel(virginia, north_carolina)\n",
      "\tabut-rel(virginia_beach, atlantic_ocean)\n",
      "\tabut-rel(atlantic_ocean, virginia)\n",
      "\tabut-rel(atlantic_ocean, virginia_beach)\n",
      "\tabut-rel(atlantic_ocean, north_carolina)\n",
      "\tabut-rel(west_virginia, virginia)\n",
      "\tabut-rel(north_carolina, virginia)\n",
      "\tabut-rel(north_carolina, atlantic_ocean)\n",
      "\talong-rel(virginia, atlantic_ocean)\n",
      "\talong-rel(virginia_beach, atlantic_ocean)\n",
      "\talong-rel(west_virginia, atlantic_ocean)\n",
      "\talong-rel(north_carolina, atlantic_ocean)\n",
      "\tinside-rel(virginia_beach, virginia)\n",
      "\tinside-rel(richmond, virginia)\n",
      "\tcontain-rel(virginia, virginia_beach)\n",
      "\tcontain-rel(virginia, richmond)\n"
     ]
    }
   ],
   "source": [
    "world = geoqa.geo.read_world(\"va\")\n",
    "world.print()"
   ]
  },
  {
   "cell_type": "markdown",
   "metadata": {
    "colab_type": "text",
    "id": "5Vn6mqMc0nio"
   },
   "source": [
    "Each state has a set of question-answer pairs, with an associated logical form for each question."
   ]
  },
  {
   "cell_type": "code",
   "execution_count": 0,
   "metadata": {
    "colab": {},
    "colab_type": "code",
    "id": "t1LU0bazywMw"
   },
   "outputs": [],
   "source": [
    "questions, answers, logical_forms = geoqa.geo.read_data(\"va\")\n",
    "\n",
    "instance_index = 10"
   ]
  },
  {
   "cell_type": "code",
   "execution_count": 0,
   "metadata": {
    "colab": {
     "base_uri": "https://localhost:8080/",
     "height": 34
    },
    "colab_type": "code",
    "id": "lAyAMRVf0x8r",
    "outputId": "59d384aa-bf48-430d-8c98-8471599f32fe"
   },
   "outputs": [
    {
     "data": {
      "text/plain": [
       "'what cities are in virginia ?'"
      ]
     },
     "execution_count": 159,
     "metadata": {
      "tags": []
     },
     "output_type": "execute_result"
    }
   ],
   "source": [
    "questions[instance_index]"
   ]
  },
  {
   "cell_type": "markdown",
   "metadata": {
    "colab_type": "text",
    "id": "RT4WajPfGHdk"
   },
   "source": [
    "Each answer is a set of entities from the database:"
   ]
  },
  {
   "cell_type": "code",
   "execution_count": 0,
   "metadata": {
    "colab": {
     "base_uri": "https://localhost:8080/",
     "height": 34
    },
    "colab_type": "code",
    "id": "IuW8g2E500VF",
    "outputId": "2fe846fb-bb89-4df4-d3eb-80b820beb497"
   },
   "outputs": [
    {
     "data": {
      "text/plain": [
       "'virginia_beach,richmond'"
      ]
     },
     "execution_count": 160,
     "metadata": {
      "tags": []
     },
     "output_type": "execute_result"
    }
   ],
   "source": [
    "answers[instance_index]"
   ]
  },
  {
   "cell_type": "markdown",
   "metadata": {
    "colab_type": "text",
    "id": "dXDjQFKZ067q"
   },
   "source": [
    "Logical forms are lambda calculus functions represented as tuples:"
   ]
  },
  {
   "cell_type": "code",
   "execution_count": 0,
   "metadata": {
    "colab": {
     "base_uri": "https://localhost:8080/",
     "height": 102
    },
    "colab_type": "code",
    "id": "sF0G35Hz04-L",
    "outputId": "035bd0f0-6ac3-4337-9fea-d0e6f8099149"
   },
   "outputs": [
    {
     "data": {
      "text/plain": [
       "('lambda',\n",
       " '$w',\n",
       " ('exists',\n",
       "  '$x',\n",
       "  ('and', ('city', '$w'), ('in-rel', '$w', '$x'), ('kb-virginia', '$x'))))"
      ]
     },
     "execution_count": 161,
     "metadata": {
      "tags": []
     },
     "output_type": "execute_result"
    }
   ],
   "source": [
    "logical_forms[instance_index]"
   ]
  },
  {
   "cell_type": "code",
   "execution_count": 0,
   "metadata": {
    "colab": {
     "base_uri": "https://localhost:8080/",
     "height": 34
    },
    "colab_type": "code",
    "id": "8AdTo5zkA_pF",
    "outputId": "9e554abe-5ca7-4025-a2f4-5453d2a286f7"
   },
   "outputs": [
    {
     "name": "stdout",
     "output_type": "stream",
     "text": [
      "(lambda $w (exists $x (and (city $w) (in-rel $w $x) (kb-virginia $x))))\n"
     ]
    }
   ],
   "source": [
    "print(logical_form_to_str(logical_forms[instance_index]))"
   ]
  },
  {
   "cell_type": "markdown",
   "metadata": {
    "colab_type": "text",
    "id": "Ru5yVIOG6U9t"
   },
   "source": [
    "This dataset has fairly simple lambda calculus expressions, which always consist of a single function and a conjunction of predicates. Because of this, every logical form contains:\n",
    "1. **Variables** (`$x, $y, $z,` and `$w`), which can take on entity values from the database.\n",
    "2. **Predicates**, of which there are three types:\n",
    "    - **categories** (e.g. `city`), which take 1 variable as an argument, and return true if the category is true in the database for the entity assigned to the variable.\n",
    "    - **relations** (e.g. `in-rel`), which take 2 variable arguments, and return true if the relation is true in the database for the ordered pair of entities assigned to the variables.\n",
    "    - **entity predicates** (e.g. `kb-virginia`), which takes 1 variable argument and return true if the proper entity (e.g. `virginia`) is assigned to the variable.\n",
    "3. A **conjunction** (`and`) of multiple **literals** (e.g. `(city $w)` is a literal). A literal consists of a predicate with some number of variables as argument.\n",
    "4. [optional] An **existential quantifier** (`exists`), which takes as arguments all but one of the variables used within the conjunction, and the conjunction. `exists` is used if and only if more than one variable is used inside the `and` expression.\n",
    "5. A **lambda expression** (`lambda`), which takes as arguments a single variable and either a conjunction (if the conjunction contains no other variables, other than the lambda's argument) or an existential quantifier (if it does).\n",
    "\n",
    "Note: an alternative, more compact logical form representation would use entities directly when applicable, e.g. `(lambda $w (and (city $w) (in-rel $w virginia)))`. This would make the implementation of the logical form executor (which you'll complete in the next section) a bit more complex, but it would likely reduce the difficulty of learning the logical forms' structure. If you're interested, see [Liang 2013](https://arxiv.org/abs/1309.4408) for one approach used in many recent systems which takes this even further to eliminate all variables and make existential quantification implicit, more closely paralleling natural language.\n",
    "\n",
    "In general, semantic parsing systems must trade off between the complexity of the lexicon, the syntax/semantics interface, compactness of the logical form structure, and the difficulty of inference and learning.  For this dataset, we'll find that a neural model is able to adequately learn  to predict these relatively verbose logical forms directly from sentences, given some lexical and structural constraints."
   ]
  },
  {
   "cell_type": "code",
   "execution_count": 0,
   "metadata": {
    "colab": {},
    "colab_type": "code",
    "id": "rnm8zv7jMhtx"
   },
   "outputs": [],
   "source": [
    "# obtain all predicates (categories, relations, and entity predicates) from the dataset\n",
    "PREDICATES = set(CATS) | set(RELS) | set(ENTITY_ACTIONS_TO_ENTITIES.keys())"
   ]
  },
  {
   "cell_type": "code",
   "execution_count": 0,
   "metadata": {
    "colab": {
     "base_uri": "https://localhost:8080/",
     "height": 54
    },
    "colab_type": "code",
    "id": "rm5aJW-zMsw1",
    "outputId": "4a680d46-a90b-44fc-c943-3cac4846d29b"
   },
   "outputs": [
    {
     "data": {
      "text/plain": [
       "'abut-rel along-rel beach bigger-rel body border-rel capital capital-rel city close-rel contain-rel east-rel forest fresh in-rel inside-rel island kb-alabama kb-arkansas kb-atlanta kb-atlantic_ocean kb-birmingham kb-charleston kb-charlotte kb-daytona_beach kb-detroit kb-everglades_national_park kb-florida kb-francis_marion_national_forest kb-georgia kb-grand_rapids kb-great_smoky_mountains_national_park kb-greensboro kb-greenville kb-harrisburg kb-hilton_head_island kb-key_largo kb-knoxville kb-lake_huron kb-lake_michigan kb-lake_moultrie kb-louisiana kb-macon kb-memphis kb-miami kb-michigan kb-milwaukee kb-mississippi kb-monongahela_national_forest kb-montgomery kb-myrtle_beach kb-nashville kb-new_jersey kb-newark kb-north_carolina kb-oklahoma kb-pennsylvania kb-pittsburgh kb-raleigh kb-richmond kb-south_carolina kb-tallahassee kb-tennessee kb-texas kb-trenton kb-tygart_lake kb-uwharrie_national_forest kb-virginia kb-virginia_beach kb-west_virginia kb-wisconsin lake major near-rel north-rel northeast-rel northwest-rel ocean on-rel park peninsula place salt south-rel southeast-rel southwest-rel state surround-rel water west-rel'"
      ]
     },
     "execution_count": 164,
     "metadata": {
      "tags": []
     },
     "output_type": "execute_result"
    }
   ],
   "source": [
    "' '.join(sorted(PREDICATES))"
   ]
  },
  {
   "cell_type": "markdown",
   "metadata": {
    "colab_type": "text",
    "id": "PnbgAnhEFraV"
   },
   "source": [
    "## Logical Form Executor"
   ]
  },
  {
   "cell_type": "markdown",
   "metadata": {
    "colab_type": "text",
    "id": "CeTINkBfF68I"
   },
   "source": [
    "All logical forms in this dataset are lambda functions, which take database entities and return truth values. Each logical form's denotation (corresponding to the answer to its question) is the set of entities in the database for which the lambda function is true."
   ]
  },
  {
   "cell_type": "code",
   "execution_count": 0,
   "metadata": {
    "colab": {
     "base_uri": "https://localhost:8080/",
     "height": 34
    },
    "colab_type": "code",
    "id": "sxRwckgWF8_G",
    "outputId": "8a0d7bd6-c88f-4f54-b4fe-417921af590a"
   },
   "outputs": [
    {
     "data": {
      "text/plain": [
       "'what cities are in virginia ?'"
      ]
     },
     "execution_count": 165,
     "metadata": {
      "tags": []
     },
     "output_type": "execute_result"
    }
   ],
   "source": [
    "questions[instance_index]"
   ]
  },
  {
   "cell_type": "code",
   "execution_count": 0,
   "metadata": {
    "colab": {
     "base_uri": "https://localhost:8080/",
     "height": 34
    },
    "colab_type": "code",
    "id": "UQTXYMTrGdXc",
    "outputId": "44f5f69c-341b-4c01-c3d7-11986aeb9fd4"
   },
   "outputs": [
    {
     "data": {
      "text/plain": [
       "'(lambda $w (exists $x (and (city $w) (in-rel $w $x) (kb-virginia $x))))'"
      ]
     },
     "execution_count": 166,
     "metadata": {
      "tags": []
     },
     "output_type": "execute_result"
    }
   ],
   "source": [
    "logical_form_to_str(logical_forms[instance_index])"
   ]
  },
  {
   "cell_type": "code",
   "execution_count": 0,
   "metadata": {
    "colab": {
     "base_uri": "https://localhost:8080/",
     "height": 34
    },
    "colab_type": "code",
    "id": "uTJD-e7k12Pq",
    "outputId": "e06f21e9-836d-4edd-a8be-2477828c0790"
   },
   "outputs": [
    {
     "data": {
      "text/plain": [
       "'virginia_beach,richmond'"
      ]
     },
     "execution_count": 167,
     "metadata": {
      "tags": []
     },
     "output_type": "execute_result"
    }
   ],
   "source": [
    "answers[instance_index]"
   ]
  },
  {
   "cell_type": "markdown",
   "metadata": {
    "colab_type": "text",
    "id": "xYsQsGbOeX3G"
   },
   "source": [
    "To evaluate a logical form's denotation in a database, we'll run a simple unification algorithm to build a denotation up recursively from sub-trees in the logical form's tree. Each sub-tree in the logical form will be associated with a `VariableAssignments` object, which contains the set of all possible assignments of entities to variables within the sub-tree that would satisfy the logical form:"
   ]
  },
  {
   "cell_type": "code",
   "execution_count": 0,
   "metadata": {
    "colab": {},
    "colab_type": "code",
    "id": "p5Qn0IGBQyxD"
   },
   "outputs": [],
   "source": [
    "# VariableAssignments: a collection of possible assignments of entities to\n",
    "#   variables that satisfy the logical form, as processed so far\n",
    "VariableAssignments = namedtuple('VariableAssignments', [\n",
    "  'variables',\n",
    "  # variables: Set[str]: variables that are assigned\n",
    "  'assignments'\n",
    "  # assignments: List[Dict[str, str]]: a list of variable assignments.\n",
    "  #   each variable assignment dictionary should map every variable in \n",
    "  #   `variables` to an entity\n",
    "])"
   ]
  },
  {
   "cell_type": "markdown",
   "metadata": {
    "colab_type": "text",
    "id": "n28xqRMBfhdY"
   },
   "source": [
    "In the cell below, we've defined operations to produce satisfying assignments for each of the three literal types (which occur at the leaves of the tree):"
   ]
  },
  {
   "cell_type": "code",
   "execution_count": 0,
   "metadata": {
    "colab": {},
    "colab_type": "code",
    "id": "5re9oORVQu0V"
   },
   "outputs": [],
   "source": [
    "def entity_op(entity_predicate: str, variable: str, world: World) -> VariableAssignments:\n",
    "  entity_name = ENTITY_ACTIONS_TO_ENTITIES[entity_predicate]\n",
    "  assert entity_name in world.entities\n",
    "  return VariableAssignments({variable}, [{variable: entity_name}])\n",
    "\n",
    "def category_op(category: str, variable: str, world: World) -> VariableAssignments:\n",
    "  index = CATS.index(category)\n",
    "  values = (world.categories[index] == 1).nonzero()[0]\n",
    "  return VariableAssignments(\n",
    "    {variable},\n",
    "    [{variable: world.index_to_entities[value]}\n",
    "     for value in values],\n",
    "  )\n",
    "\n",
    "def relation_op(relation: str, variable_1: str, variable_2: str, world: World) -> VariableAssignments:\n",
    "  index = RELS.index(relation)\n",
    "  val_1s, val_2s = (world.relations[index] == 1).nonzero()\n",
    "  assignments = [\n",
    "    {variable_1: world.index_to_entities[val_1], variable_2: world.index_to_entities[val_2]}\n",
    "    for val_1, val_2 in zip(\n",
    "      val_1s, val_2s\n",
    "    )\n",
    "  ]\n",
    "  return VariableAssignments(\n",
    "    {variable_1, variable_2},\n",
    "    assignments\n",
    "  )"
   ]
  },
  {
   "cell_type": "markdown",
   "metadata": {
    "colab_type": "text",
    "id": "vfEmeVUWg1tp"
   },
   "source": [
    "These literal operations are demonstrated below:"
   ]
  },
  {
   "cell_type": "code",
   "execution_count": 0,
   "metadata": {
    "colab": {
     "base_uri": "https://localhost:8080/",
     "height": 595
    },
    "colab_type": "code",
    "id": "ToUxQn47StAm",
    "outputId": "50771f95-e689-4a1c-904a-0e8ef8b1a753"
   },
   "outputs": [
    {
     "name": "stdout",
     "output_type": "stream",
     "text": [
      "name: wv\n",
      "entities:\n",
      "\twest_virginia\n",
      "\tcharleston\n",
      "\tmonongahela_national_forest\n",
      "\ttygart_lake\n",
      "\trichmond\n",
      "\tvirginia\n",
      "categories:\n",
      "\tcity(charleston)\n",
      "\tcity(richmond)\n",
      "\tstate(west_virginia)\n",
      "\tstate(virginia)\n",
      "\tpark(monongahela_national_forest)\n",
      "\tlake(tygart_lake)\n",
      "relations:\n",
      "\tin-rel(charleston, west_virginia)\n",
      "\tin-rel(monongahela_national_forest, west_virginia)\n",
      "\tin-rel(tygart_lake, west_virginia)\n",
      "\tin-rel(richmond, virginia)\n",
      "\teast-rel(monongahela_national_forest, charleston)\n",
      "\teast-rel(richmond, west_virginia)\n",
      "\teast-rel(richmond, monongahela_national_forest)\n",
      "\teast-rel(virginia, west_virginia)\n",
      "\teast-rel(virginia, monongahela_national_forest)\n",
      "\teast-rel(virginia, tygart_lake)\n",
      "\twest-rel(west_virginia, richmond)\n",
      "\twest-rel(west_virginia, virginia)\n",
      "\twest-rel(charleston, monongahela_national_forest)\n",
      "\twest-rel(monongahela_national_forest, richmond)\n",
      "\twest-rel(monongahela_national_forest, virginia)\n",
      "\twest-rel(tygart_lake, virginia)\n",
      "\tcapital-rel(charleston, west_virginia)\n",
      "\tcapital-rel(richmond, virginia)\n"
     ]
    }
   ],
   "source": [
    "world = geoqa.geo.read_world(\"wv\")\n",
    "world.print()"
   ]
  },
  {
   "cell_type": "code",
   "execution_count": 0,
   "metadata": {
    "colab": {},
    "colab_type": "code",
    "id": "znHyqHw5SwKR"
   },
   "outputs": [],
   "source": [
    "logical_form = geoqa.utils.parse_tree('(lambda $w (exists $x (and (city $w) (in-rel $w $x) (kb-west_virginia $x))))')"
   ]
  },
  {
   "cell_type": "code",
   "execution_count": 0,
   "metadata": {
    "colab": {
     "base_uri": "https://localhost:8080/",
     "height": 34
    },
    "colab_type": "code",
    "id": "9BZRKtM-Sm2I",
    "outputId": "cb3631c5-08c5-4bf4-a244-6fa479e95be4"
   },
   "outputs": [
    {
     "data": {
      "text/plain": [
       "VariableAssignments(variables={'$x'}, assignments=[{'$x': 'west_virginia'}])"
      ]
     },
     "execution_count": 172,
     "metadata": {
      "tags": []
     },
     "output_type": "execute_result"
    }
   ],
   "source": [
    "entity_op('kb-west_virginia', '$x', world)"
   ]
  },
  {
   "cell_type": "code",
   "execution_count": 0,
   "metadata": {
    "colab": {
     "base_uri": "https://localhost:8080/",
     "height": 54
    },
    "colab_type": "code",
    "id": "5UrNfdWZTqKL",
    "outputId": "e9ff1a5d-e24c-43e1-da77-a880c45d76ce"
   },
   "outputs": [
    {
     "data": {
      "text/plain": [
       "VariableAssignments(variables={'$w', '$x'}, assignments=[{'$w': 'charleston', '$x': 'west_virginia'}, {'$w': 'monongahela_national_forest', '$x': 'west_virginia'}, {'$w': 'tygart_lake', '$x': 'west_virginia'}, {'$w': 'richmond', '$x': 'virginia'}])"
      ]
     },
     "execution_count": 173,
     "metadata": {
      "tags": []
     },
     "output_type": "execute_result"
    }
   ],
   "source": [
    "relation_op('in-rel', '$w', '$x', world)"
   ]
  },
  {
   "cell_type": "code",
   "execution_count": 0,
   "metadata": {
    "colab": {
     "base_uri": "https://localhost:8080/",
     "height": 34
    },
    "colab_type": "code",
    "id": "yFwXqlpKTyJ-",
    "outputId": "2becdeb1-51c8-4179-b8d3-81a026f669b3"
   },
   "outputs": [
    {
     "data": {
      "text/plain": [
       "VariableAssignments(variables={'$w'}, assignments=[{'$w': 'charleston'}, {'$w': 'richmond'}])"
      ]
     },
     "execution_count": 174,
     "metadata": {
      "tags": []
     },
     "output_type": "execute_result"
    }
   ],
   "source": [
    "category_op('city', '$w', world)"
   ]
  },
  {
   "cell_type": "markdown",
   "metadata": {
    "colab_type": "text",
    "id": "Hp8ZwdbKf7J6"
   },
   "source": [
    "In the cell below, we've defined an `execute` function which will return the entity set denotation for a logical form by recursively traversing the logical form's tree and combining variable assignments from the leaves upward, using _sub-tree operations_.  The root node of the tree, the `lambda` node, has a `lambda_op` sub-tree operation which takes a `VariableAssignments` containing possible satisfying assignments, and returns the set of entities that the lambda variable takes on.\n",
    "\n",
    "All other sub-tree operations take `VariableAssignments` returned by their children, and return a `VariableAssignments` giving the assignments that satisfy the sub-tree.\n",
    "\n",
    "Some of the sub-tree operations (`entity_op`, `category_op`, `relation_op`) for literals were defined above; you'll define the others (`lambda_op`, `exists_op`, `and_op`) in the cells afterward."
   ]
  },
  {
   "cell_type": "code",
   "execution_count": 0,
   "metadata": {
    "colab": {},
    "colab_type": "code",
    "id": "18BLQZKCVBl1"
   },
   "outputs": [],
   "source": [
    "def execute(logical_form: Tuple, world: World):\n",
    "  # recursively process the tree from the leaves upward. Each subtree should return:\n",
    "  #   lambda nodes: a `set` of entities that satisfy the logical form\n",
    "  #   all other node types: a VariableAssignments that contains possible assignments\n",
    "  #       of entities to variables that would satisfy the subtree\n",
    "  assert isinstance(logical_form, tuple)\n",
    "  predicate = logical_form[0]\n",
    "  if predicate in ENTITY_ACTIONS_TO_ENTITIES:\n",
    "    var = logical_form[1]\n",
    "    return entity_op(predicate, var, world)\n",
    "  elif predicate in CATS:\n",
    "    category = predicate\n",
    "    var = logical_form[1]\n",
    "    return category_op(category, var, world)\n",
    "  elif predicate in RELS:\n",
    "    rel = predicate\n",
    "    var_1, var_2 = logical_form[1:]\n",
    "    return relation_op(rel, var_1, var_2, world)\n",
    "  elif predicate == LAMBDA:\n",
    "    var = logical_form[1]\n",
    "    var_assignments = execute(logical_form[2], world)\n",
    "    return lambda_op(var, var_assignments)\n",
    "  elif predicate == EXISTS:\n",
    "    vars = logical_form[1:-1]\n",
    "    var_assignments = execute(logical_form[-1], world)\n",
    "    return exists_op(vars, var_assignments)\n",
    "  elif predicate == AND:\n",
    "    return and_op([\n",
    "      execute(sub_lf, world)\n",
    "      for sub_lf in logical_form[1:]\n",
    "    ])\n",
    "  else:\n",
    "   raise NotImplementedError(\"invalid predicate {}\\n{}\".format(predicate, logical_form))"
   ]
  },
  {
   "cell_type": "code",
   "execution_count": 0,
   "metadata": {
    "colab": {},
    "colab_type": "code",
    "id": "9JpGURQbX8IG"
   },
   "outputs": [],
   "source": [
    "# helper function to use when testing results from the sub-tree operations\n",
    "def are_equal(va1: VariableAssignments, va2: VariableAssignments) -> bool:\n",
    "  def canonicalize(assignments):\n",
    "    # compare sets of assignments, since ordering (and duplication) of assignments within the list does not affect meaning\n",
    "    # convert each assignment dict to a string in json format since dictionaries are unhashable\n",
    "    import json\n",
    "    return set(json.dumps(d) for d in assignments)\n",
    "  return va1.variables == va2.variables and canonicalize(va1.assignments) == canonicalize(va2.assignments)"
   ]
  },
  {
   "cell_type": "markdown",
   "metadata": {
    "colab_type": "text",
    "id": "IUiGL5FKmajc"
   },
   "source": [
    "Complete the `lambda_op`, `exists_op`, and `and_op` sub-tree operations in the cells below. Each operation has a test cell after it with sample inputs and outputs."
   ]
  },
  {
   "cell_type": "code",
   "execution_count": 0,
   "metadata": {
    "colab": {},
    "colab_type": "code",
    "id": "fP6LrhT5U4iq"
   },
   "outputs": [],
   "source": [
    "def lambda_op(lambda_variable: str, variable_assignments: VariableAssignments) -> Set[str]:\n",
    "  # return the entities that variable takes on in variable_assignments\n",
    "  L = []\n",
    "  for assignment in variable_assignments.assignments:\n",
    "      L.append(assignment[lambda_variable])\n",
    "  return set(L)"
   ]
  },
  {
   "cell_type": "code",
   "execution_count": 0,
   "metadata": {
    "colab": {},
    "colab_type": "code",
    "id": "6mZMhJ4cVr_v"
   },
   "outputs": [],
   "source": [
    "assert lambda_op('$y', VariableAssignments(\n",
    "    {'$x', '$y'}, \n",
    "    [{'$x': 'virginia', '$y': 'richmond'}, {'$x': 'virginia', '$y': 'charleston'}]\n",
    "  )) == {'richmond', 'charleston'}"
   ]
  },
  {
   "cell_type": "code",
   "execution_count": 0,
   "metadata": {
    "colab": {},
    "colab_type": "code",
    "id": "-XUNvm9PVh-8"
   },
   "outputs": [],
   "source": [
    "def exists_op(existentially_quantified_vars: List[str], child_assignments: VariableAssignments) -> VariableAssignments:\n",
    "  # remove the existentially-quantified variables from the assignments in variable_assignments\n",
    "  new_variables = child_assignments.variables - set(existentially_quantified_vars)\n",
    "  new_assignments = []\n",
    "  for assignment in child_assignments.assignments:\n",
    "      row = {}\n",
    "      for key in assignment.keys():\n",
    "          if key in new_variables:\n",
    "              row[key] = assignment[key]\n",
    "          new_assignments.append(row)\n",
    "  return VariableAssignments(new_variables, new_assignments)"
   ]
  },
  {
   "cell_type": "code",
   "execution_count": 0,
   "metadata": {
    "colab": {},
    "colab_type": "code",
    "id": "V1n76aJCWU3U"
   },
   "outputs": [],
   "source": [
    "exists_test_1 = exists_op(['$x'], VariableAssignments(\n",
    "    {'$x', '$y'}, [{'$x': 'virginia', '$y': 'richmond'}, {'$x': 'virginia', '$y': 'charleston'}]\n",
    "  ))\n",
    "assert are_equal(exists_test_1, VariableAssignments(\n",
    "    {'$y'}, [{'$y': 'richmond'}, {'$y': 'charleston'}]\n",
    ")), exists_test_1\n",
    "                                             \n",
    "exists_test_2 = exists_op(['$y'], VariableAssignments(\n",
    "    {'$x', '$y'}, [{'$x': 'virginia', '$y': 'richmond'}, {'$x': 'virginia', '$y': 'charleston'}]\n",
    "  ))\n",
    "assert are_equal(exists_test_2, VariableAssignments(\n",
    "    {'$x'},\n",
    "    [{'$x': 'virginia'}]\n",
    ")), exists_test_2"
   ]
  },
  {
   "cell_type": "code",
   "execution_count": 0,
   "metadata": {
    "colab": {
     "base_uri": "https://localhost:8080/",
     "height": 34
    },
    "colab_type": "code",
    "id": "p3hSEw2rH4QQ",
    "outputId": "031e3144-accb-4b7d-c03e-505b132d913c"
   },
   "outputs": [
    {
     "data": {
      "text/plain": [
       "dict_keys"
      ]
     },
     "execution_count": 181,
     "metadata": {
      "tags": []
     },
     "output_type": "execute_result"
    }
   ],
   "source": [
    "dic = {}\n",
    "dic['a'] = 0\n",
    "dic['b'] = 1\n",
    "type(dic.keys())"
   ]
  },
  {
   "cell_type": "code",
   "execution_count": 0,
   "metadata": {
    "colab": {},
    "colab_type": "code",
    "id": "QPtKal5MWRge"
   },
   "outputs": [],
   "source": [
    "def and_op(children_assignments: List[VariableAssignments]) -> VariableAssignments:\n",
    "  # join the assignments in children_assignments, to return possible assignments that satisfy all children\n",
    "  def and_for_2_assignments(assignment1, assignment2, common_vars):\n",
    "      for var in common_vars:\n",
    "          if assignment1[var] != assignment2[var]:\n",
    "              return None\n",
    "      new_assignment = assignment1.copy()\n",
    "      for var in assignment2.keys():\n",
    "          if var not in common_vars:\n",
    "              new_assignment[var] = assignment2[var]\n",
    "      return new_assignment\n",
    "\n",
    "  possible_assignments = []\n",
    "  if len(children_assignments) == 2:\n",
    "      common_vars = children_assignments[0].variables.intersection(children_assignments[1].variables)\n",
    "      for assignment1 in children_assignments[0].assignments:\n",
    "          for assignment2 in children_assignments[1].assignments:\n",
    "              new_assignment = and_for_2_assignments(assignment1, assignment2, common_vars)\n",
    "              if new_assignment != None:\n",
    "                possible_assignments.append(new_assignment)\n",
    "      new_vars = children_assignments[0].variables.union(children_assignments[1].variables)\n",
    "      return VariableAssignments(new_vars, possible_assignments)\n",
    "      \n",
    "  elif len(children_assignments) > 2:\n",
    "      new_children = [children_assignments[0], and_op(children_assignments[1:])]\n",
    "      return and_op(new_children)\n",
    "  elif len(children_assignments) == 1:\n",
    "      return children_assignments[0]"
   ]
  },
  {
   "cell_type": "code",
   "execution_count": 0,
   "metadata": {
    "colab": {},
    "colab_type": "code",
    "id": "UmsZOYpHWSmX"
   },
   "outputs": [],
   "source": [
    "and_test = and_op([\n",
    "  VariableAssignments({'$x', '$y'}, [{'$x': 'x1', '$y': 'y1'}, {'$x': 'x2', '$y': 'y2'}]),\n",
    "  VariableAssignments({'$z', '$y'}, [{'$z': 'z2', '$y': 'y2'}, {'$z': 'x3', '$y': 'y3'}]),                 \n",
    "])\n",
    "assert are_equal(\n",
    "  and_test,\n",
    "  VariableAssignments(variables={'$x', '$y', '$z'}, assignments=[{'$x': 'x2', '$y': 'y2', '$z': 'z2'}])\n",
    ")"
   ]
  },
  {
   "cell_type": "markdown",
   "metadata": {
    "colab_type": "text",
    "id": "f4H9l75ZmjD9"
   },
   "source": [
    "With correct sub-tree operation definitions, the following test cell should run without errors. It checks that the entity set denotations returned by the `execute` function match the answers in the database."
   ]
  },
  {
   "cell_type": "code",
   "execution_count": 0,
   "metadata": {
    "colab": {},
    "colab_type": "code",
    "id": "Tsh1HyWRQUwe"
   },
   "outputs": [],
   "source": [
    "for state in STATES:\n",
    "  world = geoqa.geo.read_world(state)\n",
    "  for question, answer, logical_form in zip(*geoqa.geo.read_data(state)):\n",
    "    if logical_form is None:\n",
    "      continue\n",
    "    true_denotation = world.get_denotation_from_answer(answer)\n",
    "    executed_denotation = execute(logical_form, world)\n",
    "    \n",
    "    if true_denotation != executed_denotation:\n",
    "      print(\"execution failure!\")\n",
    "      print(\"question: {}\".format(question))\n",
    "      print(\"state: {}\".format(world))\n",
    "      print(\"logical form: {}\".format(logical_form))\n",
    "      print(\"true denotation: {}\".format(true_denotation))\n",
    "      print(\"executed denotation: {}\".format(executed_denotation))\n",
    "      raise ValueError()"
   ]
  },
  {
   "cell_type": "markdown",
   "metadata": {
    "colab_type": "text",
    "id": "ZR22RXa8VHtf"
   },
   "source": [
    "## Parser"
   ]
  },
  {
   "cell_type": "markdown",
   "metadata": {
    "colab_type": "text",
    "id": "VrlpUdpUg9VK"
   },
   "source": [
    "Now that we have a method to execute logical forms on the database, we'll spend the rest of this assignment constructing parsers to produce logical forms from questions. \n",
    "\n",
    "Our question-to-logical-form parser will be a neural sequence-to-sequence model that will encode the question and decode a sequence of actions to construct a logical form. We will use _constrained decoding_ to prevent the model from constructing invalid logical forms, enforcing structural constraints rather than relying on the model to learn them.\n",
    "\n",
    "To construct this parser, we first need to define a transition system: a set of actions that build up a logical form incrementally, and the effects each action has on a partially constructed logical form. This transition system will constrain the available actions that can be taken by the sequence-to-sequence model at any point in time to guarantee valid logical forms."
   ]
  },
  {
   "cell_type": "markdown",
   "metadata": {
    "colab_type": "text",
    "id": "EInORycTgi2o"
   },
   "source": [
    "### Transition system"
   ]
  },
  {
   "cell_type": "markdown",
   "metadata": {
    "colab_type": "text",
    "id": "K-qedMk3IVUm"
   },
   "source": [
    "We'll construct logical forms using a depth-first, left-to-right traversal of the logical form's tree structure, with actions in a post-fix notation (so a predicate comes after the arguments it takes), and a final `DONE` action after the logical form is constructed. For example, the logical form\n",
    "\n",
    "`(lambda $x (exists $w (and (state $w) (city $x) (in-rel $x $w))))`\n",
    "\n",
    "will be constructed in the traversal order:\n",
    "\n",
    "`$w state $x city $x $w in-rel and $w exists $x lambda DONE`\n",
    "\n",
    "We will basically have one action for each of the items in the order above, with one change to simplify what our model needs to learn. In this dataset, which always combines literals with a single `and`, each logical form has exactly one variable as an argument to the lambda expression, and existentially quantifies all other variables. Because of this, the actions between `and` and the `lambda` are determined by the lambda's variable argument (`$x`) and the other variables that have previously been introduced (all variables other than the lambda variable must be existentially quantified). This allows us to replace these actions with a single action, `complete_lambda_$x`. For the example above:\n",
    "\n",
    "`$w state $x city $x $w in-rel complete_lambda_$x DONE`\n",
    "\n",
    "If the question had been about the variable `$w`, we would instead use `complete_lambda_$w` so that `$w` was used with `lambda` and everything else was existentially quantified.\n",
    "\n",
    "Note that other datasets with more complex logical forms would need to generate conjunctions and quantifiers individually, rather than using these simplifying `complete_lambda_` actions."
   ]
  },
  {
   "cell_type": "markdown",
   "metadata": {
    "colab_type": "text",
    "id": "UnBDhZ9pgvVL"
   },
   "source": [
    "### Actions"
   ]
  },
  {
   "cell_type": "markdown",
   "metadata": {
    "colab_type": "text",
    "id": "HCFQbdAR2wrr"
   },
   "source": [
    "We'll now define the actions used by our transition system. Variables and predicates will be taken directly from the items in the logical forms. We'll define new actions for `COMPLETE_LAMBDA_*` and `DONE`:"
   ]
  },
  {
   "cell_type": "code",
   "execution_count": 0,
   "metadata": {
    "colab": {},
    "colab_type": "code",
    "id": "KsqClVZyMRhB"
   },
   "outputs": [],
   "source": [
    "# mapping from complete lambda action to the lambda's variable\n",
    "COMPLETE_LAMBDA_ACTIONS_TO_VARS = {'COMPLETE_LAMBDA_{}'.format(var): var for var in VARS}\n",
    "# and reverse\n",
    "VARS_TO_COMPLETE_LAMBDA_ACTIONS = {v: k for k, v in COMPLETE_LAMBDA_ACTIONS_TO_VARS.items()}\n",
    "\n",
    "DONE_ACTION = 'DONE'"
   ]
  },
  {
   "cell_type": "markdown",
   "metadata": {
    "colab_type": "text",
    "id": "4xgGUZG43G97"
   },
   "source": [
    "Actions will be divided into three types, which will be produced differently by our model."
   ]
  },
  {
   "cell_type": "code",
   "execution_count": 0,
   "metadata": {
    "colab": {},
    "colab_type": "code",
    "id": "O3AjULiM3FLm"
   },
   "outputs": [],
   "source": [
    "STRUCTURAL_ACTIONS = VARS + sorted(COMPLETE_LAMBDA_ACTIONS_TO_VARS.keys()) + [DONE_ACTION]\n",
    "CROSS_DATABASE_PREDICATE_ACTIONS = CATS + RELS\n",
    "DATABASE_SPECIFIC_PREDICATE_ACTIONS = list(ENTITY_ACTIONS_TO_ENTITIES.keys())\n",
    "\n",
    "ACTIONS = set(STRUCTURAL_ACTIONS) | set(CROSS_DATABASE_PREDICATE_ACTIONS) | set(ENTITY_ACTIONS_TO_ENTITIES.keys())"
   ]
  },
  {
   "cell_type": "code",
   "execution_count": 0,
   "metadata": {
    "colab": {
     "base_uri": "https://localhost:8080/",
     "height": 34
    },
    "colab_type": "code",
    "id": "yEIUQWe-M65n",
    "outputId": "532172b1-59cc-4bba-8d19-7f1c830e4d2c"
   },
   "outputs": [
    {
     "name": "stdout",
     "output_type": "stream",
     "text": [
      "['$w', '$x', '$y', '$z', 'COMPLETE_LAMBDA_$w', 'COMPLETE_LAMBDA_$x', 'COMPLETE_LAMBDA_$y', 'COMPLETE_LAMBDA_$z', 'DONE']\n"
     ]
    }
   ],
   "source": [
    "print(STRUCTURAL_ACTIONS)"
   ]
  },
  {
   "cell_type": "code",
   "execution_count": 0,
   "metadata": {
    "colab": {
     "base_uri": "https://localhost:8080/",
     "height": 34
    },
    "colab_type": "code",
    "id": "kMRHADEpNDOf",
    "outputId": "ef6156ef-69aa-45cb-8221-8dc9d0a149f0"
   },
   "outputs": [
    {
     "name": "stdout",
     "output_type": "stream",
     "text": [
      "['city', 'state', 'park', 'island', 'beach']\n"
     ]
    }
   ],
   "source": [
    "print(CROSS_DATABASE_PREDICATE_ACTIONS[:5])"
   ]
  },
  {
   "cell_type": "code",
   "execution_count": 0,
   "metadata": {
    "colab": {
     "base_uri": "https://localhost:8080/",
     "height": 34
    },
    "colab_type": "code",
    "id": "xMtdIkh0NFwy",
    "outputId": "42ef814c-0491-4e92-a8d2-a370ef24205b"
   },
   "outputs": [
    {
     "name": "stdout",
     "output_type": "stream",
     "text": [
      "['kb-florida', 'kb-tallahassee', 'kb-miami', 'kb-everglades_national_park', 'kb-key_largo']\n"
     ]
    }
   ],
   "source": [
    "print(DATABASE_SPECIFIC_PREDICATE_ACTIONS[:5])"
   ]
  },
  {
   "cell_type": "markdown",
   "metadata": {
    "colab_type": "text",
    "id": "ndUycozNgevP"
   },
   "source": [
    "### From actions to logical forms"
   ]
  },
  {
   "cell_type": "markdown",
   "metadata": {
    "colab_type": "text",
    "id": "0KDdWJmx6mu1"
   },
   "source": [
    "This `ParseConstraints` class will contain possible options to constrain the logical form being constructed, which will become important later when we begin searching over logical forms."
   ]
  },
  {
   "cell_type": "code",
   "execution_count": 0,
   "metadata": {
    "colab": {},
    "colab_type": "code",
    "id": "NAWHIRbZ6U5v"
   },
   "outputs": [],
   "source": [
    "ParseConstraints = namedtuple('ParseConstraints', [\n",
    "  'possible_predicates',\n",
    "  # set[str]: set of predicates to allow in this logical form\n",
    "  'max_vars',\n",
    "  # int: maximum number of distinct variables to allow in the logical form\n",
    "  #   the maximum number in the dataset is 4 (len(VARS))\n",
    "  'no_repeated_literals',\n",
    "  # bool: if True, don't allow the same literal to appear more than once\n",
    "  #   e.g. (and (state $x) (state $x)) is disallowed, but (and (state $x) (state $y)) is ok\n",
    "  'max_literals'\n",
    "  # int: disallow more than this many literals\n",
    "  #   e.g. if max_literals == 1, (and (state $x) (city $y)) is disallowed\n",
    "  #   the maximum number in the dataset is 7 (MAX_LITERALS)\n",
    "])"
   ]
  },
  {
   "cell_type": "markdown",
   "metadata": {
    "colab_type": "text",
    "id": "D1ZkyQG3RR-q"
   },
   "source": [
    "To build up a logical form via a sequence of actions, we define a `ParserState` class several blocks below. This will represent the logical form as constructed so far and compute valid actions that can be taken to continue constructing it. The `_ParserState` class here defines the actual state variables, then you will fill in the methods in `ParserState` (without the underscore)."
   ]
  },
  {
   "cell_type": "code",
   "execution_count": 0,
   "metadata": {
    "colab": {},
    "colab_type": "code",
    "id": "8tMTiwEVVAok"
   },
   "outputs": [],
   "source": [
    "_ParserState = namedtuple('_ParserState', [\n",
    "  'variable_argument_stack',\n",
    "  # Stack[str]: variables to be put into the current literal\n",
    "  'completed_literal_stack',\n",
    "  # Stack[tuple]: all literals produced so far\n",
    "  'has_lambda',\n",
    "  # bool: whether the lambda has been generated\n",
    "  'lambda_var',\n",
    "  # str or None: the lambda's variable argument, if lambda has been generated; or None otherwise\n",
    "  'is_complete',\n",
    "  # bool: whether the DONE action has been generated\n",
    "  'all_vars_introduced',\n",
    "  # Stack[str]: variables should be appened to this each time they are used\n",
    "  'past_actions',\n",
    "  # Stack[str]: all previous actions taken\n",
    "  'parse_constraints',\n",
    "  # ParseConstraints: options to constrain the logical form being constructed\n",
    "])"
   ]
  },
  {
   "cell_type": "markdown",
   "metadata": {
    "colab_type": "text",
    "id": "4h2y5lnKFKjn"
   },
   "source": [
    "`variable_argument_stack` contains any variables that  will be put into the literal which is currently being constructed. This is reset to empty when a literal is completed (by a predicate action). All literals, as they are completed, are added to `completed_literal_stack`. This should not be emptied at any point, as it will be used to construct the final logical form."
   ]
  },
  {
   "cell_type": "markdown",
   "metadata": {
    "colab_type": "text",
    "id": "Q43L-UdsAcNU"
   },
   "source": [
    "For example, when generating the logical form \n",
    "\n",
    "`(lambda $x (exists $w (and (state $w) (city $x) (in-rel $x $w)))`\n",
    "\n",
    "using the action sequence\n",
    "\n",
    "`$w state $x city $x $w in-rel complete_lambda_$x DONE`,\n",
    "\n",
    "the `ParserState` will look as follows after the first `$x` action:\n",
    "```\n",
    "ParserState(\n",
    "  variable_argument_stack=['$x'],\n",
    "  completed_literal_stack=[('state', '$w')],\n",
    "  has_lambda=False,\n",
    "  lambda_var=None,\n",
    "  is_complete=False,\n",
    "  all_vars_introduced=['$w', '$x'],\n",
    "  past_actions=['$w', 'state', '$x'],\n",
    "  parse_constraints=...\n",
    ")\n",
    "```\n",
    "and as follows after the `DONE` action:\n",
    "```\n",
    "ParserState(\n",
    "  variable_argument_stack=[],\n",
    "  completed_literal_stack=[('state', '$w'), ('city', '$x'), ('in-rel', '$x', '$w')],\n",
    "  has_lambda=True,\n",
    "  lambda_var=$x,\n",
    "  is_complete=True,\n",
    "  all_vars_introduced=['$w', '$x', '$x', '$w'],\n",
    "  past_actions=['$w', 'state', '$x', 'city', '$x', '$w', 'in-rel', 'COMPLETE_LAMBDA_$x', 'DONE'],\n",
    "  parse_constraints=...\n",
    ")\n",
    "```"
   ]
  },
  {
   "cell_type": "markdown",
   "metadata": {
    "colab_type": "text",
    "id": "F2G26yqrEy67"
   },
   "source": [
    "We'll now define a `ParserState` wrapper class with methods. Complete the `take_action` method in the `ParserState` class below.\n",
    "\n",
    "Implementation tip: `ParserState` objects are immutable, and the `take_action` method should return a new `ParserState` object, rather than attempting to update the object (this will allow `ParserState` objects to be used in beam search). The [Stack](https://github.com/dpfried/geoqa-release/blob/master/geoqa/utils.py#L7) class used in `ParserState` for `variable_argument_stack`, `completed_literal_stack`, `all_vars_introduced`, and `past_actions` is an immutable data structure that is essentially like a list, but will allow sharing some memory across multiple `ParserState` objects as search is performed, for efficiency and to prevent copying. See the cell below for a demonstration:\n"
   ]
  },
  {
   "cell_type": "code",
   "execution_count": 0,
   "metadata": {
    "colab": {
     "base_uri": "https://localhost:8080/",
     "height": 102
    },
    "colab_type": "code",
    "id": "5qyIzf0Pn9-c",
    "outputId": "79a8d7af-435c-44b2-eeb6-0f77d2f85212"
   },
   "outputs": [
    {
     "name": "stdout",
     "output_type": "stream",
     "text": [
      "['$w']\n",
      "['$w']\n",
      "['$w', 'city']\n",
      "['$w', 'state']\n",
      "2\n"
     ]
    }
   ],
   "source": [
    "# demonstration of the Stack class used in _ParserState\n",
    "actions = Stack.empty().append('$w')\n",
    "print(actions.tolist())\n",
    "actions_plus_city = actions.append('city')\n",
    "actions_plus_state = actions.append('state')\n",
    "print(actions.tolist()) # hasn't changed\n",
    "print(actions_plus_city.tolist()) # shares '$w' with actions\n",
    "print(actions_plus_state.tolist()) # shares '$w' with actions\n",
    "print(actions_plus_city.size) # 2"
   ]
  },
  {
   "cell_type": "code",
   "execution_count": 0,
   "metadata": {
    "colab": {},
    "colab_type": "code",
    "id": "eViX6RM4BiY7"
   },
   "outputs": [],
   "source": [
    "class ParserState(_ParserState):\n",
    "  \"\"\"\n",
    "  Wrapper class to add methods and constants to _ParserState\n",
    "  \"\"\"\n",
    "  PREDICATE_ARITIES = {}\n",
    "  for cat in CATS:\n",
    "    PREDICATE_ARITIES[cat] = 1\n",
    "  for rel in RELS:\n",
    "    PREDICATE_ARITIES[rel] = 2\n",
    "  for entity in ENTITY_ACTIONS_TO_ENTITIES.keys():\n",
    "    PREDICATE_ARITIES[entity] = 1\n",
    "\n",
    "  MAX_ARITY = max(PREDICATE_ARITIES.values())\n",
    "\n",
    "  @staticmethod\n",
    "  def initial_state(parse_constraints):\n",
    "    return ParserState(\n",
    "      variable_argument_stack=Stack.empty(),\n",
    "      completed_literal_stack=Stack.empty(),\n",
    "      has_lambda=False,\n",
    "      lambda_var=None,\n",
    "      is_complete=False,\n",
    "      all_vars_introduced=Stack.empty(),\n",
    "      past_actions=Stack.empty(),\n",
    "      parse_constraints=parse_constraints,\n",
    "    )\n",
    "\n",
    "  def take_action(self, action_symbol: str):\n",
    "    assert action_symbol in ACTIONS, \"invalid action {}\".format(action_symbol)\n",
    "    assert not self.is_complete\n",
    "\n",
    "    assert action_symbol in self.valid_actions(), \"trying to take {} but only valid actions are {}.\\npast actions: {}\".format(\n",
    "      action_symbol, self.valid_actions(), ' '.join(self.actions()))\n",
    "\n",
    "    # initialize all variables that might be updated\n",
    "    past_actions = self.past_actions\n",
    "    has_lambda = self.has_lambda\n",
    "    is_complete = self.is_complete\n",
    "    completed_literal_stack = self.completed_literal_stack\n",
    "    variable_argument_stack = self.variable_argument_stack\n",
    "    all_vars_introduced = self.all_vars_introduced\n",
    "    lambda_var = self.lambda_var\n",
    "\n",
    "    past_actions = past_actions.append(action_symbol)\n",
    "\n",
    "    if action_symbol in PREDICATES:\n",
    "      action = [action_symbol] + variable_argument_stack.tolist()\n",
    "      completed_literal_stack = completed_literal_stack.append(tuple(action))\n",
    "      variable_argument_stack = Stack.empty()\n",
    "\n",
    "    elif action_symbol in VARS:\n",
    "      variable_argument_stack = variable_argument_stack.append(action_symbol)\n",
    "      if action_symbol not in all_vars_introduced:\n",
    "        all_vars_introduced = all_vars_introduced.append(action_symbol)\n",
    "\n",
    "    elif action_symbol in COMPLETE_LAMBDA_ACTIONS_TO_VARS.keys():\n",
    "      lambda_var = action_symbol[-2:]\n",
    "      has_lambda = True\n",
    "\n",
    "    elif action_symbol == DONE_ACTION:\n",
    "      is_complete = True\n",
    "\n",
    "    else:\n",
    "      raise ValueError(\"invalid action {}\".format(action_symbol))\n",
    "\n",
    "    return ParserState(\n",
    "      variable_argument_stack=variable_argument_stack,\n",
    "      completed_literal_stack=completed_literal_stack,\n",
    "      has_lambda=has_lambda,\n",
    "      lambda_var=lambda_var,\n",
    "      is_complete=is_complete,\n",
    "      all_vars_introduced=all_vars_introduced,\n",
    "      past_actions=past_actions,\n",
    "      parse_constraints=self.parse_constraints,\n",
    "    )\n",
    "\n",
    "  def variables_introduced(self) -> Set[str]:\n",
    "    \"\"\"\n",
    "    :return: variables that have been used in the logical form, as constructed so far\n",
    "    \"\"\"\n",
    "    variables = set(self.all_vars_introduced.tolist())\n",
    "    assert variables == set(VARS[:len(\n",
    "      variables)]), \"variables should not be introduced out of the sequential order {}, but {} were used\".format(VARS,\n",
    "                                                                                                                 vars)\n",
    "    return variables\n",
    "\n",
    "  def variables_usable(self) -> Set[str]:\n",
    "    \"\"\"\n",
    "    To reduce the set of possible logical forms, enforce that new variables are introduced in alphabetical order, e.g. $x cannot be used before $w has been used\n",
    "    Usable variables include all previously used variables and the next in alphabetical order\n",
    "    :return: set of possible next variables to use\n",
    "    \"\"\"\n",
    "    num_vars_introduced = len(self.variables_introduced())\n",
    "    return set(VARS[:min(self.parse_constraints.max_vars, num_vars_introduced + 1)])\n",
    "\n",
    "  def to_logical_form(self) -> Tuple:\n",
    "    \"\"\"\n",
    "    Convert a completed parser state to a logical form\n",
    "    :return: logical form as a tuple\n",
    "    \"\"\"\n",
    "    assert self.is_complete\n",
    "\n",
    "    # list of tuples\n",
    "    clause_literals = self.completed_literal_stack.tolist()\n",
    "\n",
    "    assert len(clause_literals) > 0\n",
    "    logical_form = (AND,) + tuple(clause_literals)\n",
    "\n",
    "    assert self.lambda_var is not None\n",
    "    vars_to_quantify = tuple(sorted(v for v in self.variables_introduced() if v != self.lambda_var))\n",
    "    if len(vars_to_quantify) > 0:\n",
    "      logical_form = (EXISTS,) + vars_to_quantify + (logical_form,)\n",
    "    logical_form = (LAMBDA, self.lambda_var, logical_form)\n",
    "\n",
    "    return logical_form\n",
    "\n",
    "  @staticmethod\n",
    "  def from_logical_form(logical_form: Tuple, parse_constraints: ParseConstraints=None):\n",
    "    \"\"\"\n",
    "    :param logical_form:\n",
    "    :param parse_constraints: used to check the logical form\n",
    "    :return:\n",
    "    \"\"\"\n",
    "    # depth-first post-fix traversal, where actions are node labels, except we\n",
    "    # (1) collapse (lambda $LAMBDA_VAR (exists $VAR1 $VAR2 to COMPLETE_LAMBDA_$LAMBDA_VAR\n",
    "    # (2) do not produce an action for the AND label\n",
    "    # (3) add a DONE_ACTION action at the end (root)\n",
    "    if parse_constraints is None:\n",
    "      parse_constraints = ParseConstraints(\n",
    "        possible_predicates=None, max_vars=len(VARS), no_repeated_literals=False,\n",
    "        max_literals=MAX_LITERALS\n",
    "      )\n",
    "\n",
    "    def _traverse(node: Union[tuple, str], state: ParserState):\n",
    "      if isinstance(node, tuple):\n",
    "        label = node[0]\n",
    "        if label == LAMBDA:\n",
    "          lambda_var = node[1]\n",
    "          assert lambda_var in VARS\n",
    "          children = node[2:]\n",
    "          assert children\n",
    "        elif label == EXISTS:\n",
    "          children = node[1:]\n",
    "          while children[0] in VARS:\n",
    "            children = children[1:]\n",
    "          assert children\n",
    "        else:\n",
    "          children = node[1:]\n",
    "      else:  # is a leaf; should be a variable\n",
    "        label = node\n",
    "        children = []\n",
    "      for child in children:\n",
    "        state = _traverse(child, state)\n",
    "      if label == LAMBDA:\n",
    "        state = state.take_action(VARS_TO_COMPLETE_LAMBDA_ACTIONS[lambda_var])\n",
    "      elif label != AND and label != EXISTS:\n",
    "        state = state.take_action(label)\n",
    "      return state\n",
    "\n",
    "    state = ParserState.initial_state(parse_constraints)\n",
    "    state = _traverse(logical_form, state)\n",
    "    state = state.take_action(DONE_ACTION)\n",
    "    assert state.is_complete\n",
    "    return state\n",
    "\n",
    "  def actions(self) -> List[str]:\n",
    "    return self.past_actions.tolist()\n",
    "\n",
    "  def valid_actions(self) -> List[str]:\n",
    "    # actions that can be taken if we've finished building the lambda expression\n",
    "    if self.is_complete:\n",
    "      return []\n",
    "    if self.has_lambda:\n",
    "      return [DONE_ACTION]\n",
    "\n",
    "    # otherwise, deal with each possible action type in turn\n",
    "    valid_actions = []\n",
    "\n",
    "    # complete the lambda expression\n",
    "    if self.variable_argument_stack.size == 0 and self.completed_literal_stack.size > 0:\n",
    "      for var in self.variables_introduced():\n",
    "        valid_actions.append(VARS_TO_COMPLETE_LAMBDA_ACTIONS[var])\n",
    "\n",
    "    # introduce a predicate, with arguments from argument_stack\n",
    "    if self.variable_argument_stack.size > 0:\n",
    "      possible_predicates = self.parse_constraints.possible_predicates\n",
    "      if possible_predicates is None:\n",
    "        possible_predicates = CATS + RELS + list(ENTITY_ACTIONS_TO_ENTITIES.keys())\n",
    "      possible_predicates = list(sorted(possible_predicates))\n",
    "\n",
    "      for predicate in possible_predicates:\n",
    "        if ParserState.PREDICATE_ARITIES[predicate] == self.variable_argument_stack.size:\n",
    "          valid_actions.append(predicate)\n",
    "\n",
    "    # add a variable to the argument stack\n",
    "    if self.variable_argument_stack.size < ParserState.MAX_ARITY and (\n",
    "        # only start a new literal if we're strictly less than the maximum\n",
    "        (self.variable_argument_stack.size == 0 and self.completed_literal_stack.size < self.parse_constraints.max_literals) or\n",
    "        # only continue an existing literal if we're no greater than the maximum\n",
    "        (self.variable_argument_stack.size > 0 and self.completed_literal_stack.size <= self.parse_constraints.max_literals)\n",
    "    ):\n",
    "      valid_actions.extend(self.variables_usable())\n",
    "\n",
    "    return valid_actions\n",
    "\n",
    "  def __repr__(self):\n",
    "    return \"\"\"ParserState(\n",
    "variable_argument_stack={},\n",
    "completed_literal_stack={},\n",
    "has_lambda={},\n",
    "lambda_var={},\n",
    "is_complete={},\n",
    "all_vars_introduced={},\n",
    "past_actions={},\n",
    "parse_constraints={},\n",
    ")\"\"\".format(*self)"
   ]
  },
  {
   "cell_type": "markdown",
   "metadata": {
    "colab_type": "text",
    "id": "JEehJ9krW-1R"
   },
   "source": [
    "With a correct implementation of `take_action`, the following three test cells should run without errors."
   ]
  },
  {
   "cell_type": "code",
   "execution_count": 0,
   "metadata": {
    "colab": {},
    "colab_type": "code",
    "id": "RC_TXaC1A2bc"
   },
   "outputs": [],
   "source": [
    "permissive_parse_constraints = ParseConstraints(\n",
    "    possible_predicates=PREDICATES, \n",
    "    max_vars=len(VARS),\n",
    "    no_repeated_literals=False, \n",
    "    max_literals=MAX_LITERALS,\n",
    ")"
   ]
  },
  {
   "cell_type": "code",
   "execution_count": 0,
   "metadata": {
    "colab": {},
    "colab_type": "code",
    "id": "qLpbx4hYVGHF"
   },
   "outputs": [],
   "source": [
    "blank_parser_state = ParserState.initial_state(permissive_parse_constraints)\n",
    "parser_state = blank_parser_state.take_action('$w')\n",
    "assert parser_state.variable_argument_stack.tolist() == ['$w']\n",
    "parser_state = parser_state.take_action('$x')\n",
    "assert parser_state.variable_argument_stack.tolist() == ['$w', '$x']\n",
    "parser_state = parser_state.take_action('in-rel')\n",
    "assert parser_state.variable_argument_stack.tolist() == []\n",
    "assert parser_state.completed_literal_stack.tolist() == [('in-rel', '$w', '$x')]\n",
    "assert parser_state.actions() == ['$w', '$x', 'in-rel']"
   ]
  },
  {
   "cell_type": "code",
   "execution_count": 0,
   "metadata": {
    "colab": {},
    "colab_type": "code",
    "id": "Wliw4WGNUNjp"
   },
   "outputs": [],
   "source": [
    "for state in STATES:\n",
    "  world = geoqa.geo.read_world(state)\n",
    "  for question, answer, logical_form in zip(*geoqa.geo.read_data(state)):\n",
    "    if logical_form is None:\n",
    "      continue\n",
    "    parser_state = ParserState.from_logical_form(logical_form, permissive_parse_constraints)\n",
    "    round_trip_logical_form = parser_state.to_logical_form()\n",
    "    assert logical_form == round_trip_logical_form, \"\\n{} !=\\n{}\".format(logical_form, round_trip_logical_form)"
   ]
  },
  {
   "cell_type": "markdown",
   "metadata": {
    "colab_type": "text",
    "id": "v9LIMS-ED_13"
   },
   "source": [
    "## Preprocessing"
   ]
  },
  {
   "cell_type": "markdown",
   "metadata": {
    "colab_type": "text",
    "id": "MvyJagVtC4Wm"
   },
   "source": [
    "Next we'll define a dataset class. Since this dataset is small, and to allow evaluating on databases with entities we didn't see in training, we'll use pre-trained embeddings to represent both words and predicates in the databases. We've downloaded and pre-filtered [fasttext](https://fasttext.cc/) word embeddings trained on English Wikipedia and news, and we'll use the first 50 dimensions to keep our models small."
   ]
  },
  {
   "cell_type": "code",
   "execution_count": 0,
   "metadata": {
    "colab": {},
    "colab_type": "code",
    "id": "Ef0TLJ_6ES1G"
   },
   "outputs": [],
   "source": [
    "EMBEDDING_DIM = 50\n",
    "word_to_embedding = geoqa.utils.get_word_vectors(\n",
    "    'vecs/wiki-news-300d-1M-subword-filtered.vec', max_dim=EMBEDDING_DIM\n",
    ")"
   ]
  },
  {
   "cell_type": "code",
   "execution_count": 0,
   "metadata": {
    "colab": {
     "base_uri": "https://localhost:8080/",
     "height": 153
    },
    "colab_type": "code",
    "id": "YWU9puj1EdOO",
    "outputId": "9247275b-fa8f-48f4-b8db-d7fef356fd5b"
   },
   "outputs": [
    {
     "data": {
      "text/plain": [
       "array([ 0.0349, -0.0109,  0.015 ,  0.0392,  0.0173,  0.0048, -0.0055,\n",
       "       -0.0322, -0.0006,  0.0285, -0.0186, -0.0159,  0.0106, -0.014 ,\n",
       "       -0.0161, -0.0116, -0.0037, -0.0122,  0.0025,  0.0176, -0.0033,\n",
       "       -0.0165, -0.0129,  0.0204,  0.0006, -0.0073, -0.0179,  0.029 ,\n",
       "        0.0154,  0.0115, -0.0019, -0.0179,  0.0169,  0.0223, -0.0021,\n",
       "        0.0126,  0.0087, -0.0016,  0.0091,  0.001 ,  0.0006, -0.0081,\n",
       "       -0.0206, -0.0103, -0.0138,  0.0247,  0.0036, -0.0016,  0.0018,\n",
       "        0.0123])"
      ]
     },
     "execution_count": 198,
     "metadata": {
      "tags": []
     },
     "output_type": "execute_result"
    }
   ],
   "source": [
    "word_to_embedding['virginia']"
   ]
  },
  {
   "cell_type": "markdown",
   "metadata": {
    "colab_type": "text",
    "id": "hFLnot81a1wb"
   },
   "source": [
    "We've defined a [`GeoDataset`](https://github.com/dpfried/geoqa-release/blob/master/geoqa/dataset.py#L16) class for you in the support code to preprocess the data (don't worry about reading the code though; we'll demonstrate it below). This class tokenizes each question, and associated with each token a list of predicates that could possibly be used in the logical form, based on string matching predicate names against the word. To constrain the search space over possible logical forms, we will only allow predicates for a given question from the union of all its tokens' predicates. That we can do this at all is a somewhat unique feature of this dataset; more complex semantic parsing problems also require learning more of the lexicon as well."
   ]
  },
  {
   "cell_type": "code",
   "execution_count": 0,
   "metadata": {
    "colab": {},
    "colab_type": "code",
    "id": "mMo7OM7tYM6g"
   },
   "outputs": [],
   "source": [
    "sample_dataset = GeoDataset(state_names=['wv', 'va'], word_to_embedding=word_to_embedding)"
   ]
  },
  {
   "cell_type": "code",
   "execution_count": 0,
   "metadata": {
    "colab": {},
    "colab_type": "code",
    "id": "96u2wHRuYQoM"
   },
   "outputs": [],
   "source": [
    "def print_instance(instance, print_tokens=False):\n",
    "  for key in ['question', 'answer', 'logical_form', 'world', 'possible_predicates', 'denotation']:\n",
    "    if key == 'logical_form':\n",
    "      rep = logical_form_to_str(instance[key])\n",
    "    else:\n",
    "      rep = instance[key]\n",
    "    print('{:<19}: {}'.format(key, rep))\n",
    "  if print_tokens:\n",
    "    print()\n",
    "    print('{:<10}: {}'.format('word', 'predicates'))\n",
    "    print('='*23)\n",
    "    for word, predicates, embedded_predicates in zip(\n",
    "      instance['words'], \n",
    "      instance['predicates_at_each_word_position'], \n",
    "      instance['embedded_predicates_at_each_word_position']\n",
    "    ):\n",
    "      print('{:<10}: {}'.format(word, ', '.join(predicates)))"
   ]
  },
  {
   "cell_type": "code",
   "execution_count": 0,
   "metadata": {
    "colab": {},
    "colab_type": "code",
    "id": "mg8r1LCvYsKj"
   },
   "outputs": [],
   "source": [
    "sample_instance = sample_dataset[30]"
   ]
  },
  {
   "cell_type": "code",
   "execution_count": 0,
   "metadata": {
    "colab": {
     "base_uri": "https://localhost:8080/",
     "height": 255
    },
    "colab_type": "code",
    "id": "MAQ_HnvGcdCS",
    "outputId": "f90b7919-cc1d-4fc6-989f-9fd35449e25e"
   },
   "outputs": [
    {
     "name": "stdout",
     "output_type": "stream",
     "text": [
      "question           : what ocean borders virginia ?\n",
      "answer             : atlantic_ocean\n",
      "logical_form       : (lambda $w (exists $x (and (ocean $w) (border-rel $w $x) (kb-virginia $x))))\n",
      "world              : <World: va with 6 entities, 6 categories, 72 relations>\n",
      "possible_predicates: ['border-rel', 'kb-atlantic_ocean', 'kb-virginia', 'kb-virginia_beach', 'kb-west_virginia', 'ocean']\n",
      "denotation         : {'atlantic_ocean'}\n",
      "\n",
      "word      : predicates\n",
      "=======================\n",
      "what      : \n",
      "ocean     : ocean, kb-atlantic_ocean\n",
      "borders   : border-rel\n",
      "virginia  : kb-virginia, kb-virginia_beach, kb-west_virginia\n",
      "?         : \n"
     ]
    }
   ],
   "source": [
    "print_instance(sample_instance, print_tokens=True)"
   ]
  },
  {
   "cell_type": "markdown",
   "metadata": {
    "colab_type": "text",
    "id": "nue9mxkodoMi"
   },
   "source": [
    "## Model"
   ]
  },
  {
   "cell_type": "markdown",
   "metadata": {
    "colab_type": "text",
    "id": "K7MlSw_cM7dn"
   },
   "source": [
    "In this section we'll define a neural sequence-to-sequence model that encodes a question and outputs the actions needed to produce its logical form.\n",
    "\n",
    "We will use a `_ModelState` class to wrap a `ParserState` and also contain a model's hidden state (for the sequence-to-sequence decoder) and the log probabilities of the next possible actions that can be taken from the parser state."
   ]
  },
  {
   "cell_type": "code",
   "execution_count": 0,
   "metadata": {
    "colab": {},
    "colab_type": "code",
    "id": "KpogB4kWdplD"
   },
   "outputs": [],
   "source": [
    "_ModelState = namedtuple('_ModelState', (\n",
    "  'parser_state',\n",
    "  # ParserState: the current parser state\n",
    "  'hidden_state',\n",
    "  # a tuple (h, c) of pytorch tensors\n",
    "  'action_log_probs'\n",
    "  # Dict[str, tensor]: a mapping from next possible actions (parser_state.valid_actions) to\n",
    "  # a pytorch scalar giving the log probability of that action\n",
    "))"
   ]
  },
  {
   "cell_type": "markdown",
   "metadata": {
    "colab_type": "text",
    "id": "1pkgqpXqMmRB"
   },
   "source": [
    "The `ModelState` class will inherit from `_ModelState` and add a `take_action` method which creates a new `ModelState`, updated using a forward pass of the model and the `take_action` method of the `ParserState`.\n",
    "\n",
    "Here's a DummyModel which always produces a uniform probability distribution over all available actions:"
   ]
  },
  {
   "cell_type": "code",
   "execution_count": 0,
   "metadata": {
    "colab": {},
    "colab_type": "code",
    "id": "hmZDJftxYTs_"
   },
   "outputs": [],
   "source": [
    "class DummyModel(nn.Module):\n",
    "  # model that produces scores of zero always; use to explore logical forms\n",
    "  def __init__(self, max_vars=len(VARS), no_repeated_literals=False, max_literals=MAX_LITERALS):\n",
    "    super(DummyModel, self).__init__()\n",
    "    self.max_vars = max_vars\n",
    "    self.max_literals = max_literals\n",
    "    self.no_repeated_literals = no_repeated_literals\n",
    "\n",
    "  def forward(self, actions_to_score):\n",
    "    action_log_probs = {\n",
    "      # a scalar tensor (dimension 0)\n",
    "      action: torch.tensor(1.0/len(actions_to_score)).log()\n",
    "      for action in actions_to_score\n",
    "    }\n",
    "    hidden_state = None\n",
    "    return action_log_probs, hidden_state\n",
    "\n",
    "  def initialize_model_state(self, instance):\n",
    "    parse_constraints = ParseConstraints(\n",
    "      possible_predicates=instance['possible_predicates'],\n",
    "      max_vars=self.max_vars,\n",
    "      no_repeated_literals=self.no_repeated_literals,\n",
    "      max_literals=self.max_literals,\n",
    "    )\n",
    "    # define self as a variable so that we can reference it inside the DummyModelState class without using self;\n",
    "    model = self\n",
    "\n",
    "    class DummyModelState(_ModelState):\n",
    "      @staticmethod\n",
    "      def _create_from_parser_state(parser_state):\n",
    "        possible_actions = parser_state.valid_actions()\n",
    "        action_log_probs, hidden_state = model.forward(possible_actions)\n",
    "        return DummyModelState(parser_state, hidden_state, action_log_probs)\n",
    "\n",
    "      def take_action(self, action: str):\n",
    "        new_parser_state = self.parser_state.take_action(action)\n",
    "        return DummyModelState._create_from_parser_state(new_parser_state)\n",
    "\n",
    "    parser_state = ParserState.initial_state(parse_constraints)\n",
    "    return DummyModelState._create_from_parser_state(parser_state)"
   ]
  },
  {
   "cell_type": "markdown",
   "metadata": {
    "colab_type": "text",
    "id": "mikRkcXLO9Z-"
   },
   "source": [
    "We can use this DummyModel to explore the space of possible (constrained) logical forms for a given instance."
   ]
  },
  {
   "cell_type": "code",
   "execution_count": 0,
   "metadata": {
    "colab": {},
    "colab_type": "code",
    "id": "Vk4g_VTwbUBC"
   },
   "outputs": [],
   "source": [
    "def greedy_search(model, instance):\n",
    "  state = model.initialize_model_state(instance)\n",
    "  log_probs = []\n",
    "  # when we disallow repeated literals, we can get to parser states with no available actions\n",
    "  # so we need to check to ensure there are scored items in `state.action_log_probs`\n",
    "  while state.action_log_probs.items() and not state.parser_state.is_complete:\n",
    "    action, log_prob = max(state.action_log_probs.items(), key=lambda tuple: tuple[1].item())\n",
    "    log_probs.append(log_prob)\n",
    "    state = state.take_action(action)\n",
    "  return state, sum(log_probs)"
   ]
  },
  {
   "cell_type": "code",
   "execution_count": 0,
   "metadata": {
    "colab": {
     "base_uri": "https://localhost:8080/",
     "height": 255
    },
    "colab_type": "code",
    "id": "CesXN_O1PG_R",
    "outputId": "b06011ab-6f0a-4a93-c4de-4bba5a654a7e"
   },
   "outputs": [
    {
     "name": "stdout",
     "output_type": "stream",
     "text": [
      "question           : what ocean borders virginia ?\n",
      "answer             : atlantic_ocean\n",
      "logical_form       : (lambda $w (exists $x (and (ocean $w) (border-rel $w $x) (kb-virginia $x))))\n",
      "world              : <World: va with 6 entities, 6 categories, 72 relations>\n",
      "possible_predicates: ['border-rel', 'kb-atlantic_ocean', 'kb-virginia', 'kb-virginia_beach', 'kb-west_virginia', 'ocean']\n",
      "denotation         : {'atlantic_ocean'}\n",
      "\n",
      "word      : predicates\n",
      "=======================\n",
      "what      : \n",
      "ocean     : ocean, kb-atlantic_ocean\n",
      "borders   : border-rel\n",
      "virginia  : kb-virginia, kb-virginia_beach, kb-west_virginia\n",
      "?         : \n"
     ]
    }
   ],
   "source": [
    "print_instance(sample_instance, print_tokens=True)"
   ]
  },
  {
   "cell_type": "code",
   "execution_count": 0,
   "metadata": {
    "colab": {
     "base_uri": "https://localhost:8080/",
     "height": 51
    },
    "colab_type": "code",
    "id": "-p-B4lRpPCuI",
    "outputId": "8e7b24cd-3445-4165-bbe8-12feb1ea6bf3"
   },
   "outputs": [
    {
     "name": "stdout",
     "output_type": "stream",
     "text": [
      "(lambda $w (and (kb-atlantic_ocean $w)))\n",
      "tensor(-3.0445)\n"
     ]
    }
   ],
   "source": [
    "model_state, total_log_prob = greedy_search(\n",
    "    DummyModel(max_vars=4, no_repeated_literals=False),\n",
    "    sample_instance\n",
    "    )\n",
    "print(logical_form_to_str(model_state.parser_state.to_logical_form()))\n",
    "print(total_log_prob)"
   ]
  },
  {
   "cell_type": "markdown",
   "metadata": {
    "colab_type": "text",
    "id": "9wE_ndLLPpeH"
   },
   "source": [
    "Now, we've defined an (unbatched) beam search for you in the two cells below. Only a small number of actions will be allowed to be taken at any point in time by our transition system, so we've chosen to use dictionaries to map actions to scores:"
   ]
  },
  {
   "cell_type": "code",
   "execution_count": 0,
   "metadata": {
    "colab": {},
    "colab_type": "code",
    "id": "V6Gv1Snfq0SW"
   },
   "outputs": [],
   "source": [
    "def k_best(score_dict, k):\n",
    "  k = min(k, len(score_dict))\n",
    "  if k == 0:\n",
    "    return {}\n",
    "  actions, logits = zip(*score_dict.items())\n",
    "  logits = torch.stack(logits, dim=-1).flatten()\n",
    "  chosen_scores, indices = logits.topk(k, dim=-1)\n",
    "  return {\n",
    "    actions[index.item()]: score\n",
    "    for score, index in zip(chosen_scores, indices)\n",
    "  }"
   ]
  },
  {
   "cell_type": "code",
   "execution_count": 0,
   "metadata": {
    "colab": {},
    "colab_type": "code",
    "id": "LtciQnNlq4z4"
   },
   "outputs": [],
   "source": [
    "def beam_search(model, instance, beam_size):\n",
    "  state = model.initialize_model_state(instance)\n",
    "  completed = []\n",
    "  # each beam item will be a tuple (state, cumulative log probs)\n",
    "  beam = [(state, torch.tensor(0.0))]\n",
    "  while beam and len(completed) < beam_size:\n",
    "    successors = []\n",
    "    for state, log_prob in beam:\n",
    "      scored_successors = k_best(state.action_log_probs, beam_size)\n",
    "      for action, action_log_prob in scored_successors.items():\n",
    "        successor_log_prob = log_prob + action_log_prob\n",
    "        successors.append((successor_log_prob, state, action))\n",
    "    # when we disallow repeated literals, we can get to parser states with no available actions\n",
    "    # so we need to check to see if there are successors available\n",
    "    if not successors:\n",
    "      break\n",
    "    log_probs = torch.stack([log_prob for log_prob, _, _ in successors], dim=-1).flatten()\n",
    "    if beam_size is None:\n",
    "      indices = torch.arange(len(successors))\n",
    "    else:\n",
    "      _, indices = log_probs.topk(min(len(successors), beam_size), dim=-1)\n",
    "    new_beam = []\n",
    "    for ix in indices:\n",
    "      log_prob, prev_state, action = successors[ix.item()]\n",
    "      state = prev_state.take_action(action)\n",
    "      if state.parser_state.is_complete:\n",
    "        completed.append((state, log_prob))\n",
    "      else:\n",
    "        new_beam.append((state, log_prob))\n",
    "    beam = new_beam\n",
    "\n",
    "  completed = sorted(completed, key=lambda t: t[1].item(), reverse=True)\n",
    "  completed = completed[:beam_size]\n",
    "  return completed"
   ]
  },
  {
   "cell_type": "code",
   "execution_count": 0,
   "metadata": {
    "colab": {},
    "colab_type": "code",
    "id": "jHfwDe28Q2Jv"
   },
   "outputs": [],
   "source": [
    "def sample_search_model(model, beam_size):\n",
    "  \"\"\"\n",
    "  A convenience method for printing out beam search outputs\n",
    "  \"\"\"\n",
    "  for model_state, total_log_prob in beam_search(model, sample_instance, beam_size):\n",
    "      # with the transition system we've defined,\n",
    "      # it's possible to get into a parser state with no available actions\n",
    "      # so we need to check to ensure the parser state is complete before\n",
    "      # converting it to a logical form\n",
    "    if model_state.parser_state.is_complete:\n",
    "      logical_form = model_state.parser_state.to_logical_form()\n",
    "      print(\"{:.2f} {}\".format(total_log_prob.item(), logical_form_to_str(logical_form)))\n",
    "    else:\n",
    "      print(\"incomplete logical form\")"
   ]
  },
  {
   "cell_type": "code",
   "execution_count": 0,
   "metadata": {
    "colab": {
     "base_uri": "https://localhost:8080/",
     "height": 119
    },
    "colab_type": "code",
    "id": "r2ShzVMuP0ia",
    "outputId": "c2ca592a-4bbe-4c65-97cd-eb37f78209af"
   },
   "outputs": [
    {
     "name": "stdout",
     "output_type": "stream",
     "text": [
      "question           : what ocean borders virginia ?\n",
      "answer             : atlantic_ocean\n",
      "logical_form       : (lambda $w (exists $x (and (ocean $w) (border-rel $w $x) (kb-virginia $x))))\n",
      "world              : <World: va with 6 entities, 6 categories, 72 relations>\n",
      "possible_predicates: ['border-rel', 'kb-atlantic_ocean', 'kb-virginia', 'kb-virginia_beach', 'kb-west_virginia', 'ocean']\n",
      "denotation         : {'atlantic_ocean'}\n"
     ]
    }
   ],
   "source": [
    "print_instance(sample_instance)"
   ]
  },
  {
   "cell_type": "code",
   "execution_count": 0,
   "metadata": {
    "colab": {
     "base_uri": "https://localhost:8080/",
     "height": 357
    },
    "colab_type": "code",
    "id": "OgGWNRJIP0iq",
    "outputId": "db64b9fb-9098-4708-ef7b-9a899d65e528"
   },
   "outputs": [
    {
     "name": "stdout",
     "output_type": "stream",
     "text": [
      "-2.48 (lambda $w (and (kb-virginia_beach $w)))\n",
      "-2.48 (lambda $w (and (kb-atlantic_ocean $w)))\n",
      "-2.48 (lambda $w (and (kb-virginia $w)))\n",
      "-2.48 (lambda $w (and (kb-west_virginia $w)))\n",
      "-2.48 (lambda $w (and (ocean $w)))\n",
      "-2.48 (lambda $w (and (border-rel $w $w)))\n",
      "-4.97 (lambda $w (and (kb-atlantic_ocean $w) (kb-virginia $w)))\n",
      "-4.97 (lambda $w (and (kb-virginia $w) (kb-west_virginia $w)))\n",
      "-4.97 (lambda $w (and (kb-virginia $w) (ocean $w)))\n",
      "-4.97 (lambda $w (and (kb-virginia $w) (kb-atlantic_ocean $w)))\n",
      "-4.97 (lambda $w (and (kb-virginia_beach $w) (ocean $w)))\n",
      "-4.97 (lambda $w (and (kb-virginia $w) (border-rel $w $w)))\n",
      "-4.97 (lambda $w (and (kb-atlantic_ocean $w) (border-rel $w $w)))\n",
      "-4.97 (lambda $w (and (border-rel $w $w) (ocean $w)))\n",
      "-4.97 (lambda $w (and (border-rel $w $w) (kb-atlantic_ocean $w)))\n",
      "-4.97 (lambda $w (and (kb-virginia_beach $w) (border-rel $w $w)))\n",
      "-4.97 (lambda $w (and (border-rel $w $w) (kb-virginia $w)))\n",
      "-4.97 (lambda $w (and (border-rel $w $w) (kb-west_virginia $w)))\n",
      "-4.97 (lambda $w (and (border-rel $w $w) (border-rel $w $w)))\n",
      "-7.45 (lambda $w (and (border-rel $w $w) (kb-virginia_beach $w) (kb-atlantic_ocean $w)))\n"
     ]
    }
   ],
   "source": [
    "sample_search_model(DummyModel(max_vars=1, no_repeated_literals=False), beam_size=20)"
   ]
  },
  {
   "cell_type": "markdown",
   "metadata": {
    "colab_type": "text",
    "id": "BJDNkbrLv4OP"
   },
   "source": [
    "You may notice that some literals are repeated within a single logical form, e.g. `... (border-rel $w $w) (border-rel $w $w) ...` (due to randomness, you may not see this exact example in the candidates above). Since these identical literals occur inside a conjunction, they're logically redundant. Because of this, we can prevent duplicate literals to reduce the search space, without affecting the expressiveness of the logical forms.\n",
    "\n",
    "Modify the `valid_actions` function below to prevent duplicate literals, if `self.parse_constraints.no_repeated_literals` is `True`. (We've copied this function from `ParserState.valid_actions`, and will monkey-patch `ParserState` with it, so that you don't have to scroll back and forth.)"
   ]
  },
  {
   "cell_type": "code",
   "execution_count": 0,
   "metadata": {
    "colab": {},
    "colab_type": "code",
    "id": "x7oeosbqwiYh"
   },
   "outputs": [],
   "source": [
    "def valid_actions(self: ParserState) -> List[str]:\n",
    "    # actions that can be taken if we've finished building the lambda expression\n",
    "    if self.is_complete:\n",
    "      return []\n",
    "    if self.has_lambda:\n",
    "      return [DONE_ACTION]\n",
    "\n",
    "    # otherwise, deal with each possible action type in turn\n",
    "    valid_actions = []\n",
    "\n",
    "    # complete the lambda expression\n",
    "    if self.variable_argument_stack.size == 0 and self.completed_literal_stack.size > 0:\n",
    "      for var in self.variables_introduced():\n",
    "        valid_actions.append(VARS_TO_COMPLETE_LAMBDA_ACTIONS[var])\n",
    "\n",
    "    # introduce a predicate, with arguments from argument_stack\n",
    "    if self.variable_argument_stack.size > 0:\n",
    "      possible_predicates = self.parse_constraints.possible_predicates\n",
    "      if possible_predicates is None:\n",
    "        possible_predicates = CATS + RELS + list(ENTITY_ACTIONS_TO_ENTITIES.keys())\n",
    "      possible_predicates = list(sorted(possible_predicates))\n",
    "\n",
    "      for predicate in possible_predicates:\n",
    "        if ParserState.PREDICATE_ARITIES[predicate] == self.variable_argument_stack.size:\n",
    "          if self.parse_constraints.no_repeated_literals:\n",
    "            # TODO: modify this method so that no repeated literals are allowed in the logical form\n",
    "            action = [predicate] + self.variable_argument_stack.tolist()\n",
    "            if tuple(action) not in self.completed_literal_stack:\n",
    "                valid_actions.append(predicate)\n",
    "\n",
    "    # add a variable to the argument stack\n",
    "    if self.variable_argument_stack.size < ParserState.MAX_ARITY and (\n",
    "        # only start a new literal if we're strictly less than the maximum\n",
    "        (self.variable_argument_stack.size == 0 and self.completed_literal_stack.size < self.parse_constraints.max_literals) or\n",
    "        # only continue an existing literal if we're no greater than the maximum\n",
    "        (self.variable_argument_stack.size > 0 and self.completed_literal_stack.size <= self.parse_constraints.max_literals)\n",
    "    ):\n",
    "      valid_actions.extend(self.variables_usable())\n",
    "    return valid_actions\n",
    "\n",
    "ParserState.valid_actions = valid_actions"
   ]
  },
  {
   "cell_type": "markdown",
   "metadata": {
    "colab_type": "text",
    "id": "bwSQ6pIgxdiU"
   },
   "source": [
    "With a correct implementation, you should now see that literals are not repeated:"
   ]
  },
  {
   "cell_type": "code",
   "execution_count": 0,
   "metadata": {
    "colab": {
     "base_uri": "https://localhost:8080/",
     "height": 357
    },
    "colab_type": "code",
    "id": "VzwuZQPyv31I",
    "outputId": "52b0281f-2beb-4077-e183-f3e17c59f8a5"
   },
   "outputs": [
    {
     "name": "stdout",
     "output_type": "stream",
     "text": [
      "-2.48 (lambda $w (and (kb-virginia_beach $w)))\n",
      "-2.48 (lambda $w (and (kb-atlantic_ocean $w)))\n",
      "-2.48 (lambda $w (and (kb-virginia $w)))\n",
      "-2.48 (lambda $w (and (kb-west_virginia $w)))\n",
      "-2.48 (lambda $w (and (ocean $w)))\n",
      "-2.48 (lambda $w (and (border-rel $w $w)))\n",
      "-4.79 (lambda $w (and (kb-virginia $w) (kb-atlantic_ocean $w)))\n",
      "-4.79 (lambda $w (and (kb-atlantic_ocean $w) (kb-virginia_beach $w)))\n",
      "-4.79 (lambda $w (and (kb-virginia_beach $w) (kb-west_virginia $w)))\n",
      "-4.79 (lambda $w (and (kb-virginia $w) (kb-west_virginia $w)))\n",
      "-4.79 (lambda $w (and (ocean $w) (kb-virginia $w)))\n",
      "-4.79 (lambda $w (and (kb-virginia_beach $w) (border-rel $w $w)))\n",
      "-4.79 (lambda $w (and (kb-atlantic_ocean $w) (border-rel $w $w)))\n",
      "-4.79 (lambda $w (and (kb-virginia $w) (border-rel $w $w)))\n",
      "-4.97 (lambda $w (and (border-rel $w $w) (ocean $w)))\n",
      "-4.97 (lambda $w (and (border-rel $w $w) (kb-atlantic_ocean $w)))\n",
      "-4.97 (lambda $w (and (border-rel $w $w) (kb-virginia $w)))\n",
      "-4.97 (lambda $w (and (border-rel $w $w) (kb-virginia_beach $w)))\n",
      "-4.97 (lambda $w (and (border-rel $w $w) (kb-west_virginia $w)))\n",
      "-7.09 (lambda $w (and (kb-atlantic_ocean $w) (border-rel $w $w) (kb-west_virginia $w)))\n"
     ]
    }
   ],
   "source": [
    "sample_search_model(DummyModel(max_vars=1, no_repeated_literals=True), beam_size=20)"
   ]
  },
  {
   "cell_type": "markdown",
   "metadata": {
    "colab_type": "text",
    "id": "LeGC1PWcI7Ea"
   },
   "source": [
    "The test cell below, which checks to ensure that there are no repeated literals, should pass."
   ]
  },
  {
   "cell_type": "code",
   "execution_count": 0,
   "metadata": {
    "colab": {},
    "colab_type": "code",
    "id": "nd4as9-8e8pt"
   },
   "outputs": [],
   "source": [
    "for model_state, score in beam_search(DummyModel(max_vars=1, no_repeated_literals=True), sample_instance, 1000):\n",
    "  completed_literals = model_state.parser_state.completed_literal_stack.tolist()\n",
    "  # check for duplicate literals\n",
    "  assert len(completed_literals) == len(set(completed_literals))"
   ]
  },
  {
   "cell_type": "markdown",
   "metadata": {
    "colab_type": "text",
    "id": "BtjbJKN0xjB8"
   },
   "source": [
    "And the test from before of logical form -> parser state -> logical form (now using `no_repeated_literals=True`) should still pass:"
   ]
  },
  {
   "cell_type": "code",
   "execution_count": 0,
   "metadata": {
    "colab": {},
    "colab_type": "code",
    "id": "7hYyMcn_e4Jz"
   },
   "outputs": [],
   "source": [
    "no_repeats_parse_options = ParseConstraints(\n",
    "    possible_predicates=PREDICATES, \n",
    "    max_vars=len(VARS), \n",
    "    no_repeated_literals=True, \n",
    "    max_literals=MAX_LITERALS\n",
    ")\n",
    "for logical_form in logical_forms:\n",
    "  if logical_form is None:\n",
    "    continue\n",
    "  parser_state = ParserState.from_logical_form(logical_form, no_repeats_parse_options)\n",
    "  round_trip_logical_form = parser_state.to_logical_form()\n",
    "  assert logical_form == round_trip_logical_form, \"{} != {}\".format(logical_form, round_trip_logical_form)\n"
   ]
  },
  {
   "cell_type": "markdown",
   "metadata": {
    "colab_type": "text",
    "id": "pGKvYAWxSfMj"
   },
   "source": [
    "We'll now evaluate this `DummyModel` as a very simple baseline, using [geoqa.evaluation.evaluate_predictions](https://github.com/dpfried/geoqa-release/blob/master/geoqa/evaluation.py), in the two cells below. You might be surprised at the accuracy; a few structural and lexical constraints can go a long way on this dataset, and it's also sometimes possible to get the correct denotation through an incorrect logical form (this will complicate things later on, when we learn from denotations alone). However, examining some instances will show that this baseline model has very poor performance on complex examples."
   ]
  },
  {
   "cell_type": "markdown",
   "metadata": {
    "colab_type": "text",
    "id": "dhK6TbZAOd12"
   },
   "source": [
    "Note: some of the questions are yes/no questions (e.g. _is virginia east of west virginia_). If the denotation for a question is empty (`set()`), it should be interpreted as a \"no\" answer; if the denotation is non-empty (`{'virginia'}`) it should be interpreted as a yes. A different version of this dataset, introduced by [Andreas et al. 2016](https://arxiv.org/abs/1601.01705), adds an `any` operation to the logical forms for yes/no questions, which maps empty denotations to \"no\" and non-empty to \"yes\", but this makes training from denotations (which we'll do later on) more difficult."
   ]
  },
  {
   "cell_type": "code",
   "execution_count": 0,
   "metadata": {
    "colab": {},
    "colab_type": "code",
    "id": "RceZcr5D4Fzn"
   },
   "outputs": [],
   "source": [
    "def make_greedy_prediction_function(model):\n",
    "  # helper function to make a prediction function for evaluate_predictions for a model\n",
    "  def prediction_function(instance):\n",
    "    state, _ = greedy_search(model, instance)\n",
    "    if state.parser_state.is_complete:\n",
    "      return state.parser_state.to_logical_form()\n",
    "    else:\n",
    "      None\n",
    "  return prediction_function"
   ]
  },
  {
   "cell_type": "code",
   "execution_count": 0,
   "metadata": {
    "colab": {
     "base_uri": "https://localhost:8080/",
     "height": 1000
    },
    "colab_type": "code",
    "id": "jYhCXEm9SmxO",
    "outputId": "b2e881c3-a1f3-4297-bf9f-73ed1b92062e"
   },
   "outputs": [
    {
     "name": "stdout",
     "output_type": "stream",
     "text": [
      "dev example 1\n",
      "dev question: what states are there ?\n",
      "dev true LF: (lambda $w (and (state $w)))\n",
      "dev pred LF: (lambda $w (and (state $w)))\n",
      "dev true denotation: {'virginia', 'west_virginia', 'north_carolina'}\n",
      "dev pred denotation: {'virginia', 'west_virginia', 'north_carolina'}\n",
      "dev denotation match: True\n",
      "\n",
      "dev example 6\n",
      "dev question: what is the capital of virginia ?\n",
      "dev true LF: (lambda $w (exists $x (and (capital-rel $w $x) (kb-virginia $x))))\n",
      "dev pred LF: (lambda $w (and (capital $w)))\n",
      "dev true denotation: {'richmond'}\n",
      "dev pred denotation: set()\n",
      "dev denotation match: False\n",
      "\n",
      "dev example 11\n",
      "dev question: what cities in west virginia ?\n",
      "dev true LF: (lambda $w (exists $x (and (city $w) (in-rel $w $x) (kb-west_virginia $x))))\n",
      "dev pred LF: (lambda $w (and (city $w)))\n",
      "dev true denotation: set()\n",
      "dev pred denotation: {'richmond', 'virginia_beach'}\n",
      "dev denotation match: False\n",
      "\n",
      "dev example 16\n",
      "dev question: what state is south of west virginia ?\n",
      "dev true LF: (lambda $w (exists $x (and (state $w) (south-rel $w $x) (kb-west_virginia $x))))\n",
      "dev pred LF: (lambda $w (and (kb-virginia $w)))\n",
      "dev true denotation: {'virginia'}\n",
      "dev pred denotation: {'virginia'}\n",
      "dev denotation match: True\n",
      "\n",
      "dev example 21\n",
      "dev question: what ocean borders virginia ?\n",
      "dev true LF: (lambda $w (exists $x (and (ocean $w) (border-rel $w $x) (kb-virginia $x))))\n",
      "dev pred LF: (lambda $w (and (kb-atlantic_ocean $w)))\n",
      "dev true denotation: {'atlantic_ocean'}\n",
      "dev pred denotation: {'atlantic_ocean'}\n",
      "dev denotation match: True\n",
      "\n",
      "dev example 26\n",
      "dev question: is virginia beach inside of west virginia ?\n",
      "dev true LF: (lambda $w (exists $x (and (kb-virginia_beach $w) (inside-rel $w $x) (kb-west_virginia $x))))\n",
      "dev pred LF: (lambda $w (and (beach $w)))\n",
      "dev true denotation: set()\n",
      "dev pred denotation: set()\n",
      "dev denotation match: True\n",
      "\n",
      "dev example 31\n",
      "dev question: is the atlantic ocean in west virginia ?\n",
      "dev true LF: (lambda $w (exists $x (and (kb-atlantic_ocean $w) (in-rel $w $x) (kb-west_virginia $x))))\n",
      "dev pred LF: (lambda $w (and (kb-atlantic_ocean $w)))\n",
      "dev true denotation: set()\n",
      "dev pred denotation: {'atlantic_ocean'}\n",
      "dev denotation match: False\n",
      "\n",
      "dev example 36\n",
      "dev question: what cities are in virginia ?\n",
      "dev true LF: (lambda $w (exists $x (and (city $w) (in-rel $w $x) (kb-virginia $x))))\n",
      "dev pred LF: (lambda $w (and (city $w)))\n",
      "dev true denotation: {'richmond'}\n",
      "dev pred denotation: {'richmond', 'charleston'}\n",
      "dev denotation match: False\n",
      "\n",
      "dev example 41\n",
      "dev question: is virginia east of west virginia ?\n",
      "dev true LF: (lambda $w (exists $x (and (kb-virginia $w) (east-rel $w $x) (kb-west_virginia $x))))\n",
      "dev pred LF: (lambda $w (and (kb-virginia $w)))\n",
      "dev true denotation: {'virginia'}\n",
      "dev pred denotation: {'virginia'}\n",
      "dev denotation match: True\n",
      "\n"
     ]
    },
    {
     "data": {
      "text/plain": [
       "{'dev_denotation_acc': 0.4146341463414634}"
      ]
     },
     "execution_count": 218,
     "metadata": {
      "tags": []
     },
     "output_type": "execute_result"
    }
   ],
   "source": [
    "dummy_model = DummyModel(max_vars=4, no_repeated_literals=True)\n",
    "evaluate_predictions(\n",
    "  GeoDataset(DEV_STATES, word_to_embedding), 'dev', execute,\n",
    "  prediction_function=make_greedy_prediction_function(dummy_model),\n",
    "  display_predictions_frequency=5\n",
    ")"
   ]
  },
  {
   "cell_type": "markdown",
   "metadata": {
    "colab_type": "text",
    "id": "RV7-bqimfHLs"
   },
   "source": [
    "Now we'll implement a neural model to train on the dataset. We've defined the encoder for you in the cell below, following one possible implementation for the encoder from project 2. The dataset is small enough that batching and using a GPU are unnecessary, so we will leave them out for simplicity."
   ]
  },
  {
   "cell_type": "code",
   "execution_count": 0,
   "metadata": {
    "colab": {},
    "colab_type": "code",
    "id": "W4EhpM-nQaXa"
   },
   "outputs": [],
   "source": [
    "class Encoder(nn.Module):\n",
    "  def __init__(self, hidden_dim, word_vector_dim, dropout):\n",
    "    # word_vectors: vocab_size x dim\n",
    "    super(Encoder, self).__init__()\n",
    "    self.hidden_dim = hidden_dim\n",
    "    self.word_vector_dim = word_vector_dim\n",
    "    self.dropout = nn.Dropout(dropout)\n",
    "    self.lstm = nn.LSTM(self.word_vector_dim, hidden_dim,\n",
    "                        bidirectional=True, batch_first=True)\n",
    "\n",
    "  def forward(self, embedded_sentence):\n",
    "    # embedded_sentence: T x word_vector_dim\n",
    "    lstm_out, (h_n, c_n) = self.lstm(embedded_sentence.unsqueeze(0))\n",
    "\n",
    "    # eliminate batch dimension\n",
    "    h_n = h_n.squeeze(0)\n",
    "    c_n = c_n.squeeze(0)\n",
    "\n",
    "    # n_layers x directions x T\n",
    "    h_n = h_n.view(1, 2, -1).mean(1)\n",
    "    c_n = c_n.view(1, 2, -1).mean(1)\n",
    "\n",
    "    # eliminate batch dimension\n",
    "    lstm_out = lstm_out.squeeze(0)\n",
    "    return self.dropout(lstm_out), (h_n, c_n)\n"
   ]
  },
  {
   "cell_type": "markdown",
   "metadata": {
    "colab_type": "text",
    "id": "rhgBh1oQNeaw"
   },
   "source": [
    "Before building the decoder, we'll define some helper functions to work with probability distributions over actions in log space."
   ]
  },
  {
   "cell_type": "code",
   "execution_count": 0,
   "metadata": {
    "colab": {},
    "colab_type": "code",
    "id": "iqY4QGRy4KDe"
   },
   "outputs": [],
   "source": [
    "# helper functions to deal with probabilities in log space\n",
    "def sum_log_probs(log_probs):\n",
    "  # log_probs: List[tensor]\n",
    "  # compute \\log \\sum_x \\exp x\n",
    "  return torch.logsumexp(torch.stack(\n",
    "    list(log_probs), dim=-1\n",
    "  ), -1)\n",
    "\n",
    "def renormalize_log_prob_dict(log_prob_dict):\n",
    "  # log_prob_dict: Dict[str, tensor]\n",
    "  # rescale the log probs so that when exponentiated, they sum to 1\n",
    "  if not log_prob_dict:\n",
    "    return log_prob_dict\n",
    "  Z = sum_log_probs(log_prob_dict.values())\n",
    "  return {k: v - Z for k, v in log_prob_dict.items()}\n",
    "\n",
    "def filter_log_prob_dict(log_prob_dict, valid_actions):\n",
    "  return {\n",
    "    k: v for k, v in log_prob_dict.items()\n",
    "    if k in valid_actions\n",
    "  }\n",
    "\n",
    "def is_normalized(log_prob_dict):\n",
    "  # log_prob_dict: Dict[str, tensor]\n",
    "  # check that this dictionary is normalized in log space\n",
    "  # e.g. as returned by renormalize_log_prob_dict\n",
    "  if not log_prob_dict:\n",
    "    return True\n",
    "  return torch.allclose(\n",
    "    sum_log_probs(log_prob_dict.values()).exp(),\n",
    "    torch.tensor(1.0),\n",
    "    atol=1e-3\n",
    "  )"
   ]
  },
  {
   "cell_type": "markdown",
   "metadata": {
    "colab_type": "text",
    "id": "ojwfaXywfRLm"
   },
   "source": [
    "You'll now define part of the Decoder. You'll implement an attention-based pointer-generator model (based roughly on section 3.2 of [Jia and Liang 2016](https://arxiv.org/pdf/1606.03622.pdf) and section 2.2 of [See et al. 2017](https://arxiv.org/pdf/1704.04368.pdf)), which is useful for sequence-to-sequence tasks where parts of the output are copied from the input (in our case, predicates will be copied from the tokens they are associated with). \n",
    "\n",
    "Actions can be produced either through a `generate` action (given by predicting them from a standard projection layer, similar to the vocab prediction in the previous assignments) or a `copy` action: \"pointing\" to them in the set of predicates associated with each token in the question, using an attention mechanism. \n",
    "\n",
    "An action is produced by marginalizing over a binary choice to `copy` or `generate`, with $p(copy) = 1 - p(generate)$:\n",
    "\n",
    "$p(action) = p(action | generate) * p(generate) + p(action | copy) * p(copy)$\n",
    "\n",
    "`STRUCTURAL_ACTIONS` can only be produced by generating. `DATABASE_SPECIFIC_PREDICATE_ACTIONS` can only be produced by copying (since all of these will be unseen when evaluating on a new database). `CROSS_DATABASE_PREDICATE_ACTIONS` can be produced either by generating or copying.\n",
    "\n",
    "\n",
    "You'll implement this in the `forward()` method of `Decoder`, computing $p(action)$ for each action in `actions_to_score` by combining the probabilities as above. Below are details about the generation mechanism (which we've implemented) and copy mechanism (which you'll implement).\n",
    "\n",
    "__Generation mechanism__\n",
    "\n",
    "$p(action | generate)$ is produced using a standard projection layer similar to the vocab prediction in the previous assignments, assigning scores to actions in `STRUCTURAL_ACTIONS` + `CROSS_DATABASE_PREDICATE_ACTIONS`. We've implemented this for you, in `_generate_log_probs()`.\n",
    "\n",
    "__Copy mechanism__\n",
    "\n",
    "Actions for predicates that are associated with words in the sentence can be produced by \"pointing\" to them with an attention mechanism. We will reuse the decoder's attention mechanism, masked and renormalized to only be over those tokens that have associated predicates, to give a distribution $p(position | copy)$. A given predicate can appear with multiple tokens, so marginalize over the positions in the sentence:\n",
    "\n",
    "$p(action | copy) = \\sum_{position} p(action | position, copy) p(position | copy)$\n",
    "\n",
    "A given position can have zero, one, or multiple predicates associated with it (e.g. the token \"ocean\" can have both the `ocean` or the `kb-atlantic_ocean` predicates associated with it); produce a distribution over the predicates at each position using a softmax of the dot product between a `predicate_key` vector (a projection of the decoder state, which we've computed for you) and the pretrained embedding for the action's predicate:\n",
    "\n",
    "$p(action | position, copy) = softmax(\\texttt{predicate_embedding}^\\top \\texttt{predicate_key})$\n",
    "\n",
    "You'll implement this in the `.copy_log_probs()` method in `Decoder` below."
   ]
  },
  {
   "cell_type": "markdown",
   "metadata": {
    "colab_type": "text",
    "id": "uUuvdfF1OTz4"
   },
   "source": [
    "Fill in the `._copy_log_probs()` and `.forward()` methods in the `Decoder` class below.\n",
    "\n",
    "__Implementation tip__: Do probability calculations in log space: `p*q` can be computed using `+` when values are represented as log probabilities. In the same way, the `torch.logsumexp` function computes the sum `p+q` when `p` and `q` (and the returned value) are represented as log probabilities."
   ]
  },
  {
   "cell_type": "code",
   "execution_count": 0,
   "metadata": {
    "colab": {},
    "colab_type": "code",
    "id": "qc56K83Lbs_X"
   },
   "outputs": [],
   "source": [
    "import torch.nn.functional as F"
   ]
  },
  {
   "cell_type": "code",
   "execution_count": 0,
   "metadata": {
    "colab": {},
    "colab_type": "code",
    "id": "feAB09qGQv_U"
   },
   "outputs": [],
   "source": [
    "class Decoder(nn.Module):\n",
    "  START_ACTION = \"<START>\"\n",
    "  DATABASE_SPECIFIC_ACTION = \"<KB_ENTITY>\"\n",
    "\n",
    "  def __init__(self, hidden_dim, action_embedding_dim, input_action_vec_dim, dropout):\n",
    "    super(Decoder, self).__init__()\n",
    "    self.hidden_dim = hidden_dim\n",
    "    self.action_embedding_dim = action_embedding_dim\n",
    "    self.input_action_vec_dim = input_action_vec_dim\n",
    "\n",
    "    self.action_index = Index()\n",
    "    generable_indices = []\n",
    "    for action in STRUCTURAL_ACTIONS:\n",
    "      generable_indices.append(self.action_index.index(action))\n",
    "    for action in CROSS_DATABASE_PREDICATE_ACTIONS:\n",
    "      generable_indices.append(self.action_index.index(action))\n",
    "    self.generable_indices = generable_indices\n",
    "    self.START_INDEX = self.action_index.index(Decoder.START_ACTION)\n",
    "    self.DATABASE_SPECIFIC_ACTION_INDEX = self.action_index.index(Decoder.DATABASE_SPECIFIC_ACTION)\n",
    "    self.action_index.frozen = True\n",
    "\n",
    "    self.action_embeddings = nn.Embedding(self.action_index.size(), self.action_embedding_dim)\n",
    "\n",
    "    self.dropout = nn.Dropout(dropout)\n",
    "    self.lstm_cell = nn.LSTMCell(self.action_embedding_dim, self.hidden_dim)\n",
    "\n",
    "    self.action_scoring_layer = nn.Linear(hidden_dim, self.input_action_vec_dim)\n",
    "\n",
    "    self.encoder_projection = nn.Linear(hidden_dim * 2, hidden_dim)\n",
    "    self.copy_or_generate_layer = nn.Linear(hidden_dim, 2)\n",
    "    self.generate_layer = nn.Linear(hidden_dim, len(generable_indices))\n",
    "\n",
    "  def _pre_prediction(self, encoder_output, last_action, last_hidden):\n",
    "    if last_action in self.action_index:\n",
    "      action_index = self.action_index.index(last_action)\n",
    "    elif last_action is None:\n",
    "      action_index = self.START_INDEX\n",
    "    else:\n",
    "      action_index = self.DATABASE_SPECIFIC_ACTION_INDEX\n",
    "\n",
    "    embedded_action = self.action_embeddings(torch.LongTensor([action_index]))\n",
    "    h, c = self.lstm_cell(embedded_action, last_hidden)\n",
    "    hidden_state = (h, c)\n",
    "    decoder_out = h.squeeze(0)\n",
    "    decoder_out = self.dropout(decoder_out)\n",
    "\n",
    "    encoder_output_projected = self.encoder_projection(encoder_output)\n",
    "\n",
    "    attention_logits = torch.einsum(\"th,h->t\", [encoder_output_projected, decoder_out])\n",
    "    attention_dist = torch.softmax(attention_logits, dim=-1)\n",
    "    pooled_inputs = torch.einsum(\"th,t->h\", [encoder_output_projected, attention_dist])\n",
    "\n",
    "    output_with_attention = decoder_out + pooled_inputs\n",
    "\n",
    "    return hidden_state, output_with_attention, attention_logits\n",
    "\n",
    "  def _position_attention(self, predicates_at_each_word_position, attention_logits):\n",
    "    positions_without_actions = [ix for ix, l in enumerate(predicates_at_each_word_position) if not l]\n",
    "    position_attention_logits = attention_logits.clone()\n",
    "    position_attention_logits[positions_without_actions] = BIG_NEG\n",
    "    if len(positions_without_actions) == len(predicates_at_each_word_position):\n",
    "      raise ValueError('no valid positions with predicates to copy to')\n",
    "    return torch.log_softmax(position_attention_logits, dim=-1)\n",
    "\n",
    "  def _generate_log_probs(self, actions_to_score, output_with_attention):\n",
    "    # return log p(action | generate) for actions in actions_to_score,\n",
    "    # as a dictionary mapping actions to torch scalars\n",
    "    # log probabilities will be normalized over all generable actions; *NOT* over just actions_to_score\n",
    "    # (renormalization will happen at the end of forward(), after all marginalizations are complete)\n",
    "    logits = self.generate_layer(output_with_attention)\n",
    "    log_probs = torch.log_softmax(logits, dim=-1)\n",
    "    return {\n",
    "      action: log_probs[self.action_index.index(action)]\n",
    "      for action in actions_to_score\n",
    "      if action in self.action_index\n",
    "    }\n",
    "\n",
    "  def _copy_log_probs(self,\n",
    "                         predicate_key,\n",
    "                         predicates_at_each_word_position,\n",
    "                         embedded_predicates_at_each_word_position,\n",
    "                         position_attention_log_probs,\n",
    "                         copyable_actions):\n",
    "    \"\"\"\n",
    "\n",
    "    :param predicate_key:\n",
    "      tensor of size (embedded_predicate_dim,)\n",
    "    :param predicates_at_each_word_position:\n",
    "      List[List[str]], containing the list of predicates associated with each position in the sentence\n",
    "    :param embedded_predicates_at_each_word_position:\n",
    "      List[tensor], containing the predicate embeddings associated with each position in the sentence.\n",
    "      embedded_predicates_at_each_word_position[i].size() == len(predicates_at_each_word_position[i]), embedding_dim\n",
    "    :param position_attention_log_probs:\n",
    "      tensor of size (len(sentence)), containing log p(position | copy)\n",
    "    :param copyable_actions:\n",
    "      Set[str], containing all predicates that can be copied to in this sentence\n",
    "    :return:\n",
    "      log p(action | copy) for actions in actions_to_score,\n",
    "      as a dictionary mapping actions to torch scalars\n",
    "      this dictionary should be normalized (in log space), over all copyable actions\n",
    "      Implementation tip: you shouldn't have to normalize this yourself, it should happen\n",
    "      by construction\n",
    "    \"\"\"\n",
    "    p_action_given_position =  [F.log_softmax(embedding @ predicate_key, dim = -1) for embedding in embedded_predicates_at_each_word_position] # (len(sentence), len(predicates_at_each_word_position[i]))\n",
    "    action_prod = [p_action_given_position[i] + position_attention_log_probs[i] for i in range(len(p_action_given_position))] #(len(sentence), number of predicates at each position)\n",
    "    #position_attention_log_probs[i] will be repeated along the number of predicates at each position\n",
    "\n",
    "    log_action = {}\n",
    "    for i,predicate in enumerate(predicates_at_each_word_position):\n",
    "        for j,action in enumerate(predicate):\n",
    "            if action not in log_action.keys():\n",
    "                log_action[action] = [action_prod[i][j]]\n",
    "            else:\n",
    "                log_action[action].append(action_prod[i][j])\n",
    "    \n",
    "    for action in log_action.keys():\n",
    "        if action in copyable_actions:\n",
    "            log_action[action] = sum_log_probs(log_action[action])\n",
    "        else:\n",
    "            log_action[action] = torch.tensor(-1e9)\n",
    "\n",
    "    log_action = renormalize_log_prob_dict(log_action)\n",
    "    return log_action\n",
    "\n",
    "  def forward(self,\n",
    "              encoder_output,\n",
    "              predicates_at_each_word_position,  # [[action, vector]]\n",
    "              embedded_predicates_at_each_word_position,\n",
    "              last_action,\n",
    "              last_hidden_state,\n",
    "              actions_to_score):\n",
    "    \"\"\"\n",
    "    :return:\n",
    "      * action_log_probs: a Dict[str, tensor], mapping each action in actions_to_score to a scalar tensor, giving the action's log probability\n",
    "      * hidden_state: (h, c), decoder's updated hidden state after taking last_action\n",
    "    \"\"\"\n",
    "    T, hidden_dim = encoder_output.size()\n",
    "\n",
    "    # hidden_state: (h, c), each a tensor of size (hidden_dim,)\n",
    "    # output_with_attention: tensor of size (hidden_dim,)\n",
    "    # attention_logits: tensor of size (T,)\n",
    "    hidden_state, output_with_attention, attention_logits = self._pre_prediction(\n",
    "      encoder_output, last_action, last_hidden_state\n",
    "    )\n",
    "\n",
    "    all_predicates = set([p for ps in predicates_at_each_word_position for p in ps])\n",
    "    #\n",
    "\n",
    "    # copy_lp and generate_lp are each scalar tensors, giving log p(copy) and log p(generate)\n",
    "    copy_lp, generate_lp = torch.log_softmax(self.copy_or_generate_layer(output_with_attention), dim=-1)\n",
    "\n",
    "    # generate_action_log_probs. log p(action | generate), for generable actions in actions_to_score\n",
    "    # a Dict[str, tensor], mapping each action in actions_to_score to a scalar tensor, giving the action's log probability\n",
    "    generate_action_log_probs = self._generate_log_probs(actions_to_score, output_with_attention)\n",
    "\n",
    "    # position_attention_log_probs: tensor of size (T,) giving log p(position | copy)\n",
    "    position_attention_log_probs = self._position_attention(predicates_at_each_word_position, attention_logits)\n",
    "\n",
    "    # compute log p(action | copy) for actions in all_predicates (the copyable actions)\n",
    "    # a Dict[str, tensor], mapping each action in all_predicates to a scalar tensor, giving the action's log probability\n",
    "    copy_action_log_probs = self._copy_log_probs(\n",
    "      self.action_scoring_layer(output_with_attention),\n",
    "      predicates_at_each_word_position,\n",
    "      embedded_predicates_at_each_word_position,\n",
    "      position_attention_log_probs,\n",
    "      all_predicates\n",
    "    )\n",
    "\n",
    "    if copy_action_log_probs:\n",
    "      assert is_normalized(copy_action_log_probs)\n",
    "    # now, filter this down to only those actions we want to score\n",
    "    copy_action_log_probs = filter_log_prob_dict(copy_action_log_probs, actions_to_score)\n",
    "\n",
    "    # compute the probability of each action, p(action) as:\n",
    "    # p(action) = p(action | generate) * p(generate) + p(action | copy) * p(copy)\n",
    "    # p(position | copy) is given by position_attention_log_probs (a tensor)\n",
    "    # p(action | generate) and p(action | copy) are given by generate_action_log_probs and copy_action_log_probs (dictionaries), above\n",
    "\n",
    "    action_log_probs = {}\n",
    "    for action in actions_to_score:\n",
    "        if action not in copy_action_log_probs.keys():\n",
    "            copy_action_log_probs[action] = torch.tensor(-1e9)\n",
    "        if action not in generate_action_log_probs.keys():\n",
    "            generate_action_log_probs[action] = torch.tensor(-1e9)\n",
    "        L = [copy_lp + copy_action_log_probs[action], generate_lp + generate_action_log_probs[action]]\n",
    "        action_log_probs[action] = torch.logsumexp(torch.stack(L, -1), -1)\n",
    "\n",
    "    assert all(a in action_log_probs for a in actions_to_score)\n",
    "    # since this contains only a subset of actions, renormalize (in log-space)\n",
    "    filtered = renormalize_log_prob_dict(\n",
    "      filter_log_prob_dict(action_log_probs, valid_actions=actions_to_score)\n",
    "    )\n",
    "    for v in filtered.values():\n",
    "      assert v > -1e8\n",
    "    return filtered, hidden_state"
   ]
  },
  {
   "cell_type": "markdown",
   "metadata": {
    "colab_type": "text",
    "id": "Wnm44g0Aesip"
   },
   "source": [
    "The cell below defines a `Model` class using this `Encoder` and `Decoder`, with the same interface we used in `DummyModel`. We've hardcoded some hyperparameters for size and dropout that we found to work well."
   ]
  },
  {
   "cell_type": "code",
   "execution_count": 0,
   "metadata": {
    "colab": {},
    "colab_type": "code",
    "id": "NnvpPyELQ1IT"
   },
   "outputs": [],
   "source": [
    "class Model(nn.Module):\n",
    "  def __init__(self, max_vars=len(VARS), no_repeated_literals=True, max_literals=MAX_LITERALS):\n",
    "    super(Model, self).__init__()\n",
    "    self.max_vars = max_vars\n",
    "    self.max_literals = max_literals\n",
    "    self.no_repeated_literals = no_repeated_literals\n",
    "\n",
    "    self.hidden_dim = 50\n",
    "    self.action_embedding_dim = 50\n",
    "    self.dropout = 0.2\n",
    "\n",
    "    self.encoder = Encoder(self.hidden_dim, EMBEDDING_DIM, self.dropout)\n",
    "    self.decoder = Decoder(self.hidden_dim, self.action_embedding_dim, EMBEDDING_DIM, self.dropout)\n",
    "    self.max_vars = max_vars\n",
    "\n",
    "  def initialize_model_state(self, instance):\n",
    "    parse_constraints = ParseConstraints(\n",
    "      possible_predicates=instance['possible_predicates'],\n",
    "      max_vars=self.max_vars,\n",
    "      no_repeated_literals=self.no_repeated_literals,\n",
    "      max_literals=self.max_literals,\n",
    "    )\n",
    "    parser_state = ParserState.initial_state(parse_constraints)\n",
    "\n",
    "    encoder_output, encoder_hidden = self.encoder(instance['embedded_words'])\n",
    "\n",
    "    # define a decoder variable so that we can reference it inside the ModelState class without using self;\n",
    "    decoder = self.decoder\n",
    "\n",
    "    # embed this class so that we don't have to reencode the input every time we take an action\n",
    "    class ModelState(_ModelState):\n",
    "      @staticmethod\n",
    "      def _create_from_hidden_and_action(last_hidden_state, last_action, parser_state: ParserState):\n",
    "        possible_actions = parser_state.valid_actions()\n",
    "        action_log_probs, hidden = decoder(\n",
    "          encoder_output,\n",
    "          instance['predicates_at_each_word_position'],\n",
    "          instance['embedded_predicates_at_each_word_position'],\n",
    "          last_action,\n",
    "          last_hidden_state,\n",
    "          actions_to_score=possible_actions\n",
    "        )\n",
    "        return ModelState(parser_state, hidden, action_log_probs)\n",
    "\n",
    "      def take_action(self, action: str):\n",
    "        parser_state = self.parser_state.take_action(action)\n",
    "        return ModelState._create_from_hidden_and_action(self.hidden_state, action, parser_state)\n",
    "\n",
    "    # the decoder expects None to start the action sequence\n",
    "    last_action = None\n",
    "    return ModelState._create_from_hidden_and_action(encoder_hidden, last_action, parser_state)"
   ]
  },
  {
   "cell_type": "markdown",
   "metadata": {
    "colab_type": "text",
    "id": "RjB3AKvAdsK4"
   },
   "source": [
    "## Supervised Training"
   ]
  },
  {
   "cell_type": "markdown",
   "metadata": {
    "colab_type": "text",
    "id": "mLcB77Tw7gdL"
   },
   "source": [
    "We'll first assume a supervised setting, where logical forms are provided for each question and used to directly supervise the model outputs. Later on, we'll relax this assumption and train from questions and denotations (answers) alone, using latent logical forms. In the two cells below, we've provided training code that will use the model and parser states you've defined."
   ]
  },
  {
   "cell_type": "code",
   "execution_count": 0,
   "metadata": {
    "colab": {},
    "colab_type": "code",
    "id": "bK74FVyS5VVl"
   },
   "outputs": [],
   "source": [
    "def make_beam_prediction_function(model, beam_size=5):\n",
    "  # helper function to make a prediction function for evaluate_predictions for a model\n",
    "  def prediction_function(instance):\n",
    "    candidates = beam_search(model, instance, beam_size)\n",
    "    if not candidates:\n",
    "      return None\n",
    "    state, _ = candidates[0]\n",
    "    if state.parser_state.is_complete:\n",
    "      return state.parser_state.to_logical_form()\n",
    "    else:\n",
    "      return None\n",
    "  return prediction_function"
   ]
  },
  {
   "cell_type": "code",
   "execution_count": 0,
   "metadata": {
    "colab": {},
    "colab_type": "code",
    "id": "mfFusJ0SrftT"
   },
   "outputs": [],
   "source": [
    "def train(model, train_dataset, dev_dataset, model_file, num_epochs=10, latent_logical_forms=False,\n",
    "          training_beam_size=None, learning_rate=1e-3, display_predictions_frequency=None):\n",
    "  optimizer = torch.optim.Adam(model.parameters(), lr=learning_rate)\n",
    "  stats_by_epoch = {}\n",
    "\n",
    "  train_dataloader = DataLoader(train_dataset, shuffle=True, batch_size=1, collate_fn=lambda x: x)\n",
    "\n",
    "  if latent_logical_forms:\n",
    "    assert training_beam_size is not None\n",
    "\n",
    "  if not latent_logical_forms:\n",
    "    loss_function_for_eval = lambda instance: supervised_loss(model, instance).item()\n",
    "  else:\n",
    "    loss_function_for_eval = None\n",
    "\n",
    "  prediction_function = make_beam_prediction_function(model, 5)\n",
    "\n",
    "  best_metric = 0.0\n",
    "  for epoch in tqdm.notebook.trange(num_epochs, desc=\"training\", unit=\"epoch\"):\n",
    "    with tqdm.notebook.tqdm(\n",
    "        train_dataloader,\n",
    "        desc=\"epoch {}\".format(epoch + 1),\n",
    "        unit=\"instance\",\n",
    "        total=len(train_dataloader)\n",
    "    ) as batch_iterator:\n",
    "      model.train()\n",
    "\n",
    "      total_num_correct_lfs = 0\n",
    "      total_num_lfs = 0\n",
    "\n",
    "      total_loss = 0.0\n",
    "\n",
    "      for i, batch in enumerate(batch_iterator, start=1):\n",
    "        assert len(batch) == 1\n",
    "        instance = batch[0]\n",
    "\n",
    "        optimizer.zero_grad()\n",
    "        if latent_logical_forms:\n",
    "          loss, num_correct_lfs, num_lfs = latent_loss(model, instance, training_beam_size)\n",
    "          total_num_lfs += num_lfs\n",
    "          total_num_correct_lfs += num_correct_lfs\n",
    "          batch_iterator.set_postfix(\n",
    "            train_correct_candidates_per_instance=total_num_correct_lfs/total_num_lfs*training_beam_size,\n",
    "            train_loss=total_loss / i\n",
    "          )\n",
    "        else:\n",
    "          loss = supervised_loss(model, instance)\n",
    "        total_loss += loss.item()\n",
    "        loss.backward()\n",
    "        optimizer.step()\n",
    "      model.eval()\n",
    "      train_stats = evaluate_predictions(\n",
    "        train_dataset, 'train', execute,\n",
    "        prediction_function=prediction_function,\n",
    "        loss_function=loss_function_for_eval,\n",
    "        display_predictions_frequency=display_predictions_frequency\n",
    "      )\n",
    "      dev_stats = evaluate_predictions(\n",
    "        dev_dataset, 'dev', execute,\n",
    "        prediction_function=prediction_function,\n",
    "        loss_function=loss_function_for_eval,\n",
    "        display_predictions_frequency=display_predictions_frequency\n",
    "      )\n",
    "      dev_metric = dev_stats['dev_denotation_acc']\n",
    "      batch_iterator.set_postfix({'train_loss': (total_loss / len(batch_iterator)), **train_stats, **dev_stats})\n",
    "      if dev_metric > best_metric:\n",
    "        best_epoch = epoch\n",
    "        print(\"Obtained a new best development accuracy of {:.3f}, saving model \"\n",
    "              \"checkpoint to {}...\".format(dev_metric, model_file))\n",
    "        torch.save(model.state_dict(), model_file)\n",
    "        best_metric = dev_metric\n",
    "      stats_by_epoch[epoch] = dev_stats\n",
    "  print(\"Maximal development accuracy of {:.3f}\".format(best_metric))\n",
    "  print(\"Reloading best model checkpoint from {}...\".format(model_file))\n",
    "  model.load_state_dict(torch.load(model_file))"
   ]
  },
  {
   "cell_type": "markdown",
   "metadata": {
    "colab_type": "text",
    "id": "2fSEWWcJ-anP"
   },
   "source": [
    "The supervised loss takes each action in the traversal of the correct logical form, collecting the log probabilities of these actions along the way."
   ]
  },
  {
   "cell_type": "code",
   "execution_count": 0,
   "metadata": {
    "colab": {},
    "colab_type": "code",
    "id": "vQNOj1qFRMg5"
   },
   "outputs": [],
   "source": [
    "def supervised_loss(model, instance):\n",
    "  state = model.initialize_model_state(instance)\n",
    "  gold_actions = ParserState.from_logical_form(instance['logical_form']).actions()\n",
    "\n",
    "  loss = torch.tensor(0.0)\n",
    "  for action in gold_actions:\n",
    "    loss += -1.0 * state.action_log_probs[action]\n",
    "    state = state.take_action(action)\n",
    "\n",
    "  return loss"
   ]
  },
  {
   "cell_type": "code",
   "execution_count": 0,
   "metadata": {
    "colab": {
     "base_uri": "https://localhost:8080/",
     "height": 68
    },
    "colab_type": "code",
    "id": "EIk7BsGnsAEs",
    "outputId": "815dd2b5-c8d3-4a64-8d37-7c28322ea8e0"
   },
   "outputs": [
    {
     "name": "stdout",
     "output_type": "stream",
     "text": [
      "133 train instances\n",
      "41 dev instances\n",
      "51 test instances\n"
     ]
    }
   ],
   "source": [
    "train_dataset = GeoDataset(TRAIN_STATES, word_to_embedding)\n",
    "dev_dataset = GeoDataset(DEV_STATES, word_to_embedding)\n",
    "test_dataset = GeoDataset(TEST_STATES, word_to_embedding)\n",
    "\n",
    "print('{} train instances'.format(len(train_dataset)))\n",
    "print('{} dev instances'.format(len(dev_dataset)))\n",
    "print('{} test instances'.format(len(test_dataset)))\n"
   ]
  },
  {
   "cell_type": "code",
   "execution_count": 0,
   "metadata": {
    "colab": {},
    "colab_type": "code",
    "id": "bNSddI0R0Lg6"
   },
   "outputs": [],
   "source": [
    "supervised_model = Model()"
   ]
  },
  {
   "cell_type": "markdown",
   "metadata": {
    "colab_type": "text",
    "id": "_av5k4J4gk1H"
   },
   "source": [
    "We'll now train the model in the cell below. You should obtain a maximal denotation accuracy of at least 78% on the development set. This is a very small dataset and will have some variance. With our reference implementation we obtained 82-83% maximal dev denotation accuracy on average, with a range of 78% to 85% (over 40 trials)."
   ]
  },
  {
   "cell_type": "code",
   "execution_count": 0,
   "metadata": {
    "colab": {
     "base_uri": "https://localhost:8080/",
     "height": 904,
     "referenced_widgets": [
      "d3321e8e9fa840baafc1461113d3cf75",
      "abbc0a4b5f874a1799db7ae3db0c25f1",
      "385e5783797a406dba7fb9e9c0197eef",
      "640df80de94d4922bc60415667a0738c",
      "6a352aad89504a57a5cfe8b283db9dcf",
      "8387432806e9452a81044570df5f6f92",
      "c013127cdae94d73839e2bd844954ad5",
      "7baec9272a334c02a986fdeb332c7168",
      "ac462ba1f9bf4b8aae969f2852805241",
      "4eb2fdf770f94fa1a42ff772e1c9b8b0",
      "8479b1ca05594b8c89461533f6db3269",
      "cc5274e6a30645f984a4d6f18ec690da",
      "29b1a1d28e5f48c5b8167480fc352e8f",
      "760344f5d8514ff38f51e8a852fbc33b",
      "76670c40d9f849d796823f7bb23a124c",
      "1ca0721d4385455d89c7c23c101e04f6",
      "6e0a5a02b3c64639b018566a3109a2f5",
      "ea88762fe75c40699f36bbcea21b5739",
      "b699d8dde32e459cb550d80d1790ef22",
      "0e466f749b4c4a509c3abddaa9dec218",
      "de5423e55b6743bdbabcfc7e36e4ccd5",
      "48f188b8e62b440b883f984928831a94",
      "feba34bd916e4d3fb5c00fa08bd8ca7a",
      "03e895284e1a442c88a1f189c6d701fa",
      "0680116e4327438cb16adb7c6c8b0d31",
      "df23820e10a1495f825ccce7db3d6958",
      "b94e2aecece64d1f8524545c46ee4516",
      "7db61e3df9674d268e60c045dacf9a08",
      "d4b6fe18695c4ab993bf38e586237676",
      "ce442356dc4b4a028e91cd90d4b780ab",
      "918d30f781a14a46aebc161eed1d6f70",
      "c6d5ff0c5df2466a9dd22c73773fb6b6",
      "d45ced5a3ecf4d4eb221fe724f7d8799",
      "11192017be964503afef71b6437623b9",
      "42c58d7cc49645f9994a2cb1668eba48",
      "81a7796dd21f47db87d6f8c4218f01ba",
      "f89a045545d5406d9da74dfee303fdcc",
      "32efbaf24078468ca59c6d3083bbc475",
      "6f583c7181dc45febd214fef7446178f",
      "d3e6d8ff9ac84c46a6369e6aa297b899",
      "d853b4cf121140b2a0af32406c6e90fc",
      "4e8af0aa30ed4017abfc596223599a14",
      "551d5d6d55194397b8fc1760a3d724ca",
      "089ade767e1648e386d91070d0962e98",
      "03d0f6894ae44469901c7d110446edaa",
      "345f2b3eb35a4087980499c5212adcf3",
      "a3d7302252a44a3db7fd8ce70739b6b1",
      "5a3ccecdfaee4cbd8faeff3df7bec3a8",
      "ce7acda6f37749d5b6e9ede84bb496fc",
      "07cecd994fe54e96a74bbfaa9bec1715",
      "bf74890e362d457f84c8c884d1af44e5",
      "eb6dca02a0df4f3c868d1d51237b8597",
      "f2fe4312d12a476ead372db6fd875fa8",
      "2c75dbc719984db4b203d06d20fc7682",
      "076e11cb30e24b359910ab19ea4b9568",
      "1185c695d6704f4eae7b2a409562f3c4",
      "10c8ba6c76474a2d94c5b91d3e323d44",
      "76d90b7a80104b40add4863d2dbdae4c",
      "6b86856e599b4ec38b5addd4db6d2c81",
      "e401922a8b7b4f3daa0eb4bff56286e4",
      "d4d177c5aad549cf89e61387d4482485",
      "5d6f85df84e84f879b5b5c657cab8f85",
      "969d57728aa943509e6c97b1ebac935e",
      "1a3a7b8b4b5341bbbd314a1866f824fb",
      "399ae87299d14dc0a6cb02bf9c1ce11d",
      "b58fd8643319463aa56ad678e5bddb81",
      "1485ba757b1e4d92bbe0f3ece7f95b63",
      "d7860722a86849f3a7f1ac8b1d1072db",
      "b988b3cae8cc44918fd9d88300b00364",
      "244e92ab47a140bfbddf227f4843a293",
      "2f8d1f21abd94b65a272be917c55fb95",
      "5876cb4980624480b48a5f23ce416bba",
      "7c5142ea3ed24e6691046465a42d24dc",
      "3d22f160967345149114a79a3f5d9961",
      "0ade5d2b74e94c0d8adb15cf72457da8",
      "18d6b3d1dd5b4609a2b72a0e117b984a",
      "3ea0f4b331074fe6beb6512b453cea79",
      "5e97b667cff44a358721d4bc441fae25",
      "5084597c374b44cc8502c7fa236edeef",
      "fbe9605473ac4557af164c91795e6b0d",
      "da61f52a537548ebb445dfe65542b957",
      "cf27909ffa61425b97b88e025dac79a3",
      "3d9f41b6eb98485c9870011884b92556",
      "fdd2b7dbd8644063844df7309f766068",
      "a88a6201a6a44c62b831df297897c374",
      "1926f66ae40f46298c5309a1416d304f",
      "3676aa8881dd4405a04888473bd78e09",
      "820b6564ecf64b5e8988a20c17d7ef3d"
     ]
    },
    "colab_type": "code",
    "id": "YeJGXfuV1StB",
    "outputId": "3f4110e1-f741-419c-8291-4fdec7e1abec"
   },
   "outputs": [
    {
     "data": {
      "application/vnd.jupyter.widget-view+json": {
       "model_id": "d3321e8e9fa840baafc1461113d3cf75",
       "version_major": 2,
       "version_minor": 0
      },
      "text/plain": [
       "HBox(children=(FloatProgress(value=0.0, description='training', max=10.0, style=ProgressStyle(description_widt…"
      ]
     },
     "metadata": {
      "tags": []
     },
     "output_type": "display_data"
    },
    {
     "data": {
      "application/vnd.jupyter.widget-view+json": {
       "model_id": "ac462ba1f9bf4b8aae969f2852805241",
       "version_major": 2,
       "version_minor": 0
      },
      "text/plain": [
       "HBox(children=(FloatProgress(value=0.0, description='epoch 1', max=133.0, style=ProgressStyle(description_widt…"
      ]
     },
     "metadata": {
      "tags": []
     },
     "output_type": "display_data"
    },
    {
     "name": "stdout",
     "output_type": "stream",
     "text": [
      "\n",
      "Obtained a new best development accuracy of 0.780, saving model checkpoint to supervised_model.pt...\n"
     ]
    },
    {
     "data": {
      "application/vnd.jupyter.widget-view+json": {
       "model_id": "6e0a5a02b3c64639b018566a3109a2f5",
       "version_major": 2,
       "version_minor": 0
      },
      "text/plain": [
       "HBox(children=(FloatProgress(value=0.0, description='epoch 2', max=133.0, style=ProgressStyle(description_widt…"
      ]
     },
     "metadata": {
      "tags": []
     },
     "output_type": "display_data"
    },
    {
     "name": "stdout",
     "output_type": "stream",
     "text": [
      "\n"
     ]
    },
    {
     "data": {
      "application/vnd.jupyter.widget-view+json": {
       "model_id": "0680116e4327438cb16adb7c6c8b0d31",
       "version_major": 2,
       "version_minor": 0
      },
      "text/plain": [
       "HBox(children=(FloatProgress(value=0.0, description='epoch 3', max=133.0, style=ProgressStyle(description_widt…"
      ]
     },
     "metadata": {
      "tags": []
     },
     "output_type": "display_data"
    },
    {
     "name": "stdout",
     "output_type": "stream",
     "text": [
      "\n"
     ]
    },
    {
     "data": {
      "application/vnd.jupyter.widget-view+json": {
       "model_id": "d45ced5a3ecf4d4eb221fe724f7d8799",
       "version_major": 2,
       "version_minor": 0
      },
      "text/plain": [
       "HBox(children=(FloatProgress(value=0.0, description='epoch 4', max=133.0, style=ProgressStyle(description_widt…"
      ]
     },
     "metadata": {
      "tags": []
     },
     "output_type": "display_data"
    },
    {
     "name": "stdout",
     "output_type": "stream",
     "text": [
      "\n",
      "Obtained a new best development accuracy of 0.805, saving model checkpoint to supervised_model.pt...\n"
     ]
    },
    {
     "data": {
      "application/vnd.jupyter.widget-view+json": {
       "model_id": "d853b4cf121140b2a0af32406c6e90fc",
       "version_major": 2,
       "version_minor": 0
      },
      "text/plain": [
       "HBox(children=(FloatProgress(value=0.0, description='epoch 5', max=133.0, style=ProgressStyle(description_widt…"
      ]
     },
     "metadata": {
      "tags": []
     },
     "output_type": "display_data"
    },
    {
     "name": "stdout",
     "output_type": "stream",
     "text": [
      "\n"
     ]
    },
    {
     "data": {
      "application/vnd.jupyter.widget-view+json": {
       "model_id": "ce7acda6f37749d5b6e9ede84bb496fc",
       "version_major": 2,
       "version_minor": 0
      },
      "text/plain": [
       "HBox(children=(FloatProgress(value=0.0, description='epoch 6', max=133.0, style=ProgressStyle(description_widt…"
      ]
     },
     "metadata": {
      "tags": []
     },
     "output_type": "display_data"
    },
    {
     "name": "stdout",
     "output_type": "stream",
     "text": [
      "\n"
     ]
    },
    {
     "data": {
      "application/vnd.jupyter.widget-view+json": {
       "model_id": "10c8ba6c76474a2d94c5b91d3e323d44",
       "version_major": 2,
       "version_minor": 0
      },
      "text/plain": [
       "HBox(children=(FloatProgress(value=0.0, description='epoch 7', max=133.0, style=ProgressStyle(description_widt…"
      ]
     },
     "metadata": {
      "tags": []
     },
     "output_type": "display_data"
    },
    {
     "name": "stdout",
     "output_type": "stream",
     "text": [
      "\n"
     ]
    },
    {
     "data": {
      "application/vnd.jupyter.widget-view+json": {
       "model_id": "399ae87299d14dc0a6cb02bf9c1ce11d",
       "version_major": 2,
       "version_minor": 0
      },
      "text/plain": [
       "HBox(children=(FloatProgress(value=0.0, description='epoch 8', max=133.0, style=ProgressStyle(description_widt…"
      ]
     },
     "metadata": {
      "tags": []
     },
     "output_type": "display_data"
    },
    {
     "name": "stdout",
     "output_type": "stream",
     "text": [
      "\n"
     ]
    },
    {
     "data": {
      "application/vnd.jupyter.widget-view+json": {
       "model_id": "7c5142ea3ed24e6691046465a42d24dc",
       "version_major": 2,
       "version_minor": 0
      },
      "text/plain": [
       "HBox(children=(FloatProgress(value=0.0, description='epoch 9', max=133.0, style=ProgressStyle(description_widt…"
      ]
     },
     "metadata": {
      "tags": []
     },
     "output_type": "display_data"
    },
    {
     "name": "stdout",
     "output_type": "stream",
     "text": [
      "\n"
     ]
    },
    {
     "data": {
      "application/vnd.jupyter.widget-view+json": {
       "model_id": "da61f52a537548ebb445dfe65542b957",
       "version_major": 2,
       "version_minor": 0
      },
      "text/plain": [
       "HBox(children=(FloatProgress(value=0.0, description='epoch 10', max=133.0, style=ProgressStyle(description_wid…"
      ]
     },
     "metadata": {
      "tags": []
     },
     "output_type": "display_data"
    },
    {
     "name": "stdout",
     "output_type": "stream",
     "text": [
      "\n",
      "\n",
      "Maximal development accuracy of 0.805\n",
      "Reloading best model checkpoint from supervised_model.pt...\n"
     ]
    }
   ],
   "source": [
    "train(supervised_model, train_dataset, dev_dataset, 'supervised_model.pt', num_epochs=10)"
   ]
  },
  {
   "cell_type": "markdown",
   "metadata": {
    "colab_type": "text",
    "id": "_ylik2--8tJ_"
   },
   "source": [
    "We'll now view the model predictions on the dev set."
   ]
  },
  {
   "cell_type": "code",
   "execution_count": 0,
   "metadata": {
    "colab": {
     "base_uri": "https://localhost:8080/",
     "height": 1000
    },
    "colab_type": "code",
    "id": "t7KhfcFD2YeS",
    "outputId": "84c16729-b42a-467c-de61-21e20c06adae"
   },
   "outputs": [
    {
     "name": "stdout",
     "output_type": "stream",
     "text": [
      "dev example 1\n",
      "dev question: what states are there ?\n",
      "dev true LF: (lambda $w (and (state $w)))\n",
      "dev pred LF: (lambda $w (and (state $w) (state $w)))\n",
      "dev true denotation: {'virginia', 'west_virginia', 'north_carolina'}\n",
      "dev pred denotation: {'virginia', 'west_virginia', 'north_carolina'}\n",
      "dev denotation match: True\n",
      "\n",
      "dev example 6\n",
      "dev question: what is the capital of virginia ?\n",
      "dev true LF: (lambda $w (exists $x (and (capital-rel $w $x) (kb-virginia $x))))\n",
      "dev pred LF: (lambda $w (exists $x (and (capital $w) (capital-rel $w $x) (kb-virginia $x))))\n",
      "dev true denotation: {'richmond'}\n",
      "dev pred denotation: set()\n",
      "dev denotation match: False\n",
      "\n",
      "dev example 11\n",
      "dev question: what cities in west virginia ?\n",
      "dev true LF: (lambda $w (exists $x (and (city $w) (in-rel $w $x) (kb-west_virginia $x))))\n",
      "dev pred LF: (lambda $w (exists $x (and (city $w) (in-rel $w $x) (kb-virginia $x))))\n",
      "dev true denotation: set()\n",
      "dev pred denotation: {'richmond', 'virginia_beach'}\n",
      "dev denotation match: False\n",
      "\n",
      "dev example 16\n",
      "dev question: what state is south of west virginia ?\n",
      "dev true LF: (lambda $w (exists $x (and (state $w) (south-rel $w $x) (kb-west_virginia $x))))\n",
      "dev pred LF: (lambda $w (exists $x (and (state $w) (south-rel $w $x) (kb-west_virginia $x))))\n",
      "dev true denotation: {'virginia'}\n",
      "dev pred denotation: {'virginia'}\n",
      "dev denotation match: True\n",
      "\n",
      "dev example 21\n",
      "dev question: what ocean borders virginia ?\n",
      "dev true LF: (lambda $w (exists $x (and (ocean $w) (border-rel $w $x) (kb-virginia $x))))\n",
      "dev pred LF: (lambda $w (exists $x (and (ocean $w) (border-rel $w $x) (kb-virginia $x))))\n",
      "dev true denotation: {'atlantic_ocean'}\n",
      "dev pred denotation: {'atlantic_ocean'}\n",
      "dev denotation match: True\n",
      "\n",
      "dev example 26\n",
      "dev question: is virginia beach inside of west virginia ?\n",
      "dev true LF: (lambda $w (exists $x (and (kb-virginia_beach $w) (inside-rel $w $x) (kb-west_virginia $x))))\n",
      "dev pred LF: (lambda $w (exists $x (and (kb-west_virginia $w) (inside-rel $w $x) (kb-west_virginia $x))))\n",
      "dev true denotation: set()\n",
      "dev pred denotation: set()\n",
      "dev denotation match: True\n",
      "\n",
      "dev example 31\n",
      "dev question: is the atlantic ocean in west virginia ?\n",
      "dev true LF: (lambda $w (exists $x (and (kb-atlantic_ocean $w) (in-rel $w $x) (kb-west_virginia $x))))\n",
      "dev pred LF: (lambda $w (exists $x (and (kb-atlantic_ocean $w) (in-rel $w $x) (kb-west_virginia $x))))\n",
      "dev true denotation: set()\n",
      "dev pred denotation: set()\n",
      "dev denotation match: True\n",
      "\n",
      "dev example 36\n",
      "dev question: what cities are in virginia ?\n",
      "dev true LF: (lambda $w (exists $x (and (city $w) (in-rel $w $x) (kb-virginia $x))))\n",
      "dev pred LF: (lambda $w (exists $x (and (city $w) (in-rel $w $x) (kb-virginia $x))))\n",
      "dev true denotation: {'richmond'}\n",
      "dev pred denotation: {'richmond'}\n",
      "dev denotation match: True\n",
      "\n",
      "dev example 41\n",
      "dev question: is virginia east of west virginia ?\n",
      "dev true LF: (lambda $w (exists $x (and (kb-virginia $w) (east-rel $w $x) (kb-west_virginia $x))))\n",
      "dev pred LF: (lambda $w (exists $x (and (kb-west_virginia $w) (east-rel $w $x) (kb-virginia $x))))\n",
      "dev true denotation: {'virginia'}\n",
      "dev pred denotation: set()\n",
      "dev denotation match: False\n",
      "\n"
     ]
    },
    {
     "data": {
      "text/plain": [
       "{'dev_denotation_acc': 0.8048780487804879}"
      ]
     },
     "execution_count": 341,
     "metadata": {
      "tags": []
     },
     "output_type": "execute_result"
    }
   ],
   "source": [
    "evaluate_predictions(\n",
    "  dev_dataset, 'dev', execute,\n",
    "  prediction_function=make_beam_prediction_function(supervised_model),\n",
    "  display_predictions_frequency=5\n",
    ")"
   ]
  },
  {
   "cell_type": "markdown",
   "metadata": {
    "colab_type": "text",
    "id": "lSmNww2zIeyl"
   },
   "source": [
    "## Training with Latent Logical Forms"
   ]
  },
  {
   "cell_type": "markdown",
   "metadata": {
    "colab_type": "text",
    "id": "YKjm9f9-l5wo"
   },
   "source": [
    "Now, we will relax the assumption that we have logical forms available, and train our model only from question--answer pairs, the databases, and the execution function. This setting, _training from denotations_, requires less supervision but introduces problems of search, delayed reward, and ambiguity, as there are many possible logical forms that can execute to a given denotation. We'll use a classic method, _maximum marginal likelihood_; if you're interested in other methods, see [Misra et al. 2018](https://dipendramisra.com/papers/mchy-emnlp.2018.pdf) and [Guu et al. 2017](https://arxiv.org/abs/1704.07926) for a survey and connections to policy gradient from reinforcement learning.\n",
    "\n",
    "Let $x$ be a question, $z$ be the denotation for the question, and $d$ be a database. Our model gives a distribution $p_\\theta(y \\mid x)$ for logical forms $y$.  Maximum marginal likelihood (approximately) maximizes the log probability of producing the correct denotation $z$, marginalized over logical forms. In practice, we can't sum over all possible logical forms, so we'll approximate using a set of logical forms $\\mathcal{Y}$ returned by beam search:\n",
    "\n",
    "$$J_{MML} = \\log p(z \\mid x, d) \\approx \\log \\sum_{y \\in \\mathcal{Y}} p(z \\mid y, d) p_\\theta(y \\mid x)$$\n",
    "\n",
    "Our execution function (given by the `execute` function we've defined above) is deterministic, and we have $p(z \\mid y, d) = 1$ or $0$ depending on whether $y$ denotes $z$ in the database. We can use this fact to simplify the objective: letting $\\mathcal{C}$ be the subset of _correct_ logical forms $\\mathcal{Y}$, that evaluate to $z$, we have\n",
    "\n",
    "$$J_{MML} = \\log \\sum_{y \\in \\mathcal{C}} p_\\theta(y \\mid x)$$\n",
    "\n",
    "Implement this in the `latent_loss` method below, returning $-J_{MML}$ as the loss, as well as the number of logical forms in $\\mathcal{C}$ (`num_correct`) and the number of logical forms found by search (`num_instances`).\n",
    "\n",
    "__Implementation tip__: for numerical stability, perform calculations in log space using the logical forms' log probabilities and `torch.logsumexp`."
   ]
  },
  {
   "cell_type": "code",
   "execution_count": 0,
   "metadata": {
    "colab": {},
    "colab_type": "code",
    "id": "7EEOPgQ3EmUO"
   },
   "outputs": [],
   "source": [
    "def latent_loss(model, instance, beam_size):\n",
    "  true_denotation = instance['denotation']\n",
    "  world = instance['world']\n",
    "\n",
    "  # contains tuples of model states and total log probabilities returned by beam search: [(model_state: ModelState, log_prob: tensor)]\n",
    "  # some model states may correspond to incomplete logical forms, as when repeated literals are not allowed, it's possible for the model to reach a state where no valid actions are available\n",
    "  # use model_state.parser_state.is_complete to check whether a parser state corresponds to a complete logical form, before attempting to convert it to a logical form\n",
    "  candidates = beam_search(model, instance, beam_size)\n",
    "\n",
    "  num_correct = 0\n",
    "  num_instances = len(candidates)\n",
    "\n",
    "  L = []\n",
    "  for model_state, total_log_prob in candidates:\n",
    "    if model_state.parser_state.is_complete:\n",
    "      logical_form = model_state.parser_state.to_logical_form()\n",
    "      denotation = execute(logical_form, world)\n",
    "      if denotation == true_denotation:\n",
    "          num_correct += 1\n",
    "          L.append(total_log_prob)\n",
    "    else:\n",
    "        num_instance -= 1\n",
    "  if len(L) > 0:\n",
    "    loss = - torch.logsumexp(torch.stack(L), -1)\n",
    "  else:\n",
    "    loss = - np.inf\n",
    "\n",
    "  if num_correct == 0:\n",
    "    # no update if no correct examples were found; define a Variable to not break the backprop and update code\n",
    "    return torch.autograd.Variable(torch.tensor(0.0), requires_grad=True), num_correct, num_instances\n",
    "  else:\n",
    "    return loss, num_correct, num_instances\n"
   ]
  },
  {
   "cell_type": "markdown",
   "metadata": {
    "colab_type": "text",
    "id": "NtniWeF9GA4o"
   },
   "source": [
    "You can sanity check your loss by training and evaluating on a restricted version of the dataset which contains only logical forms with at most two variables and two literals. These examples will be a bit easier, and the constrains on logical forms will allow us to reduce the search space and train faster."
   ]
  },
  {
   "cell_type": "code",
   "execution_count": 0,
   "metadata": {
    "colab": {
     "base_uri": "https://localhost:8080/",
     "height": 425
    },
    "colab_type": "code",
    "id": "LLJY6gTwDuYn",
    "outputId": "7e325a3d-db1b-4854-f22d-2ffe6ff7fdbc"
   },
   "outputs": [
    {
     "name": "stdout",
     "output_type": "stream",
     "text": [
      "40 train instances with maximum 2 variables and 2 literals\n",
      "9 dev instances with maximum 2 variables and 2 literals\n",
      "\n",
      "question           : what states are there ?\n",
      "answer             : virginia,west_virginia,north_carolina\n",
      "logical_form       : (lambda $w (and (state $w)))\n",
      "world              : <World: va with 6 entities, 6 categories, 72 relations>\n",
      "possible_predicates: ['state']\n",
      "denotation         : {'virginia', 'west_virginia', 'north_carolina'}\n",
      "\n",
      "question           : what 's the capital of virginia ?\n",
      "answer             : richmond\n",
      "logical_form       : (lambda $w (exists $x (and (capital-rel $w $x) (kb-virginia $x))))\n",
      "world              : <World: va with 6 entities, 6 categories, 72 relations>\n",
      "possible_predicates: ['capital', 'capital-rel', 'kb-virginia', 'kb-virginia_beach', 'kb-west_virginia']\n",
      "denotation         : {'richmond'}\n",
      "\n",
      "question           : what oceans are there ?\n",
      "answer             : atlantic_ocean\n",
      "logical_form       : (lambda $w (and (ocean $w)))\n",
      "world              : <World: va with 6 entities, 6 categories, 72 relations>\n",
      "possible_predicates: ['ocean']\n",
      "denotation         : {'atlantic_ocean'}\n",
      "\n"
     ]
    }
   ],
   "source": [
    "def is_complex_lf(logical_form):\n",
    "  if len(ParserState.from_logical_form(logical_form).variables_introduced()) > 2:\n",
    "    return True\n",
    "  if ParserState.from_logical_form(logical_form).completed_literal_stack.size > 2:\n",
    "    return True\n",
    "  return False\n",
    "\n",
    "simple_train_dataset = GeoDataset(TRAIN_STATES, word_to_embedding, logical_form_exclude_function=is_complex_lf)\n",
    "simple_dev_dataset = GeoDataset(DEV_STATES, word_to_embedding, logical_form_exclude_function=is_complex_lf)\n",
    "print('{} train instances with maximum 2 variables and 2 literals'.format(len(simple_train_dataset)))\n",
    "print('{} dev instances with maximum 2 variables and 2 literals'.format(len(simple_dev_dataset)))\n",
    "print()\n",
    "for i in range(3):\n",
    "  print_instance(simple_dev_dataset[i])\n",
    "  print()"
   ]
  },
  {
   "cell_type": "code",
   "execution_count": 0,
   "metadata": {
    "colab": {},
    "colab_type": "code",
    "id": "uHVSx83KD7Iz"
   },
   "outputs": [],
   "source": [
    "simple_latent_model = Model(max_vars=2, max_literals=2)"
   ]
  },
  {
   "cell_type": "markdown",
   "metadata": {
    "colab_type": "text",
    "id": "2VJdX8GmsoTE"
   },
   "source": [
    "The following cell will train your model from denotations alone on these simplified logical forms. \n",
    "\n",
    "With beam size 100, if your `latent_loss` implementation is correct, you should expect to see `train_loss` values roughly between 0.5 and 2 at the end of 10 epochs (note that the magnitude of the loss will change with varying number of candidates).\n",
    "\n",
    "Our implementation obtains _training_ denotation accuracies between 80% and 100%, and dev denotation accuracies of at least 60% by the end of 10 epochs (but note there are only 9 dev examples when filtering the logical forms in this way! so don't be surprised if this score varies widely)."
   ]
  },
  {
   "cell_type": "code",
   "execution_count": 0,
   "metadata": {
    "colab": {
     "base_uri": "https://localhost:8080/",
     "height": 624,
     "referenced_widgets": [
      "e5b25b48ff2b4b5b87c471238b27ff1c",
      "b3860056d981495bb209085534442638",
      "1c3f06618ecf46cfa2613be7d56a2e65",
      "65fd64afff9848b387edcf2eb874d89b",
      "c3ae226ff22946ffae64659b3e3d6d63",
      "1fdfa5971b1e42558ac0f0f728a2e623",
      "f99fc3d3f90d4e34989722aee0fcac9d",
      "8d55b5f4a47c4a3ab9d26cfb1b183bdb",
      "cd3e85c0ad624fd195604cbc22118270",
      "43cebe7c50da441d86cd606bbff635ef",
      "e5d81cbcedec417faa64a46816109321",
      "dad82ee85d0047828a75a53a1638af90",
      "c7f3833de53d479c8fffb4dd20d02685",
      "bd92ba3ee1cb47e8905df3b7694f41c1",
      "9d6362d7e8dd4893b4409b317779e11f",
      "ecdc050f5e4c455da2ca527d1a5361cd",
      "6bb6ab6133cd4f49a552abfb856e4980",
      "ea2e6ba804c2473face777ba5076079e",
      "c58b524d59004f8198361cef88ba0255",
      "91e3a407070c438786a230e7032af51c",
      "8a5155136d474c97bdb646b368573cee",
      "79ce117cc1294f718bb662f7de6fc05b",
      "3b197e78eef04412860458ca748aa396",
      "d4b24041104c489bb204c774414b1ee0",
      "bc8268960dfa477b83a348d53f7f8292",
      "117265995dd144f5a430206293a7d778",
      "7ab44b458e664843ad3dafd2d05ba8a0",
      "f2a5781177dd49a8a85d5aac1d749796",
      "ab2f121f71fe421697de7503d7322aa8",
      "c957151f9a3548b6b0dedacf2075d51b",
      "9aa0c14295894862b119a9e844fa031a",
      "6b4ca4926eee4985a3a1df6d98beddc7",
      "7f5862c94a4549528c0aa021bfad65e5",
      "1b55be93359248fdb2ae4c6ea89f19fb",
      "544a770c79d848b58e6bb7bd9732f0eb",
      "a9f18fa8538d4012a01adcf4cc43e0be",
      "fb9dbe59a5b34ddf95cd61402fd720ad",
      "0be29cb1ac6d4f98b62ab9d33dc7eaf5",
      "6912ef4ed48d4a248591fed10594b03a",
      "7537bfc0edcf46d1a91470838609feee",
      "34787f1f7623461f860a3ba4d319d566",
      "2d0c09b6dc3b41f2a096cc405668aa1d",
      "2392fa4d98804567bb7b4a34632a16c1",
      "8aeeada067b4403384df48b81cd42816",
      "8484ea92ed74499aa1316c5382887571",
      "02e637f53ec441e6a764cbce888d0677",
      "e3fa366185b546c9a0636b262ea05f73",
      "07beb667bc5541d992cb06ac2b5859eb",
      "ec0b06ae4f624f388f8accf81f98ba06",
      "c91e0329c7e94ec796652b49df29497c",
      "c8bf177935ce485a8f277203322aaee7",
      "ea3368f8a9bc453f81082d1db2a741fb",
      "84e5896e89114f8cb8a155cda7d45135",
      "1340977801354b39a06e751d5deee860",
      "cd81b6f8fb7f4109961582fd54e12e6e",
      "836a699ff7534c7cbf4c496897ed68ae",
      "928af21811bd48bfbf53beb2f7fdafa6",
      "c14bda4c11f64290bb44f1c260c27fff",
      "6f6346ed55d54cbe8ce320bec2f79e82",
      "89590a13e7994f83ab5f8dd9673d944c",
      "30cc0ac5e99c4b759fb085c89e189336",
      "18717761630d44219046fd86016b3e42",
      "af5c5feb875841ad9c8e36f8cfb38109",
      "f59886b0d9434e83950a9571eb6f079c",
      "dfdadd3f79b94d23b25d838a8aa6e805",
      "d532cffebd8f4a64bef5e788a76882c8",
      "974452a99c954c1483a74bd410456285",
      "58d3a92675f44fe881f1a2f557abe5f0",
      "b7297b712f0f42418164ddae564901d7",
      "2555af77955848d0ba4d995b37a75a2d",
      "f50490528bd348eb9689288477cbb6ab",
      "5b0484e3e1bb47fda30740ce2df5555f",
      "dc5b817d65e84a2086eb68d5569c7b65",
      "7cc48c4c7d6c46148b69d55eb22f3c72",
      "6628e48022834bd3907c2dee2b4831a9",
      "43901a34f4b44645bfb1c64bed5efa9f",
      "f1433dc5699a489e8cc6dd6449f82d38",
      "31789a6f02ca4471b7259e875b9ec1ef",
      "e66c6126648e4224a5470f97c1e6bfcc",
      "3edcef5945ee4b2f958a14e339c0ee0a",
      "e495b62133184788b0e13007803bd596",
      "349e02b3106f4e139974d387aeb49e8a",
      "25820410c2e74aadb339084c4641ffb4",
      "b6d72b742e634926bb7837c9d30f5211",
      "96952d85f6284b92aaf3d443e7bf47d0",
      "e805155377e94b3eac6050ff56beef70",
      "25c755d5d9d74409b6c92efcaf213a19",
      "d85c2562490f4dfd984640b43e6849f0"
     ]
    },
    "colab_type": "code",
    "id": "-l3a3OLtEBxc",
    "outputId": "71f3010a-6ac2-4713-f582-bb39b66a26a1"
   },
   "outputs": [
    {
     "data": {
      "application/vnd.jupyter.widget-view+json": {
       "model_id": "e5b25b48ff2b4b5b87c471238b27ff1c",
       "version_major": 2,
       "version_minor": 0
      },
      "text/plain": [
       "HBox(children=(FloatProgress(value=0.0, description='training', max=10.0, style=ProgressStyle(description_widt…"
      ]
     },
     "metadata": {
      "tags": []
     },
     "output_type": "display_data"
    },
    {
     "data": {
      "application/vnd.jupyter.widget-view+json": {
       "model_id": "cd3e85c0ad624fd195604cbc22118270",
       "version_major": 2,
       "version_minor": 0
      },
      "text/plain": [
       "HBox(children=(FloatProgress(value=0.0, description='epoch 1', max=40.0, style=ProgressStyle(description_width…"
      ]
     },
     "metadata": {
      "tags": []
     },
     "output_type": "display_data"
    },
    {
     "name": "stdout",
     "output_type": "stream",
     "text": [
      "\n",
      "Obtained a new best development accuracy of 0.556, saving model checkpoint to simple_latent_model.pt...\n"
     ]
    },
    {
     "data": {
      "application/vnd.jupyter.widget-view+json": {
       "model_id": "6bb6ab6133cd4f49a552abfb856e4980",
       "version_major": 2,
       "version_minor": 0
      },
      "text/plain": [
       "HBox(children=(FloatProgress(value=0.0, description='epoch 2', max=40.0, style=ProgressStyle(description_width…"
      ]
     },
     "metadata": {
      "tags": []
     },
     "output_type": "display_data"
    },
    {
     "name": "stdout",
     "output_type": "stream",
     "text": [
      "\n"
     ]
    },
    {
     "data": {
      "application/vnd.jupyter.widget-view+json": {
       "model_id": "bc8268960dfa477b83a348d53f7f8292",
       "version_major": 2,
       "version_minor": 0
      },
      "text/plain": [
       "HBox(children=(FloatProgress(value=0.0, description='epoch 3', max=40.0, style=ProgressStyle(description_width…"
      ]
     },
     "metadata": {
      "tags": []
     },
     "output_type": "display_data"
    },
    {
     "name": "stdout",
     "output_type": "stream",
     "text": [
      "\n",
      "Obtained a new best development accuracy of 1.000, saving model checkpoint to simple_latent_model.pt...\n"
     ]
    },
    {
     "data": {
      "application/vnd.jupyter.widget-view+json": {
       "model_id": "7f5862c94a4549528c0aa021bfad65e5",
       "version_major": 2,
       "version_minor": 0
      },
      "text/plain": [
       "HBox(children=(FloatProgress(value=0.0, description='epoch 4', max=40.0, style=ProgressStyle(description_width…"
      ]
     },
     "metadata": {
      "tags": []
     },
     "output_type": "display_data"
    },
    {
     "name": "stdout",
     "output_type": "stream",
     "text": [
      "\n"
     ]
    },
    {
     "data": {
      "application/vnd.jupyter.widget-view+json": {
       "model_id": "34787f1f7623461f860a3ba4d319d566",
       "version_major": 2,
       "version_minor": 0
      },
      "text/plain": [
       "HBox(children=(FloatProgress(value=0.0, description='epoch 5', max=40.0, style=ProgressStyle(description_width…"
      ]
     },
     "metadata": {
      "tags": []
     },
     "output_type": "display_data"
    },
    {
     "name": "stdout",
     "output_type": "stream",
     "text": [
      "\n"
     ]
    },
    {
     "data": {
      "application/vnd.jupyter.widget-view+json": {
       "model_id": "ec0b06ae4f624f388f8accf81f98ba06",
       "version_major": 2,
       "version_minor": 0
      },
      "text/plain": [
       "HBox(children=(FloatProgress(value=0.0, description='epoch 6', max=40.0, style=ProgressStyle(description_width…"
      ]
     },
     "metadata": {
      "tags": []
     },
     "output_type": "display_data"
    },
    {
     "name": "stdout",
     "output_type": "stream",
     "text": [
      "\n"
     ]
    },
    {
     "data": {
      "application/vnd.jupyter.widget-view+json": {
       "model_id": "928af21811bd48bfbf53beb2f7fdafa6",
       "version_major": 2,
       "version_minor": 0
      },
      "text/plain": [
       "HBox(children=(FloatProgress(value=0.0, description='epoch 7', max=40.0, style=ProgressStyle(description_width…"
      ]
     },
     "metadata": {
      "tags": []
     },
     "output_type": "display_data"
    },
    {
     "name": "stdout",
     "output_type": "stream",
     "text": [
      "\n"
     ]
    },
    {
     "data": {
      "application/vnd.jupyter.widget-view+json": {
       "model_id": "dfdadd3f79b94d23b25d838a8aa6e805",
       "version_major": 2,
       "version_minor": 0
      },
      "text/plain": [
       "HBox(children=(FloatProgress(value=0.0, description='epoch 8', max=40.0, style=ProgressStyle(description_width…"
      ]
     },
     "metadata": {
      "tags": []
     },
     "output_type": "display_data"
    },
    {
     "name": "stdout",
     "output_type": "stream",
     "text": [
      "\n"
     ]
    },
    {
     "data": {
      "application/vnd.jupyter.widget-view+json": {
       "model_id": "dc5b817d65e84a2086eb68d5569c7b65",
       "version_major": 2,
       "version_minor": 0
      },
      "text/plain": [
       "HBox(children=(FloatProgress(value=0.0, description='epoch 9', max=40.0, style=ProgressStyle(description_width…"
      ]
     },
     "metadata": {
      "tags": []
     },
     "output_type": "display_data"
    },
    {
     "name": "stdout",
     "output_type": "stream",
     "text": [
      "\n"
     ]
    },
    {
     "data": {
      "application/vnd.jupyter.widget-view+json": {
       "model_id": "e495b62133184788b0e13007803bd596",
       "version_major": 2,
       "version_minor": 0
      },
      "text/plain": [
       "HBox(children=(FloatProgress(value=0.0, description='epoch 10', max=40.0, style=ProgressStyle(description_widt…"
      ]
     },
     "metadata": {
      "tags": []
     },
     "output_type": "display_data"
    },
    {
     "name": "stdout",
     "output_type": "stream",
     "text": [
      "\n",
      "\n",
      "Maximal development accuracy of 1.000\n",
      "Reloading best model checkpoint from simple_latent_model.pt...\n"
     ]
    }
   ],
   "source": [
    "train(simple_latent_model, simple_train_dataset, simple_dev_dataset, 'simple_latent_model.pt', \n",
    "      num_epochs=10, latent_logical_forms=True, \n",
    "      training_beam_size=100)"
   ]
  },
  {
   "cell_type": "code",
   "execution_count": 0,
   "metadata": {
    "colab": {
     "base_uri": "https://localhost:8080/",
     "height": 1000
    },
    "colab_type": "code",
    "id": "NKq3-CwHycwj",
    "outputId": "a936b647-199e-4773-866a-5e7e474de076"
   },
   "outputs": [
    {
     "name": "stdout",
     "output_type": "stream",
     "text": [
      "dev example 1\n",
      "dev question: what states are there ?\n",
      "dev true LF: (lambda $w (and (state $w)))\n",
      "dev pred LF: (lambda $w (and (state $w) (state $w)))\n",
      "dev true denotation: {'virginia', 'west_virginia', 'north_carolina'}\n",
      "dev pred denotation: {'virginia', 'west_virginia', 'north_carolina'}\n",
      "dev denotation match: True\n",
      "\n",
      "dev example 2\n",
      "dev question: what 's the capital of virginia ?\n",
      "dev true LF: (lambda $w (exists $x (and (capital-rel $w $x) (kb-virginia $x))))\n",
      "dev pred LF: (lambda $x (exists $w (and (kb-virginia $w) (capital-rel $x $w))))\n",
      "dev true denotation: {'richmond'}\n",
      "dev pred denotation: {'richmond'}\n",
      "dev denotation match: True\n",
      "\n",
      "dev example 3\n",
      "dev question: what oceans are there ?\n",
      "dev true LF: (lambda $w (and (ocean $w)))\n",
      "dev pred LF: (lambda $w (and (ocean $w) (ocean $w)))\n",
      "dev true denotation: {'atlantic_ocean'}\n",
      "dev pred denotation: {'atlantic_ocean'}\n",
      "dev denotation match: True\n",
      "\n",
      "dev example 4\n",
      "dev question: what is the capital of virginia ?\n",
      "dev true LF: (lambda $w (exists $x (and (capital-rel $w $x) (kb-virginia $x))))\n",
      "dev pred LF: (lambda $x (exists $w (and (kb-virginia $w) (capital-rel $x $w))))\n",
      "dev true denotation: {'richmond'}\n",
      "dev pred denotation: {'richmond'}\n",
      "dev denotation match: True\n",
      "\n",
      "dev example 5\n",
      "dev question: what is the capital of virginia ?\n",
      "dev true LF: (lambda $w (exists $x (and (capital-rel $w $x) (kb-virginia $x))))\n",
      "dev pred LF: (lambda $x (exists $w (and (kb-virginia $w) (capital-rel $x $w))))\n",
      "dev true denotation: {'richmond'}\n",
      "dev pred denotation: {'richmond'}\n",
      "dev denotation match: True\n",
      "\n",
      "dev example 6\n",
      "dev question: what states are there ?\n",
      "dev true LF: (lambda $w (and (state $w)))\n",
      "dev pred LF: (lambda $w (and (state $w) (state $w)))\n",
      "dev true denotation: {'virginia', 'west_virginia'}\n",
      "dev pred denotation: {'virginia', 'west_virginia'}\n",
      "dev denotation match: True\n",
      "\n",
      "dev example 7\n",
      "dev question: what national parks are there ?\n",
      "dev true LF: (lambda $w (and (park $w)))\n",
      "dev pred LF: (lambda $x (exists $w (and (park $w) (kb-monongahela_national_forest $x))))\n",
      "dev true denotation: {'monongahela_national_forest'}\n",
      "dev pred denotation: {'monongahela_national_forest'}\n",
      "dev denotation match: True\n",
      "\n",
      "dev example 8\n",
      "dev question: what lakes are there ?\n",
      "dev true LF: (lambda $w (and (lake $w)))\n",
      "dev pred LF: (lambda $w (and (lake $w) (lake $w)))\n",
      "dev true denotation: {'tygart_lake'}\n",
      "dev pred denotation: {'tygart_lake'}\n",
      "dev denotation match: True\n",
      "\n",
      "dev example 9\n",
      "dev question: what 's the capital of virginia ?\n",
      "dev true LF: (lambda $w (exists $x (and (capital-rel $w $x) (kb-virginia $x))))\n",
      "dev pred LF: (lambda $x (exists $w (and (kb-virginia $w) (capital-rel $x $w))))\n",
      "dev true denotation: {'richmond'}\n",
      "dev pred denotation: {'richmond'}\n",
      "dev denotation match: True\n",
      "\n"
     ]
    },
    {
     "data": {
      "text/plain": [
       "{'dev_denotation_acc': 1.0}"
      ]
     },
     "execution_count": 354,
     "metadata": {
      "tags": []
     },
     "output_type": "execute_result"
    }
   ],
   "source": [
    "evaluate_predictions(\n",
    "  simple_dev_dataset, 'dev', execute,\n",
    "  prediction_function=make_beam_prediction_function(simple_latent_model),\n",
    "  display_predictions_frequency=1\n",
    ")"
   ]
  },
  {
   "cell_type": "markdown",
   "metadata": {
    "colab_type": "text",
    "id": "iz-6YQ6MLiII"
   },
   "source": [
    "Now, we'll proceed to training on the full dataset with an unrestricted model. The search space is larger here and it may take several epochs before performance starts to increase. While the training loss should consistently decrease, you may see fluctuations in denotation accuracy (both on train and dev) from epoch to epoch. However, you'll likely obtain training denotation accuracies >80% and dev denotation accuracies >70% at some point by epoch 5. Your maximal dev accuracy should be at least 63%, although there is again some variance due to the small dataset size, which is compounded by the variance from training from denotations. Our reference implementation obtained an average maximal dev accuracy of 80%, but ranged between 63% and 90% (over 40 trials). 10 epochs of training should take around 20-30 minutes."
   ]
  },
  {
   "cell_type": "code",
   "execution_count": 0,
   "metadata": {
    "colab": {},
    "colab_type": "code",
    "id": "6kZlEVV8LtTV"
   },
   "outputs": [],
   "source": [
    "latent_model = Model()"
   ]
  },
  {
   "cell_type": "code",
   "execution_count": 0,
   "metadata": {
    "colab": {
     "base_uri": "https://localhost:8080/",
     "height": 692,
     "referenced_widgets": [
      "27ef84ab1e1241b3a566c9b19716a917",
      "2e905c685f6b4699ad486dae0fd8ca5d",
      "2e55be4f1c4643bf87782a46ad2b9241",
      "a2238efc4cf34d08b133d0362340e891",
      "acf6c1ef081641cf942605ec1c8efba4",
      "73d8a90cc4fd491990a393021461810f",
      "0ab232d4371a4ad4ac2cc909c10cb0d9",
      "23b49c83a1a843f8a30feb90c49419d5",
      "3280cbf7f180429083330e8751546066",
      "a17a320a6ef14b92b6c95e44273e4f51",
      "3c114a954a4c4f0e99a45970a116e676",
      "9d330eb6c6634b40b8799547dba8e165",
      "4159bdd7b28942b99b5c9bf9080ef4da",
      "9afc6d0cecba43f283f7900bfb5a7af0",
      "06e0197a1bc8446fb9cef20c370f326a",
      "9efed0bc1691415ea4f7fff1bbc7d6be",
      "07663fcd6c64485785d1394fd2f89b30",
      "3f1b7cf738de477e9b7c6112574c368e",
      "8c25db1a37e440cbb210dc161ce0d757",
      "a0abbbb16ce64c71973d10ba2f5eead2",
      "df71f793661245f09d3cf4166bd267bc",
      "d26ae29d92d84c16bcf4162059c7b3da",
      "d2665f1e26d04fddaa18d7b10a09ad3a",
      "83b4cef7938149a39261d0b9bc4abf55",
      "301b9ef52e574cb3896aca7c1bddbd83",
      "72434edcc66941d191909fd42b146b58",
      "b391d9a312ba4acb9bc9150640e2497c",
      "5e281ca4a66342ba94c3868149f7e546",
      "9880afe4b89a4cc4bbc55d582facb7e6",
      "4f046416fe464ff5b2214d7100b5ef17",
      "1ca930f632c14ac6a0a57d5a03d4bfa5",
      "f2c54c5fbbe04bb3bef378e4995b7bea",
      "9335b85da6ba4d58983fe6ae2074d86f",
      "75e97a5a874b4aeea2422bc42066e3de",
      "0ad4a449f1814eca8d3df4c9709ec805",
      "90de889cb2324be3a055831b9117bd96",
      "405c9f0be87b43318fea2048f75f951d",
      "579c7741369746c396ab9939623ccd73",
      "7f1e86fef65347269673b46581bab70f",
      "b51e2dbb86364f60bdfbf05a71be8f28",
      "2bdd86fa907044369b41e9772da26290",
      "efb788d91cc84e19a834c80b7069a8ff",
      "4895568f98e5415e9e757e28aa9d4c04",
      "a8b74771315d4f15a04164e2a78cd0c4",
      "57b21cfae1134c2f9b1a9bbbe5e0afe8",
      "1f46f69c7bb04e3aae20d9aedf341a45",
      "bff97bd751b94062a06b9a1cdae58390",
      "ae247eea7d2b4b59a3a5a3d735b25801",
      "426fa60ff75f4d8fb8bea2ac185aeba1",
      "dcfe5df552704e8bb8b94864ff45b05e",
      "1930a5f3681a4449ab74f163498eed22",
      "ecc0cc15970549bfa8818f18b17a9ca2",
      "016f10ce61e04ad297ae7ea5c2348c1f",
      "b09cab2dfee44a36a7db9985cf388aae",
      "d8137ea2e76540f6839fff4caa82b918",
      "79bb4e17979e406bbc1790ef11b5137e",
      "134d18e8a44f422e8bacba5ef6f0524f",
      "878e2169a5054fe9ba84cfb6f92c5a13",
      "03f03901017e41b9956a716cdb219aa5",
      "4c11924b82a648dbb09a2bf0359e0718",
      "f7485d8155c249ed824d5275530aa05c",
      "b09bb1405b74469ebff2b9885fd01e48",
      "a8974831d585423b9635828b55e337c9",
      "d82d01a6885a4d7e9ed96fd0cb28e7ca",
      "014e4162279d4db691ab0329e0165f01",
      "346681aa06a64a1d89d9ad0dbfbed05a",
      "e60e2ca1b44249d2a718c6fa60b5690a",
      "d03c85ef8cf9451d886bb9b44129ccce",
      "d70dbe81bc6e4cefab4b40bfbf379f2a",
      "1c02112415834068801f03605d7a6499",
      "02d4c6db86e940359451efb8187c761a",
      "ed930c9765744a038ee8ac57280e2f1a",
      "a6a9c7e1ed73488b99eb2df6ad69cb89",
      "5e54f055e30b44a4a979d27f6cda4e27",
      "fe2530a408954c0684217f16b44f7f84",
      "18c7c6de76fa4372a68c23dbb7d25c65",
      "a02794a213c94d77bfcde5805ea0ac2c",
      "996bed156384441fa1c9f9935f7ddd6b",
      "f5eb403de32b44b2ac9abc4173ac5be3",
      "d3ce7585b60f47a68ef6563da7d0812a",
      "f5321513b7524956b97bbda4c3c5cc78",
      "0678d1af0f464c51b9831b0927e15cde",
      "4c87bbdb7f5d4354b03a0646037db15e",
      "5087ba20ae974abc9744e84411abcf72",
      "51db393e480e4858920b9a9a27844132",
      "3799d558334c4acd830ae1acd6b394c3",
      "f62d3a2bf92a40b69cf72e5e4f1b4f16",
      "a051fa7f8b01471fb8f92df053272171"
     ]
    },
    "colab_type": "code",
    "id": "DoQGZMQuLwk2",
    "outputId": "a955a977-bd26-4fee-c349-b30e739f1b59"
   },
   "outputs": [
    {
     "data": {
      "application/vnd.jupyter.widget-view+json": {
       "model_id": "27ef84ab1e1241b3a566c9b19716a917",
       "version_major": 2,
       "version_minor": 0
      },
      "text/plain": [
       "HBox(children=(FloatProgress(value=0.0, description='training', max=10.0, style=ProgressStyle(description_widt…"
      ]
     },
     "metadata": {
      "tags": []
     },
     "output_type": "display_data"
    },
    {
     "data": {
      "application/vnd.jupyter.widget-view+json": {
       "model_id": "3280cbf7f180429083330e8751546066",
       "version_major": 2,
       "version_minor": 0
      },
      "text/plain": [
       "HBox(children=(FloatProgress(value=0.0, description='epoch 1', max=133.0, style=ProgressStyle(description_widt…"
      ]
     },
     "metadata": {
      "tags": []
     },
     "output_type": "display_data"
    },
    {
     "name": "stdout",
     "output_type": "stream",
     "text": [
      "\n",
      "Obtained a new best development accuracy of 0.439, saving model checkpoint to latent_model.pt...\n"
     ]
    },
    {
     "data": {
      "application/vnd.jupyter.widget-view+json": {
       "model_id": "07663fcd6c64485785d1394fd2f89b30",
       "version_major": 2,
       "version_minor": 0
      },
      "text/plain": [
       "HBox(children=(FloatProgress(value=0.0, description='epoch 2', max=133.0, style=ProgressStyle(description_widt…"
      ]
     },
     "metadata": {
      "tags": []
     },
     "output_type": "display_data"
    },
    {
     "name": "stdout",
     "output_type": "stream",
     "text": [
      "\n",
      "Obtained a new best development accuracy of 0.659, saving model checkpoint to latent_model.pt...\n"
     ]
    },
    {
     "data": {
      "application/vnd.jupyter.widget-view+json": {
       "model_id": "301b9ef52e574cb3896aca7c1bddbd83",
       "version_major": 2,
       "version_minor": 0
      },
      "text/plain": [
       "HBox(children=(FloatProgress(value=0.0, description='epoch 3', max=133.0, style=ProgressStyle(description_widt…"
      ]
     },
     "metadata": {
      "tags": []
     },
     "output_type": "display_data"
    },
    {
     "name": "stdout",
     "output_type": "stream",
     "text": [
      "\n",
      "Obtained a new best development accuracy of 0.732, saving model checkpoint to latent_model.pt...\n"
     ]
    },
    {
     "data": {
      "application/vnd.jupyter.widget-view+json": {
       "model_id": "9335b85da6ba4d58983fe6ae2074d86f",
       "version_major": 2,
       "version_minor": 0
      },
      "text/plain": [
       "HBox(children=(FloatProgress(value=0.0, description='epoch 4', max=133.0, style=ProgressStyle(description_widt…"
      ]
     },
     "metadata": {
      "tags": []
     },
     "output_type": "display_data"
    },
    {
     "name": "stdout",
     "output_type": "stream",
     "text": [
      "\n"
     ]
    },
    {
     "data": {
      "application/vnd.jupyter.widget-view+json": {
       "model_id": "2bdd86fa907044369b41e9772da26290",
       "version_major": 2,
       "version_minor": 0
      },
      "text/plain": [
       "HBox(children=(FloatProgress(value=0.0, description='epoch 5', max=133.0, style=ProgressStyle(description_widt…"
      ]
     },
     "metadata": {
      "tags": []
     },
     "output_type": "display_data"
    },
    {
     "name": "stdout",
     "output_type": "stream",
     "text": [
      "\n",
      "Obtained a new best development accuracy of 0.780, saving model checkpoint to latent_model.pt...\n"
     ]
    },
    {
     "data": {
      "application/vnd.jupyter.widget-view+json": {
       "model_id": "426fa60ff75f4d8fb8bea2ac185aeba1",
       "version_major": 2,
       "version_minor": 0
      },
      "text/plain": [
       "HBox(children=(FloatProgress(value=0.0, description='epoch 6', max=133.0, style=ProgressStyle(description_widt…"
      ]
     },
     "metadata": {
      "tags": []
     },
     "output_type": "display_data"
    },
    {
     "name": "stdout",
     "output_type": "stream",
     "text": [
      "\n"
     ]
    },
    {
     "data": {
      "application/vnd.jupyter.widget-view+json": {
       "model_id": "134d18e8a44f422e8bacba5ef6f0524f",
       "version_major": 2,
       "version_minor": 0
      },
      "text/plain": [
       "HBox(children=(FloatProgress(value=0.0, description='epoch 7', max=133.0, style=ProgressStyle(description_widt…"
      ]
     },
     "metadata": {
      "tags": []
     },
     "output_type": "display_data"
    },
    {
     "name": "stdout",
     "output_type": "stream",
     "text": [
      "\n",
      "Obtained a new best development accuracy of 0.805, saving model checkpoint to latent_model.pt...\n"
     ]
    },
    {
     "data": {
      "application/vnd.jupyter.widget-view+json": {
       "model_id": "014e4162279d4db691ab0329e0165f01",
       "version_major": 2,
       "version_minor": 0
      },
      "text/plain": [
       "HBox(children=(FloatProgress(value=0.0, description='epoch 8', max=133.0, style=ProgressStyle(description_widt…"
      ]
     },
     "metadata": {
      "tags": []
     },
     "output_type": "display_data"
    },
    {
     "name": "stdout",
     "output_type": "stream",
     "text": [
      "\n"
     ]
    },
    {
     "data": {
      "application/vnd.jupyter.widget-view+json": {
       "model_id": "a6a9c7e1ed73488b99eb2df6ad69cb89",
       "version_major": 2,
       "version_minor": 0
      },
      "text/plain": [
       "HBox(children=(FloatProgress(value=0.0, description='epoch 9', max=133.0, style=ProgressStyle(description_widt…"
      ]
     },
     "metadata": {
      "tags": []
     },
     "output_type": "display_data"
    },
    {
     "name": "stdout",
     "output_type": "stream",
     "text": [
      "\n",
      "Obtained a new best development accuracy of 0.854, saving model checkpoint to latent_model.pt...\n"
     ]
    },
    {
     "data": {
      "application/vnd.jupyter.widget-view+json": {
       "model_id": "f5321513b7524956b97bbda4c3c5cc78",
       "version_major": 2,
       "version_minor": 0
      },
      "text/plain": [
       "HBox(children=(FloatProgress(value=0.0, description='epoch 10', max=133.0, style=ProgressStyle(description_wid…"
      ]
     },
     "metadata": {
      "tags": []
     },
     "output_type": "display_data"
    },
    {
     "name": "stdout",
     "output_type": "stream",
     "text": [
      "\n",
      "\n",
      "Maximal development accuracy of 0.854\n",
      "Reloading best model checkpoint from latent_model.pt...\n"
     ]
    }
   ],
   "source": [
    "train(latent_model, train_dataset, dev_dataset, 'latent_model.pt', \n",
    "      num_epochs=10, latent_logical_forms=True, \n",
    "      training_beam_size=100)"
   ]
  },
  {
   "cell_type": "markdown",
   "metadata": {
    "colab_type": "text",
    "id": "mAhA-fKcL72O"
   },
   "source": [
    "You can run the following cell to see the model predictions:"
   ]
  },
  {
   "cell_type": "code",
   "execution_count": 0,
   "metadata": {
    "colab": {
     "base_uri": "https://localhost:8080/",
     "height": 1000
    },
    "colab_type": "code",
    "id": "szKxJV_AL63h",
    "outputId": "80c565f7-8fde-4baf-dbf5-58f3d57ca2c6"
   },
   "outputs": [
    {
     "name": "stdout",
     "output_type": "stream",
     "text": [
      "dev example 1\n",
      "dev question: what states are there ?\n",
      "dev true LF: (lambda $w (and (state $w)))\n",
      "dev pred LF: (lambda $w (exists $x (and (state $w) (state $x) (state $w))))\n",
      "dev true denotation: {'virginia', 'west_virginia', 'north_carolina'}\n",
      "dev pred denotation: {'virginia', 'west_virginia', 'north_carolina'}\n",
      "dev denotation match: True\n",
      "\n",
      "dev example 6\n",
      "dev question: what is the capital of virginia ?\n",
      "dev true LF: (lambda $w (exists $x (and (capital-rel $w $x) (kb-virginia $x))))\n",
      "dev pred LF: (lambda $w (exists $x (and (capital-rel $w $x) (kb-virginia $x))))\n",
      "dev true denotation: {'richmond'}\n",
      "dev pred denotation: {'richmond'}\n",
      "dev denotation match: True\n",
      "\n",
      "dev example 11\n",
      "dev question: what cities in west virginia ?\n",
      "dev true LF: (lambda $w (exists $x (and (city $w) (in-rel $w $x) (kb-west_virginia $x))))\n",
      "dev pred LF: (lambda $w (exists $x (and (west-rel $w $x) (kb-virginia $x) (city $w))))\n",
      "dev true denotation: set()\n",
      "dev pred denotation: set()\n",
      "dev denotation match: True\n",
      "\n",
      "dev example 16\n",
      "dev question: what state is south of west virginia ?\n",
      "dev true LF: (lambda $w (exists $x (and (state $w) (south-rel $w $x) (kb-west_virginia $x))))\n",
      "dev pred LF: (lambda $w (exists $x (and (west-rel $w $x) (kb-west_virginia $x) (state $w))))\n",
      "dev true denotation: {'virginia'}\n",
      "dev pred denotation: set()\n",
      "dev denotation match: False\n",
      "\n",
      "dev example 21\n",
      "dev question: what ocean borders virginia ?\n",
      "dev true LF: (lambda $w (exists $x (and (ocean $w) (border-rel $w $x) (kb-virginia $x))))\n",
      "dev pred LF: (lambda $w (and (kb-atlantic_ocean $w)))\n",
      "dev true denotation: {'atlantic_ocean'}\n",
      "dev pred denotation: {'atlantic_ocean'}\n",
      "dev denotation match: True\n",
      "\n",
      "dev example 26\n",
      "dev question: is virginia beach inside of west virginia ?\n",
      "dev true LF: (lambda $w (exists $x (and (kb-virginia_beach $w) (inside-rel $w $x) (kb-west_virginia $x))))\n",
      "dev pred LF: (lambda $w (exists $x (and (west-rel $w $x) (kb-west_virginia $x) (kb-west_virginia $w))))\n",
      "dev true denotation: set()\n",
      "dev pred denotation: set()\n",
      "dev denotation match: True\n",
      "\n",
      "dev example 31\n",
      "dev question: is the atlantic ocean in west virginia ?\n",
      "dev true LF: (lambda $w (exists $x (and (kb-atlantic_ocean $w) (in-rel $w $x) (kb-west_virginia $x))))\n",
      "dev pred LF: (lambda $w (exists $x (and (west-rel $w $x) (kb-west_virginia $x) (kb-atlantic_ocean $w))))\n",
      "dev true denotation: set()\n",
      "dev pred denotation: set()\n",
      "dev denotation match: True\n",
      "\n",
      "dev example 36\n",
      "dev question: what cities are in virginia ?\n",
      "dev true LF: (lambda $w (exists $x (and (city $w) (in-rel $w $x) (kb-virginia $x))))\n",
      "dev pred LF: (lambda $w (exists $x (and (in-rel $w $x) (kb-virginia $x) (city $w))))\n",
      "dev true denotation: {'richmond'}\n",
      "dev pred denotation: {'richmond'}\n",
      "dev denotation match: True\n",
      "\n",
      "dev example 41\n",
      "dev question: is virginia east of west virginia ?\n",
      "dev true LF: (lambda $w (exists $x (and (kb-virginia $w) (east-rel $w $x) (kb-west_virginia $x))))\n",
      "dev pred LF: (lambda $w (exists $x (and (east-rel $w $x) (kb-west_virginia $x) (kb-west_virginia $w))))\n",
      "dev true denotation: {'virginia'}\n",
      "dev pred denotation: set()\n",
      "dev denotation match: False\n",
      "\n"
     ]
    },
    {
     "data": {
      "text/plain": [
       "{'dev_denotation_acc': 0.8536585365853658}"
      ]
     },
     "execution_count": 359,
     "metadata": {
      "tags": []
     },
     "output_type": "execute_result"
    }
   ],
   "source": [
    "evaluate_predictions(\n",
    "  dev_dataset, 'dev', execute,\n",
    "  prediction_function=make_beam_prediction_function(latent_model),\n",
    "  display_predictions_frequency=5\n",
    ")"
   ]
  },
  {
   "cell_type": "markdown",
   "metadata": {
    "colab_type": "text",
    "id": "X5r-_Q-aBciM"
   },
   "source": [
    "## Submission"
   ]
  },
  {
   "cell_type": "code",
   "execution_count": 0,
   "metadata": {
    "colab": {},
    "colab_type": "code",
    "id": "aBDmSM1-mpnn"
   },
   "outputs": [],
   "source": [
    "def dump_logical_form_actions(dataset, fname):\n",
    "  with open(fname, 'w') as f:\n",
    "    for i in range(len(dataset)):\n",
    "      parser_state = ParserState.from_logical_form(dataset[i]['logical_form'])\n",
    "      f.write('{}\\n'.format(' '.join(parser_state.actions())))"
   ]
  },
  {
   "cell_type": "code",
   "execution_count": 0,
   "metadata": {
    "colab": {},
    "colab_type": "code",
    "id": "kxsS7TmEnE_Z"
   },
   "outputs": [],
   "source": [
    "# to test your ParserState.take_action() method, we'll also save \n",
    "# the actions for the true logical forms\n",
    "dump_logical_form_actions(dev_dataset, './dev_true_lf_actions.txt')\n",
    "dump_logical_form_actions(test_dataset, './test_true_lf_actions.txt')"
   ]
  },
  {
   "cell_type": "code",
   "execution_count": 365,
   "metadata": {
    "colab": {
     "base_uri": "https://localhost:8080/",
     "height": 85
    },
    "colab_type": "code",
    "id": "xvANxD_gBdra",
    "outputId": "5d709f24-abdc-4006-ca00-935b5b1c0ce6"
   },
   "outputs": [
    {
     "name": "stdout",
     "output_type": "stream",
     "text": [
      "{'supervised_dev_denotation_acc': 0.8048780487804879}\n",
      "{'supervised_test_denotation_acc': 0.6862745098039216}\n",
      "{'latent_dev_denotation_acc': 0.8292682926829268}\n",
      "{'latent_test_denotation_acc': 0.7058823529411765}\n"
     ]
    }
   ],
   "source": [
    "# Uncomment this code to restore models from a checkpoint.\n",
    "#\n",
    "supervised_model = Model(max_vars=4, no_repeated_literals=True)\n",
    "supervised_model.load_state_dict(torch.load('supervised_model.pt'))\n",
    "latent_model = Model(max_vars=4, no_repeated_literals=True)\n",
    "latent_model.load_state_dict(torch.load('latent_model.pt'))\n",
    "\n",
    "pprint.pprint(evaluate_predictions(\n",
    "  dev_dataset, 'supervised_dev', execute,\n",
    "  prediction_function=make_beam_prediction_function(supervised_model, 5),\n",
    "  logical_form_output_file='./supervised_dev_lfs.txt'\n",
    "))\n",
    "pprint.pprint(evaluate_predictions(\n",
    "  test_dataset, 'supervised_test', execute,\n",
    "  prediction_function=make_beam_prediction_function(supervised_model, 5),\n",
    "  logical_form_output_file='./supervised_test_lfs.txt'\n",
    "))\n",
    "pprint.pprint(evaluate_predictions(\n",
    "  dev_dataset, 'latent_dev', execute,\n",
    "  prediction_function=make_beam_prediction_function(latent_model, 5),\n",
    "  logical_form_output_file='./latent_dev_lfs.txt'\n",
    "))\n",
    "pprint.pprint(evaluate_predictions(\n",
    "  test_dataset, 'latent_test', execute,\n",
    "  prediction_function=make_beam_prediction_function(latent_model, 5),\n",
    "  logical_form_output_file='./latent_test_lfs.txt'\n",
    "))"
   ]
  },
  {
   "cell_type": "markdown",
   "metadata": {
    "colab_type": "text",
    "id": "b3tuEAhWBj1B"
   },
   "source": [
    "Your submission should consist of your code, the actions to generate true logical forms for the dev and test set (to test your ParserState.take_action() method), as well as the logical forms predicted by your model for both dev and test data in supervised and latent settings. Turn in the following files on Gradescope:\n",
    "\n",
    "- proj_4.ipynb (this file; please rename to match)\n",
    "- dev_true_lf_actions.txt\n",
    "- test_true_lf_actions.txt\n",
    "- supervised_dev_lfs.txt\n",
    "- supervised_test_lfs.txt\n",
    "- latent_dev_lfs.txt\n",
    "- latent_test_lfs.txt\n",
    "\n",
    "Be sure to check the output of the autograder after it runs. It should confirm that no files are missing and that the output files have the correct format."
   ]
  },
  {
   "cell_type": "code",
   "execution_count": 0,
   "metadata": {
    "colab": {},
    "colab_type": "code",
    "id": "dYtoDpcoIAq8"
   },
   "outputs": [],
   "source": [
    "from google.colab import files\n",
    "\n",
    "files.download('dev_true_lf_actions.txt')\n",
    "files.download('latent_dev_lfs.txt')\n",
    "files.download('latent_test_lfs.txt')\n",
    "files.download('supervised_dev_lfs.txt')\n",
    "files.download('supervised_test_lfs.txt')\n",
    "files.download('test_true_lf_actions.txt')"
   ]
  }
 ],
 "metadata": {
  "colab": {
   "collapsed_sections": [],
   "name": "proj4",
   "provenance": [],
   "toc_visible": true
  },
  "kernelspec": {
   "display_name": "Python 3",
   "language": "python",
   "name": "python3"
  },
  "language_info": {
   "codemirror_mode": {
    "name": "ipython",
    "version": 3
   },
   "file_extension": ".py",
   "mimetype": "text/x-python",
   "name": "python",
   "nbconvert_exporter": "python",
   "pygments_lexer": "ipython3",
   "version": "3.6.9"
  },
  "widgets": {
   "application/vnd.jupyter.widget-state+json": {
    "014e4162279d4db691ab0329e0165f01": {
     "model_module": "@jupyter-widgets/controls",
     "model_name": "HBoxModel",
     "state": {
      "_dom_classes": [],
      "_model_module": "@jupyter-widgets/controls",
      "_model_module_version": "1.5.0",
      "_model_name": "HBoxModel",
      "_view_count": null,
      "_view_module": "@jupyter-widgets/controls",
      "_view_module_version": "1.5.0",
      "_view_name": "HBoxView",
      "box_style": "",
      "children": [
       "IPY_MODEL_e60e2ca1b44249d2a718c6fa60b5690a",
       "IPY_MODEL_d03c85ef8cf9451d886bb9b44129ccce"
      ],
      "layout": "IPY_MODEL_346681aa06a64a1d89d9ad0dbfbed05a"
     }
    },
    "016f10ce61e04ad297ae7ea5c2348c1f": {
     "model_module": "@jupyter-widgets/controls",
     "model_name": "ProgressStyleModel",
     "state": {
      "_model_module": "@jupyter-widgets/controls",
      "_model_module_version": "1.5.0",
      "_model_name": "ProgressStyleModel",
      "_view_count": null,
      "_view_module": "@jupyter-widgets/base",
      "_view_module_version": "1.2.0",
      "_view_name": "StyleView",
      "bar_color": null,
      "description_width": "initial"
     }
    },
    "02d4c6db86e940359451efb8187c761a": {
     "model_module": "@jupyter-widgets/controls",
     "model_name": "DescriptionStyleModel",
     "state": {
      "_model_module": "@jupyter-widgets/controls",
      "_model_module_version": "1.5.0",
      "_model_name": "DescriptionStyleModel",
      "_view_count": null,
      "_view_module": "@jupyter-widgets/base",
      "_view_module_version": "1.2.0",
      "_view_name": "StyleView",
      "description_width": ""
     }
    },
    "02e637f53ec441e6a764cbce888d0677": {
     "model_module": "@jupyter-widgets/base",
     "model_name": "LayoutModel",
     "state": {
      "_model_module": "@jupyter-widgets/base",
      "_model_module_version": "1.2.0",
      "_model_name": "LayoutModel",
      "_view_count": null,
      "_view_module": "@jupyter-widgets/base",
      "_view_module_version": "1.2.0",
      "_view_name": "LayoutView",
      "align_content": null,
      "align_items": null,
      "align_self": null,
      "border": null,
      "bottom": null,
      "display": null,
      "flex": null,
      "flex_flow": null,
      "grid_area": null,
      "grid_auto_columns": null,
      "grid_auto_flow": null,
      "grid_auto_rows": null,
      "grid_column": null,
      "grid_gap": null,
      "grid_row": null,
      "grid_template_areas": null,
      "grid_template_columns": null,
      "grid_template_rows": null,
      "height": null,
      "justify_content": null,
      "justify_items": null,
      "left": null,
      "margin": null,
      "max_height": null,
      "max_width": null,
      "min_height": null,
      "min_width": null,
      "object_fit": null,
      "object_position": null,
      "order": null,
      "overflow": null,
      "overflow_x": null,
      "overflow_y": null,
      "padding": null,
      "right": null,
      "top": null,
      "visibility": null,
      "width": null
     }
    },
    "03d0f6894ae44469901c7d110446edaa": {
     "model_module": "@jupyter-widgets/controls",
     "model_name": "ProgressStyleModel",
     "state": {
      "_model_module": "@jupyter-widgets/controls",
      "_model_module_version": "1.5.0",
      "_model_name": "ProgressStyleModel",
      "_view_count": null,
      "_view_module": "@jupyter-widgets/base",
      "_view_module_version": "1.2.0",
      "_view_name": "StyleView",
      "bar_color": null,
      "description_width": "initial"
     }
    },
    "03e895284e1a442c88a1f189c6d701fa": {
     "model_module": "@jupyter-widgets/base",
     "model_name": "LayoutModel",
     "state": {
      "_model_module": "@jupyter-widgets/base",
      "_model_module_version": "1.2.0",
      "_model_name": "LayoutModel",
      "_view_count": null,
      "_view_module": "@jupyter-widgets/base",
      "_view_module_version": "1.2.0",
      "_view_name": "LayoutView",
      "align_content": null,
      "align_items": null,
      "align_self": null,
      "border": null,
      "bottom": null,
      "display": null,
      "flex": null,
      "flex_flow": null,
      "grid_area": null,
      "grid_auto_columns": null,
      "grid_auto_flow": null,
      "grid_auto_rows": null,
      "grid_column": null,
      "grid_gap": null,
      "grid_row": null,
      "grid_template_areas": null,
      "grid_template_columns": null,
      "grid_template_rows": null,
      "height": null,
      "justify_content": null,
      "justify_items": null,
      "left": null,
      "margin": null,
      "max_height": null,
      "max_width": null,
      "min_height": null,
      "min_width": null,
      "object_fit": null,
      "object_position": null,
      "order": null,
      "overflow": null,
      "overflow_x": null,
      "overflow_y": null,
      "padding": null,
      "right": null,
      "top": null,
      "visibility": null,
      "width": null
     }
    },
    "03f03901017e41b9956a716cdb219aa5": {
     "model_module": "@jupyter-widgets/controls",
     "model_name": "FloatProgressModel",
     "state": {
      "_dom_classes": [],
      "_model_module": "@jupyter-widgets/controls",
      "_model_module_version": "1.5.0",
      "_model_name": "FloatProgressModel",
      "_view_count": null,
      "_view_module": "@jupyter-widgets/controls",
      "_view_module_version": "1.5.0",
      "_view_name": "ProgressView",
      "bar_style": "success",
      "description": "epoch 7: 100%",
      "description_tooltip": null,
      "layout": "IPY_MODEL_b09bb1405b74469ebff2b9885fd01e48",
      "max": 133,
      "min": 0,
      "orientation": "horizontal",
      "style": "IPY_MODEL_f7485d8155c249ed824d5275530aa05c",
      "value": 133
     }
    },
    "0678d1af0f464c51b9831b0927e15cde": {
     "model_module": "@jupyter-widgets/base",
     "model_name": "LayoutModel",
     "state": {
      "_model_module": "@jupyter-widgets/base",
      "_model_module_version": "1.2.0",
      "_model_name": "LayoutModel",
      "_view_count": null,
      "_view_module": "@jupyter-widgets/base",
      "_view_module_version": "1.2.0",
      "_view_name": "LayoutView",
      "align_content": null,
      "align_items": null,
      "align_self": null,
      "border": null,
      "bottom": null,
      "display": null,
      "flex": null,
      "flex_flow": null,
      "grid_area": null,
      "grid_auto_columns": null,
      "grid_auto_flow": null,
      "grid_auto_rows": null,
      "grid_column": null,
      "grid_gap": null,
      "grid_row": null,
      "grid_template_areas": null,
      "grid_template_columns": null,
      "grid_template_rows": null,
      "height": null,
      "justify_content": null,
      "justify_items": null,
      "left": null,
      "margin": null,
      "max_height": null,
      "max_width": null,
      "min_height": null,
      "min_width": null,
      "object_fit": null,
      "object_position": null,
      "order": null,
      "overflow": null,
      "overflow_x": null,
      "overflow_y": null,
      "padding": null,
      "right": null,
      "top": null,
      "visibility": null,
      "width": null
     }
    },
    "0680116e4327438cb16adb7c6c8b0d31": {
     "model_module": "@jupyter-widgets/controls",
     "model_name": "HBoxModel",
     "state": {
      "_dom_classes": [],
      "_model_module": "@jupyter-widgets/controls",
      "_model_module_version": "1.5.0",
      "_model_name": "HBoxModel",
      "_view_count": null,
      "_view_module": "@jupyter-widgets/controls",
      "_view_module_version": "1.5.0",
      "_view_name": "HBoxView",
      "box_style": "",
      "children": [
       "IPY_MODEL_b94e2aecece64d1f8524545c46ee4516",
       "IPY_MODEL_7db61e3df9674d268e60c045dacf9a08"
      ],
      "layout": "IPY_MODEL_df23820e10a1495f825ccce7db3d6958"
     }
    },
    "06e0197a1bc8446fb9cef20c370f326a": {
     "model_module": "@jupyter-widgets/controls",
     "model_name": "DescriptionStyleModel",
     "state": {
      "_model_module": "@jupyter-widgets/controls",
      "_model_module_version": "1.5.0",
      "_model_name": "DescriptionStyleModel",
      "_view_count": null,
      "_view_module": "@jupyter-widgets/base",
      "_view_module_version": "1.2.0",
      "_view_name": "StyleView",
      "description_width": ""
     }
    },
    "07663fcd6c64485785d1394fd2f89b30": {
     "model_module": "@jupyter-widgets/controls",
     "model_name": "HBoxModel",
     "state": {
      "_dom_classes": [],
      "_model_module": "@jupyter-widgets/controls",
      "_model_module_version": "1.5.0",
      "_model_name": "HBoxModel",
      "_view_count": null,
      "_view_module": "@jupyter-widgets/controls",
      "_view_module_version": "1.5.0",
      "_view_name": "HBoxView",
      "box_style": "",
      "children": [
       "IPY_MODEL_8c25db1a37e440cbb210dc161ce0d757",
       "IPY_MODEL_a0abbbb16ce64c71973d10ba2f5eead2"
      ],
      "layout": "IPY_MODEL_3f1b7cf738de477e9b7c6112574c368e"
     }
    },
    "076e11cb30e24b359910ab19ea4b9568": {
     "model_module": "@jupyter-widgets/controls",
     "model_name": "DescriptionStyleModel",
     "state": {
      "_model_module": "@jupyter-widgets/controls",
      "_model_module_version": "1.5.0",
      "_model_name": "DescriptionStyleModel",
      "_view_count": null,
      "_view_module": "@jupyter-widgets/base",
      "_view_module_version": "1.2.0",
      "_view_name": "StyleView",
      "description_width": ""
     }
    },
    "07beb667bc5541d992cb06ac2b5859eb": {
     "model_module": "@jupyter-widgets/base",
     "model_name": "LayoutModel",
     "state": {
      "_model_module": "@jupyter-widgets/base",
      "_model_module_version": "1.2.0",
      "_model_name": "LayoutModel",
      "_view_count": null,
      "_view_module": "@jupyter-widgets/base",
      "_view_module_version": "1.2.0",
      "_view_name": "LayoutView",
      "align_content": null,
      "align_items": null,
      "align_self": null,
      "border": null,
      "bottom": null,
      "display": null,
      "flex": null,
      "flex_flow": null,
      "grid_area": null,
      "grid_auto_columns": null,
      "grid_auto_flow": null,
      "grid_auto_rows": null,
      "grid_column": null,
      "grid_gap": null,
      "grid_row": null,
      "grid_template_areas": null,
      "grid_template_columns": null,
      "grid_template_rows": null,
      "height": null,
      "justify_content": null,
      "justify_items": null,
      "left": null,
      "margin": null,
      "max_height": null,
      "max_width": null,
      "min_height": null,
      "min_width": null,
      "object_fit": null,
      "object_position": null,
      "order": null,
      "overflow": null,
      "overflow_x": null,
      "overflow_y": null,
      "padding": null,
      "right": null,
      "top": null,
      "visibility": null,
      "width": null
     }
    },
    "07cecd994fe54e96a74bbfaa9bec1715": {
     "model_module": "@jupyter-widgets/base",
     "model_name": "LayoutModel",
     "state": {
      "_model_module": "@jupyter-widgets/base",
      "_model_module_version": "1.2.0",
      "_model_name": "LayoutModel",
      "_view_count": null,
      "_view_module": "@jupyter-widgets/base",
      "_view_module_version": "1.2.0",
      "_view_name": "LayoutView",
      "align_content": null,
      "align_items": null,
      "align_self": null,
      "border": null,
      "bottom": null,
      "display": null,
      "flex": null,
      "flex_flow": null,
      "grid_area": null,
      "grid_auto_columns": null,
      "grid_auto_flow": null,
      "grid_auto_rows": null,
      "grid_column": null,
      "grid_gap": null,
      "grid_row": null,
      "grid_template_areas": null,
      "grid_template_columns": null,
      "grid_template_rows": null,
      "height": null,
      "justify_content": null,
      "justify_items": null,
      "left": null,
      "margin": null,
      "max_height": null,
      "max_width": null,
      "min_height": null,
      "min_width": null,
      "object_fit": null,
      "object_position": null,
      "order": null,
      "overflow": null,
      "overflow_x": null,
      "overflow_y": null,
      "padding": null,
      "right": null,
      "top": null,
      "visibility": null,
      "width": null
     }
    },
    "089ade767e1648e386d91070d0962e98": {
     "model_module": "@jupyter-widgets/controls",
     "model_name": "HTMLModel",
     "state": {
      "_dom_classes": [],
      "_model_module": "@jupyter-widgets/controls",
      "_model_module_version": "1.5.0",
      "_model_name": "HTMLModel",
      "_view_count": null,
      "_view_module": "@jupyter-widgets/controls",
      "_view_module_version": "1.5.0",
      "_view_name": "HTMLView",
      "description": "",
      "description_tooltip": null,
      "layout": "IPY_MODEL_5a3ccecdfaee4cbd8faeff3df7bec3a8",
      "placeholder": "​",
      "style": "IPY_MODEL_a3d7302252a44a3db7fd8ce70739b6b1",
      "value": " 133/133 [25:10&lt;00:00, 11.36s/instance, train_loss=1.08, train_denotation_acc=0.88, dev_denotation_acc=0.805, dev_loss=1.67]"
     }
    },
    "0ab232d4371a4ad4ac2cc909c10cb0d9": {
     "model_module": "@jupyter-widgets/controls",
     "model_name": "DescriptionStyleModel",
     "state": {
      "_model_module": "@jupyter-widgets/controls",
      "_model_module_version": "1.5.0",
      "_model_name": "DescriptionStyleModel",
      "_view_count": null,
      "_view_module": "@jupyter-widgets/base",
      "_view_module_version": "1.2.0",
      "_view_name": "StyleView",
      "description_width": ""
     }
    },
    "0ad4a449f1814eca8d3df4c9709ec805": {
     "model_module": "@jupyter-widgets/controls",
     "model_name": "FloatProgressModel",
     "state": {
      "_dom_classes": [],
      "_model_module": "@jupyter-widgets/controls",
      "_model_module_version": "1.5.0",
      "_model_name": "FloatProgressModel",
      "_view_count": null,
      "_view_module": "@jupyter-widgets/controls",
      "_view_module_version": "1.5.0",
      "_view_name": "ProgressView",
      "bar_style": "success",
      "description": "epoch 4: 100%",
      "description_tooltip": null,
      "layout": "IPY_MODEL_579c7741369746c396ab9939623ccd73",
      "max": 133,
      "min": 0,
      "orientation": "horizontal",
      "style": "IPY_MODEL_405c9f0be87b43318fea2048f75f951d",
      "value": 133
     }
    },
    "0ade5d2b74e94c0d8adb15cf72457da8": {
     "model_module": "@jupyter-widgets/controls",
     "model_name": "FloatProgressModel",
     "state": {
      "_dom_classes": [],
      "_model_module": "@jupyter-widgets/controls",
      "_model_module_version": "1.5.0",
      "_model_name": "FloatProgressModel",
      "_view_count": null,
      "_view_module": "@jupyter-widgets/controls",
      "_view_module_version": "1.5.0",
      "_view_name": "ProgressView",
      "bar_style": "success",
      "description": "epoch 9: 100%",
      "description_tooltip": null,
      "layout": "IPY_MODEL_5e97b667cff44a358721d4bc441fae25",
      "max": 133,
      "min": 0,
      "orientation": "horizontal",
      "style": "IPY_MODEL_3ea0f4b331074fe6beb6512b453cea79",
      "value": 133
     }
    },
    "0be29cb1ac6d4f98b62ab9d33dc7eaf5": {
     "model_module": "@jupyter-widgets/base",
     "model_name": "LayoutModel",
     "state": {
      "_model_module": "@jupyter-widgets/base",
      "_model_module_version": "1.2.0",
      "_model_name": "LayoutModel",
      "_view_count": null,
      "_view_module": "@jupyter-widgets/base",
      "_view_module_version": "1.2.0",
      "_view_name": "LayoutView",
      "align_content": null,
      "align_items": null,
      "align_self": null,
      "border": null,
      "bottom": null,
      "display": null,
      "flex": null,
      "flex_flow": null,
      "grid_area": null,
      "grid_auto_columns": null,
      "grid_auto_flow": null,
      "grid_auto_rows": null,
      "grid_column": null,
      "grid_gap": null,
      "grid_row": null,
      "grid_template_areas": null,
      "grid_template_columns": null,
      "grid_template_rows": null,
      "height": null,
      "justify_content": null,
      "justify_items": null,
      "left": null,
      "margin": null,
      "max_height": null,
      "max_width": null,
      "min_height": null,
      "min_width": null,
      "object_fit": null,
      "object_position": null,
      "order": null,
      "overflow": null,
      "overflow_x": null,
      "overflow_y": null,
      "padding": null,
      "right": null,
      "top": null,
      "visibility": null,
      "width": null
     }
    },
    "0e466f749b4c4a509c3abddaa9dec218": {
     "model_module": "@jupyter-widgets/controls",
     "model_name": "HTMLModel",
     "state": {
      "_dom_classes": [],
      "_model_module": "@jupyter-widgets/controls",
      "_model_module_version": "1.5.0",
      "_model_name": "HTMLModel",
      "_view_count": null,
      "_view_module": "@jupyter-widgets/controls",
      "_view_module_version": "1.5.0",
      "_view_name": "HTMLView",
      "description": "",
      "description_tooltip": null,
      "layout": "IPY_MODEL_03e895284e1a442c88a1f189c6d701fa",
      "placeholder": "​",
      "style": "IPY_MODEL_feba34bd916e4d3fb5c00fa08bd8ca7a",
      "value": " 133/133 [26:06&lt;00:00, 11.78s/instance, train_loss=2.02, train_denotation_acc=0.602, dev_denotation_acc=0.756, dev_loss=1.99]"
     }
    },
    "10c8ba6c76474a2d94c5b91d3e323d44": {
     "model_module": "@jupyter-widgets/controls",
     "model_name": "HBoxModel",
     "state": {
      "_dom_classes": [],
      "_model_module": "@jupyter-widgets/controls",
      "_model_module_version": "1.5.0",
      "_model_name": "HBoxModel",
      "_view_count": null,
      "_view_module": "@jupyter-widgets/controls",
      "_view_module_version": "1.5.0",
      "_view_name": "HBoxView",
      "box_style": "",
      "children": [
       "IPY_MODEL_6b86856e599b4ec38b5addd4db6d2c81",
       "IPY_MODEL_e401922a8b7b4f3daa0eb4bff56286e4"
      ],
      "layout": "IPY_MODEL_76d90b7a80104b40add4863d2dbdae4c"
     }
    },
    "11192017be964503afef71b6437623b9": {
     "model_module": "@jupyter-widgets/base",
     "model_name": "LayoutModel",
     "state": {
      "_model_module": "@jupyter-widgets/base",
      "_model_module_version": "1.2.0",
      "_model_name": "LayoutModel",
      "_view_count": null,
      "_view_module": "@jupyter-widgets/base",
      "_view_module_version": "1.2.0",
      "_view_name": "LayoutView",
      "align_content": null,
      "align_items": null,
      "align_self": null,
      "border": null,
      "bottom": null,
      "display": null,
      "flex": null,
      "flex_flow": null,
      "grid_area": null,
      "grid_auto_columns": null,
      "grid_auto_flow": null,
      "grid_auto_rows": null,
      "grid_column": null,
      "grid_gap": null,
      "grid_row": null,
      "grid_template_areas": null,
      "grid_template_columns": null,
      "grid_template_rows": null,
      "height": null,
      "justify_content": null,
      "justify_items": null,
      "left": null,
      "margin": null,
      "max_height": null,
      "max_width": null,
      "min_height": null,
      "min_width": null,
      "object_fit": null,
      "object_position": null,
      "order": null,
      "overflow": null,
      "overflow_x": null,
      "overflow_y": null,
      "padding": null,
      "right": null,
      "top": null,
      "visibility": null,
      "width": null
     }
    },
    "117265995dd144f5a430206293a7d778": {
     "model_module": "@jupyter-widgets/base",
     "model_name": "LayoutModel",
     "state": {
      "_model_module": "@jupyter-widgets/base",
      "_model_module_version": "1.2.0",
      "_model_name": "LayoutModel",
      "_view_count": null,
      "_view_module": "@jupyter-widgets/base",
      "_view_module_version": "1.2.0",
      "_view_name": "LayoutView",
      "align_content": null,
      "align_items": null,
      "align_self": null,
      "border": null,
      "bottom": null,
      "display": null,
      "flex": null,
      "flex_flow": null,
      "grid_area": null,
      "grid_auto_columns": null,
      "grid_auto_flow": null,
      "grid_auto_rows": null,
      "grid_column": null,
      "grid_gap": null,
      "grid_row": null,
      "grid_template_areas": null,
      "grid_template_columns": null,
      "grid_template_rows": null,
      "height": null,
      "justify_content": null,
      "justify_items": null,
      "left": null,
      "margin": null,
      "max_height": null,
      "max_width": null,
      "min_height": null,
      "min_width": null,
      "object_fit": null,
      "object_position": null,
      "order": null,
      "overflow": null,
      "overflow_x": null,
      "overflow_y": null,
      "padding": null,
      "right": null,
      "top": null,
      "visibility": null,
      "width": null
     }
    },
    "1185c695d6704f4eae7b2a409562f3c4": {
     "model_module": "@jupyter-widgets/base",
     "model_name": "LayoutModel",
     "state": {
      "_model_module": "@jupyter-widgets/base",
      "_model_module_version": "1.2.0",
      "_model_name": "LayoutModel",
      "_view_count": null,
      "_view_module": "@jupyter-widgets/base",
      "_view_module_version": "1.2.0",
      "_view_name": "LayoutView",
      "align_content": null,
      "align_items": null,
      "align_self": null,
      "border": null,
      "bottom": null,
      "display": null,
      "flex": null,
      "flex_flow": null,
      "grid_area": null,
      "grid_auto_columns": null,
      "grid_auto_flow": null,
      "grid_auto_rows": null,
      "grid_column": null,
      "grid_gap": null,
      "grid_row": null,
      "grid_template_areas": null,
      "grid_template_columns": null,
      "grid_template_rows": null,
      "height": null,
      "justify_content": null,
      "justify_items": null,
      "left": null,
      "margin": null,
      "max_height": null,
      "max_width": null,
      "min_height": null,
      "min_width": null,
      "object_fit": null,
      "object_position": null,
      "order": null,
      "overflow": null,
      "overflow_x": null,
      "overflow_y": null,
      "padding": null,
      "right": null,
      "top": null,
      "visibility": null,
      "width": null
     }
    },
    "1340977801354b39a06e751d5deee860": {
     "model_module": "@jupyter-widgets/base",
     "model_name": "LayoutModel",
     "state": {
      "_model_module": "@jupyter-widgets/base",
      "_model_module_version": "1.2.0",
      "_model_name": "LayoutModel",
      "_view_count": null,
      "_view_module": "@jupyter-widgets/base",
      "_view_module_version": "1.2.0",
      "_view_name": "LayoutView",
      "align_content": null,
      "align_items": null,
      "align_self": null,
      "border": null,
      "bottom": null,
      "display": null,
      "flex": null,
      "flex_flow": null,
      "grid_area": null,
      "grid_auto_columns": null,
      "grid_auto_flow": null,
      "grid_auto_rows": null,
      "grid_column": null,
      "grid_gap": null,
      "grid_row": null,
      "grid_template_areas": null,
      "grid_template_columns": null,
      "grid_template_rows": null,
      "height": null,
      "justify_content": null,
      "justify_items": null,
      "left": null,
      "margin": null,
      "max_height": null,
      "max_width": null,
      "min_height": null,
      "min_width": null,
      "object_fit": null,
      "object_position": null,
      "order": null,
      "overflow": null,
      "overflow_x": null,
      "overflow_y": null,
      "padding": null,
      "right": null,
      "top": null,
      "visibility": null,
      "width": null
     }
    },
    "134d18e8a44f422e8bacba5ef6f0524f": {
     "model_module": "@jupyter-widgets/controls",
     "model_name": "HBoxModel",
     "state": {
      "_dom_classes": [],
      "_model_module": "@jupyter-widgets/controls",
      "_model_module_version": "1.5.0",
      "_model_name": "HBoxModel",
      "_view_count": null,
      "_view_module": "@jupyter-widgets/controls",
      "_view_module_version": "1.5.0",
      "_view_name": "HBoxView",
      "box_style": "",
      "children": [
       "IPY_MODEL_03f03901017e41b9956a716cdb219aa5",
       "IPY_MODEL_4c11924b82a648dbb09a2bf0359e0718"
      ],
      "layout": "IPY_MODEL_878e2169a5054fe9ba84cfb6f92c5a13"
     }
    },
    "1485ba757b1e4d92bbe0f3ece7f95b63": {
     "model_module": "@jupyter-widgets/controls",
     "model_name": "FloatProgressModel",
     "state": {
      "_dom_classes": [],
      "_model_module": "@jupyter-widgets/controls",
      "_model_module_version": "1.5.0",
      "_model_name": "FloatProgressModel",
      "_view_count": null,
      "_view_module": "@jupyter-widgets/controls",
      "_view_module_version": "1.5.0",
      "_view_name": "ProgressView",
      "bar_style": "success",
      "description": "epoch 8: 100%",
      "description_tooltip": null,
      "layout": "IPY_MODEL_244e92ab47a140bfbddf227f4843a293",
      "max": 133,
      "min": 0,
      "orientation": "horizontal",
      "style": "IPY_MODEL_b988b3cae8cc44918fd9d88300b00364",
      "value": 133
     }
    },
    "18717761630d44219046fd86016b3e42": {
     "model_module": "@jupyter-widgets/base",
     "model_name": "LayoutModel",
     "state": {
      "_model_module": "@jupyter-widgets/base",
      "_model_module_version": "1.2.0",
      "_model_name": "LayoutModel",
      "_view_count": null,
      "_view_module": "@jupyter-widgets/base",
      "_view_module_version": "1.2.0",
      "_view_name": "LayoutView",
      "align_content": null,
      "align_items": null,
      "align_self": null,
      "border": null,
      "bottom": null,
      "display": null,
      "flex": null,
      "flex_flow": null,
      "grid_area": null,
      "grid_auto_columns": null,
      "grid_auto_flow": null,
      "grid_auto_rows": null,
      "grid_column": null,
      "grid_gap": null,
      "grid_row": null,
      "grid_template_areas": null,
      "grid_template_columns": null,
      "grid_template_rows": null,
      "height": null,
      "justify_content": null,
      "justify_items": null,
      "left": null,
      "margin": null,
      "max_height": null,
      "max_width": null,
      "min_height": null,
      "min_width": null,
      "object_fit": null,
      "object_position": null,
      "order": null,
      "overflow": null,
      "overflow_x": null,
      "overflow_y": null,
      "padding": null,
      "right": null,
      "top": null,
      "visibility": null,
      "width": null
     }
    },
    "18c7c6de76fa4372a68c23dbb7d25c65": {
     "model_module": "@jupyter-widgets/controls",
     "model_name": "HTMLModel",
     "state": {
      "_dom_classes": [],
      "_model_module": "@jupyter-widgets/controls",
      "_model_module_version": "1.5.0",
      "_model_name": "HTMLModel",
      "_view_count": null,
      "_view_module": "@jupyter-widgets/controls",
      "_view_module_version": "1.5.0",
      "_view_name": "HTMLView",
      "description": "",
      "description_tooltip": null,
      "layout": "IPY_MODEL_d3ce7585b60f47a68ef6563da7d0812a",
      "placeholder": "​",
      "style": "IPY_MODEL_f5eb403de32b44b2ac9abc4173ac5be3",
      "value": " 133/133 [03:51&lt;00:00,  1.74s/instance, train_loss=0.677, train_denotation_acc=0.88, dev_denotation_acc=0.854]"
     }
    },
    "18d6b3d1dd5b4609a2b72a0e117b984a": {
     "model_module": "@jupyter-widgets/controls",
     "model_name": "HTMLModel",
     "state": {
      "_dom_classes": [],
      "_model_module": "@jupyter-widgets/controls",
      "_model_module_version": "1.5.0",
      "_model_name": "HTMLModel",
      "_view_count": null,
      "_view_module": "@jupyter-widgets/controls",
      "_view_module_version": "1.5.0",
      "_view_name": "HTMLView",
      "description": "",
      "description_tooltip": null,
      "layout": "IPY_MODEL_fbe9605473ac4557af164c91795e6b0d",
      "placeholder": "​",
      "style": "IPY_MODEL_5084597c374b44cc8502c7fa236edeef",
      "value": " 133/133 [23:57&lt;00:00, 10.81s/instance, train_loss=0.754, train_denotation_acc=0.94, dev_denotation_acc=0.683, dev_loss=1.3]"
     }
    },
    "1926f66ae40f46298c5309a1416d304f": {
     "model_module": "@jupyter-widgets/base",
     "model_name": "LayoutModel",
     "state": {
      "_model_module": "@jupyter-widgets/base",
      "_model_module_version": "1.2.0",
      "_model_name": "LayoutModel",
      "_view_count": null,
      "_view_module": "@jupyter-widgets/base",
      "_view_module_version": "1.2.0",
      "_view_name": "LayoutView",
      "align_content": null,
      "align_items": null,
      "align_self": null,
      "border": null,
      "bottom": null,
      "display": null,
      "flex": null,
      "flex_flow": null,
      "grid_area": null,
      "grid_auto_columns": null,
      "grid_auto_flow": null,
      "grid_auto_rows": null,
      "grid_column": null,
      "grid_gap": null,
      "grid_row": null,
      "grid_template_areas": null,
      "grid_template_columns": null,
      "grid_template_rows": null,
      "height": null,
      "justify_content": null,
      "justify_items": null,
      "left": null,
      "margin": null,
      "max_height": null,
      "max_width": null,
      "min_height": null,
      "min_width": null,
      "object_fit": null,
      "object_position": null,
      "order": null,
      "overflow": null,
      "overflow_x": null,
      "overflow_y": null,
      "padding": null,
      "right": null,
      "top": null,
      "visibility": null,
      "width": null
     }
    },
    "1930a5f3681a4449ab74f163498eed22": {
     "model_module": "@jupyter-widgets/controls",
     "model_name": "FloatProgressModel",
     "state": {
      "_dom_classes": [],
      "_model_module": "@jupyter-widgets/controls",
      "_model_module_version": "1.5.0",
      "_model_name": "FloatProgressModel",
      "_view_count": null,
      "_view_module": "@jupyter-widgets/controls",
      "_view_module_version": "1.5.0",
      "_view_name": "ProgressView",
      "bar_style": "success",
      "description": "epoch 6: 100%",
      "description_tooltip": null,
      "layout": "IPY_MODEL_b09cab2dfee44a36a7db9985cf388aae",
      "max": 133,
      "min": 0,
      "orientation": "horizontal",
      "style": "IPY_MODEL_016f10ce61e04ad297ae7ea5c2348c1f",
      "value": 133
     }
    },
    "1a3a7b8b4b5341bbbd314a1866f824fb": {
     "model_module": "@jupyter-widgets/base",
     "model_name": "LayoutModel",
     "state": {
      "_model_module": "@jupyter-widgets/base",
      "_model_module_version": "1.2.0",
      "_model_name": "LayoutModel",
      "_view_count": null,
      "_view_module": "@jupyter-widgets/base",
      "_view_module_version": "1.2.0",
      "_view_name": "LayoutView",
      "align_content": null,
      "align_items": null,
      "align_self": null,
      "border": null,
      "bottom": null,
      "display": null,
      "flex": null,
      "flex_flow": null,
      "grid_area": null,
      "grid_auto_columns": null,
      "grid_auto_flow": null,
      "grid_auto_rows": null,
      "grid_column": null,
      "grid_gap": null,
      "grid_row": null,
      "grid_template_areas": null,
      "grid_template_columns": null,
      "grid_template_rows": null,
      "height": null,
      "justify_content": null,
      "justify_items": null,
      "left": null,
      "margin": null,
      "max_height": null,
      "max_width": null,
      "min_height": null,
      "min_width": null,
      "object_fit": null,
      "object_position": null,
      "order": null,
      "overflow": null,
      "overflow_x": null,
      "overflow_y": null,
      "padding": null,
      "right": null,
      "top": null,
      "visibility": null,
      "width": null
     }
    },
    "1b55be93359248fdb2ae4c6ea89f19fb": {
     "model_module": "@jupyter-widgets/base",
     "model_name": "LayoutModel",
     "state": {
      "_model_module": "@jupyter-widgets/base",
      "_model_module_version": "1.2.0",
      "_model_name": "LayoutModel",
      "_view_count": null,
      "_view_module": "@jupyter-widgets/base",
      "_view_module_version": "1.2.0",
      "_view_name": "LayoutView",
      "align_content": null,
      "align_items": null,
      "align_self": null,
      "border": null,
      "bottom": null,
      "display": null,
      "flex": null,
      "flex_flow": null,
      "grid_area": null,
      "grid_auto_columns": null,
      "grid_auto_flow": null,
      "grid_auto_rows": null,
      "grid_column": null,
      "grid_gap": null,
      "grid_row": null,
      "grid_template_areas": null,
      "grid_template_columns": null,
      "grid_template_rows": null,
      "height": null,
      "justify_content": null,
      "justify_items": null,
      "left": null,
      "margin": null,
      "max_height": null,
      "max_width": null,
      "min_height": null,
      "min_width": null,
      "object_fit": null,
      "object_position": null,
      "order": null,
      "overflow": null,
      "overflow_x": null,
      "overflow_y": null,
      "padding": null,
      "right": null,
      "top": null,
      "visibility": null,
      "width": null
     }
    },
    "1c02112415834068801f03605d7a6499": {
     "model_module": "@jupyter-widgets/base",
     "model_name": "LayoutModel",
     "state": {
      "_model_module": "@jupyter-widgets/base",
      "_model_module_version": "1.2.0",
      "_model_name": "LayoutModel",
      "_view_count": null,
      "_view_module": "@jupyter-widgets/base",
      "_view_module_version": "1.2.0",
      "_view_name": "LayoutView",
      "align_content": null,
      "align_items": null,
      "align_self": null,
      "border": null,
      "bottom": null,
      "display": null,
      "flex": null,
      "flex_flow": null,
      "grid_area": null,
      "grid_auto_columns": null,
      "grid_auto_flow": null,
      "grid_auto_rows": null,
      "grid_column": null,
      "grid_gap": null,
      "grid_row": null,
      "grid_template_areas": null,
      "grid_template_columns": null,
      "grid_template_rows": null,
      "height": null,
      "justify_content": null,
      "justify_items": null,
      "left": null,
      "margin": null,
      "max_height": null,
      "max_width": null,
      "min_height": null,
      "min_width": null,
      "object_fit": null,
      "object_position": null,
      "order": null,
      "overflow": null,
      "overflow_x": null,
      "overflow_y": null,
      "padding": null,
      "right": null,
      "top": null,
      "visibility": null,
      "width": null
     }
    },
    "1c3f06618ecf46cfa2613be7d56a2e65": {
     "model_module": "@jupyter-widgets/controls",
     "model_name": "FloatProgressModel",
     "state": {
      "_dom_classes": [],
      "_model_module": "@jupyter-widgets/controls",
      "_model_module_version": "1.5.0",
      "_model_name": "FloatProgressModel",
      "_view_count": null,
      "_view_module": "@jupyter-widgets/controls",
      "_view_module_version": "1.5.0",
      "_view_name": "ProgressView",
      "bar_style": "success",
      "description": "training: 100%",
      "description_tooltip": null,
      "layout": "IPY_MODEL_1fdfa5971b1e42558ac0f0f728a2e623",
      "max": 10,
      "min": 0,
      "orientation": "horizontal",
      "style": "IPY_MODEL_c3ae226ff22946ffae64659b3e3d6d63",
      "value": 10
     }
    },
    "1ca0721d4385455d89c7c23c101e04f6": {
     "model_module": "@jupyter-widgets/base",
     "model_name": "LayoutModel",
     "state": {
      "_model_module": "@jupyter-widgets/base",
      "_model_module_version": "1.2.0",
      "_model_name": "LayoutModel",
      "_view_count": null,
      "_view_module": "@jupyter-widgets/base",
      "_view_module_version": "1.2.0",
      "_view_name": "LayoutView",
      "align_content": null,
      "align_items": null,
      "align_self": null,
      "border": null,
      "bottom": null,
      "display": null,
      "flex": null,
      "flex_flow": null,
      "grid_area": null,
      "grid_auto_columns": null,
      "grid_auto_flow": null,
      "grid_auto_rows": null,
      "grid_column": null,
      "grid_gap": null,
      "grid_row": null,
      "grid_template_areas": null,
      "grid_template_columns": null,
      "grid_template_rows": null,
      "height": null,
      "justify_content": null,
      "justify_items": null,
      "left": null,
      "margin": null,
      "max_height": null,
      "max_width": null,
      "min_height": null,
      "min_width": null,
      "object_fit": null,
      "object_position": null,
      "order": null,
      "overflow": null,
      "overflow_x": null,
      "overflow_y": null,
      "padding": null,
      "right": null,
      "top": null,
      "visibility": null,
      "width": null
     }
    },
    "1ca930f632c14ac6a0a57d5a03d4bfa5": {
     "model_module": "@jupyter-widgets/controls",
     "model_name": "DescriptionStyleModel",
     "state": {
      "_model_module": "@jupyter-widgets/controls",
      "_model_module_version": "1.5.0",
      "_model_name": "DescriptionStyleModel",
      "_view_count": null,
      "_view_module": "@jupyter-widgets/base",
      "_view_module_version": "1.2.0",
      "_view_name": "StyleView",
      "description_width": ""
     }
    },
    "1f46f69c7bb04e3aae20d9aedf341a45": {
     "model_module": "@jupyter-widgets/base",
     "model_name": "LayoutModel",
     "state": {
      "_model_module": "@jupyter-widgets/base",
      "_model_module_version": "1.2.0",
      "_model_name": "LayoutModel",
      "_view_count": null,
      "_view_module": "@jupyter-widgets/base",
      "_view_module_version": "1.2.0",
      "_view_name": "LayoutView",
      "align_content": null,
      "align_items": null,
      "align_self": null,
      "border": null,
      "bottom": null,
      "display": null,
      "flex": null,
      "flex_flow": null,
      "grid_area": null,
      "grid_auto_columns": null,
      "grid_auto_flow": null,
      "grid_auto_rows": null,
      "grid_column": null,
      "grid_gap": null,
      "grid_row": null,
      "grid_template_areas": null,
      "grid_template_columns": null,
      "grid_template_rows": null,
      "height": null,
      "justify_content": null,
      "justify_items": null,
      "left": null,
      "margin": null,
      "max_height": null,
      "max_width": null,
      "min_height": null,
      "min_width": null,
      "object_fit": null,
      "object_position": null,
      "order": null,
      "overflow": null,
      "overflow_x": null,
      "overflow_y": null,
      "padding": null,
      "right": null,
      "top": null,
      "visibility": null,
      "width": null
     }
    },
    "1fdfa5971b1e42558ac0f0f728a2e623": {
     "model_module": "@jupyter-widgets/base",
     "model_name": "LayoutModel",
     "state": {
      "_model_module": "@jupyter-widgets/base",
      "_model_module_version": "1.2.0",
      "_model_name": "LayoutModel",
      "_view_count": null,
      "_view_module": "@jupyter-widgets/base",
      "_view_module_version": "1.2.0",
      "_view_name": "LayoutView",
      "align_content": null,
      "align_items": null,
      "align_self": null,
      "border": null,
      "bottom": null,
      "display": null,
      "flex": null,
      "flex_flow": null,
      "grid_area": null,
      "grid_auto_columns": null,
      "grid_auto_flow": null,
      "grid_auto_rows": null,
      "grid_column": null,
      "grid_gap": null,
      "grid_row": null,
      "grid_template_areas": null,
      "grid_template_columns": null,
      "grid_template_rows": null,
      "height": null,
      "justify_content": null,
      "justify_items": null,
      "left": null,
      "margin": null,
      "max_height": null,
      "max_width": null,
      "min_height": null,
      "min_width": null,
      "object_fit": null,
      "object_position": null,
      "order": null,
      "overflow": null,
      "overflow_x": null,
      "overflow_y": null,
      "padding": null,
      "right": null,
      "top": null,
      "visibility": null,
      "width": null
     }
    },
    "2392fa4d98804567bb7b4a34632a16c1": {
     "model_module": "@jupyter-widgets/controls",
     "model_name": "FloatProgressModel",
     "state": {
      "_dom_classes": [],
      "_model_module": "@jupyter-widgets/controls",
      "_model_module_version": "1.5.0",
      "_model_name": "FloatProgressModel",
      "_view_count": null,
      "_view_module": "@jupyter-widgets/controls",
      "_view_module_version": "1.5.0",
      "_view_name": "ProgressView",
      "bar_style": "success",
      "description": "epoch 5: 100%",
      "description_tooltip": null,
      "layout": "IPY_MODEL_02e637f53ec441e6a764cbce888d0677",
      "max": 40,
      "min": 0,
      "orientation": "horizontal",
      "style": "IPY_MODEL_8484ea92ed74499aa1316c5382887571",
      "value": 40
     }
    },
    "23b49c83a1a843f8a30feb90c49419d5": {
     "model_module": "@jupyter-widgets/base",
     "model_name": "LayoutModel",
     "state": {
      "_model_module": "@jupyter-widgets/base",
      "_model_module_version": "1.2.0",
      "_model_name": "LayoutModel",
      "_view_count": null,
      "_view_module": "@jupyter-widgets/base",
      "_view_module_version": "1.2.0",
      "_view_name": "LayoutView",
      "align_content": null,
      "align_items": null,
      "align_self": null,
      "border": null,
      "bottom": null,
      "display": null,
      "flex": null,
      "flex_flow": null,
      "grid_area": null,
      "grid_auto_columns": null,
      "grid_auto_flow": null,
      "grid_auto_rows": null,
      "grid_column": null,
      "grid_gap": null,
      "grid_row": null,
      "grid_template_areas": null,
      "grid_template_columns": null,
      "grid_template_rows": null,
      "height": null,
      "justify_content": null,
      "justify_items": null,
      "left": null,
      "margin": null,
      "max_height": null,
      "max_width": null,
      "min_height": null,
      "min_width": null,
      "object_fit": null,
      "object_position": null,
      "order": null,
      "overflow": null,
      "overflow_x": null,
      "overflow_y": null,
      "padding": null,
      "right": null,
      "top": null,
      "visibility": null,
      "width": null
     }
    },
    "244e92ab47a140bfbddf227f4843a293": {
     "model_module": "@jupyter-widgets/base",
     "model_name": "LayoutModel",
     "state": {
      "_model_module": "@jupyter-widgets/base",
      "_model_module_version": "1.2.0",
      "_model_name": "LayoutModel",
      "_view_count": null,
      "_view_module": "@jupyter-widgets/base",
      "_view_module_version": "1.2.0",
      "_view_name": "LayoutView",
      "align_content": null,
      "align_items": null,
      "align_self": null,
      "border": null,
      "bottom": null,
      "display": null,
      "flex": null,
      "flex_flow": null,
      "grid_area": null,
      "grid_auto_columns": null,
      "grid_auto_flow": null,
      "grid_auto_rows": null,
      "grid_column": null,
      "grid_gap": null,
      "grid_row": null,
      "grid_template_areas": null,
      "grid_template_columns": null,
      "grid_template_rows": null,
      "height": null,
      "justify_content": null,
      "justify_items": null,
      "left": null,
      "margin": null,
      "max_height": null,
      "max_width": null,
      "min_height": null,
      "min_width": null,
      "object_fit": null,
      "object_position": null,
      "order": null,
      "overflow": null,
      "overflow_x": null,
      "overflow_y": null,
      "padding": null,
      "right": null,
      "top": null,
      "visibility": null,
      "width": null
     }
    },
    "2555af77955848d0ba4d995b37a75a2d": {
     "model_module": "@jupyter-widgets/base",
     "model_name": "LayoutModel",
     "state": {
      "_model_module": "@jupyter-widgets/base",
      "_model_module_version": "1.2.0",
      "_model_name": "LayoutModel",
      "_view_count": null,
      "_view_module": "@jupyter-widgets/base",
      "_view_module_version": "1.2.0",
      "_view_name": "LayoutView",
      "align_content": null,
      "align_items": null,
      "align_self": null,
      "border": null,
      "bottom": null,
      "display": null,
      "flex": null,
      "flex_flow": null,
      "grid_area": null,
      "grid_auto_columns": null,
      "grid_auto_flow": null,
      "grid_auto_rows": null,
      "grid_column": null,
      "grid_gap": null,
      "grid_row": null,
      "grid_template_areas": null,
      "grid_template_columns": null,
      "grid_template_rows": null,
      "height": null,
      "justify_content": null,
      "justify_items": null,
      "left": null,
      "margin": null,
      "max_height": null,
      "max_width": null,
      "min_height": null,
      "min_width": null,
      "object_fit": null,
      "object_position": null,
      "order": null,
      "overflow": null,
      "overflow_x": null,
      "overflow_y": null,
      "padding": null,
      "right": null,
      "top": null,
      "visibility": null,
      "width": null
     }
    },
    "25820410c2e74aadb339084c4641ffb4": {
     "model_module": "@jupyter-widgets/controls",
     "model_name": "FloatProgressModel",
     "state": {
      "_dom_classes": [],
      "_model_module": "@jupyter-widgets/controls",
      "_model_module_version": "1.5.0",
      "_model_name": "FloatProgressModel",
      "_view_count": null,
      "_view_module": "@jupyter-widgets/controls",
      "_view_module_version": "1.5.0",
      "_view_name": "ProgressView",
      "bar_style": "success",
      "description": "epoch 10: 100%",
      "description_tooltip": null,
      "layout": "IPY_MODEL_e805155377e94b3eac6050ff56beef70",
      "max": 40,
      "min": 0,
      "orientation": "horizontal",
      "style": "IPY_MODEL_96952d85f6284b92aaf3d443e7bf47d0",
      "value": 40
     }
    },
    "25c755d5d9d74409b6c92efcaf213a19": {
     "model_module": "@jupyter-widgets/controls",
     "model_name": "DescriptionStyleModel",
     "state": {
      "_model_module": "@jupyter-widgets/controls",
      "_model_module_version": "1.5.0",
      "_model_name": "DescriptionStyleModel",
      "_view_count": null,
      "_view_module": "@jupyter-widgets/base",
      "_view_module_version": "1.2.0",
      "_view_name": "StyleView",
      "description_width": ""
     }
    },
    "27ef84ab1e1241b3a566c9b19716a917": {
     "model_module": "@jupyter-widgets/controls",
     "model_name": "HBoxModel",
     "state": {
      "_dom_classes": [],
      "_model_module": "@jupyter-widgets/controls",
      "_model_module_version": "1.5.0",
      "_model_name": "HBoxModel",
      "_view_count": null,
      "_view_module": "@jupyter-widgets/controls",
      "_view_module_version": "1.5.0",
      "_view_name": "HBoxView",
      "box_style": "",
      "children": [
       "IPY_MODEL_2e55be4f1c4643bf87782a46ad2b9241",
       "IPY_MODEL_a2238efc4cf34d08b133d0362340e891"
      ],
      "layout": "IPY_MODEL_2e905c685f6b4699ad486dae0fd8ca5d"
     }
    },
    "29b1a1d28e5f48c5b8167480fc352e8f": {
     "model_module": "@jupyter-widgets/controls",
     "model_name": "ProgressStyleModel",
     "state": {
      "_model_module": "@jupyter-widgets/controls",
      "_model_module_version": "1.5.0",
      "_model_name": "ProgressStyleModel",
      "_view_count": null,
      "_view_module": "@jupyter-widgets/base",
      "_view_module_version": "1.2.0",
      "_view_name": "StyleView",
      "bar_color": null,
      "description_width": "initial"
     }
    },
    "2bdd86fa907044369b41e9772da26290": {
     "model_module": "@jupyter-widgets/controls",
     "model_name": "HBoxModel",
     "state": {
      "_dom_classes": [],
      "_model_module": "@jupyter-widgets/controls",
      "_model_module_version": "1.5.0",
      "_model_name": "HBoxModel",
      "_view_count": null,
      "_view_module": "@jupyter-widgets/controls",
      "_view_module_version": "1.5.0",
      "_view_name": "HBoxView",
      "box_style": "",
      "children": [
       "IPY_MODEL_4895568f98e5415e9e757e28aa9d4c04",
       "IPY_MODEL_a8b74771315d4f15a04164e2a78cd0c4"
      ],
      "layout": "IPY_MODEL_efb788d91cc84e19a834c80b7069a8ff"
     }
    },
    "2c75dbc719984db4b203d06d20fc7682": {
     "model_module": "@jupyter-widgets/base",
     "model_name": "LayoutModel",
     "state": {
      "_model_module": "@jupyter-widgets/base",
      "_model_module_version": "1.2.0",
      "_model_name": "LayoutModel",
      "_view_count": null,
      "_view_module": "@jupyter-widgets/base",
      "_view_module_version": "1.2.0",
      "_view_name": "LayoutView",
      "align_content": null,
      "align_items": null,
      "align_self": null,
      "border": null,
      "bottom": null,
      "display": null,
      "flex": null,
      "flex_flow": null,
      "grid_area": null,
      "grid_auto_columns": null,
      "grid_auto_flow": null,
      "grid_auto_rows": null,
      "grid_column": null,
      "grid_gap": null,
      "grid_row": null,
      "grid_template_areas": null,
      "grid_template_columns": null,
      "grid_template_rows": null,
      "height": null,
      "justify_content": null,
      "justify_items": null,
      "left": null,
      "margin": null,
      "max_height": null,
      "max_width": null,
      "min_height": null,
      "min_width": null,
      "object_fit": null,
      "object_position": null,
      "order": null,
      "overflow": null,
      "overflow_x": null,
      "overflow_y": null,
      "padding": null,
      "right": null,
      "top": null,
      "visibility": null,
      "width": null
     }
    },
    "2d0c09b6dc3b41f2a096cc405668aa1d": {
     "model_module": "@jupyter-widgets/base",
     "model_name": "LayoutModel",
     "state": {
      "_model_module": "@jupyter-widgets/base",
      "_model_module_version": "1.2.0",
      "_model_name": "LayoutModel",
      "_view_count": null,
      "_view_module": "@jupyter-widgets/base",
      "_view_module_version": "1.2.0",
      "_view_name": "LayoutView",
      "align_content": null,
      "align_items": null,
      "align_self": null,
      "border": null,
      "bottom": null,
      "display": null,
      "flex": null,
      "flex_flow": null,
      "grid_area": null,
      "grid_auto_columns": null,
      "grid_auto_flow": null,
      "grid_auto_rows": null,
      "grid_column": null,
      "grid_gap": null,
      "grid_row": null,
      "grid_template_areas": null,
      "grid_template_columns": null,
      "grid_template_rows": null,
      "height": null,
      "justify_content": null,
      "justify_items": null,
      "left": null,
      "margin": null,
      "max_height": null,
      "max_width": null,
      "min_height": null,
      "min_width": null,
      "object_fit": null,
      "object_position": null,
      "order": null,
      "overflow": null,
      "overflow_x": null,
      "overflow_y": null,
      "padding": null,
      "right": null,
      "top": null,
      "visibility": null,
      "width": null
     }
    },
    "2e55be4f1c4643bf87782a46ad2b9241": {
     "model_module": "@jupyter-widgets/controls",
     "model_name": "FloatProgressModel",
     "state": {
      "_dom_classes": [],
      "_model_module": "@jupyter-widgets/controls",
      "_model_module_version": "1.5.0",
      "_model_name": "FloatProgressModel",
      "_view_count": null,
      "_view_module": "@jupyter-widgets/controls",
      "_view_module_version": "1.5.0",
      "_view_name": "ProgressView",
      "bar_style": "success",
      "description": "training: 100%",
      "description_tooltip": null,
      "layout": "IPY_MODEL_73d8a90cc4fd491990a393021461810f",
      "max": 10,
      "min": 0,
      "orientation": "horizontal",
      "style": "IPY_MODEL_acf6c1ef081641cf942605ec1c8efba4",
      "value": 10
     }
    },
    "2e905c685f6b4699ad486dae0fd8ca5d": {
     "model_module": "@jupyter-widgets/base",
     "model_name": "LayoutModel",
     "state": {
      "_model_module": "@jupyter-widgets/base",
      "_model_module_version": "1.2.0",
      "_model_name": "LayoutModel",
      "_view_count": null,
      "_view_module": "@jupyter-widgets/base",
      "_view_module_version": "1.2.0",
      "_view_name": "LayoutView",
      "align_content": null,
      "align_items": null,
      "align_self": null,
      "border": null,
      "bottom": null,
      "display": null,
      "flex": null,
      "flex_flow": null,
      "grid_area": null,
      "grid_auto_columns": null,
      "grid_auto_flow": null,
      "grid_auto_rows": null,
      "grid_column": null,
      "grid_gap": null,
      "grid_row": null,
      "grid_template_areas": null,
      "grid_template_columns": null,
      "grid_template_rows": null,
      "height": null,
      "justify_content": null,
      "justify_items": null,
      "left": null,
      "margin": null,
      "max_height": null,
      "max_width": null,
      "min_height": null,
      "min_width": null,
      "object_fit": null,
      "object_position": null,
      "order": null,
      "overflow": null,
      "overflow_x": null,
      "overflow_y": null,
      "padding": null,
      "right": null,
      "top": null,
      "visibility": null,
      "width": null
     }
    },
    "2f8d1f21abd94b65a272be917c55fb95": {
     "model_module": "@jupyter-widgets/controls",
     "model_name": "DescriptionStyleModel",
     "state": {
      "_model_module": "@jupyter-widgets/controls",
      "_model_module_version": "1.5.0",
      "_model_name": "DescriptionStyleModel",
      "_view_count": null,
      "_view_module": "@jupyter-widgets/base",
      "_view_module_version": "1.2.0",
      "_view_name": "StyleView",
      "description_width": ""
     }
    },
    "301b9ef52e574cb3896aca7c1bddbd83": {
     "model_module": "@jupyter-widgets/controls",
     "model_name": "HBoxModel",
     "state": {
      "_dom_classes": [],
      "_model_module": "@jupyter-widgets/controls",
      "_model_module_version": "1.5.0",
      "_model_name": "HBoxModel",
      "_view_count": null,
      "_view_module": "@jupyter-widgets/controls",
      "_view_module_version": "1.5.0",
      "_view_name": "HBoxView",
      "box_style": "",
      "children": [
       "IPY_MODEL_b391d9a312ba4acb9bc9150640e2497c",
       "IPY_MODEL_5e281ca4a66342ba94c3868149f7e546"
      ],
      "layout": "IPY_MODEL_72434edcc66941d191909fd42b146b58"
     }
    },
    "30cc0ac5e99c4b759fb085c89e189336": {
     "model_module": "@jupyter-widgets/controls",
     "model_name": "ProgressStyleModel",
     "state": {
      "_model_module": "@jupyter-widgets/controls",
      "_model_module_version": "1.5.0",
      "_model_name": "ProgressStyleModel",
      "_view_count": null,
      "_view_module": "@jupyter-widgets/base",
      "_view_module_version": "1.2.0",
      "_view_name": "StyleView",
      "bar_color": null,
      "description_width": "initial"
     }
    },
    "31789a6f02ca4471b7259e875b9ec1ef": {
     "model_module": "@jupyter-widgets/base",
     "model_name": "LayoutModel",
     "state": {
      "_model_module": "@jupyter-widgets/base",
      "_model_module_version": "1.2.0",
      "_model_name": "LayoutModel",
      "_view_count": null,
      "_view_module": "@jupyter-widgets/base",
      "_view_module_version": "1.2.0",
      "_view_name": "LayoutView",
      "align_content": null,
      "align_items": null,
      "align_self": null,
      "border": null,
      "bottom": null,
      "display": null,
      "flex": null,
      "flex_flow": null,
      "grid_area": null,
      "grid_auto_columns": null,
      "grid_auto_flow": null,
      "grid_auto_rows": null,
      "grid_column": null,
      "grid_gap": null,
      "grid_row": null,
      "grid_template_areas": null,
      "grid_template_columns": null,
      "grid_template_rows": null,
      "height": null,
      "justify_content": null,
      "justify_items": null,
      "left": null,
      "margin": null,
      "max_height": null,
      "max_width": null,
      "min_height": null,
      "min_width": null,
      "object_fit": null,
      "object_position": null,
      "order": null,
      "overflow": null,
      "overflow_x": null,
      "overflow_y": null,
      "padding": null,
      "right": null,
      "top": null,
      "visibility": null,
      "width": null
     }
    },
    "3280cbf7f180429083330e8751546066": {
     "model_module": "@jupyter-widgets/controls",
     "model_name": "HBoxModel",
     "state": {
      "_dom_classes": [],
      "_model_module": "@jupyter-widgets/controls",
      "_model_module_version": "1.5.0",
      "_model_name": "HBoxModel",
      "_view_count": null,
      "_view_module": "@jupyter-widgets/controls",
      "_view_module_version": "1.5.0",
      "_view_name": "HBoxView",
      "box_style": "",
      "children": [
       "IPY_MODEL_3c114a954a4c4f0e99a45970a116e676",
       "IPY_MODEL_9d330eb6c6634b40b8799547dba8e165"
      ],
      "layout": "IPY_MODEL_a17a320a6ef14b92b6c95e44273e4f51"
     }
    },
    "32efbaf24078468ca59c6d3083bbc475": {
     "model_module": "@jupyter-widgets/base",
     "model_name": "LayoutModel",
     "state": {
      "_model_module": "@jupyter-widgets/base",
      "_model_module_version": "1.2.0",
      "_model_name": "LayoutModel",
      "_view_count": null,
      "_view_module": "@jupyter-widgets/base",
      "_view_module_version": "1.2.0",
      "_view_name": "LayoutView",
      "align_content": null,
      "align_items": null,
      "align_self": null,
      "border": null,
      "bottom": null,
      "display": null,
      "flex": null,
      "flex_flow": null,
      "grid_area": null,
      "grid_auto_columns": null,
      "grid_auto_flow": null,
      "grid_auto_rows": null,
      "grid_column": null,
      "grid_gap": null,
      "grid_row": null,
      "grid_template_areas": null,
      "grid_template_columns": null,
      "grid_template_rows": null,
      "height": null,
      "justify_content": null,
      "justify_items": null,
      "left": null,
      "margin": null,
      "max_height": null,
      "max_width": null,
      "min_height": null,
      "min_width": null,
      "object_fit": null,
      "object_position": null,
      "order": null,
      "overflow": null,
      "overflow_x": null,
      "overflow_y": null,
      "padding": null,
      "right": null,
      "top": null,
      "visibility": null,
      "width": null
     }
    },
    "345f2b3eb35a4087980499c5212adcf3": {
     "model_module": "@jupyter-widgets/base",
     "model_name": "LayoutModel",
     "state": {
      "_model_module": "@jupyter-widgets/base",
      "_model_module_version": "1.2.0",
      "_model_name": "LayoutModel",
      "_view_count": null,
      "_view_module": "@jupyter-widgets/base",
      "_view_module_version": "1.2.0",
      "_view_name": "LayoutView",
      "align_content": null,
      "align_items": null,
      "align_self": null,
      "border": null,
      "bottom": null,
      "display": null,
      "flex": null,
      "flex_flow": null,
      "grid_area": null,
      "grid_auto_columns": null,
      "grid_auto_flow": null,
      "grid_auto_rows": null,
      "grid_column": null,
      "grid_gap": null,
      "grid_row": null,
      "grid_template_areas": null,
      "grid_template_columns": null,
      "grid_template_rows": null,
      "height": null,
      "justify_content": null,
      "justify_items": null,
      "left": null,
      "margin": null,
      "max_height": null,
      "max_width": null,
      "min_height": null,
      "min_width": null,
      "object_fit": null,
      "object_position": null,
      "order": null,
      "overflow": null,
      "overflow_x": null,
      "overflow_y": null,
      "padding": null,
      "right": null,
      "top": null,
      "visibility": null,
      "width": null
     }
    },
    "346681aa06a64a1d89d9ad0dbfbed05a": {
     "model_module": "@jupyter-widgets/base",
     "model_name": "LayoutModel",
     "state": {
      "_model_module": "@jupyter-widgets/base",
      "_model_module_version": "1.2.0",
      "_model_name": "LayoutModel",
      "_view_count": null,
      "_view_module": "@jupyter-widgets/base",
      "_view_module_version": "1.2.0",
      "_view_name": "LayoutView",
      "align_content": null,
      "align_items": null,
      "align_self": null,
      "border": null,
      "bottom": null,
      "display": null,
      "flex": null,
      "flex_flow": null,
      "grid_area": null,
      "grid_auto_columns": null,
      "grid_auto_flow": null,
      "grid_auto_rows": null,
      "grid_column": null,
      "grid_gap": null,
      "grid_row": null,
      "grid_template_areas": null,
      "grid_template_columns": null,
      "grid_template_rows": null,
      "height": null,
      "justify_content": null,
      "justify_items": null,
      "left": null,
      "margin": null,
      "max_height": null,
      "max_width": null,
      "min_height": null,
      "min_width": null,
      "object_fit": null,
      "object_position": null,
      "order": null,
      "overflow": null,
      "overflow_x": null,
      "overflow_y": null,
      "padding": null,
      "right": null,
      "top": null,
      "visibility": null,
      "width": null
     }
    },
    "34787f1f7623461f860a3ba4d319d566": {
     "model_module": "@jupyter-widgets/controls",
     "model_name": "HBoxModel",
     "state": {
      "_dom_classes": [],
      "_model_module": "@jupyter-widgets/controls",
      "_model_module_version": "1.5.0",
      "_model_name": "HBoxModel",
      "_view_count": null,
      "_view_module": "@jupyter-widgets/controls",
      "_view_module_version": "1.5.0",
      "_view_name": "HBoxView",
      "box_style": "",
      "children": [
       "IPY_MODEL_2392fa4d98804567bb7b4a34632a16c1",
       "IPY_MODEL_8aeeada067b4403384df48b81cd42816"
      ],
      "layout": "IPY_MODEL_2d0c09b6dc3b41f2a096cc405668aa1d"
     }
    },
    "349e02b3106f4e139974d387aeb49e8a": {
     "model_module": "@jupyter-widgets/base",
     "model_name": "LayoutModel",
     "state": {
      "_model_module": "@jupyter-widgets/base",
      "_model_module_version": "1.2.0",
      "_model_name": "LayoutModel",
      "_view_count": null,
      "_view_module": "@jupyter-widgets/base",
      "_view_module_version": "1.2.0",
      "_view_name": "LayoutView",
      "align_content": null,
      "align_items": null,
      "align_self": null,
      "border": null,
      "bottom": null,
      "display": null,
      "flex": null,
      "flex_flow": null,
      "grid_area": null,
      "grid_auto_columns": null,
      "grid_auto_flow": null,
      "grid_auto_rows": null,
      "grid_column": null,
      "grid_gap": null,
      "grid_row": null,
      "grid_template_areas": null,
      "grid_template_columns": null,
      "grid_template_rows": null,
      "height": null,
      "justify_content": null,
      "justify_items": null,
      "left": null,
      "margin": null,
      "max_height": null,
      "max_width": null,
      "min_height": null,
      "min_width": null,
      "object_fit": null,
      "object_position": null,
      "order": null,
      "overflow": null,
      "overflow_x": null,
      "overflow_y": null,
      "padding": null,
      "right": null,
      "top": null,
      "visibility": null,
      "width": null
     }
    },
    "3676aa8881dd4405a04888473bd78e09": {
     "model_module": "@jupyter-widgets/controls",
     "model_name": "DescriptionStyleModel",
     "state": {
      "_model_module": "@jupyter-widgets/controls",
      "_model_module_version": "1.5.0",
      "_model_name": "DescriptionStyleModel",
      "_view_count": null,
      "_view_module": "@jupyter-widgets/base",
      "_view_module_version": "1.2.0",
      "_view_name": "StyleView",
      "description_width": ""
     }
    },
    "3799d558334c4acd830ae1acd6b394c3": {
     "model_module": "@jupyter-widgets/base",
     "model_name": "LayoutModel",
     "state": {
      "_model_module": "@jupyter-widgets/base",
      "_model_module_version": "1.2.0",
      "_model_name": "LayoutModel",
      "_view_count": null,
      "_view_module": "@jupyter-widgets/base",
      "_view_module_version": "1.2.0",
      "_view_name": "LayoutView",
      "align_content": null,
      "align_items": null,
      "align_self": null,
      "border": null,
      "bottom": null,
      "display": null,
      "flex": null,
      "flex_flow": null,
      "grid_area": null,
      "grid_auto_columns": null,
      "grid_auto_flow": null,
      "grid_auto_rows": null,
      "grid_column": null,
      "grid_gap": null,
      "grid_row": null,
      "grid_template_areas": null,
      "grid_template_columns": null,
      "grid_template_rows": null,
      "height": null,
      "justify_content": null,
      "justify_items": null,
      "left": null,
      "margin": null,
      "max_height": null,
      "max_width": null,
      "min_height": null,
      "min_width": null,
      "object_fit": null,
      "object_position": null,
      "order": null,
      "overflow": null,
      "overflow_x": null,
      "overflow_y": null,
      "padding": null,
      "right": null,
      "top": null,
      "visibility": null,
      "width": null
     }
    },
    "385e5783797a406dba7fb9e9c0197eef": {
     "model_module": "@jupyter-widgets/controls",
     "model_name": "FloatProgressModel",
     "state": {
      "_dom_classes": [],
      "_model_module": "@jupyter-widgets/controls",
      "_model_module_version": "1.5.0",
      "_model_name": "FloatProgressModel",
      "_view_count": null,
      "_view_module": "@jupyter-widgets/controls",
      "_view_module_version": "1.5.0",
      "_view_name": "ProgressView",
      "bar_style": "success",
      "description": "training: 100%",
      "description_tooltip": null,
      "layout": "IPY_MODEL_8387432806e9452a81044570df5f6f92",
      "max": 10,
      "min": 0,
      "orientation": "horizontal",
      "style": "IPY_MODEL_6a352aad89504a57a5cfe8b283db9dcf",
      "value": 10
     }
    },
    "399ae87299d14dc0a6cb02bf9c1ce11d": {
     "model_module": "@jupyter-widgets/controls",
     "model_name": "HBoxModel",
     "state": {
      "_dom_classes": [],
      "_model_module": "@jupyter-widgets/controls",
      "_model_module_version": "1.5.0",
      "_model_name": "HBoxModel",
      "_view_count": null,
      "_view_module": "@jupyter-widgets/controls",
      "_view_module_version": "1.5.0",
      "_view_name": "HBoxView",
      "box_style": "",
      "children": [
       "IPY_MODEL_1485ba757b1e4d92bbe0f3ece7f95b63",
       "IPY_MODEL_d7860722a86849f3a7f1ac8b1d1072db"
      ],
      "layout": "IPY_MODEL_b58fd8643319463aa56ad678e5bddb81"
     }
    },
    "3b197e78eef04412860458ca748aa396": {
     "model_module": "@jupyter-widgets/controls",
     "model_name": "DescriptionStyleModel",
     "state": {
      "_model_module": "@jupyter-widgets/controls",
      "_model_module_version": "1.5.0",
      "_model_name": "DescriptionStyleModel",
      "_view_count": null,
      "_view_module": "@jupyter-widgets/base",
      "_view_module_version": "1.2.0",
      "_view_name": "StyleView",
      "description_width": ""
     }
    },
    "3c114a954a4c4f0e99a45970a116e676": {
     "model_module": "@jupyter-widgets/controls",
     "model_name": "FloatProgressModel",
     "state": {
      "_dom_classes": [],
      "_model_module": "@jupyter-widgets/controls",
      "_model_module_version": "1.5.0",
      "_model_name": "FloatProgressModel",
      "_view_count": null,
      "_view_module": "@jupyter-widgets/controls",
      "_view_module_version": "1.5.0",
      "_view_name": "ProgressView",
      "bar_style": "success",
      "description": "epoch 1: 100%",
      "description_tooltip": null,
      "layout": "IPY_MODEL_9afc6d0cecba43f283f7900bfb5a7af0",
      "max": 133,
      "min": 0,
      "orientation": "horizontal",
      "style": "IPY_MODEL_4159bdd7b28942b99b5c9bf9080ef4da",
      "value": 133
     }
    },
    "3d22f160967345149114a79a3f5d9961": {
     "model_module": "@jupyter-widgets/base",
     "model_name": "LayoutModel",
     "state": {
      "_model_module": "@jupyter-widgets/base",
      "_model_module_version": "1.2.0",
      "_model_name": "LayoutModel",
      "_view_count": null,
      "_view_module": "@jupyter-widgets/base",
      "_view_module_version": "1.2.0",
      "_view_name": "LayoutView",
      "align_content": null,
      "align_items": null,
      "align_self": null,
      "border": null,
      "bottom": null,
      "display": null,
      "flex": null,
      "flex_flow": null,
      "grid_area": null,
      "grid_auto_columns": null,
      "grid_auto_flow": null,
      "grid_auto_rows": null,
      "grid_column": null,
      "grid_gap": null,
      "grid_row": null,
      "grid_template_areas": null,
      "grid_template_columns": null,
      "grid_template_rows": null,
      "height": null,
      "justify_content": null,
      "justify_items": null,
      "left": null,
      "margin": null,
      "max_height": null,
      "max_width": null,
      "min_height": null,
      "min_width": null,
      "object_fit": null,
      "object_position": null,
      "order": null,
      "overflow": null,
      "overflow_x": null,
      "overflow_y": null,
      "padding": null,
      "right": null,
      "top": null,
      "visibility": null,
      "width": null
     }
    },
    "3d9f41b6eb98485c9870011884b92556": {
     "model_module": "@jupyter-widgets/controls",
     "model_name": "FloatProgressModel",
     "state": {
      "_dom_classes": [],
      "_model_module": "@jupyter-widgets/controls",
      "_model_module_version": "1.5.0",
      "_model_name": "FloatProgressModel",
      "_view_count": null,
      "_view_module": "@jupyter-widgets/controls",
      "_view_module_version": "1.5.0",
      "_view_name": "ProgressView",
      "bar_style": "success",
      "description": "epoch 10: 100%",
      "description_tooltip": null,
      "layout": "IPY_MODEL_1926f66ae40f46298c5309a1416d304f",
      "max": 133,
      "min": 0,
      "orientation": "horizontal",
      "style": "IPY_MODEL_a88a6201a6a44c62b831df297897c374",
      "value": 133
     }
    },
    "3ea0f4b331074fe6beb6512b453cea79": {
     "model_module": "@jupyter-widgets/controls",
     "model_name": "ProgressStyleModel",
     "state": {
      "_model_module": "@jupyter-widgets/controls",
      "_model_module_version": "1.5.0",
      "_model_name": "ProgressStyleModel",
      "_view_count": null,
      "_view_module": "@jupyter-widgets/base",
      "_view_module_version": "1.2.0",
      "_view_name": "StyleView",
      "bar_color": null,
      "description_width": "initial"
     }
    },
    "3edcef5945ee4b2f958a14e339c0ee0a": {
     "model_module": "@jupyter-widgets/base",
     "model_name": "LayoutModel",
     "state": {
      "_model_module": "@jupyter-widgets/base",
      "_model_module_version": "1.2.0",
      "_model_name": "LayoutModel",
      "_view_count": null,
      "_view_module": "@jupyter-widgets/base",
      "_view_module_version": "1.2.0",
      "_view_name": "LayoutView",
      "align_content": null,
      "align_items": null,
      "align_self": null,
      "border": null,
      "bottom": null,
      "display": null,
      "flex": null,
      "flex_flow": null,
      "grid_area": null,
      "grid_auto_columns": null,
      "grid_auto_flow": null,
      "grid_auto_rows": null,
      "grid_column": null,
      "grid_gap": null,
      "grid_row": null,
      "grid_template_areas": null,
      "grid_template_columns": null,
      "grid_template_rows": null,
      "height": null,
      "justify_content": null,
      "justify_items": null,
      "left": null,
      "margin": null,
      "max_height": null,
      "max_width": null,
      "min_height": null,
      "min_width": null,
      "object_fit": null,
      "object_position": null,
      "order": null,
      "overflow": null,
      "overflow_x": null,
      "overflow_y": null,
      "padding": null,
      "right": null,
      "top": null,
      "visibility": null,
      "width": null
     }
    },
    "3f1b7cf738de477e9b7c6112574c368e": {
     "model_module": "@jupyter-widgets/base",
     "model_name": "LayoutModel",
     "state": {
      "_model_module": "@jupyter-widgets/base",
      "_model_module_version": "1.2.0",
      "_model_name": "LayoutModel",
      "_view_count": null,
      "_view_module": "@jupyter-widgets/base",
      "_view_module_version": "1.2.0",
      "_view_name": "LayoutView",
      "align_content": null,
      "align_items": null,
      "align_self": null,
      "border": null,
      "bottom": null,
      "display": null,
      "flex": null,
      "flex_flow": null,
      "grid_area": null,
      "grid_auto_columns": null,
      "grid_auto_flow": null,
      "grid_auto_rows": null,
      "grid_column": null,
      "grid_gap": null,
      "grid_row": null,
      "grid_template_areas": null,
      "grid_template_columns": null,
      "grid_template_rows": null,
      "height": null,
      "justify_content": null,
      "justify_items": null,
      "left": null,
      "margin": null,
      "max_height": null,
      "max_width": null,
      "min_height": null,
      "min_width": null,
      "object_fit": null,
      "object_position": null,
      "order": null,
      "overflow": null,
      "overflow_x": null,
      "overflow_y": null,
      "padding": null,
      "right": null,
      "top": null,
      "visibility": null,
      "width": null
     }
    },
    "405c9f0be87b43318fea2048f75f951d": {
     "model_module": "@jupyter-widgets/controls",
     "model_name": "ProgressStyleModel",
     "state": {
      "_model_module": "@jupyter-widgets/controls",
      "_model_module_version": "1.5.0",
      "_model_name": "ProgressStyleModel",
      "_view_count": null,
      "_view_module": "@jupyter-widgets/base",
      "_view_module_version": "1.2.0",
      "_view_name": "StyleView",
      "bar_color": null,
      "description_width": "initial"
     }
    },
    "4159bdd7b28942b99b5c9bf9080ef4da": {
     "model_module": "@jupyter-widgets/controls",
     "model_name": "ProgressStyleModel",
     "state": {
      "_model_module": "@jupyter-widgets/controls",
      "_model_module_version": "1.5.0",
      "_model_name": "ProgressStyleModel",
      "_view_count": null,
      "_view_module": "@jupyter-widgets/base",
      "_view_module_version": "1.2.0",
      "_view_name": "StyleView",
      "bar_color": null,
      "description_width": "initial"
     }
    },
    "426fa60ff75f4d8fb8bea2ac185aeba1": {
     "model_module": "@jupyter-widgets/controls",
     "model_name": "HBoxModel",
     "state": {
      "_dom_classes": [],
      "_model_module": "@jupyter-widgets/controls",
      "_model_module_version": "1.5.0",
      "_model_name": "HBoxModel",
      "_view_count": null,
      "_view_module": "@jupyter-widgets/controls",
      "_view_module_version": "1.5.0",
      "_view_name": "HBoxView",
      "box_style": "",
      "children": [
       "IPY_MODEL_1930a5f3681a4449ab74f163498eed22",
       "IPY_MODEL_ecc0cc15970549bfa8818f18b17a9ca2"
      ],
      "layout": "IPY_MODEL_dcfe5df552704e8bb8b94864ff45b05e"
     }
    },
    "42c58d7cc49645f9994a2cb1668eba48": {
     "model_module": "@jupyter-widgets/controls",
     "model_name": "FloatProgressModel",
     "state": {
      "_dom_classes": [],
      "_model_module": "@jupyter-widgets/controls",
      "_model_module_version": "1.5.0",
      "_model_name": "FloatProgressModel",
      "_view_count": null,
      "_view_module": "@jupyter-widgets/controls",
      "_view_module_version": "1.5.0",
      "_view_name": "ProgressView",
      "bar_style": "success",
      "description": "epoch 4: 100%",
      "description_tooltip": null,
      "layout": "IPY_MODEL_32efbaf24078468ca59c6d3083bbc475",
      "max": 133,
      "min": 0,
      "orientation": "horizontal",
      "style": "IPY_MODEL_f89a045545d5406d9da74dfee303fdcc",
      "value": 133
     }
    },
    "43901a34f4b44645bfb1c64bed5efa9f": {
     "model_module": "@jupyter-widgets/controls",
     "model_name": "HTMLModel",
     "state": {
      "_dom_classes": [],
      "_model_module": "@jupyter-widgets/controls",
      "_model_module_version": "1.5.0",
      "_model_name": "HTMLModel",
      "_view_count": null,
      "_view_module": "@jupyter-widgets/controls",
      "_view_module_version": "1.5.0",
      "_view_name": "HTMLView",
      "description": "",
      "description_tooltip": null,
      "layout": "IPY_MODEL_3edcef5945ee4b2f958a14e339c0ee0a",
      "placeholder": "​",
      "style": "IPY_MODEL_e66c6126648e4224a5470f97c1e6bfcc",
      "value": " 40/40 [02:28&lt;00:00,  3.71s/instance, train_loss=0.302, train_denotation_acc=1, dev_denotation_acc=1]"
     }
    },
    "43cebe7c50da441d86cd606bbff635ef": {
     "model_module": "@jupyter-widgets/base",
     "model_name": "LayoutModel",
     "state": {
      "_model_module": "@jupyter-widgets/base",
      "_model_module_version": "1.2.0",
      "_model_name": "LayoutModel",
      "_view_count": null,
      "_view_module": "@jupyter-widgets/base",
      "_view_module_version": "1.2.0",
      "_view_name": "LayoutView",
      "align_content": null,
      "align_items": null,
      "align_self": null,
      "border": null,
      "bottom": null,
      "display": null,
      "flex": null,
      "flex_flow": null,
      "grid_area": null,
      "grid_auto_columns": null,
      "grid_auto_flow": null,
      "grid_auto_rows": null,
      "grid_column": null,
      "grid_gap": null,
      "grid_row": null,
      "grid_template_areas": null,
      "grid_template_columns": null,
      "grid_template_rows": null,
      "height": null,
      "justify_content": null,
      "justify_items": null,
      "left": null,
      "margin": null,
      "max_height": null,
      "max_width": null,
      "min_height": null,
      "min_width": null,
      "object_fit": null,
      "object_position": null,
      "order": null,
      "overflow": null,
      "overflow_x": null,
      "overflow_y": null,
      "padding": null,
      "right": null,
      "top": null,
      "visibility": null,
      "width": null
     }
    },
    "4895568f98e5415e9e757e28aa9d4c04": {
     "model_module": "@jupyter-widgets/controls",
     "model_name": "FloatProgressModel",
     "state": {
      "_dom_classes": [],
      "_model_module": "@jupyter-widgets/controls",
      "_model_module_version": "1.5.0",
      "_model_name": "FloatProgressModel",
      "_view_count": null,
      "_view_module": "@jupyter-widgets/controls",
      "_view_module_version": "1.5.0",
      "_view_name": "ProgressView",
      "bar_style": "success",
      "description": "epoch 5: 100%",
      "description_tooltip": null,
      "layout": "IPY_MODEL_1f46f69c7bb04e3aae20d9aedf341a45",
      "max": 133,
      "min": 0,
      "orientation": "horizontal",
      "style": "IPY_MODEL_57b21cfae1134c2f9b1a9bbbe5e0afe8",
      "value": 133
     }
    },
    "48f188b8e62b440b883f984928831a94": {
     "model_module": "@jupyter-widgets/base",
     "model_name": "LayoutModel",
     "state": {
      "_model_module": "@jupyter-widgets/base",
      "_model_module_version": "1.2.0",
      "_model_name": "LayoutModel",
      "_view_count": null,
      "_view_module": "@jupyter-widgets/base",
      "_view_module_version": "1.2.0",
      "_view_name": "LayoutView",
      "align_content": null,
      "align_items": null,
      "align_self": null,
      "border": null,
      "bottom": null,
      "display": null,
      "flex": null,
      "flex_flow": null,
      "grid_area": null,
      "grid_auto_columns": null,
      "grid_auto_flow": null,
      "grid_auto_rows": null,
      "grid_column": null,
      "grid_gap": null,
      "grid_row": null,
      "grid_template_areas": null,
      "grid_template_columns": null,
      "grid_template_rows": null,
      "height": null,
      "justify_content": null,
      "justify_items": null,
      "left": null,
      "margin": null,
      "max_height": null,
      "max_width": null,
      "min_height": null,
      "min_width": null,
      "object_fit": null,
      "object_position": null,
      "order": null,
      "overflow": null,
      "overflow_x": null,
      "overflow_y": null,
      "padding": null,
      "right": null,
      "top": null,
      "visibility": null,
      "width": null
     }
    },
    "4c11924b82a648dbb09a2bf0359e0718": {
     "model_module": "@jupyter-widgets/controls",
     "model_name": "HTMLModel",
     "state": {
      "_dom_classes": [],
      "_model_module": "@jupyter-widgets/controls",
      "_model_module_version": "1.5.0",
      "_model_name": "HTMLModel",
      "_view_count": null,
      "_view_module": "@jupyter-widgets/controls",
      "_view_module_version": "1.5.0",
      "_view_name": "HTMLView",
      "description": "",
      "description_tooltip": null,
      "layout": "IPY_MODEL_d82d01a6885a4d7e9ed96fd0cb28e7ca",
      "placeholder": "​",
      "style": "IPY_MODEL_a8974831d585423b9635828b55e337c9",
      "value": " 133/133 [03:52&lt;00:00,  1.75s/instance, train_loss=0.698, train_denotation_acc=0.85, dev_denotation_acc=0.805]"
     }
    },
    "4c87bbdb7f5d4354b03a0646037db15e": {
     "model_module": "@jupyter-widgets/controls",
     "model_name": "FloatProgressModel",
     "state": {
      "_dom_classes": [],
      "_model_module": "@jupyter-widgets/controls",
      "_model_module_version": "1.5.0",
      "_model_name": "FloatProgressModel",
      "_view_count": null,
      "_view_module": "@jupyter-widgets/controls",
      "_view_module_version": "1.5.0",
      "_view_name": "ProgressView",
      "bar_style": "success",
      "description": "epoch 10: 100%",
      "description_tooltip": null,
      "layout": "IPY_MODEL_3799d558334c4acd830ae1acd6b394c3",
      "max": 133,
      "min": 0,
      "orientation": "horizontal",
      "style": "IPY_MODEL_51db393e480e4858920b9a9a27844132",
      "value": 133
     }
    },
    "4e8af0aa30ed4017abfc596223599a14": {
     "model_module": "@jupyter-widgets/base",
     "model_name": "LayoutModel",
     "state": {
      "_model_module": "@jupyter-widgets/base",
      "_model_module_version": "1.2.0",
      "_model_name": "LayoutModel",
      "_view_count": null,
      "_view_module": "@jupyter-widgets/base",
      "_view_module_version": "1.2.0",
      "_view_name": "LayoutView",
      "align_content": null,
      "align_items": null,
      "align_self": null,
      "border": null,
      "bottom": null,
      "display": null,
      "flex": null,
      "flex_flow": null,
      "grid_area": null,
      "grid_auto_columns": null,
      "grid_auto_flow": null,
      "grid_auto_rows": null,
      "grid_column": null,
      "grid_gap": null,
      "grid_row": null,
      "grid_template_areas": null,
      "grid_template_columns": null,
      "grid_template_rows": null,
      "height": null,
      "justify_content": null,
      "justify_items": null,
      "left": null,
      "margin": null,
      "max_height": null,
      "max_width": null,
      "min_height": null,
      "min_width": null,
      "object_fit": null,
      "object_position": null,
      "order": null,
      "overflow": null,
      "overflow_x": null,
      "overflow_y": null,
      "padding": null,
      "right": null,
      "top": null,
      "visibility": null,
      "width": null
     }
    },
    "4eb2fdf770f94fa1a42ff772e1c9b8b0": {
     "model_module": "@jupyter-widgets/base",
     "model_name": "LayoutModel",
     "state": {
      "_model_module": "@jupyter-widgets/base",
      "_model_module_version": "1.2.0",
      "_model_name": "LayoutModel",
      "_view_count": null,
      "_view_module": "@jupyter-widgets/base",
      "_view_module_version": "1.2.0",
      "_view_name": "LayoutView",
      "align_content": null,
      "align_items": null,
      "align_self": null,
      "border": null,
      "bottom": null,
      "display": null,
      "flex": null,
      "flex_flow": null,
      "grid_area": null,
      "grid_auto_columns": null,
      "grid_auto_flow": null,
      "grid_auto_rows": null,
      "grid_column": null,
      "grid_gap": null,
      "grid_row": null,
      "grid_template_areas": null,
      "grid_template_columns": null,
      "grid_template_rows": null,
      "height": null,
      "justify_content": null,
      "justify_items": null,
      "left": null,
      "margin": null,
      "max_height": null,
      "max_width": null,
      "min_height": null,
      "min_width": null,
      "object_fit": null,
      "object_position": null,
      "order": null,
      "overflow": null,
      "overflow_x": null,
      "overflow_y": null,
      "padding": null,
      "right": null,
      "top": null,
      "visibility": null,
      "width": null
     }
    },
    "4f046416fe464ff5b2214d7100b5ef17": {
     "model_module": "@jupyter-widgets/base",
     "model_name": "LayoutModel",
     "state": {
      "_model_module": "@jupyter-widgets/base",
      "_model_module_version": "1.2.0",
      "_model_name": "LayoutModel",
      "_view_count": null,
      "_view_module": "@jupyter-widgets/base",
      "_view_module_version": "1.2.0",
      "_view_name": "LayoutView",
      "align_content": null,
      "align_items": null,
      "align_self": null,
      "border": null,
      "bottom": null,
      "display": null,
      "flex": null,
      "flex_flow": null,
      "grid_area": null,
      "grid_auto_columns": null,
      "grid_auto_flow": null,
      "grid_auto_rows": null,
      "grid_column": null,
      "grid_gap": null,
      "grid_row": null,
      "grid_template_areas": null,
      "grid_template_columns": null,
      "grid_template_rows": null,
      "height": null,
      "justify_content": null,
      "justify_items": null,
      "left": null,
      "margin": null,
      "max_height": null,
      "max_width": null,
      "min_height": null,
      "min_width": null,
      "object_fit": null,
      "object_position": null,
      "order": null,
      "overflow": null,
      "overflow_x": null,
      "overflow_y": null,
      "padding": null,
      "right": null,
      "top": null,
      "visibility": null,
      "width": null
     }
    },
    "5084597c374b44cc8502c7fa236edeef": {
     "model_module": "@jupyter-widgets/controls",
     "model_name": "DescriptionStyleModel",
     "state": {
      "_model_module": "@jupyter-widgets/controls",
      "_model_module_version": "1.5.0",
      "_model_name": "DescriptionStyleModel",
      "_view_count": null,
      "_view_module": "@jupyter-widgets/base",
      "_view_module_version": "1.2.0",
      "_view_name": "StyleView",
      "description_width": ""
     }
    },
    "5087ba20ae974abc9744e84411abcf72": {
     "model_module": "@jupyter-widgets/controls",
     "model_name": "HTMLModel",
     "state": {
      "_dom_classes": [],
      "_model_module": "@jupyter-widgets/controls",
      "_model_module_version": "1.5.0",
      "_model_name": "HTMLModel",
      "_view_count": null,
      "_view_module": "@jupyter-widgets/controls",
      "_view_module_version": "1.5.0",
      "_view_name": "HTMLView",
      "description": "",
      "description_tooltip": null,
      "layout": "IPY_MODEL_a051fa7f8b01471fb8f92df053272171",
      "placeholder": "​",
      "style": "IPY_MODEL_f62d3a2bf92a40b69cf72e5e4f1b4f16",
      "value": " 133/133 [10:06&lt;00:00,  4.56s/instance, train_loss=0.617, train_denotation_acc=0.872, dev_denotation_acc=0.829]"
     }
    },
    "51db393e480e4858920b9a9a27844132": {
     "model_module": "@jupyter-widgets/controls",
     "model_name": "ProgressStyleModel",
     "state": {
      "_model_module": "@jupyter-widgets/controls",
      "_model_module_version": "1.5.0",
      "_model_name": "ProgressStyleModel",
      "_view_count": null,
      "_view_module": "@jupyter-widgets/base",
      "_view_module_version": "1.2.0",
      "_view_name": "StyleView",
      "bar_color": null,
      "description_width": "initial"
     }
    },
    "544a770c79d848b58e6bb7bd9732f0eb": {
     "model_module": "@jupyter-widgets/controls",
     "model_name": "FloatProgressModel",
     "state": {
      "_dom_classes": [],
      "_model_module": "@jupyter-widgets/controls",
      "_model_module_version": "1.5.0",
      "_model_name": "FloatProgressModel",
      "_view_count": null,
      "_view_module": "@jupyter-widgets/controls",
      "_view_module_version": "1.5.0",
      "_view_name": "ProgressView",
      "bar_style": "success",
      "description": "epoch 4: 100%",
      "description_tooltip": null,
      "layout": "IPY_MODEL_0be29cb1ac6d4f98b62ab9d33dc7eaf5",
      "max": 40,
      "min": 0,
      "orientation": "horizontal",
      "style": "IPY_MODEL_fb9dbe59a5b34ddf95cd61402fd720ad",
      "value": 40
     }
    },
    "551d5d6d55194397b8fc1760a3d724ca": {
     "model_module": "@jupyter-widgets/controls",
     "model_name": "FloatProgressModel",
     "state": {
      "_dom_classes": [],
      "_model_module": "@jupyter-widgets/controls",
      "_model_module_version": "1.5.0",
      "_model_name": "FloatProgressModel",
      "_view_count": null,
      "_view_module": "@jupyter-widgets/controls",
      "_view_module_version": "1.5.0",
      "_view_name": "ProgressView",
      "bar_style": "success",
      "description": "epoch 5: 100%",
      "description_tooltip": null,
      "layout": "IPY_MODEL_345f2b3eb35a4087980499c5212adcf3",
      "max": 133,
      "min": 0,
      "orientation": "horizontal",
      "style": "IPY_MODEL_03d0f6894ae44469901c7d110446edaa",
      "value": 133
     }
    },
    "579c7741369746c396ab9939623ccd73": {
     "model_module": "@jupyter-widgets/base",
     "model_name": "LayoutModel",
     "state": {
      "_model_module": "@jupyter-widgets/base",
      "_model_module_version": "1.2.0",
      "_model_name": "LayoutModel",
      "_view_count": null,
      "_view_module": "@jupyter-widgets/base",
      "_view_module_version": "1.2.0",
      "_view_name": "LayoutView",
      "align_content": null,
      "align_items": null,
      "align_self": null,
      "border": null,
      "bottom": null,
      "display": null,
      "flex": null,
      "flex_flow": null,
      "grid_area": null,
      "grid_auto_columns": null,
      "grid_auto_flow": null,
      "grid_auto_rows": null,
      "grid_column": null,
      "grid_gap": null,
      "grid_row": null,
      "grid_template_areas": null,
      "grid_template_columns": null,
      "grid_template_rows": null,
      "height": null,
      "justify_content": null,
      "justify_items": null,
      "left": null,
      "margin": null,
      "max_height": null,
      "max_width": null,
      "min_height": null,
      "min_width": null,
      "object_fit": null,
      "object_position": null,
      "order": null,
      "overflow": null,
      "overflow_x": null,
      "overflow_y": null,
      "padding": null,
      "right": null,
      "top": null,
      "visibility": null,
      "width": null
     }
    },
    "57b21cfae1134c2f9b1a9bbbe5e0afe8": {
     "model_module": "@jupyter-widgets/controls",
     "model_name": "ProgressStyleModel",
     "state": {
      "_model_module": "@jupyter-widgets/controls",
      "_model_module_version": "1.5.0",
      "_model_name": "ProgressStyleModel",
      "_view_count": null,
      "_view_module": "@jupyter-widgets/base",
      "_view_module_version": "1.2.0",
      "_view_name": "StyleView",
      "bar_color": null,
      "description_width": "initial"
     }
    },
    "5876cb4980624480b48a5f23ce416bba": {
     "model_module": "@jupyter-widgets/base",
     "model_name": "LayoutModel",
     "state": {
      "_model_module": "@jupyter-widgets/base",
      "_model_module_version": "1.2.0",
      "_model_name": "LayoutModel",
      "_view_count": null,
      "_view_module": "@jupyter-widgets/base",
      "_view_module_version": "1.2.0",
      "_view_name": "LayoutView",
      "align_content": null,
      "align_items": null,
      "align_self": null,
      "border": null,
      "bottom": null,
      "display": null,
      "flex": null,
      "flex_flow": null,
      "grid_area": null,
      "grid_auto_columns": null,
      "grid_auto_flow": null,
      "grid_auto_rows": null,
      "grid_column": null,
      "grid_gap": null,
      "grid_row": null,
      "grid_template_areas": null,
      "grid_template_columns": null,
      "grid_template_rows": null,
      "height": null,
      "justify_content": null,
      "justify_items": null,
      "left": null,
      "margin": null,
      "max_height": null,
      "max_width": null,
      "min_height": null,
      "min_width": null,
      "object_fit": null,
      "object_position": null,
      "order": null,
      "overflow": null,
      "overflow_x": null,
      "overflow_y": null,
      "padding": null,
      "right": null,
      "top": null,
      "visibility": null,
      "width": null
     }
    },
    "58d3a92675f44fe881f1a2f557abe5f0": {
     "model_module": "@jupyter-widgets/controls",
     "model_name": "HTMLModel",
     "state": {
      "_dom_classes": [],
      "_model_module": "@jupyter-widgets/controls",
      "_model_module_version": "1.5.0",
      "_model_name": "HTMLModel",
      "_view_count": null,
      "_view_module": "@jupyter-widgets/controls",
      "_view_module_version": "1.5.0",
      "_view_name": "HTMLView",
      "description": "",
      "description_tooltip": null,
      "layout": "IPY_MODEL_5b0484e3e1bb47fda30740ce2df5555f",
      "placeholder": "​",
      "style": "IPY_MODEL_f50490528bd348eb9689288477cbb6ab",
      "value": " 40/40 [02:37&lt;00:00,  3.95s/instance, train_loss=0.335, train_denotation_acc=1, dev_denotation_acc=1]"
     }
    },
    "5a3ccecdfaee4cbd8faeff3df7bec3a8": {
     "model_module": "@jupyter-widgets/base",
     "model_name": "LayoutModel",
     "state": {
      "_model_module": "@jupyter-widgets/base",
      "_model_module_version": "1.2.0",
      "_model_name": "LayoutModel",
      "_view_count": null,
      "_view_module": "@jupyter-widgets/base",
      "_view_module_version": "1.2.0",
      "_view_name": "LayoutView",
      "align_content": null,
      "align_items": null,
      "align_self": null,
      "border": null,
      "bottom": null,
      "display": null,
      "flex": null,
      "flex_flow": null,
      "grid_area": null,
      "grid_auto_columns": null,
      "grid_auto_flow": null,
      "grid_auto_rows": null,
      "grid_column": null,
      "grid_gap": null,
      "grid_row": null,
      "grid_template_areas": null,
      "grid_template_columns": null,
      "grid_template_rows": null,
      "height": null,
      "justify_content": null,
      "justify_items": null,
      "left": null,
      "margin": null,
      "max_height": null,
      "max_width": null,
      "min_height": null,
      "min_width": null,
      "object_fit": null,
      "object_position": null,
      "order": null,
      "overflow": null,
      "overflow_x": null,
      "overflow_y": null,
      "padding": null,
      "right": null,
      "top": null,
      "visibility": null,
      "width": null
     }
    },
    "5b0484e3e1bb47fda30740ce2df5555f": {
     "model_module": "@jupyter-widgets/base",
     "model_name": "LayoutModel",
     "state": {
      "_model_module": "@jupyter-widgets/base",
      "_model_module_version": "1.2.0",
      "_model_name": "LayoutModel",
      "_view_count": null,
      "_view_module": "@jupyter-widgets/base",
      "_view_module_version": "1.2.0",
      "_view_name": "LayoutView",
      "align_content": null,
      "align_items": null,
      "align_self": null,
      "border": null,
      "bottom": null,
      "display": null,
      "flex": null,
      "flex_flow": null,
      "grid_area": null,
      "grid_auto_columns": null,
      "grid_auto_flow": null,
      "grid_auto_rows": null,
      "grid_column": null,
      "grid_gap": null,
      "grid_row": null,
      "grid_template_areas": null,
      "grid_template_columns": null,
      "grid_template_rows": null,
      "height": null,
      "justify_content": null,
      "justify_items": null,
      "left": null,
      "margin": null,
      "max_height": null,
      "max_width": null,
      "min_height": null,
      "min_width": null,
      "object_fit": null,
      "object_position": null,
      "order": null,
      "overflow": null,
      "overflow_x": null,
      "overflow_y": null,
      "padding": null,
      "right": null,
      "top": null,
      "visibility": null,
      "width": null
     }
    },
    "5d6f85df84e84f879b5b5c657cab8f85": {
     "model_module": "@jupyter-widgets/base",
     "model_name": "LayoutModel",
     "state": {
      "_model_module": "@jupyter-widgets/base",
      "_model_module_version": "1.2.0",
      "_model_name": "LayoutModel",
      "_view_count": null,
      "_view_module": "@jupyter-widgets/base",
      "_view_module_version": "1.2.0",
      "_view_name": "LayoutView",
      "align_content": null,
      "align_items": null,
      "align_self": null,
      "border": null,
      "bottom": null,
      "display": null,
      "flex": null,
      "flex_flow": null,
      "grid_area": null,
      "grid_auto_columns": null,
      "grid_auto_flow": null,
      "grid_auto_rows": null,
      "grid_column": null,
      "grid_gap": null,
      "grid_row": null,
      "grid_template_areas": null,
      "grid_template_columns": null,
      "grid_template_rows": null,
      "height": null,
      "justify_content": null,
      "justify_items": null,
      "left": null,
      "margin": null,
      "max_height": null,
      "max_width": null,
      "min_height": null,
      "min_width": null,
      "object_fit": null,
      "object_position": null,
      "order": null,
      "overflow": null,
      "overflow_x": null,
      "overflow_y": null,
      "padding": null,
      "right": null,
      "top": null,
      "visibility": null,
      "width": null
     }
    },
    "5e281ca4a66342ba94c3868149f7e546": {
     "model_module": "@jupyter-widgets/controls",
     "model_name": "HTMLModel",
     "state": {
      "_dom_classes": [],
      "_model_module": "@jupyter-widgets/controls",
      "_model_module_version": "1.5.0",
      "_model_name": "HTMLModel",
      "_view_count": null,
      "_view_module": "@jupyter-widgets/controls",
      "_view_module_version": "1.5.0",
      "_view_name": "HTMLView",
      "description": "",
      "description_tooltip": null,
      "layout": "IPY_MODEL_f2c54c5fbbe04bb3bef378e4995b7bea",
      "placeholder": "​",
      "style": "IPY_MODEL_1ca930f632c14ac6a0a57d5a03d4bfa5",
      "value": " 133/133 [03:52&lt;00:00,  1.75s/instance, train_loss=1.2, train_denotation_acc=0.692, dev_denotation_acc=0.732]"
     }
    },
    "5e54f055e30b44a4a979d27f6cda4e27": {
     "model_module": "@jupyter-widgets/base",
     "model_name": "LayoutModel",
     "state": {
      "_model_module": "@jupyter-widgets/base",
      "_model_module_version": "1.2.0",
      "_model_name": "LayoutModel",
      "_view_count": null,
      "_view_module": "@jupyter-widgets/base",
      "_view_module_version": "1.2.0",
      "_view_name": "LayoutView",
      "align_content": null,
      "align_items": null,
      "align_self": null,
      "border": null,
      "bottom": null,
      "display": null,
      "flex": null,
      "flex_flow": null,
      "grid_area": null,
      "grid_auto_columns": null,
      "grid_auto_flow": null,
      "grid_auto_rows": null,
      "grid_column": null,
      "grid_gap": null,
      "grid_row": null,
      "grid_template_areas": null,
      "grid_template_columns": null,
      "grid_template_rows": null,
      "height": null,
      "justify_content": null,
      "justify_items": null,
      "left": null,
      "margin": null,
      "max_height": null,
      "max_width": null,
      "min_height": null,
      "min_width": null,
      "object_fit": null,
      "object_position": null,
      "order": null,
      "overflow": null,
      "overflow_x": null,
      "overflow_y": null,
      "padding": null,
      "right": null,
      "top": null,
      "visibility": null,
      "width": null
     }
    },
    "5e97b667cff44a358721d4bc441fae25": {
     "model_module": "@jupyter-widgets/base",
     "model_name": "LayoutModel",
     "state": {
      "_model_module": "@jupyter-widgets/base",
      "_model_module_version": "1.2.0",
      "_model_name": "LayoutModel",
      "_view_count": null,
      "_view_module": "@jupyter-widgets/base",
      "_view_module_version": "1.2.0",
      "_view_name": "LayoutView",
      "align_content": null,
      "align_items": null,
      "align_self": null,
      "border": null,
      "bottom": null,
      "display": null,
      "flex": null,
      "flex_flow": null,
      "grid_area": null,
      "grid_auto_columns": null,
      "grid_auto_flow": null,
      "grid_auto_rows": null,
      "grid_column": null,
      "grid_gap": null,
      "grid_row": null,
      "grid_template_areas": null,
      "grid_template_columns": null,
      "grid_template_rows": null,
      "height": null,
      "justify_content": null,
      "justify_items": null,
      "left": null,
      "margin": null,
      "max_height": null,
      "max_width": null,
      "min_height": null,
      "min_width": null,
      "object_fit": null,
      "object_position": null,
      "order": null,
      "overflow": null,
      "overflow_x": null,
      "overflow_y": null,
      "padding": null,
      "right": null,
      "top": null,
      "visibility": null,
      "width": null
     }
    },
    "640df80de94d4922bc60415667a0738c": {
     "model_module": "@jupyter-widgets/controls",
     "model_name": "HTMLModel",
     "state": {
      "_dom_classes": [],
      "_model_module": "@jupyter-widgets/controls",
      "_model_module_version": "1.5.0",
      "_model_name": "HTMLModel",
      "_view_count": null,
      "_view_module": "@jupyter-widgets/controls",
      "_view_module_version": "1.5.0",
      "_view_name": "HTMLView",
      "description": "",
      "description_tooltip": null,
      "layout": "IPY_MODEL_7baec9272a334c02a986fdeb332c7168",
      "placeholder": "​",
      "style": "IPY_MODEL_c013127cdae94d73839e2bd844954ad5",
      "value": " 10/10 [26:25&lt;00:00, 158.53s/epoch]"
     }
    },
    "65fd64afff9848b387edcf2eb874d89b": {
     "model_module": "@jupyter-widgets/controls",
     "model_name": "HTMLModel",
     "state": {
      "_dom_classes": [],
      "_model_module": "@jupyter-widgets/controls",
      "_model_module_version": "1.5.0",
      "_model_name": "HTMLModel",
      "_view_count": null,
      "_view_module": "@jupyter-widgets/controls",
      "_view_module_version": "1.5.0",
      "_view_name": "HTMLView",
      "description": "",
      "description_tooltip": null,
      "layout": "IPY_MODEL_8d55b5f4a47c4a3ab9d26cfb1b183bdb",
      "placeholder": "​",
      "style": "IPY_MODEL_f99fc3d3f90d4e34989722aee0fcac9d",
      "value": " 10/10 [03:45&lt;00:00, 22.53s/epoch]"
     }
    },
    "6628e48022834bd3907c2dee2b4831a9": {
     "model_module": "@jupyter-widgets/controls",
     "model_name": "FloatProgressModel",
     "state": {
      "_dom_classes": [],
      "_model_module": "@jupyter-widgets/controls",
      "_model_module_version": "1.5.0",
      "_model_name": "FloatProgressModel",
      "_view_count": null,
      "_view_module": "@jupyter-widgets/controls",
      "_view_module_version": "1.5.0",
      "_view_name": "ProgressView",
      "bar_style": "success",
      "description": "epoch 9: 100%",
      "description_tooltip": null,
      "layout": "IPY_MODEL_31789a6f02ca4471b7259e875b9ec1ef",
      "max": 40,
      "min": 0,
      "orientation": "horizontal",
      "style": "IPY_MODEL_f1433dc5699a489e8cc6dd6449f82d38",
      "value": 40
     }
    },
    "6912ef4ed48d4a248591fed10594b03a": {
     "model_module": "@jupyter-widgets/controls",
     "model_name": "DescriptionStyleModel",
     "state": {
      "_model_module": "@jupyter-widgets/controls",
      "_model_module_version": "1.5.0",
      "_model_name": "DescriptionStyleModel",
      "_view_count": null,
      "_view_module": "@jupyter-widgets/base",
      "_view_module_version": "1.2.0",
      "_view_name": "StyleView",
      "description_width": ""
     }
    },
    "6a352aad89504a57a5cfe8b283db9dcf": {
     "model_module": "@jupyter-widgets/controls",
     "model_name": "ProgressStyleModel",
     "state": {
      "_model_module": "@jupyter-widgets/controls",
      "_model_module_version": "1.5.0",
      "_model_name": "ProgressStyleModel",
      "_view_count": null,
      "_view_module": "@jupyter-widgets/base",
      "_view_module_version": "1.2.0",
      "_view_name": "StyleView",
      "bar_color": null,
      "description_width": "initial"
     }
    },
    "6b4ca4926eee4985a3a1df6d98beddc7": {
     "model_module": "@jupyter-widgets/base",
     "model_name": "LayoutModel",
     "state": {
      "_model_module": "@jupyter-widgets/base",
      "_model_module_version": "1.2.0",
      "_model_name": "LayoutModel",
      "_view_count": null,
      "_view_module": "@jupyter-widgets/base",
      "_view_module_version": "1.2.0",
      "_view_name": "LayoutView",
      "align_content": null,
      "align_items": null,
      "align_self": null,
      "border": null,
      "bottom": null,
      "display": null,
      "flex": null,
      "flex_flow": null,
      "grid_area": null,
      "grid_auto_columns": null,
      "grid_auto_flow": null,
      "grid_auto_rows": null,
      "grid_column": null,
      "grid_gap": null,
      "grid_row": null,
      "grid_template_areas": null,
      "grid_template_columns": null,
      "grid_template_rows": null,
      "height": null,
      "justify_content": null,
      "justify_items": null,
      "left": null,
      "margin": null,
      "max_height": null,
      "max_width": null,
      "min_height": null,
      "min_width": null,
      "object_fit": null,
      "object_position": null,
      "order": null,
      "overflow": null,
      "overflow_x": null,
      "overflow_y": null,
      "padding": null,
      "right": null,
      "top": null,
      "visibility": null,
      "width": null
     }
    },
    "6b86856e599b4ec38b5addd4db6d2c81": {
     "model_module": "@jupyter-widgets/controls",
     "model_name": "FloatProgressModel",
     "state": {
      "_dom_classes": [],
      "_model_module": "@jupyter-widgets/controls",
      "_model_module_version": "1.5.0",
      "_model_name": "FloatProgressModel",
      "_view_count": null,
      "_view_module": "@jupyter-widgets/controls",
      "_view_module_version": "1.5.0",
      "_view_name": "ProgressView",
      "bar_style": "success",
      "description": "epoch 7: 100%",
      "description_tooltip": null,
      "layout": "IPY_MODEL_5d6f85df84e84f879b5b5c657cab8f85",
      "max": 133,
      "min": 0,
      "orientation": "horizontal",
      "style": "IPY_MODEL_d4d177c5aad549cf89e61387d4482485",
      "value": 133
     }
    },
    "6bb6ab6133cd4f49a552abfb856e4980": {
     "model_module": "@jupyter-widgets/controls",
     "model_name": "HBoxModel",
     "state": {
      "_dom_classes": [],
      "_model_module": "@jupyter-widgets/controls",
      "_model_module_version": "1.5.0",
      "_model_name": "HBoxModel",
      "_view_count": null,
      "_view_module": "@jupyter-widgets/controls",
      "_view_module_version": "1.5.0",
      "_view_name": "HBoxView",
      "box_style": "",
      "children": [
       "IPY_MODEL_c58b524d59004f8198361cef88ba0255",
       "IPY_MODEL_91e3a407070c438786a230e7032af51c"
      ],
      "layout": "IPY_MODEL_ea2e6ba804c2473face777ba5076079e"
     }
    },
    "6e0a5a02b3c64639b018566a3109a2f5": {
     "model_module": "@jupyter-widgets/controls",
     "model_name": "HBoxModel",
     "state": {
      "_dom_classes": [],
      "_model_module": "@jupyter-widgets/controls",
      "_model_module_version": "1.5.0",
      "_model_name": "HBoxModel",
      "_view_count": null,
      "_view_module": "@jupyter-widgets/controls",
      "_view_module_version": "1.5.0",
      "_view_name": "HBoxView",
      "box_style": "",
      "children": [
       "IPY_MODEL_b699d8dde32e459cb550d80d1790ef22",
       "IPY_MODEL_0e466f749b4c4a509c3abddaa9dec218"
      ],
      "layout": "IPY_MODEL_ea88762fe75c40699f36bbcea21b5739"
     }
    },
    "6f583c7181dc45febd214fef7446178f": {
     "model_module": "@jupyter-widgets/controls",
     "model_name": "DescriptionStyleModel",
     "state": {
      "_model_module": "@jupyter-widgets/controls",
      "_model_module_version": "1.5.0",
      "_model_name": "DescriptionStyleModel",
      "_view_count": null,
      "_view_module": "@jupyter-widgets/base",
      "_view_module_version": "1.2.0",
      "_view_name": "StyleView",
      "description_width": ""
     }
    },
    "6f6346ed55d54cbe8ce320bec2f79e82": {
     "model_module": "@jupyter-widgets/controls",
     "model_name": "FloatProgressModel",
     "state": {
      "_dom_classes": [],
      "_model_module": "@jupyter-widgets/controls",
      "_model_module_version": "1.5.0",
      "_model_name": "FloatProgressModel",
      "_view_count": null,
      "_view_module": "@jupyter-widgets/controls",
      "_view_module_version": "1.5.0",
      "_view_name": "ProgressView",
      "bar_style": "success",
      "description": "epoch 7: 100%",
      "description_tooltip": null,
      "layout": "IPY_MODEL_18717761630d44219046fd86016b3e42",
      "max": 40,
      "min": 0,
      "orientation": "horizontal",
      "style": "IPY_MODEL_30cc0ac5e99c4b759fb085c89e189336",
      "value": 40
     }
    },
    "72434edcc66941d191909fd42b146b58": {
     "model_module": "@jupyter-widgets/base",
     "model_name": "LayoutModel",
     "state": {
      "_model_module": "@jupyter-widgets/base",
      "_model_module_version": "1.2.0",
      "_model_name": "LayoutModel",
      "_view_count": null,
      "_view_module": "@jupyter-widgets/base",
      "_view_module_version": "1.2.0",
      "_view_name": "LayoutView",
      "align_content": null,
      "align_items": null,
      "align_self": null,
      "border": null,
      "bottom": null,
      "display": null,
      "flex": null,
      "flex_flow": null,
      "grid_area": null,
      "grid_auto_columns": null,
      "grid_auto_flow": null,
      "grid_auto_rows": null,
      "grid_column": null,
      "grid_gap": null,
      "grid_row": null,
      "grid_template_areas": null,
      "grid_template_columns": null,
      "grid_template_rows": null,
      "height": null,
      "justify_content": null,
      "justify_items": null,
      "left": null,
      "margin": null,
      "max_height": null,
      "max_width": null,
      "min_height": null,
      "min_width": null,
      "object_fit": null,
      "object_position": null,
      "order": null,
      "overflow": null,
      "overflow_x": null,
      "overflow_y": null,
      "padding": null,
      "right": null,
      "top": null,
      "visibility": null,
      "width": null
     }
    },
    "73d8a90cc4fd491990a393021461810f": {
     "model_module": "@jupyter-widgets/base",
     "model_name": "LayoutModel",
     "state": {
      "_model_module": "@jupyter-widgets/base",
      "_model_module_version": "1.2.0",
      "_model_name": "LayoutModel",
      "_view_count": null,
      "_view_module": "@jupyter-widgets/base",
      "_view_module_version": "1.2.0",
      "_view_name": "LayoutView",
      "align_content": null,
      "align_items": null,
      "align_self": null,
      "border": null,
      "bottom": null,
      "display": null,
      "flex": null,
      "flex_flow": null,
      "grid_area": null,
      "grid_auto_columns": null,
      "grid_auto_flow": null,
      "grid_auto_rows": null,
      "grid_column": null,
      "grid_gap": null,
      "grid_row": null,
      "grid_template_areas": null,
      "grid_template_columns": null,
      "grid_template_rows": null,
      "height": null,
      "justify_content": null,
      "justify_items": null,
      "left": null,
      "margin": null,
      "max_height": null,
      "max_width": null,
      "min_height": null,
      "min_width": null,
      "object_fit": null,
      "object_position": null,
      "order": null,
      "overflow": null,
      "overflow_x": null,
      "overflow_y": null,
      "padding": null,
      "right": null,
      "top": null,
      "visibility": null,
      "width": null
     }
    },
    "7537bfc0edcf46d1a91470838609feee": {
     "model_module": "@jupyter-widgets/base",
     "model_name": "LayoutModel",
     "state": {
      "_model_module": "@jupyter-widgets/base",
      "_model_module_version": "1.2.0",
      "_model_name": "LayoutModel",
      "_view_count": null,
      "_view_module": "@jupyter-widgets/base",
      "_view_module_version": "1.2.0",
      "_view_name": "LayoutView",
      "align_content": null,
      "align_items": null,
      "align_self": null,
      "border": null,
      "bottom": null,
      "display": null,
      "flex": null,
      "flex_flow": null,
      "grid_area": null,
      "grid_auto_columns": null,
      "grid_auto_flow": null,
      "grid_auto_rows": null,
      "grid_column": null,
      "grid_gap": null,
      "grid_row": null,
      "grid_template_areas": null,
      "grid_template_columns": null,
      "grid_template_rows": null,
      "height": null,
      "justify_content": null,
      "justify_items": null,
      "left": null,
      "margin": null,
      "max_height": null,
      "max_width": null,
      "min_height": null,
      "min_width": null,
      "object_fit": null,
      "object_position": null,
      "order": null,
      "overflow": null,
      "overflow_x": null,
      "overflow_y": null,
      "padding": null,
      "right": null,
      "top": null,
      "visibility": null,
      "width": null
     }
    },
    "75e97a5a874b4aeea2422bc42066e3de": {
     "model_module": "@jupyter-widgets/base",
     "model_name": "LayoutModel",
     "state": {
      "_model_module": "@jupyter-widgets/base",
      "_model_module_version": "1.2.0",
      "_model_name": "LayoutModel",
      "_view_count": null,
      "_view_module": "@jupyter-widgets/base",
      "_view_module_version": "1.2.0",
      "_view_name": "LayoutView",
      "align_content": null,
      "align_items": null,
      "align_self": null,
      "border": null,
      "bottom": null,
      "display": null,
      "flex": null,
      "flex_flow": null,
      "grid_area": null,
      "grid_auto_columns": null,
      "grid_auto_flow": null,
      "grid_auto_rows": null,
      "grid_column": null,
      "grid_gap": null,
      "grid_row": null,
      "grid_template_areas": null,
      "grid_template_columns": null,
      "grid_template_rows": null,
      "height": null,
      "justify_content": null,
      "justify_items": null,
      "left": null,
      "margin": null,
      "max_height": null,
      "max_width": null,
      "min_height": null,
      "min_width": null,
      "object_fit": null,
      "object_position": null,
      "order": null,
      "overflow": null,
      "overflow_x": null,
      "overflow_y": null,
      "padding": null,
      "right": null,
      "top": null,
      "visibility": null,
      "width": null
     }
    },
    "760344f5d8514ff38f51e8a852fbc33b": {
     "model_module": "@jupyter-widgets/base",
     "model_name": "LayoutModel",
     "state": {
      "_model_module": "@jupyter-widgets/base",
      "_model_module_version": "1.2.0",
      "_model_name": "LayoutModel",
      "_view_count": null,
      "_view_module": "@jupyter-widgets/base",
      "_view_module_version": "1.2.0",
      "_view_name": "LayoutView",
      "align_content": null,
      "align_items": null,
      "align_self": null,
      "border": null,
      "bottom": null,
      "display": null,
      "flex": null,
      "flex_flow": null,
      "grid_area": null,
      "grid_auto_columns": null,
      "grid_auto_flow": null,
      "grid_auto_rows": null,
      "grid_column": null,
      "grid_gap": null,
      "grid_row": null,
      "grid_template_areas": null,
      "grid_template_columns": null,
      "grid_template_rows": null,
      "height": null,
      "justify_content": null,
      "justify_items": null,
      "left": null,
      "margin": null,
      "max_height": null,
      "max_width": null,
      "min_height": null,
      "min_width": null,
      "object_fit": null,
      "object_position": null,
      "order": null,
      "overflow": null,
      "overflow_x": null,
      "overflow_y": null,
      "padding": null,
      "right": null,
      "top": null,
      "visibility": null,
      "width": null
     }
    },
    "76670c40d9f849d796823f7bb23a124c": {
     "model_module": "@jupyter-widgets/controls",
     "model_name": "DescriptionStyleModel",
     "state": {
      "_model_module": "@jupyter-widgets/controls",
      "_model_module_version": "1.5.0",
      "_model_name": "DescriptionStyleModel",
      "_view_count": null,
      "_view_module": "@jupyter-widgets/base",
      "_view_module_version": "1.2.0",
      "_view_name": "StyleView",
      "description_width": ""
     }
    },
    "76d90b7a80104b40add4863d2dbdae4c": {
     "model_module": "@jupyter-widgets/base",
     "model_name": "LayoutModel",
     "state": {
      "_model_module": "@jupyter-widgets/base",
      "_model_module_version": "1.2.0",
      "_model_name": "LayoutModel",
      "_view_count": null,
      "_view_module": "@jupyter-widgets/base",
      "_view_module_version": "1.2.0",
      "_view_name": "LayoutView",
      "align_content": null,
      "align_items": null,
      "align_self": null,
      "border": null,
      "bottom": null,
      "display": null,
      "flex": null,
      "flex_flow": null,
      "grid_area": null,
      "grid_auto_columns": null,
      "grid_auto_flow": null,
      "grid_auto_rows": null,
      "grid_column": null,
      "grid_gap": null,
      "grid_row": null,
      "grid_template_areas": null,
      "grid_template_columns": null,
      "grid_template_rows": null,
      "height": null,
      "justify_content": null,
      "justify_items": null,
      "left": null,
      "margin": null,
      "max_height": null,
      "max_width": null,
      "min_height": null,
      "min_width": null,
      "object_fit": null,
      "object_position": null,
      "order": null,
      "overflow": null,
      "overflow_x": null,
      "overflow_y": null,
      "padding": null,
      "right": null,
      "top": null,
      "visibility": null,
      "width": null
     }
    },
    "79bb4e17979e406bbc1790ef11b5137e": {
     "model_module": "@jupyter-widgets/base",
     "model_name": "LayoutModel",
     "state": {
      "_model_module": "@jupyter-widgets/base",
      "_model_module_version": "1.2.0",
      "_model_name": "LayoutModel",
      "_view_count": null,
      "_view_module": "@jupyter-widgets/base",
      "_view_module_version": "1.2.0",
      "_view_name": "LayoutView",
      "align_content": null,
      "align_items": null,
      "align_self": null,
      "border": null,
      "bottom": null,
      "display": null,
      "flex": null,
      "flex_flow": null,
      "grid_area": null,
      "grid_auto_columns": null,
      "grid_auto_flow": null,
      "grid_auto_rows": null,
      "grid_column": null,
      "grid_gap": null,
      "grid_row": null,
      "grid_template_areas": null,
      "grid_template_columns": null,
      "grid_template_rows": null,
      "height": null,
      "justify_content": null,
      "justify_items": null,
      "left": null,
      "margin": null,
      "max_height": null,
      "max_width": null,
      "min_height": null,
      "min_width": null,
      "object_fit": null,
      "object_position": null,
      "order": null,
      "overflow": null,
      "overflow_x": null,
      "overflow_y": null,
      "padding": null,
      "right": null,
      "top": null,
      "visibility": null,
      "width": null
     }
    },
    "79ce117cc1294f718bb662f7de6fc05b": {
     "model_module": "@jupyter-widgets/base",
     "model_name": "LayoutModel",
     "state": {
      "_model_module": "@jupyter-widgets/base",
      "_model_module_version": "1.2.0",
      "_model_name": "LayoutModel",
      "_view_count": null,
      "_view_module": "@jupyter-widgets/base",
      "_view_module_version": "1.2.0",
      "_view_name": "LayoutView",
      "align_content": null,
      "align_items": null,
      "align_self": null,
      "border": null,
      "bottom": null,
      "display": null,
      "flex": null,
      "flex_flow": null,
      "grid_area": null,
      "grid_auto_columns": null,
      "grid_auto_flow": null,
      "grid_auto_rows": null,
      "grid_column": null,
      "grid_gap": null,
      "grid_row": null,
      "grid_template_areas": null,
      "grid_template_columns": null,
      "grid_template_rows": null,
      "height": null,
      "justify_content": null,
      "justify_items": null,
      "left": null,
      "margin": null,
      "max_height": null,
      "max_width": null,
      "min_height": null,
      "min_width": null,
      "object_fit": null,
      "object_position": null,
      "order": null,
      "overflow": null,
      "overflow_x": null,
      "overflow_y": null,
      "padding": null,
      "right": null,
      "top": null,
      "visibility": null,
      "width": null
     }
    },
    "7ab44b458e664843ad3dafd2d05ba8a0": {
     "model_module": "@jupyter-widgets/controls",
     "model_name": "FloatProgressModel",
     "state": {
      "_dom_classes": [],
      "_model_module": "@jupyter-widgets/controls",
      "_model_module_version": "1.5.0",
      "_model_name": "FloatProgressModel",
      "_view_count": null,
      "_view_module": "@jupyter-widgets/controls",
      "_view_module_version": "1.5.0",
      "_view_name": "ProgressView",
      "bar_style": "success",
      "description": "epoch 3: 100%",
      "description_tooltip": null,
      "layout": "IPY_MODEL_c957151f9a3548b6b0dedacf2075d51b",
      "max": 40,
      "min": 0,
      "orientation": "horizontal",
      "style": "IPY_MODEL_ab2f121f71fe421697de7503d7322aa8",
      "value": 40
     }
    },
    "7baec9272a334c02a986fdeb332c7168": {
     "model_module": "@jupyter-widgets/base",
     "model_name": "LayoutModel",
     "state": {
      "_model_module": "@jupyter-widgets/base",
      "_model_module_version": "1.2.0",
      "_model_name": "LayoutModel",
      "_view_count": null,
      "_view_module": "@jupyter-widgets/base",
      "_view_module_version": "1.2.0",
      "_view_name": "LayoutView",
      "align_content": null,
      "align_items": null,
      "align_self": null,
      "border": null,
      "bottom": null,
      "display": null,
      "flex": null,
      "flex_flow": null,
      "grid_area": null,
      "grid_auto_columns": null,
      "grid_auto_flow": null,
      "grid_auto_rows": null,
      "grid_column": null,
      "grid_gap": null,
      "grid_row": null,
      "grid_template_areas": null,
      "grid_template_columns": null,
      "grid_template_rows": null,
      "height": null,
      "justify_content": null,
      "justify_items": null,
      "left": null,
      "margin": null,
      "max_height": null,
      "max_width": null,
      "min_height": null,
      "min_width": null,
      "object_fit": null,
      "object_position": null,
      "order": null,
      "overflow": null,
      "overflow_x": null,
      "overflow_y": null,
      "padding": null,
      "right": null,
      "top": null,
      "visibility": null,
      "width": null
     }
    },
    "7c5142ea3ed24e6691046465a42d24dc": {
     "model_module": "@jupyter-widgets/controls",
     "model_name": "HBoxModel",
     "state": {
      "_dom_classes": [],
      "_model_module": "@jupyter-widgets/controls",
      "_model_module_version": "1.5.0",
      "_model_name": "HBoxModel",
      "_view_count": null,
      "_view_module": "@jupyter-widgets/controls",
      "_view_module_version": "1.5.0",
      "_view_name": "HBoxView",
      "box_style": "",
      "children": [
       "IPY_MODEL_0ade5d2b74e94c0d8adb15cf72457da8",
       "IPY_MODEL_18d6b3d1dd5b4609a2b72a0e117b984a"
      ],
      "layout": "IPY_MODEL_3d22f160967345149114a79a3f5d9961"
     }
    },
    "7cc48c4c7d6c46148b69d55eb22f3c72": {
     "model_module": "@jupyter-widgets/base",
     "model_name": "LayoutModel",
     "state": {
      "_model_module": "@jupyter-widgets/base",
      "_model_module_version": "1.2.0",
      "_model_name": "LayoutModel",
      "_view_count": null,
      "_view_module": "@jupyter-widgets/base",
      "_view_module_version": "1.2.0",
      "_view_name": "LayoutView",
      "align_content": null,
      "align_items": null,
      "align_self": null,
      "border": null,
      "bottom": null,
      "display": null,
      "flex": null,
      "flex_flow": null,
      "grid_area": null,
      "grid_auto_columns": null,
      "grid_auto_flow": null,
      "grid_auto_rows": null,
      "grid_column": null,
      "grid_gap": null,
      "grid_row": null,
      "grid_template_areas": null,
      "grid_template_columns": null,
      "grid_template_rows": null,
      "height": null,
      "justify_content": null,
      "justify_items": null,
      "left": null,
      "margin": null,
      "max_height": null,
      "max_width": null,
      "min_height": null,
      "min_width": null,
      "object_fit": null,
      "object_position": null,
      "order": null,
      "overflow": null,
      "overflow_x": null,
      "overflow_y": null,
      "padding": null,
      "right": null,
      "top": null,
      "visibility": null,
      "width": null
     }
    },
    "7db61e3df9674d268e60c045dacf9a08": {
     "model_module": "@jupyter-widgets/controls",
     "model_name": "HTMLModel",
     "state": {
      "_dom_classes": [],
      "_model_module": "@jupyter-widgets/controls",
      "_model_module_version": "1.5.0",
      "_model_name": "HTMLModel",
      "_view_count": null,
      "_view_module": "@jupyter-widgets/controls",
      "_view_module_version": "1.5.0",
      "_view_name": "HTMLView",
      "description": "",
      "description_tooltip": null,
      "layout": "IPY_MODEL_c6d5ff0c5df2466a9dd22c73773fb6b6",
      "placeholder": "​",
      "style": "IPY_MODEL_918d30f781a14a46aebc161eed1d6f70",
      "value": " 133/133 [25:49&lt;00:00, 11.65s/instance, train_loss=1.58, train_denotation_acc=0.797, dev_denotation_acc=0.78, dev_loss=1.88]"
     }
    },
    "7f1e86fef65347269673b46581bab70f": {
     "model_module": "@jupyter-widgets/controls",
     "model_name": "DescriptionStyleModel",
     "state": {
      "_model_module": "@jupyter-widgets/controls",
      "_model_module_version": "1.5.0",
      "_model_name": "DescriptionStyleModel",
      "_view_count": null,
      "_view_module": "@jupyter-widgets/base",
      "_view_module_version": "1.2.0",
      "_view_name": "StyleView",
      "description_width": ""
     }
    },
    "7f5862c94a4549528c0aa021bfad65e5": {
     "model_module": "@jupyter-widgets/controls",
     "model_name": "HBoxModel",
     "state": {
      "_dom_classes": [],
      "_model_module": "@jupyter-widgets/controls",
      "_model_module_version": "1.5.0",
      "_model_name": "HBoxModel",
      "_view_count": null,
      "_view_module": "@jupyter-widgets/controls",
      "_view_module_version": "1.5.0",
      "_view_name": "HBoxView",
      "box_style": "",
      "children": [
       "IPY_MODEL_544a770c79d848b58e6bb7bd9732f0eb",
       "IPY_MODEL_a9f18fa8538d4012a01adcf4cc43e0be"
      ],
      "layout": "IPY_MODEL_1b55be93359248fdb2ae4c6ea89f19fb"
     }
    },
    "81a7796dd21f47db87d6f8c4218f01ba": {
     "model_module": "@jupyter-widgets/controls",
     "model_name": "HTMLModel",
     "state": {
      "_dom_classes": [],
      "_model_module": "@jupyter-widgets/controls",
      "_model_module_version": "1.5.0",
      "_model_name": "HTMLModel",
      "_view_count": null,
      "_view_module": "@jupyter-widgets/controls",
      "_view_module_version": "1.5.0",
      "_view_name": "HTMLView",
      "description": "",
      "description_tooltip": null,
      "layout": "IPY_MODEL_d3e6d8ff9ac84c46a6369e6aa297b899",
      "placeholder": "​",
      "style": "IPY_MODEL_6f583c7181dc45febd214fef7446178f",
      "value": " 133/133 [25:31&lt;00:00, 11.51s/instance, train_loss=1.51, train_denotation_acc=0.827, dev_denotation_acc=0.805, dev_loss=2.07]"
     }
    },
    "820b6564ecf64b5e8988a20c17d7ef3d": {
     "model_module": "@jupyter-widgets/base",
     "model_name": "LayoutModel",
     "state": {
      "_model_module": "@jupyter-widgets/base",
      "_model_module_version": "1.2.0",
      "_model_name": "LayoutModel",
      "_view_count": null,
      "_view_module": "@jupyter-widgets/base",
      "_view_module_version": "1.2.0",
      "_view_name": "LayoutView",
      "align_content": null,
      "align_items": null,
      "align_self": null,
      "border": null,
      "bottom": null,
      "display": null,
      "flex": null,
      "flex_flow": null,
      "grid_area": null,
      "grid_auto_columns": null,
      "grid_auto_flow": null,
      "grid_auto_rows": null,
      "grid_column": null,
      "grid_gap": null,
      "grid_row": null,
      "grid_template_areas": null,
      "grid_template_columns": null,
      "grid_template_rows": null,
      "height": null,
      "justify_content": null,
      "justify_items": null,
      "left": null,
      "margin": null,
      "max_height": null,
      "max_width": null,
      "min_height": null,
      "min_width": null,
      "object_fit": null,
      "object_position": null,
      "order": null,
      "overflow": null,
      "overflow_x": null,
      "overflow_y": null,
      "padding": null,
      "right": null,
      "top": null,
      "visibility": null,
      "width": null
     }
    },
    "836a699ff7534c7cbf4c496897ed68ae": {
     "model_module": "@jupyter-widgets/base",
     "model_name": "LayoutModel",
     "state": {
      "_model_module": "@jupyter-widgets/base",
      "_model_module_version": "1.2.0",
      "_model_name": "LayoutModel",
      "_view_count": null,
      "_view_module": "@jupyter-widgets/base",
      "_view_module_version": "1.2.0",
      "_view_name": "LayoutView",
      "align_content": null,
      "align_items": null,
      "align_self": null,
      "border": null,
      "bottom": null,
      "display": null,
      "flex": null,
      "flex_flow": null,
      "grid_area": null,
      "grid_auto_columns": null,
      "grid_auto_flow": null,
      "grid_auto_rows": null,
      "grid_column": null,
      "grid_gap": null,
      "grid_row": null,
      "grid_template_areas": null,
      "grid_template_columns": null,
      "grid_template_rows": null,
      "height": null,
      "justify_content": null,
      "justify_items": null,
      "left": null,
      "margin": null,
      "max_height": null,
      "max_width": null,
      "min_height": null,
      "min_width": null,
      "object_fit": null,
      "object_position": null,
      "order": null,
      "overflow": null,
      "overflow_x": null,
      "overflow_y": null,
      "padding": null,
      "right": null,
      "top": null,
      "visibility": null,
      "width": null
     }
    },
    "8387432806e9452a81044570df5f6f92": {
     "model_module": "@jupyter-widgets/base",
     "model_name": "LayoutModel",
     "state": {
      "_model_module": "@jupyter-widgets/base",
      "_model_module_version": "1.2.0",
      "_model_name": "LayoutModel",
      "_view_count": null,
      "_view_module": "@jupyter-widgets/base",
      "_view_module_version": "1.2.0",
      "_view_name": "LayoutView",
      "align_content": null,
      "align_items": null,
      "align_self": null,
      "border": null,
      "bottom": null,
      "display": null,
      "flex": null,
      "flex_flow": null,
      "grid_area": null,
      "grid_auto_columns": null,
      "grid_auto_flow": null,
      "grid_auto_rows": null,
      "grid_column": null,
      "grid_gap": null,
      "grid_row": null,
      "grid_template_areas": null,
      "grid_template_columns": null,
      "grid_template_rows": null,
      "height": null,
      "justify_content": null,
      "justify_items": null,
      "left": null,
      "margin": null,
      "max_height": null,
      "max_width": null,
      "min_height": null,
      "min_width": null,
      "object_fit": null,
      "object_position": null,
      "order": null,
      "overflow": null,
      "overflow_x": null,
      "overflow_y": null,
      "padding": null,
      "right": null,
      "top": null,
      "visibility": null,
      "width": null
     }
    },
    "83b4cef7938149a39261d0b9bc4abf55": {
     "model_module": "@jupyter-widgets/base",
     "model_name": "LayoutModel",
     "state": {
      "_model_module": "@jupyter-widgets/base",
      "_model_module_version": "1.2.0",
      "_model_name": "LayoutModel",
      "_view_count": null,
      "_view_module": "@jupyter-widgets/base",
      "_view_module_version": "1.2.0",
      "_view_name": "LayoutView",
      "align_content": null,
      "align_items": null,
      "align_self": null,
      "border": null,
      "bottom": null,
      "display": null,
      "flex": null,
      "flex_flow": null,
      "grid_area": null,
      "grid_auto_columns": null,
      "grid_auto_flow": null,
      "grid_auto_rows": null,
      "grid_column": null,
      "grid_gap": null,
      "grid_row": null,
      "grid_template_areas": null,
      "grid_template_columns": null,
      "grid_template_rows": null,
      "height": null,
      "justify_content": null,
      "justify_items": null,
      "left": null,
      "margin": null,
      "max_height": null,
      "max_width": null,
      "min_height": null,
      "min_width": null,
      "object_fit": null,
      "object_position": null,
      "order": null,
      "overflow": null,
      "overflow_x": null,
      "overflow_y": null,
      "padding": null,
      "right": null,
      "top": null,
      "visibility": null,
      "width": null
     }
    },
    "8479b1ca05594b8c89461533f6db3269": {
     "model_module": "@jupyter-widgets/controls",
     "model_name": "FloatProgressModel",
     "state": {
      "_dom_classes": [],
      "_model_module": "@jupyter-widgets/controls",
      "_model_module_version": "1.5.0",
      "_model_name": "FloatProgressModel",
      "_view_count": null,
      "_view_module": "@jupyter-widgets/controls",
      "_view_module_version": "1.5.0",
      "_view_name": "ProgressView",
      "bar_style": "success",
      "description": "epoch 1: 100%",
      "description_tooltip": null,
      "layout": "IPY_MODEL_760344f5d8514ff38f51e8a852fbc33b",
      "max": 133,
      "min": 0,
      "orientation": "horizontal",
      "style": "IPY_MODEL_29b1a1d28e5f48c5b8167480fc352e8f",
      "value": 133
     }
    },
    "8484ea92ed74499aa1316c5382887571": {
     "model_module": "@jupyter-widgets/controls",
     "model_name": "ProgressStyleModel",
     "state": {
      "_model_module": "@jupyter-widgets/controls",
      "_model_module_version": "1.5.0",
      "_model_name": "ProgressStyleModel",
      "_view_count": null,
      "_view_module": "@jupyter-widgets/base",
      "_view_module_version": "1.2.0",
      "_view_name": "StyleView",
      "bar_color": null,
      "description_width": "initial"
     }
    },
    "84e5896e89114f8cb8a155cda7d45135": {
     "model_module": "@jupyter-widgets/controls",
     "model_name": "ProgressStyleModel",
     "state": {
      "_model_module": "@jupyter-widgets/controls",
      "_model_module_version": "1.5.0",
      "_model_name": "ProgressStyleModel",
      "_view_count": null,
      "_view_module": "@jupyter-widgets/base",
      "_view_module_version": "1.2.0",
      "_view_name": "StyleView",
      "bar_color": null,
      "description_width": "initial"
     }
    },
    "878e2169a5054fe9ba84cfb6f92c5a13": {
     "model_module": "@jupyter-widgets/base",
     "model_name": "LayoutModel",
     "state": {
      "_model_module": "@jupyter-widgets/base",
      "_model_module_version": "1.2.0",
      "_model_name": "LayoutModel",
      "_view_count": null,
      "_view_module": "@jupyter-widgets/base",
      "_view_module_version": "1.2.0",
      "_view_name": "LayoutView",
      "align_content": null,
      "align_items": null,
      "align_self": null,
      "border": null,
      "bottom": null,
      "display": null,
      "flex": null,
      "flex_flow": null,
      "grid_area": null,
      "grid_auto_columns": null,
      "grid_auto_flow": null,
      "grid_auto_rows": null,
      "grid_column": null,
      "grid_gap": null,
      "grid_row": null,
      "grid_template_areas": null,
      "grid_template_columns": null,
      "grid_template_rows": null,
      "height": null,
      "justify_content": null,
      "justify_items": null,
      "left": null,
      "margin": null,
      "max_height": null,
      "max_width": null,
      "min_height": null,
      "min_width": null,
      "object_fit": null,
      "object_position": null,
      "order": null,
      "overflow": null,
      "overflow_x": null,
      "overflow_y": null,
      "padding": null,
      "right": null,
      "top": null,
      "visibility": null,
      "width": null
     }
    },
    "89590a13e7994f83ab5f8dd9673d944c": {
     "model_module": "@jupyter-widgets/controls",
     "model_name": "HTMLModel",
     "state": {
      "_dom_classes": [],
      "_model_module": "@jupyter-widgets/controls",
      "_model_module_version": "1.5.0",
      "_model_name": "HTMLModel",
      "_view_count": null,
      "_view_module": "@jupyter-widgets/controls",
      "_view_module_version": "1.5.0",
      "_view_name": "HTMLView",
      "description": "",
      "description_tooltip": null,
      "layout": "IPY_MODEL_f59886b0d9434e83950a9571eb6f079c",
      "placeholder": "​",
      "style": "IPY_MODEL_af5c5feb875841ad9c8e36f8cfb38109",
      "value": " 40/40 [02:47&lt;00:00,  4.19s/instance, train_loss=0.372, train_denotation_acc=1, dev_denotation_acc=1]"
     }
    },
    "8a5155136d474c97bdb646b368573cee": {
     "model_module": "@jupyter-widgets/controls",
     "model_name": "ProgressStyleModel",
     "state": {
      "_model_module": "@jupyter-widgets/controls",
      "_model_module_version": "1.5.0",
      "_model_name": "ProgressStyleModel",
      "_view_count": null,
      "_view_module": "@jupyter-widgets/base",
      "_view_module_version": "1.2.0",
      "_view_name": "StyleView",
      "bar_color": null,
      "description_width": "initial"
     }
    },
    "8aeeada067b4403384df48b81cd42816": {
     "model_module": "@jupyter-widgets/controls",
     "model_name": "HTMLModel",
     "state": {
      "_dom_classes": [],
      "_model_module": "@jupyter-widgets/controls",
      "_model_module_version": "1.5.0",
      "_model_name": "HTMLModel",
      "_view_count": null,
      "_view_module": "@jupyter-widgets/controls",
      "_view_module_version": "1.5.0",
      "_view_name": "HTMLView",
      "description": "",
      "description_tooltip": null,
      "layout": "IPY_MODEL_07beb667bc5541d992cb06ac2b5859eb",
      "placeholder": "​",
      "style": "IPY_MODEL_e3fa366185b546c9a0636b262ea05f73",
      "value": " 40/40 [03:07&lt;00:00,  4.68s/instance, train_loss=0.55, train_denotation_acc=1, dev_denotation_acc=1]"
     }
    },
    "8c25db1a37e440cbb210dc161ce0d757": {
     "model_module": "@jupyter-widgets/controls",
     "model_name": "FloatProgressModel",
     "state": {
      "_dom_classes": [],
      "_model_module": "@jupyter-widgets/controls",
      "_model_module_version": "1.5.0",
      "_model_name": "FloatProgressModel",
      "_view_count": null,
      "_view_module": "@jupyter-widgets/controls",
      "_view_module_version": "1.5.0",
      "_view_name": "ProgressView",
      "bar_style": "success",
      "description": "epoch 2: 100%",
      "description_tooltip": null,
      "layout": "IPY_MODEL_d26ae29d92d84c16bcf4162059c7b3da",
      "max": 133,
      "min": 0,
      "orientation": "horizontal",
      "style": "IPY_MODEL_df71f793661245f09d3cf4166bd267bc",
      "value": 133
     }
    },
    "8d55b5f4a47c4a3ab9d26cfb1b183bdb": {
     "model_module": "@jupyter-widgets/base",
     "model_name": "LayoutModel",
     "state": {
      "_model_module": "@jupyter-widgets/base",
      "_model_module_version": "1.2.0",
      "_model_name": "LayoutModel",
      "_view_count": null,
      "_view_module": "@jupyter-widgets/base",
      "_view_module_version": "1.2.0",
      "_view_name": "LayoutView",
      "align_content": null,
      "align_items": null,
      "align_self": null,
      "border": null,
      "bottom": null,
      "display": null,
      "flex": null,
      "flex_flow": null,
      "grid_area": null,
      "grid_auto_columns": null,
      "grid_auto_flow": null,
      "grid_auto_rows": null,
      "grid_column": null,
      "grid_gap": null,
      "grid_row": null,
      "grid_template_areas": null,
      "grid_template_columns": null,
      "grid_template_rows": null,
      "height": null,
      "justify_content": null,
      "justify_items": null,
      "left": null,
      "margin": null,
      "max_height": null,
      "max_width": null,
      "min_height": null,
      "min_width": null,
      "object_fit": null,
      "object_position": null,
      "order": null,
      "overflow": null,
      "overflow_x": null,
      "overflow_y": null,
      "padding": null,
      "right": null,
      "top": null,
      "visibility": null,
      "width": null
     }
    },
    "90de889cb2324be3a055831b9117bd96": {
     "model_module": "@jupyter-widgets/controls",
     "model_name": "HTMLModel",
     "state": {
      "_dom_classes": [],
      "_model_module": "@jupyter-widgets/controls",
      "_model_module_version": "1.5.0",
      "_model_name": "HTMLModel",
      "_view_count": null,
      "_view_module": "@jupyter-widgets/controls",
      "_view_module_version": "1.5.0",
      "_view_name": "HTMLView",
      "description": "",
      "description_tooltip": null,
      "layout": "IPY_MODEL_b51e2dbb86364f60bdfbf05a71be8f28",
      "placeholder": "​",
      "style": "IPY_MODEL_7f1e86fef65347269673b46581bab70f",
      "value": " 133/133 [03:42&lt;00:00,  1.67s/instance, train_loss=1.02, train_denotation_acc=0.699, dev_denotation_acc=0.634]"
     }
    },
    "918d30f781a14a46aebc161eed1d6f70": {
     "model_module": "@jupyter-widgets/controls",
     "model_name": "DescriptionStyleModel",
     "state": {
      "_model_module": "@jupyter-widgets/controls",
      "_model_module_version": "1.5.0",
      "_model_name": "DescriptionStyleModel",
      "_view_count": null,
      "_view_module": "@jupyter-widgets/base",
      "_view_module_version": "1.2.0",
      "_view_name": "StyleView",
      "description_width": ""
     }
    },
    "91e3a407070c438786a230e7032af51c": {
     "model_module": "@jupyter-widgets/controls",
     "model_name": "HTMLModel",
     "state": {
      "_dom_classes": [],
      "_model_module": "@jupyter-widgets/controls",
      "_model_module_version": "1.5.0",
      "_model_name": "HTMLModel",
      "_view_count": null,
      "_view_module": "@jupyter-widgets/controls",
      "_view_module_version": "1.5.0",
      "_view_name": "HTMLView",
      "description": "",
      "description_tooltip": null,
      "layout": "IPY_MODEL_d4b24041104c489bb204c774414b1ee0",
      "placeholder": "​",
      "style": "IPY_MODEL_3b197e78eef04412860458ca748aa396",
      "value": " 40/40 [03:35&lt;00:00,  5.39s/instance, train_loss=1.34, train_denotation_acc=0.525, dev_denotation_acc=0.556]"
     }
    },
    "928af21811bd48bfbf53beb2f7fdafa6": {
     "model_module": "@jupyter-widgets/controls",
     "model_name": "HBoxModel",
     "state": {
      "_dom_classes": [],
      "_model_module": "@jupyter-widgets/controls",
      "_model_module_version": "1.5.0",
      "_model_name": "HBoxModel",
      "_view_count": null,
      "_view_module": "@jupyter-widgets/controls",
      "_view_module_version": "1.5.0",
      "_view_name": "HBoxView",
      "box_style": "",
      "children": [
       "IPY_MODEL_6f6346ed55d54cbe8ce320bec2f79e82",
       "IPY_MODEL_89590a13e7994f83ab5f8dd9673d944c"
      ],
      "layout": "IPY_MODEL_c14bda4c11f64290bb44f1c260c27fff"
     }
    },
    "9335b85da6ba4d58983fe6ae2074d86f": {
     "model_module": "@jupyter-widgets/controls",
     "model_name": "HBoxModel",
     "state": {
      "_dom_classes": [],
      "_model_module": "@jupyter-widgets/controls",
      "_model_module_version": "1.5.0",
      "_model_name": "HBoxModel",
      "_view_count": null,
      "_view_module": "@jupyter-widgets/controls",
      "_view_module_version": "1.5.0",
      "_view_name": "HBoxView",
      "box_style": "",
      "children": [
       "IPY_MODEL_0ad4a449f1814eca8d3df4c9709ec805",
       "IPY_MODEL_90de889cb2324be3a055831b9117bd96"
      ],
      "layout": "IPY_MODEL_75e97a5a874b4aeea2422bc42066e3de"
     }
    },
    "96952d85f6284b92aaf3d443e7bf47d0": {
     "model_module": "@jupyter-widgets/controls",
     "model_name": "ProgressStyleModel",
     "state": {
      "_model_module": "@jupyter-widgets/controls",
      "_model_module_version": "1.5.0",
      "_model_name": "ProgressStyleModel",
      "_view_count": null,
      "_view_module": "@jupyter-widgets/base",
      "_view_module_version": "1.2.0",
      "_view_name": "StyleView",
      "bar_color": null,
      "description_width": "initial"
     }
    },
    "969d57728aa943509e6c97b1ebac935e": {
     "model_module": "@jupyter-widgets/controls",
     "model_name": "DescriptionStyleModel",
     "state": {
      "_model_module": "@jupyter-widgets/controls",
      "_model_module_version": "1.5.0",
      "_model_name": "DescriptionStyleModel",
      "_view_count": null,
      "_view_module": "@jupyter-widgets/base",
      "_view_module_version": "1.2.0",
      "_view_name": "StyleView",
      "description_width": ""
     }
    },
    "974452a99c954c1483a74bd410456285": {
     "model_module": "@jupyter-widgets/controls",
     "model_name": "FloatProgressModel",
     "state": {
      "_dom_classes": [],
      "_model_module": "@jupyter-widgets/controls",
      "_model_module_version": "1.5.0",
      "_model_name": "FloatProgressModel",
      "_view_count": null,
      "_view_module": "@jupyter-widgets/controls",
      "_view_module_version": "1.5.0",
      "_view_name": "ProgressView",
      "bar_style": "success",
      "description": "epoch 8: 100%",
      "description_tooltip": null,
      "layout": "IPY_MODEL_2555af77955848d0ba4d995b37a75a2d",
      "max": 40,
      "min": 0,
      "orientation": "horizontal",
      "style": "IPY_MODEL_b7297b712f0f42418164ddae564901d7",
      "value": 40
     }
    },
    "9880afe4b89a4cc4bbc55d582facb7e6": {
     "model_module": "@jupyter-widgets/controls",
     "model_name": "ProgressStyleModel",
     "state": {
      "_model_module": "@jupyter-widgets/controls",
      "_model_module_version": "1.5.0",
      "_model_name": "ProgressStyleModel",
      "_view_count": null,
      "_view_module": "@jupyter-widgets/base",
      "_view_module_version": "1.2.0",
      "_view_name": "StyleView",
      "bar_color": null,
      "description_width": "initial"
     }
    },
    "996bed156384441fa1c9f9935f7ddd6b": {
     "model_module": "@jupyter-widgets/base",
     "model_name": "LayoutModel",
     "state": {
      "_model_module": "@jupyter-widgets/base",
      "_model_module_version": "1.2.0",
      "_model_name": "LayoutModel",
      "_view_count": null,
      "_view_module": "@jupyter-widgets/base",
      "_view_module_version": "1.2.0",
      "_view_name": "LayoutView",
      "align_content": null,
      "align_items": null,
      "align_self": null,
      "border": null,
      "bottom": null,
      "display": null,
      "flex": null,
      "flex_flow": null,
      "grid_area": null,
      "grid_auto_columns": null,
      "grid_auto_flow": null,
      "grid_auto_rows": null,
      "grid_column": null,
      "grid_gap": null,
      "grid_row": null,
      "grid_template_areas": null,
      "grid_template_columns": null,
      "grid_template_rows": null,
      "height": null,
      "justify_content": null,
      "justify_items": null,
      "left": null,
      "margin": null,
      "max_height": null,
      "max_width": null,
      "min_height": null,
      "min_width": null,
      "object_fit": null,
      "object_position": null,
      "order": null,
      "overflow": null,
      "overflow_x": null,
      "overflow_y": null,
      "padding": null,
      "right": null,
      "top": null,
      "visibility": null,
      "width": null
     }
    },
    "9aa0c14295894862b119a9e844fa031a": {
     "model_module": "@jupyter-widgets/controls",
     "model_name": "DescriptionStyleModel",
     "state": {
      "_model_module": "@jupyter-widgets/controls",
      "_model_module_version": "1.5.0",
      "_model_name": "DescriptionStyleModel",
      "_view_count": null,
      "_view_module": "@jupyter-widgets/base",
      "_view_module_version": "1.2.0",
      "_view_name": "StyleView",
      "description_width": ""
     }
    },
    "9afc6d0cecba43f283f7900bfb5a7af0": {
     "model_module": "@jupyter-widgets/base",
     "model_name": "LayoutModel",
     "state": {
      "_model_module": "@jupyter-widgets/base",
      "_model_module_version": "1.2.0",
      "_model_name": "LayoutModel",
      "_view_count": null,
      "_view_module": "@jupyter-widgets/base",
      "_view_module_version": "1.2.0",
      "_view_name": "LayoutView",
      "align_content": null,
      "align_items": null,
      "align_self": null,
      "border": null,
      "bottom": null,
      "display": null,
      "flex": null,
      "flex_flow": null,
      "grid_area": null,
      "grid_auto_columns": null,
      "grid_auto_flow": null,
      "grid_auto_rows": null,
      "grid_column": null,
      "grid_gap": null,
      "grid_row": null,
      "grid_template_areas": null,
      "grid_template_columns": null,
      "grid_template_rows": null,
      "height": null,
      "justify_content": null,
      "justify_items": null,
      "left": null,
      "margin": null,
      "max_height": null,
      "max_width": null,
      "min_height": null,
      "min_width": null,
      "object_fit": null,
      "object_position": null,
      "order": null,
      "overflow": null,
      "overflow_x": null,
      "overflow_y": null,
      "padding": null,
      "right": null,
      "top": null,
      "visibility": null,
      "width": null
     }
    },
    "9d330eb6c6634b40b8799547dba8e165": {
     "model_module": "@jupyter-widgets/controls",
     "model_name": "HTMLModel",
     "state": {
      "_dom_classes": [],
      "_model_module": "@jupyter-widgets/controls",
      "_model_module_version": "1.5.0",
      "_model_name": "HTMLModel",
      "_view_count": null,
      "_view_module": "@jupyter-widgets/controls",
      "_view_module_version": "1.5.0",
      "_view_name": "HTMLView",
      "description": "",
      "description_tooltip": null,
      "layout": "IPY_MODEL_9efed0bc1691415ea4f7fff1bbc7d6be",
      "placeholder": "​",
      "style": "IPY_MODEL_06e0197a1bc8446fb9cef20c370f326a",
      "value": " 133/133 [03:21&lt;00:00,  1.51s/instance, train_loss=1.79, train_denotation_acc=0.489, dev_denotation_acc=0.439]"
     }
    },
    "9d6362d7e8dd4893b4409b317779e11f": {
     "model_module": "@jupyter-widgets/controls",
     "model_name": "DescriptionStyleModel",
     "state": {
      "_model_module": "@jupyter-widgets/controls",
      "_model_module_version": "1.5.0",
      "_model_name": "DescriptionStyleModel",
      "_view_count": null,
      "_view_module": "@jupyter-widgets/base",
      "_view_module_version": "1.2.0",
      "_view_name": "StyleView",
      "description_width": ""
     }
    },
    "9efed0bc1691415ea4f7fff1bbc7d6be": {
     "model_module": "@jupyter-widgets/base",
     "model_name": "LayoutModel",
     "state": {
      "_model_module": "@jupyter-widgets/base",
      "_model_module_version": "1.2.0",
      "_model_name": "LayoutModel",
      "_view_count": null,
      "_view_module": "@jupyter-widgets/base",
      "_view_module_version": "1.2.0",
      "_view_name": "LayoutView",
      "align_content": null,
      "align_items": null,
      "align_self": null,
      "border": null,
      "bottom": null,
      "display": null,
      "flex": null,
      "flex_flow": null,
      "grid_area": null,
      "grid_auto_columns": null,
      "grid_auto_flow": null,
      "grid_auto_rows": null,
      "grid_column": null,
      "grid_gap": null,
      "grid_row": null,
      "grid_template_areas": null,
      "grid_template_columns": null,
      "grid_template_rows": null,
      "height": null,
      "justify_content": null,
      "justify_items": null,
      "left": null,
      "margin": null,
      "max_height": null,
      "max_width": null,
      "min_height": null,
      "min_width": null,
      "object_fit": null,
      "object_position": null,
      "order": null,
      "overflow": null,
      "overflow_x": null,
      "overflow_y": null,
      "padding": null,
      "right": null,
      "top": null,
      "visibility": null,
      "width": null
     }
    },
    "a02794a213c94d77bfcde5805ea0ac2c": {
     "model_module": "@jupyter-widgets/controls",
     "model_name": "ProgressStyleModel",
     "state": {
      "_model_module": "@jupyter-widgets/controls",
      "_model_module_version": "1.5.0",
      "_model_name": "ProgressStyleModel",
      "_view_count": null,
      "_view_module": "@jupyter-widgets/base",
      "_view_module_version": "1.2.0",
      "_view_name": "StyleView",
      "bar_color": null,
      "description_width": "initial"
     }
    },
    "a051fa7f8b01471fb8f92df053272171": {
     "model_module": "@jupyter-widgets/base",
     "model_name": "LayoutModel",
     "state": {
      "_model_module": "@jupyter-widgets/base",
      "_model_module_version": "1.2.0",
      "_model_name": "LayoutModel",
      "_view_count": null,
      "_view_module": "@jupyter-widgets/base",
      "_view_module_version": "1.2.0",
      "_view_name": "LayoutView",
      "align_content": null,
      "align_items": null,
      "align_self": null,
      "border": null,
      "bottom": null,
      "display": null,
      "flex": null,
      "flex_flow": null,
      "grid_area": null,
      "grid_auto_columns": null,
      "grid_auto_flow": null,
      "grid_auto_rows": null,
      "grid_column": null,
      "grid_gap": null,
      "grid_row": null,
      "grid_template_areas": null,
      "grid_template_columns": null,
      "grid_template_rows": null,
      "height": null,
      "justify_content": null,
      "justify_items": null,
      "left": null,
      "margin": null,
      "max_height": null,
      "max_width": null,
      "min_height": null,
      "min_width": null,
      "object_fit": null,
      "object_position": null,
      "order": null,
      "overflow": null,
      "overflow_x": null,
      "overflow_y": null,
      "padding": null,
      "right": null,
      "top": null,
      "visibility": null,
      "width": null
     }
    },
    "a0abbbb16ce64c71973d10ba2f5eead2": {
     "model_module": "@jupyter-widgets/controls",
     "model_name": "HTMLModel",
     "state": {
      "_dom_classes": [],
      "_model_module": "@jupyter-widgets/controls",
      "_model_module_version": "1.5.0",
      "_model_name": "HTMLModel",
      "_view_count": null,
      "_view_module": "@jupyter-widgets/controls",
      "_view_module_version": "1.5.0",
      "_view_name": "HTMLView",
      "description": "",
      "description_tooltip": null,
      "layout": "IPY_MODEL_83b4cef7938149a39261d0b9bc4abf55",
      "placeholder": "​",
      "style": "IPY_MODEL_d2665f1e26d04fddaa18d7b10a09ad3a",
      "value": " 133/133 [04:07&lt;00:00,  1.86s/instance, train_loss=1.47, train_denotation_acc=0.511, dev_denotation_acc=0.659]"
     }
    },
    "a17a320a6ef14b92b6c95e44273e4f51": {
     "model_module": "@jupyter-widgets/base",
     "model_name": "LayoutModel",
     "state": {
      "_model_module": "@jupyter-widgets/base",
      "_model_module_version": "1.2.0",
      "_model_name": "LayoutModel",
      "_view_count": null,
      "_view_module": "@jupyter-widgets/base",
      "_view_module_version": "1.2.0",
      "_view_name": "LayoutView",
      "align_content": null,
      "align_items": null,
      "align_self": null,
      "border": null,
      "bottom": null,
      "display": null,
      "flex": null,
      "flex_flow": null,
      "grid_area": null,
      "grid_auto_columns": null,
      "grid_auto_flow": null,
      "grid_auto_rows": null,
      "grid_column": null,
      "grid_gap": null,
      "grid_row": null,
      "grid_template_areas": null,
      "grid_template_columns": null,
      "grid_template_rows": null,
      "height": null,
      "justify_content": null,
      "justify_items": null,
      "left": null,
      "margin": null,
      "max_height": null,
      "max_width": null,
      "min_height": null,
      "min_width": null,
      "object_fit": null,
      "object_position": null,
      "order": null,
      "overflow": null,
      "overflow_x": null,
      "overflow_y": null,
      "padding": null,
      "right": null,
      "top": null,
      "visibility": null,
      "width": null
     }
    },
    "a2238efc4cf34d08b133d0362340e891": {
     "model_module": "@jupyter-widgets/controls",
     "model_name": "HTMLModel",
     "state": {
      "_dom_classes": [],
      "_model_module": "@jupyter-widgets/controls",
      "_model_module_version": "1.5.0",
      "_model_name": "HTMLModel",
      "_view_count": null,
      "_view_module": "@jupyter-widgets/controls",
      "_view_module_version": "1.5.0",
      "_view_name": "HTMLView",
      "description": "",
      "description_tooltip": null,
      "layout": "IPY_MODEL_23b49c83a1a843f8a30feb90c49419d5",
      "placeholder": "​",
      "style": "IPY_MODEL_0ab232d4371a4ad4ac2cc909c10cb0d9",
      "value": " 10/10 [40:53&lt;00:00, 245.34s/epoch]"
     }
    },
    "a3d7302252a44a3db7fd8ce70739b6b1": {
     "model_module": "@jupyter-widgets/controls",
     "model_name": "DescriptionStyleModel",
     "state": {
      "_model_module": "@jupyter-widgets/controls",
      "_model_module_version": "1.5.0",
      "_model_name": "DescriptionStyleModel",
      "_view_count": null,
      "_view_module": "@jupyter-widgets/base",
      "_view_module_version": "1.2.0",
      "_view_name": "StyleView",
      "description_width": ""
     }
    },
    "a6a9c7e1ed73488b99eb2df6ad69cb89": {
     "model_module": "@jupyter-widgets/controls",
     "model_name": "HBoxModel",
     "state": {
      "_dom_classes": [],
      "_model_module": "@jupyter-widgets/controls",
      "_model_module_version": "1.5.0",
      "_model_name": "HBoxModel",
      "_view_count": null,
      "_view_module": "@jupyter-widgets/controls",
      "_view_module_version": "1.5.0",
      "_view_name": "HBoxView",
      "box_style": "",
      "children": [
       "IPY_MODEL_fe2530a408954c0684217f16b44f7f84",
       "IPY_MODEL_18c7c6de76fa4372a68c23dbb7d25c65"
      ],
      "layout": "IPY_MODEL_5e54f055e30b44a4a979d27f6cda4e27"
     }
    },
    "a88a6201a6a44c62b831df297897c374": {
     "model_module": "@jupyter-widgets/controls",
     "model_name": "ProgressStyleModel",
     "state": {
      "_model_module": "@jupyter-widgets/controls",
      "_model_module_version": "1.5.0",
      "_model_name": "ProgressStyleModel",
      "_view_count": null,
      "_view_module": "@jupyter-widgets/base",
      "_view_module_version": "1.2.0",
      "_view_name": "StyleView",
      "bar_color": null,
      "description_width": "initial"
     }
    },
    "a8974831d585423b9635828b55e337c9": {
     "model_module": "@jupyter-widgets/controls",
     "model_name": "DescriptionStyleModel",
     "state": {
      "_model_module": "@jupyter-widgets/controls",
      "_model_module_version": "1.5.0",
      "_model_name": "DescriptionStyleModel",
      "_view_count": null,
      "_view_module": "@jupyter-widgets/base",
      "_view_module_version": "1.2.0",
      "_view_name": "StyleView",
      "description_width": ""
     }
    },
    "a8b74771315d4f15a04164e2a78cd0c4": {
     "model_module": "@jupyter-widgets/controls",
     "model_name": "HTMLModel",
     "state": {
      "_dom_classes": [],
      "_model_module": "@jupyter-widgets/controls",
      "_model_module_version": "1.5.0",
      "_model_name": "HTMLModel",
      "_view_count": null,
      "_view_module": "@jupyter-widgets/controls",
      "_view_module_version": "1.5.0",
      "_view_name": "HTMLView",
      "description": "",
      "description_tooltip": null,
      "layout": "IPY_MODEL_ae247eea7d2b4b59a3a5a3d735b25801",
      "placeholder": "​",
      "style": "IPY_MODEL_bff97bd751b94062a06b9a1cdae58390",
      "value": " 133/133 [03:36&lt;00:00,  1.63s/instance, train_loss=0.904, train_denotation_acc=0.805, dev_denotation_acc=0.78]"
     }
    },
    "a9f18fa8538d4012a01adcf4cc43e0be": {
     "model_module": "@jupyter-widgets/controls",
     "model_name": "HTMLModel",
     "state": {
      "_dom_classes": [],
      "_model_module": "@jupyter-widgets/controls",
      "_model_module_version": "1.5.0",
      "_model_name": "HTMLModel",
      "_view_count": null,
      "_view_module": "@jupyter-widgets/controls",
      "_view_module_version": "1.5.0",
      "_view_name": "HTMLView",
      "description": "",
      "description_tooltip": null,
      "layout": "IPY_MODEL_7537bfc0edcf46d1a91470838609feee",
      "placeholder": "​",
      "style": "IPY_MODEL_6912ef4ed48d4a248591fed10594b03a",
      "value": " 40/40 [03:16&lt;00:00,  4.92s/instance, train_loss=0.705, train_denotation_acc=1, dev_denotation_acc=1]"
     }
    },
    "ab2f121f71fe421697de7503d7322aa8": {
     "model_module": "@jupyter-widgets/controls",
     "model_name": "ProgressStyleModel",
     "state": {
      "_model_module": "@jupyter-widgets/controls",
      "_model_module_version": "1.5.0",
      "_model_name": "ProgressStyleModel",
      "_view_count": null,
      "_view_module": "@jupyter-widgets/base",
      "_view_module_version": "1.2.0",
      "_view_name": "StyleView",
      "bar_color": null,
      "description_width": "initial"
     }
    },
    "abbc0a4b5f874a1799db7ae3db0c25f1": {
     "model_module": "@jupyter-widgets/base",
     "model_name": "LayoutModel",
     "state": {
      "_model_module": "@jupyter-widgets/base",
      "_model_module_version": "1.2.0",
      "_model_name": "LayoutModel",
      "_view_count": null,
      "_view_module": "@jupyter-widgets/base",
      "_view_module_version": "1.2.0",
      "_view_name": "LayoutView",
      "align_content": null,
      "align_items": null,
      "align_self": null,
      "border": null,
      "bottom": null,
      "display": null,
      "flex": null,
      "flex_flow": null,
      "grid_area": null,
      "grid_auto_columns": null,
      "grid_auto_flow": null,
      "grid_auto_rows": null,
      "grid_column": null,
      "grid_gap": null,
      "grid_row": null,
      "grid_template_areas": null,
      "grid_template_columns": null,
      "grid_template_rows": null,
      "height": null,
      "justify_content": null,
      "justify_items": null,
      "left": null,
      "margin": null,
      "max_height": null,
      "max_width": null,
      "min_height": null,
      "min_width": null,
      "object_fit": null,
      "object_position": null,
      "order": null,
      "overflow": null,
      "overflow_x": null,
      "overflow_y": null,
      "padding": null,
      "right": null,
      "top": null,
      "visibility": null,
      "width": null
     }
    },
    "ac462ba1f9bf4b8aae969f2852805241": {
     "model_module": "@jupyter-widgets/controls",
     "model_name": "HBoxModel",
     "state": {
      "_dom_classes": [],
      "_model_module": "@jupyter-widgets/controls",
      "_model_module_version": "1.5.0",
      "_model_name": "HBoxModel",
      "_view_count": null,
      "_view_module": "@jupyter-widgets/controls",
      "_view_module_version": "1.5.0",
      "_view_name": "HBoxView",
      "box_style": "",
      "children": [
       "IPY_MODEL_8479b1ca05594b8c89461533f6db3269",
       "IPY_MODEL_cc5274e6a30645f984a4d6f18ec690da"
      ],
      "layout": "IPY_MODEL_4eb2fdf770f94fa1a42ff772e1c9b8b0"
     }
    },
    "acf6c1ef081641cf942605ec1c8efba4": {
     "model_module": "@jupyter-widgets/controls",
     "model_name": "ProgressStyleModel",
     "state": {
      "_model_module": "@jupyter-widgets/controls",
      "_model_module_version": "1.5.0",
      "_model_name": "ProgressStyleModel",
      "_view_count": null,
      "_view_module": "@jupyter-widgets/base",
      "_view_module_version": "1.2.0",
      "_view_name": "StyleView",
      "bar_color": null,
      "description_width": "initial"
     }
    },
    "ae247eea7d2b4b59a3a5a3d735b25801": {
     "model_module": "@jupyter-widgets/base",
     "model_name": "LayoutModel",
     "state": {
      "_model_module": "@jupyter-widgets/base",
      "_model_module_version": "1.2.0",
      "_model_name": "LayoutModel",
      "_view_count": null,
      "_view_module": "@jupyter-widgets/base",
      "_view_module_version": "1.2.0",
      "_view_name": "LayoutView",
      "align_content": null,
      "align_items": null,
      "align_self": null,
      "border": null,
      "bottom": null,
      "display": null,
      "flex": null,
      "flex_flow": null,
      "grid_area": null,
      "grid_auto_columns": null,
      "grid_auto_flow": null,
      "grid_auto_rows": null,
      "grid_column": null,
      "grid_gap": null,
      "grid_row": null,
      "grid_template_areas": null,
      "grid_template_columns": null,
      "grid_template_rows": null,
      "height": null,
      "justify_content": null,
      "justify_items": null,
      "left": null,
      "margin": null,
      "max_height": null,
      "max_width": null,
      "min_height": null,
      "min_width": null,
      "object_fit": null,
      "object_position": null,
      "order": null,
      "overflow": null,
      "overflow_x": null,
      "overflow_y": null,
      "padding": null,
      "right": null,
      "top": null,
      "visibility": null,
      "width": null
     }
    },
    "af5c5feb875841ad9c8e36f8cfb38109": {
     "model_module": "@jupyter-widgets/controls",
     "model_name": "DescriptionStyleModel",
     "state": {
      "_model_module": "@jupyter-widgets/controls",
      "_model_module_version": "1.5.0",
      "_model_name": "DescriptionStyleModel",
      "_view_count": null,
      "_view_module": "@jupyter-widgets/base",
      "_view_module_version": "1.2.0",
      "_view_name": "StyleView",
      "description_width": ""
     }
    },
    "b09bb1405b74469ebff2b9885fd01e48": {
     "model_module": "@jupyter-widgets/base",
     "model_name": "LayoutModel",
     "state": {
      "_model_module": "@jupyter-widgets/base",
      "_model_module_version": "1.2.0",
      "_model_name": "LayoutModel",
      "_view_count": null,
      "_view_module": "@jupyter-widgets/base",
      "_view_module_version": "1.2.0",
      "_view_name": "LayoutView",
      "align_content": null,
      "align_items": null,
      "align_self": null,
      "border": null,
      "bottom": null,
      "display": null,
      "flex": null,
      "flex_flow": null,
      "grid_area": null,
      "grid_auto_columns": null,
      "grid_auto_flow": null,
      "grid_auto_rows": null,
      "grid_column": null,
      "grid_gap": null,
      "grid_row": null,
      "grid_template_areas": null,
      "grid_template_columns": null,
      "grid_template_rows": null,
      "height": null,
      "justify_content": null,
      "justify_items": null,
      "left": null,
      "margin": null,
      "max_height": null,
      "max_width": null,
      "min_height": null,
      "min_width": null,
      "object_fit": null,
      "object_position": null,
      "order": null,
      "overflow": null,
      "overflow_x": null,
      "overflow_y": null,
      "padding": null,
      "right": null,
      "top": null,
      "visibility": null,
      "width": null
     }
    },
    "b09cab2dfee44a36a7db9985cf388aae": {
     "model_module": "@jupyter-widgets/base",
     "model_name": "LayoutModel",
     "state": {
      "_model_module": "@jupyter-widgets/base",
      "_model_module_version": "1.2.0",
      "_model_name": "LayoutModel",
      "_view_count": null,
      "_view_module": "@jupyter-widgets/base",
      "_view_module_version": "1.2.0",
      "_view_name": "LayoutView",
      "align_content": null,
      "align_items": null,
      "align_self": null,
      "border": null,
      "bottom": null,
      "display": null,
      "flex": null,
      "flex_flow": null,
      "grid_area": null,
      "grid_auto_columns": null,
      "grid_auto_flow": null,
      "grid_auto_rows": null,
      "grid_column": null,
      "grid_gap": null,
      "grid_row": null,
      "grid_template_areas": null,
      "grid_template_columns": null,
      "grid_template_rows": null,
      "height": null,
      "justify_content": null,
      "justify_items": null,
      "left": null,
      "margin": null,
      "max_height": null,
      "max_width": null,
      "min_height": null,
      "min_width": null,
      "object_fit": null,
      "object_position": null,
      "order": null,
      "overflow": null,
      "overflow_x": null,
      "overflow_y": null,
      "padding": null,
      "right": null,
      "top": null,
      "visibility": null,
      "width": null
     }
    },
    "b3860056d981495bb209085534442638": {
     "model_module": "@jupyter-widgets/base",
     "model_name": "LayoutModel",
     "state": {
      "_model_module": "@jupyter-widgets/base",
      "_model_module_version": "1.2.0",
      "_model_name": "LayoutModel",
      "_view_count": null,
      "_view_module": "@jupyter-widgets/base",
      "_view_module_version": "1.2.0",
      "_view_name": "LayoutView",
      "align_content": null,
      "align_items": null,
      "align_self": null,
      "border": null,
      "bottom": null,
      "display": null,
      "flex": null,
      "flex_flow": null,
      "grid_area": null,
      "grid_auto_columns": null,
      "grid_auto_flow": null,
      "grid_auto_rows": null,
      "grid_column": null,
      "grid_gap": null,
      "grid_row": null,
      "grid_template_areas": null,
      "grid_template_columns": null,
      "grid_template_rows": null,
      "height": null,
      "justify_content": null,
      "justify_items": null,
      "left": null,
      "margin": null,
      "max_height": null,
      "max_width": null,
      "min_height": null,
      "min_width": null,
      "object_fit": null,
      "object_position": null,
      "order": null,
      "overflow": null,
      "overflow_x": null,
      "overflow_y": null,
      "padding": null,
      "right": null,
      "top": null,
      "visibility": null,
      "width": null
     }
    },
    "b391d9a312ba4acb9bc9150640e2497c": {
     "model_module": "@jupyter-widgets/controls",
     "model_name": "FloatProgressModel",
     "state": {
      "_dom_classes": [],
      "_model_module": "@jupyter-widgets/controls",
      "_model_module_version": "1.5.0",
      "_model_name": "FloatProgressModel",
      "_view_count": null,
      "_view_module": "@jupyter-widgets/controls",
      "_view_module_version": "1.5.0",
      "_view_name": "ProgressView",
      "bar_style": "success",
      "description": "epoch 3: 100%",
      "description_tooltip": null,
      "layout": "IPY_MODEL_4f046416fe464ff5b2214d7100b5ef17",
      "max": 133,
      "min": 0,
      "orientation": "horizontal",
      "style": "IPY_MODEL_9880afe4b89a4cc4bbc55d582facb7e6",
      "value": 133
     }
    },
    "b51e2dbb86364f60bdfbf05a71be8f28": {
     "model_module": "@jupyter-widgets/base",
     "model_name": "LayoutModel",
     "state": {
      "_model_module": "@jupyter-widgets/base",
      "_model_module_version": "1.2.0",
      "_model_name": "LayoutModel",
      "_view_count": null,
      "_view_module": "@jupyter-widgets/base",
      "_view_module_version": "1.2.0",
      "_view_name": "LayoutView",
      "align_content": null,
      "align_items": null,
      "align_self": null,
      "border": null,
      "bottom": null,
      "display": null,
      "flex": null,
      "flex_flow": null,
      "grid_area": null,
      "grid_auto_columns": null,
      "grid_auto_flow": null,
      "grid_auto_rows": null,
      "grid_column": null,
      "grid_gap": null,
      "grid_row": null,
      "grid_template_areas": null,
      "grid_template_columns": null,
      "grid_template_rows": null,
      "height": null,
      "justify_content": null,
      "justify_items": null,
      "left": null,
      "margin": null,
      "max_height": null,
      "max_width": null,
      "min_height": null,
      "min_width": null,
      "object_fit": null,
      "object_position": null,
      "order": null,
      "overflow": null,
      "overflow_x": null,
      "overflow_y": null,
      "padding": null,
      "right": null,
      "top": null,
      "visibility": null,
      "width": null
     }
    },
    "b58fd8643319463aa56ad678e5bddb81": {
     "model_module": "@jupyter-widgets/base",
     "model_name": "LayoutModel",
     "state": {
      "_model_module": "@jupyter-widgets/base",
      "_model_module_version": "1.2.0",
      "_model_name": "LayoutModel",
      "_view_count": null,
      "_view_module": "@jupyter-widgets/base",
      "_view_module_version": "1.2.0",
      "_view_name": "LayoutView",
      "align_content": null,
      "align_items": null,
      "align_self": null,
      "border": null,
      "bottom": null,
      "display": null,
      "flex": null,
      "flex_flow": null,
      "grid_area": null,
      "grid_auto_columns": null,
      "grid_auto_flow": null,
      "grid_auto_rows": null,
      "grid_column": null,
      "grid_gap": null,
      "grid_row": null,
      "grid_template_areas": null,
      "grid_template_columns": null,
      "grid_template_rows": null,
      "height": null,
      "justify_content": null,
      "justify_items": null,
      "left": null,
      "margin": null,
      "max_height": null,
      "max_width": null,
      "min_height": null,
      "min_width": null,
      "object_fit": null,
      "object_position": null,
      "order": null,
      "overflow": null,
      "overflow_x": null,
      "overflow_y": null,
      "padding": null,
      "right": null,
      "top": null,
      "visibility": null,
      "width": null
     }
    },
    "b699d8dde32e459cb550d80d1790ef22": {
     "model_module": "@jupyter-widgets/controls",
     "model_name": "FloatProgressModel",
     "state": {
      "_dom_classes": [],
      "_model_module": "@jupyter-widgets/controls",
      "_model_module_version": "1.5.0",
      "_model_name": "FloatProgressModel",
      "_view_count": null,
      "_view_module": "@jupyter-widgets/controls",
      "_view_module_version": "1.5.0",
      "_view_name": "ProgressView",
      "bar_style": "success",
      "description": "epoch 2: 100%",
      "description_tooltip": null,
      "layout": "IPY_MODEL_48f188b8e62b440b883f984928831a94",
      "max": 133,
      "min": 0,
      "orientation": "horizontal",
      "style": "IPY_MODEL_de5423e55b6743bdbabcfc7e36e4ccd5",
      "value": 133
     }
    },
    "b6d72b742e634926bb7837c9d30f5211": {
     "model_module": "@jupyter-widgets/controls",
     "model_name": "HTMLModel",
     "state": {
      "_dom_classes": [],
      "_model_module": "@jupyter-widgets/controls",
      "_model_module_version": "1.5.0",
      "_model_name": "HTMLModel",
      "_view_count": null,
      "_view_module": "@jupyter-widgets/controls",
      "_view_module_version": "1.5.0",
      "_view_name": "HTMLView",
      "description": "",
      "description_tooltip": null,
      "layout": "IPY_MODEL_d85c2562490f4dfd984640b43e6849f0",
      "placeholder": "​",
      "style": "IPY_MODEL_25c755d5d9d74409b6c92efcaf213a19",
      "value": " 40/40 [02:18&lt;00:00,  3.47s/instance, train_loss=0.317, train_denotation_acc=1, dev_denotation_acc=1]"
     }
    },
    "b7297b712f0f42418164ddae564901d7": {
     "model_module": "@jupyter-widgets/controls",
     "model_name": "ProgressStyleModel",
     "state": {
      "_model_module": "@jupyter-widgets/controls",
      "_model_module_version": "1.5.0",
      "_model_name": "ProgressStyleModel",
      "_view_count": null,
      "_view_module": "@jupyter-widgets/base",
      "_view_module_version": "1.2.0",
      "_view_name": "StyleView",
      "bar_color": null,
      "description_width": "initial"
     }
    },
    "b94e2aecece64d1f8524545c46ee4516": {
     "model_module": "@jupyter-widgets/controls",
     "model_name": "FloatProgressModel",
     "state": {
      "_dom_classes": [],
      "_model_module": "@jupyter-widgets/controls",
      "_model_module_version": "1.5.0",
      "_model_name": "FloatProgressModel",
      "_view_count": null,
      "_view_module": "@jupyter-widgets/controls",
      "_view_module_version": "1.5.0",
      "_view_name": "ProgressView",
      "bar_style": "success",
      "description": "epoch 3: 100%",
      "description_tooltip": null,
      "layout": "IPY_MODEL_ce442356dc4b4a028e91cd90d4b780ab",
      "max": 133,
      "min": 0,
      "orientation": "horizontal",
      "style": "IPY_MODEL_d4b6fe18695c4ab993bf38e586237676",
      "value": 133
     }
    },
    "b988b3cae8cc44918fd9d88300b00364": {
     "model_module": "@jupyter-widgets/controls",
     "model_name": "ProgressStyleModel",
     "state": {
      "_model_module": "@jupyter-widgets/controls",
      "_model_module_version": "1.5.0",
      "_model_name": "ProgressStyleModel",
      "_view_count": null,
      "_view_module": "@jupyter-widgets/base",
      "_view_module_version": "1.2.0",
      "_view_name": "StyleView",
      "bar_color": null,
      "description_width": "initial"
     }
    },
    "bc8268960dfa477b83a348d53f7f8292": {
     "model_module": "@jupyter-widgets/controls",
     "model_name": "HBoxModel",
     "state": {
      "_dom_classes": [],
      "_model_module": "@jupyter-widgets/controls",
      "_model_module_version": "1.5.0",
      "_model_name": "HBoxModel",
      "_view_count": null,
      "_view_module": "@jupyter-widgets/controls",
      "_view_module_version": "1.5.0",
      "_view_name": "HBoxView",
      "box_style": "",
      "children": [
       "IPY_MODEL_7ab44b458e664843ad3dafd2d05ba8a0",
       "IPY_MODEL_f2a5781177dd49a8a85d5aac1d749796"
      ],
      "layout": "IPY_MODEL_117265995dd144f5a430206293a7d778"
     }
    },
    "bd92ba3ee1cb47e8905df3b7694f41c1": {
     "model_module": "@jupyter-widgets/base",
     "model_name": "LayoutModel",
     "state": {
      "_model_module": "@jupyter-widgets/base",
      "_model_module_version": "1.2.0",
      "_model_name": "LayoutModel",
      "_view_count": null,
      "_view_module": "@jupyter-widgets/base",
      "_view_module_version": "1.2.0",
      "_view_name": "LayoutView",
      "align_content": null,
      "align_items": null,
      "align_self": null,
      "border": null,
      "bottom": null,
      "display": null,
      "flex": null,
      "flex_flow": null,
      "grid_area": null,
      "grid_auto_columns": null,
      "grid_auto_flow": null,
      "grid_auto_rows": null,
      "grid_column": null,
      "grid_gap": null,
      "grid_row": null,
      "grid_template_areas": null,
      "grid_template_columns": null,
      "grid_template_rows": null,
      "height": null,
      "justify_content": null,
      "justify_items": null,
      "left": null,
      "margin": null,
      "max_height": null,
      "max_width": null,
      "min_height": null,
      "min_width": null,
      "object_fit": null,
      "object_position": null,
      "order": null,
      "overflow": null,
      "overflow_x": null,
      "overflow_y": null,
      "padding": null,
      "right": null,
      "top": null,
      "visibility": null,
      "width": null
     }
    },
    "bf74890e362d457f84c8c884d1af44e5": {
     "model_module": "@jupyter-widgets/controls",
     "model_name": "FloatProgressModel",
     "state": {
      "_dom_classes": [],
      "_model_module": "@jupyter-widgets/controls",
      "_model_module_version": "1.5.0",
      "_model_name": "FloatProgressModel",
      "_view_count": null,
      "_view_module": "@jupyter-widgets/controls",
      "_view_module_version": "1.5.0",
      "_view_name": "ProgressView",
      "bar_style": "success",
      "description": "epoch 6: 100%",
      "description_tooltip": null,
      "layout": "IPY_MODEL_2c75dbc719984db4b203d06d20fc7682",
      "max": 133,
      "min": 0,
      "orientation": "horizontal",
      "style": "IPY_MODEL_f2fe4312d12a476ead372db6fd875fa8",
      "value": 133
     }
    },
    "bff97bd751b94062a06b9a1cdae58390": {
     "model_module": "@jupyter-widgets/controls",
     "model_name": "DescriptionStyleModel",
     "state": {
      "_model_module": "@jupyter-widgets/controls",
      "_model_module_version": "1.5.0",
      "_model_name": "DescriptionStyleModel",
      "_view_count": null,
      "_view_module": "@jupyter-widgets/base",
      "_view_module_version": "1.2.0",
      "_view_name": "StyleView",
      "description_width": ""
     }
    },
    "c013127cdae94d73839e2bd844954ad5": {
     "model_module": "@jupyter-widgets/controls",
     "model_name": "DescriptionStyleModel",
     "state": {
      "_model_module": "@jupyter-widgets/controls",
      "_model_module_version": "1.5.0",
      "_model_name": "DescriptionStyleModel",
      "_view_count": null,
      "_view_module": "@jupyter-widgets/base",
      "_view_module_version": "1.2.0",
      "_view_name": "StyleView",
      "description_width": ""
     }
    },
    "c14bda4c11f64290bb44f1c260c27fff": {
     "model_module": "@jupyter-widgets/base",
     "model_name": "LayoutModel",
     "state": {
      "_model_module": "@jupyter-widgets/base",
      "_model_module_version": "1.2.0",
      "_model_name": "LayoutModel",
      "_view_count": null,
      "_view_module": "@jupyter-widgets/base",
      "_view_module_version": "1.2.0",
      "_view_name": "LayoutView",
      "align_content": null,
      "align_items": null,
      "align_self": null,
      "border": null,
      "bottom": null,
      "display": null,
      "flex": null,
      "flex_flow": null,
      "grid_area": null,
      "grid_auto_columns": null,
      "grid_auto_flow": null,
      "grid_auto_rows": null,
      "grid_column": null,
      "grid_gap": null,
      "grid_row": null,
      "grid_template_areas": null,
      "grid_template_columns": null,
      "grid_template_rows": null,
      "height": null,
      "justify_content": null,
      "justify_items": null,
      "left": null,
      "margin": null,
      "max_height": null,
      "max_width": null,
      "min_height": null,
      "min_width": null,
      "object_fit": null,
      "object_position": null,
      "order": null,
      "overflow": null,
      "overflow_x": null,
      "overflow_y": null,
      "padding": null,
      "right": null,
      "top": null,
      "visibility": null,
      "width": null
     }
    },
    "c3ae226ff22946ffae64659b3e3d6d63": {
     "model_module": "@jupyter-widgets/controls",
     "model_name": "ProgressStyleModel",
     "state": {
      "_model_module": "@jupyter-widgets/controls",
      "_model_module_version": "1.5.0",
      "_model_name": "ProgressStyleModel",
      "_view_count": null,
      "_view_module": "@jupyter-widgets/base",
      "_view_module_version": "1.2.0",
      "_view_name": "StyleView",
      "bar_color": null,
      "description_width": "initial"
     }
    },
    "c58b524d59004f8198361cef88ba0255": {
     "model_module": "@jupyter-widgets/controls",
     "model_name": "FloatProgressModel",
     "state": {
      "_dom_classes": [],
      "_model_module": "@jupyter-widgets/controls",
      "_model_module_version": "1.5.0",
      "_model_name": "FloatProgressModel",
      "_view_count": null,
      "_view_module": "@jupyter-widgets/controls",
      "_view_module_version": "1.5.0",
      "_view_name": "ProgressView",
      "bar_style": "success",
      "description": "epoch 2: 100%",
      "description_tooltip": null,
      "layout": "IPY_MODEL_79ce117cc1294f718bb662f7de6fc05b",
      "max": 40,
      "min": 0,
      "orientation": "horizontal",
      "style": "IPY_MODEL_8a5155136d474c97bdb646b368573cee",
      "value": 40
     }
    },
    "c6d5ff0c5df2466a9dd22c73773fb6b6": {
     "model_module": "@jupyter-widgets/base",
     "model_name": "LayoutModel",
     "state": {
      "_model_module": "@jupyter-widgets/base",
      "_model_module_version": "1.2.0",
      "_model_name": "LayoutModel",
      "_view_count": null,
      "_view_module": "@jupyter-widgets/base",
      "_view_module_version": "1.2.0",
      "_view_name": "LayoutView",
      "align_content": null,
      "align_items": null,
      "align_self": null,
      "border": null,
      "bottom": null,
      "display": null,
      "flex": null,
      "flex_flow": null,
      "grid_area": null,
      "grid_auto_columns": null,
      "grid_auto_flow": null,
      "grid_auto_rows": null,
      "grid_column": null,
      "grid_gap": null,
      "grid_row": null,
      "grid_template_areas": null,
      "grid_template_columns": null,
      "grid_template_rows": null,
      "height": null,
      "justify_content": null,
      "justify_items": null,
      "left": null,
      "margin": null,
      "max_height": null,
      "max_width": null,
      "min_height": null,
      "min_width": null,
      "object_fit": null,
      "object_position": null,
      "order": null,
      "overflow": null,
      "overflow_x": null,
      "overflow_y": null,
      "padding": null,
      "right": null,
      "top": null,
      "visibility": null,
      "width": null
     }
    },
    "c7f3833de53d479c8fffb4dd20d02685": {
     "model_module": "@jupyter-widgets/controls",
     "model_name": "ProgressStyleModel",
     "state": {
      "_model_module": "@jupyter-widgets/controls",
      "_model_module_version": "1.5.0",
      "_model_name": "ProgressStyleModel",
      "_view_count": null,
      "_view_module": "@jupyter-widgets/base",
      "_view_module_version": "1.2.0",
      "_view_name": "StyleView",
      "bar_color": null,
      "description_width": "initial"
     }
    },
    "c8bf177935ce485a8f277203322aaee7": {
     "model_module": "@jupyter-widgets/controls",
     "model_name": "FloatProgressModel",
     "state": {
      "_dom_classes": [],
      "_model_module": "@jupyter-widgets/controls",
      "_model_module_version": "1.5.0",
      "_model_name": "FloatProgressModel",
      "_view_count": null,
      "_view_module": "@jupyter-widgets/controls",
      "_view_module_version": "1.5.0",
      "_view_name": "ProgressView",
      "bar_style": "success",
      "description": "epoch 6: 100%",
      "description_tooltip": null,
      "layout": "IPY_MODEL_1340977801354b39a06e751d5deee860",
      "max": 40,
      "min": 0,
      "orientation": "horizontal",
      "style": "IPY_MODEL_84e5896e89114f8cb8a155cda7d45135",
      "value": 40
     }
    },
    "c91e0329c7e94ec796652b49df29497c": {
     "model_module": "@jupyter-widgets/base",
     "model_name": "LayoutModel",
     "state": {
      "_model_module": "@jupyter-widgets/base",
      "_model_module_version": "1.2.0",
      "_model_name": "LayoutModel",
      "_view_count": null,
      "_view_module": "@jupyter-widgets/base",
      "_view_module_version": "1.2.0",
      "_view_name": "LayoutView",
      "align_content": null,
      "align_items": null,
      "align_self": null,
      "border": null,
      "bottom": null,
      "display": null,
      "flex": null,
      "flex_flow": null,
      "grid_area": null,
      "grid_auto_columns": null,
      "grid_auto_flow": null,
      "grid_auto_rows": null,
      "grid_column": null,
      "grid_gap": null,
      "grid_row": null,
      "grid_template_areas": null,
      "grid_template_columns": null,
      "grid_template_rows": null,
      "height": null,
      "justify_content": null,
      "justify_items": null,
      "left": null,
      "margin": null,
      "max_height": null,
      "max_width": null,
      "min_height": null,
      "min_width": null,
      "object_fit": null,
      "object_position": null,
      "order": null,
      "overflow": null,
      "overflow_x": null,
      "overflow_y": null,
      "padding": null,
      "right": null,
      "top": null,
      "visibility": null,
      "width": null
     }
    },
    "c957151f9a3548b6b0dedacf2075d51b": {
     "model_module": "@jupyter-widgets/base",
     "model_name": "LayoutModel",
     "state": {
      "_model_module": "@jupyter-widgets/base",
      "_model_module_version": "1.2.0",
      "_model_name": "LayoutModel",
      "_view_count": null,
      "_view_module": "@jupyter-widgets/base",
      "_view_module_version": "1.2.0",
      "_view_name": "LayoutView",
      "align_content": null,
      "align_items": null,
      "align_self": null,
      "border": null,
      "bottom": null,
      "display": null,
      "flex": null,
      "flex_flow": null,
      "grid_area": null,
      "grid_auto_columns": null,
      "grid_auto_flow": null,
      "grid_auto_rows": null,
      "grid_column": null,
      "grid_gap": null,
      "grid_row": null,
      "grid_template_areas": null,
      "grid_template_columns": null,
      "grid_template_rows": null,
      "height": null,
      "justify_content": null,
      "justify_items": null,
      "left": null,
      "margin": null,
      "max_height": null,
      "max_width": null,
      "min_height": null,
      "min_width": null,
      "object_fit": null,
      "object_position": null,
      "order": null,
      "overflow": null,
      "overflow_x": null,
      "overflow_y": null,
      "padding": null,
      "right": null,
      "top": null,
      "visibility": null,
      "width": null
     }
    },
    "cc5274e6a30645f984a4d6f18ec690da": {
     "model_module": "@jupyter-widgets/controls",
     "model_name": "HTMLModel",
     "state": {
      "_dom_classes": [],
      "_model_module": "@jupyter-widgets/controls",
      "_model_module_version": "1.5.0",
      "_model_name": "HTMLModel",
      "_view_count": null,
      "_view_module": "@jupyter-widgets/controls",
      "_view_module_version": "1.5.0",
      "_view_name": "HTMLView",
      "description": "",
      "description_tooltip": null,
      "layout": "IPY_MODEL_1ca0721d4385455d89c7c23c101e04f6",
      "placeholder": "​",
      "style": "IPY_MODEL_76670c40d9f849d796823f7bb23a124c",
      "value": " 133/133 [26:25&lt;00:00, 11.92s/instance, train_loss=3.15, train_denotation_acc=0.774, dev_denotation_acc=0.78, dev_loss=2.68]"
     }
    },
    "cd3e85c0ad624fd195604cbc22118270": {
     "model_module": "@jupyter-widgets/controls",
     "model_name": "HBoxModel",
     "state": {
      "_dom_classes": [],
      "_model_module": "@jupyter-widgets/controls",
      "_model_module_version": "1.5.0",
      "_model_name": "HBoxModel",
      "_view_count": null,
      "_view_module": "@jupyter-widgets/controls",
      "_view_module_version": "1.5.0",
      "_view_name": "HBoxView",
      "box_style": "",
      "children": [
       "IPY_MODEL_e5d81cbcedec417faa64a46816109321",
       "IPY_MODEL_dad82ee85d0047828a75a53a1638af90"
      ],
      "layout": "IPY_MODEL_43cebe7c50da441d86cd606bbff635ef"
     }
    },
    "cd81b6f8fb7f4109961582fd54e12e6e": {
     "model_module": "@jupyter-widgets/controls",
     "model_name": "DescriptionStyleModel",
     "state": {
      "_model_module": "@jupyter-widgets/controls",
      "_model_module_version": "1.5.0",
      "_model_name": "DescriptionStyleModel",
      "_view_count": null,
      "_view_module": "@jupyter-widgets/base",
      "_view_module_version": "1.2.0",
      "_view_name": "StyleView",
      "description_width": ""
     }
    },
    "ce442356dc4b4a028e91cd90d4b780ab": {
     "model_module": "@jupyter-widgets/base",
     "model_name": "LayoutModel",
     "state": {
      "_model_module": "@jupyter-widgets/base",
      "_model_module_version": "1.2.0",
      "_model_name": "LayoutModel",
      "_view_count": null,
      "_view_module": "@jupyter-widgets/base",
      "_view_module_version": "1.2.0",
      "_view_name": "LayoutView",
      "align_content": null,
      "align_items": null,
      "align_self": null,
      "border": null,
      "bottom": null,
      "display": null,
      "flex": null,
      "flex_flow": null,
      "grid_area": null,
      "grid_auto_columns": null,
      "grid_auto_flow": null,
      "grid_auto_rows": null,
      "grid_column": null,
      "grid_gap": null,
      "grid_row": null,
      "grid_template_areas": null,
      "grid_template_columns": null,
      "grid_template_rows": null,
      "height": null,
      "justify_content": null,
      "justify_items": null,
      "left": null,
      "margin": null,
      "max_height": null,
      "max_width": null,
      "min_height": null,
      "min_width": null,
      "object_fit": null,
      "object_position": null,
      "order": null,
      "overflow": null,
      "overflow_x": null,
      "overflow_y": null,
      "padding": null,
      "right": null,
      "top": null,
      "visibility": null,
      "width": null
     }
    },
    "ce7acda6f37749d5b6e9ede84bb496fc": {
     "model_module": "@jupyter-widgets/controls",
     "model_name": "HBoxModel",
     "state": {
      "_dom_classes": [],
      "_model_module": "@jupyter-widgets/controls",
      "_model_module_version": "1.5.0",
      "_model_name": "HBoxModel",
      "_view_count": null,
      "_view_module": "@jupyter-widgets/controls",
      "_view_module_version": "1.5.0",
      "_view_name": "HBoxView",
      "box_style": "",
      "children": [
       "IPY_MODEL_bf74890e362d457f84c8c884d1af44e5",
       "IPY_MODEL_eb6dca02a0df4f3c868d1d51237b8597"
      ],
      "layout": "IPY_MODEL_07cecd994fe54e96a74bbfaa9bec1715"
     }
    },
    "cf27909ffa61425b97b88e025dac79a3": {
     "model_module": "@jupyter-widgets/base",
     "model_name": "LayoutModel",
     "state": {
      "_model_module": "@jupyter-widgets/base",
      "_model_module_version": "1.2.0",
      "_model_name": "LayoutModel",
      "_view_count": null,
      "_view_module": "@jupyter-widgets/base",
      "_view_module_version": "1.2.0",
      "_view_name": "LayoutView",
      "align_content": null,
      "align_items": null,
      "align_self": null,
      "border": null,
      "bottom": null,
      "display": null,
      "flex": null,
      "flex_flow": null,
      "grid_area": null,
      "grid_auto_columns": null,
      "grid_auto_flow": null,
      "grid_auto_rows": null,
      "grid_column": null,
      "grid_gap": null,
      "grid_row": null,
      "grid_template_areas": null,
      "grid_template_columns": null,
      "grid_template_rows": null,
      "height": null,
      "justify_content": null,
      "justify_items": null,
      "left": null,
      "margin": null,
      "max_height": null,
      "max_width": null,
      "min_height": null,
      "min_width": null,
      "object_fit": null,
      "object_position": null,
      "order": null,
      "overflow": null,
      "overflow_x": null,
      "overflow_y": null,
      "padding": null,
      "right": null,
      "top": null,
      "visibility": null,
      "width": null
     }
    },
    "d03c85ef8cf9451d886bb9b44129ccce": {
     "model_module": "@jupyter-widgets/controls",
     "model_name": "HTMLModel",
     "state": {
      "_dom_classes": [],
      "_model_module": "@jupyter-widgets/controls",
      "_model_module_version": "1.5.0",
      "_model_name": "HTMLModel",
      "_view_count": null,
      "_view_module": "@jupyter-widgets/controls",
      "_view_module_version": "1.5.0",
      "_view_name": "HTMLView",
      "description": "",
      "description_tooltip": null,
      "layout": "IPY_MODEL_ed930c9765744a038ee8ac57280e2f1a",
      "placeholder": "​",
      "style": "IPY_MODEL_02d4c6db86e940359451efb8187c761a",
      "value": " 133/133 [03:50&lt;00:00,  1.73s/instance, train_loss=0.607, train_denotation_acc=0.857, dev_denotation_acc=0.707]"
     }
    },
    "d2665f1e26d04fddaa18d7b10a09ad3a": {
     "model_module": "@jupyter-widgets/controls",
     "model_name": "DescriptionStyleModel",
     "state": {
      "_model_module": "@jupyter-widgets/controls",
      "_model_module_version": "1.5.0",
      "_model_name": "DescriptionStyleModel",
      "_view_count": null,
      "_view_module": "@jupyter-widgets/base",
      "_view_module_version": "1.2.0",
      "_view_name": "StyleView",
      "description_width": ""
     }
    },
    "d26ae29d92d84c16bcf4162059c7b3da": {
     "model_module": "@jupyter-widgets/base",
     "model_name": "LayoutModel",
     "state": {
      "_model_module": "@jupyter-widgets/base",
      "_model_module_version": "1.2.0",
      "_model_name": "LayoutModel",
      "_view_count": null,
      "_view_module": "@jupyter-widgets/base",
      "_view_module_version": "1.2.0",
      "_view_name": "LayoutView",
      "align_content": null,
      "align_items": null,
      "align_self": null,
      "border": null,
      "bottom": null,
      "display": null,
      "flex": null,
      "flex_flow": null,
      "grid_area": null,
      "grid_auto_columns": null,
      "grid_auto_flow": null,
      "grid_auto_rows": null,
      "grid_column": null,
      "grid_gap": null,
      "grid_row": null,
      "grid_template_areas": null,
      "grid_template_columns": null,
      "grid_template_rows": null,
      "height": null,
      "justify_content": null,
      "justify_items": null,
      "left": null,
      "margin": null,
      "max_height": null,
      "max_width": null,
      "min_height": null,
      "min_width": null,
      "object_fit": null,
      "object_position": null,
      "order": null,
      "overflow": null,
      "overflow_x": null,
      "overflow_y": null,
      "padding": null,
      "right": null,
      "top": null,
      "visibility": null,
      "width": null
     }
    },
    "d3321e8e9fa840baafc1461113d3cf75": {
     "model_module": "@jupyter-widgets/controls",
     "model_name": "HBoxModel",
     "state": {
      "_dom_classes": [],
      "_model_module": "@jupyter-widgets/controls",
      "_model_module_version": "1.5.0",
      "_model_name": "HBoxModel",
      "_view_count": null,
      "_view_module": "@jupyter-widgets/controls",
      "_view_module_version": "1.5.0",
      "_view_name": "HBoxView",
      "box_style": "",
      "children": [
       "IPY_MODEL_385e5783797a406dba7fb9e9c0197eef",
       "IPY_MODEL_640df80de94d4922bc60415667a0738c"
      ],
      "layout": "IPY_MODEL_abbc0a4b5f874a1799db7ae3db0c25f1"
     }
    },
    "d3ce7585b60f47a68ef6563da7d0812a": {
     "model_module": "@jupyter-widgets/base",
     "model_name": "LayoutModel",
     "state": {
      "_model_module": "@jupyter-widgets/base",
      "_model_module_version": "1.2.0",
      "_model_name": "LayoutModel",
      "_view_count": null,
      "_view_module": "@jupyter-widgets/base",
      "_view_module_version": "1.2.0",
      "_view_name": "LayoutView",
      "align_content": null,
      "align_items": null,
      "align_self": null,
      "border": null,
      "bottom": null,
      "display": null,
      "flex": null,
      "flex_flow": null,
      "grid_area": null,
      "grid_auto_columns": null,
      "grid_auto_flow": null,
      "grid_auto_rows": null,
      "grid_column": null,
      "grid_gap": null,
      "grid_row": null,
      "grid_template_areas": null,
      "grid_template_columns": null,
      "grid_template_rows": null,
      "height": null,
      "justify_content": null,
      "justify_items": null,
      "left": null,
      "margin": null,
      "max_height": null,
      "max_width": null,
      "min_height": null,
      "min_width": null,
      "object_fit": null,
      "object_position": null,
      "order": null,
      "overflow": null,
      "overflow_x": null,
      "overflow_y": null,
      "padding": null,
      "right": null,
      "top": null,
      "visibility": null,
      "width": null
     }
    },
    "d3e6d8ff9ac84c46a6369e6aa297b899": {
     "model_module": "@jupyter-widgets/base",
     "model_name": "LayoutModel",
     "state": {
      "_model_module": "@jupyter-widgets/base",
      "_model_module_version": "1.2.0",
      "_model_name": "LayoutModel",
      "_view_count": null,
      "_view_module": "@jupyter-widgets/base",
      "_view_module_version": "1.2.0",
      "_view_name": "LayoutView",
      "align_content": null,
      "align_items": null,
      "align_self": null,
      "border": null,
      "bottom": null,
      "display": null,
      "flex": null,
      "flex_flow": null,
      "grid_area": null,
      "grid_auto_columns": null,
      "grid_auto_flow": null,
      "grid_auto_rows": null,
      "grid_column": null,
      "grid_gap": null,
      "grid_row": null,
      "grid_template_areas": null,
      "grid_template_columns": null,
      "grid_template_rows": null,
      "height": null,
      "justify_content": null,
      "justify_items": null,
      "left": null,
      "margin": null,
      "max_height": null,
      "max_width": null,
      "min_height": null,
      "min_width": null,
      "object_fit": null,
      "object_position": null,
      "order": null,
      "overflow": null,
      "overflow_x": null,
      "overflow_y": null,
      "padding": null,
      "right": null,
      "top": null,
      "visibility": null,
      "width": null
     }
    },
    "d45ced5a3ecf4d4eb221fe724f7d8799": {
     "model_module": "@jupyter-widgets/controls",
     "model_name": "HBoxModel",
     "state": {
      "_dom_classes": [],
      "_model_module": "@jupyter-widgets/controls",
      "_model_module_version": "1.5.0",
      "_model_name": "HBoxModel",
      "_view_count": null,
      "_view_module": "@jupyter-widgets/controls",
      "_view_module_version": "1.5.0",
      "_view_name": "HBoxView",
      "box_style": "",
      "children": [
       "IPY_MODEL_42c58d7cc49645f9994a2cb1668eba48",
       "IPY_MODEL_81a7796dd21f47db87d6f8c4218f01ba"
      ],
      "layout": "IPY_MODEL_11192017be964503afef71b6437623b9"
     }
    },
    "d4b24041104c489bb204c774414b1ee0": {
     "model_module": "@jupyter-widgets/base",
     "model_name": "LayoutModel",
     "state": {
      "_model_module": "@jupyter-widgets/base",
      "_model_module_version": "1.2.0",
      "_model_name": "LayoutModel",
      "_view_count": null,
      "_view_module": "@jupyter-widgets/base",
      "_view_module_version": "1.2.0",
      "_view_name": "LayoutView",
      "align_content": null,
      "align_items": null,
      "align_self": null,
      "border": null,
      "bottom": null,
      "display": null,
      "flex": null,
      "flex_flow": null,
      "grid_area": null,
      "grid_auto_columns": null,
      "grid_auto_flow": null,
      "grid_auto_rows": null,
      "grid_column": null,
      "grid_gap": null,
      "grid_row": null,
      "grid_template_areas": null,
      "grid_template_columns": null,
      "grid_template_rows": null,
      "height": null,
      "justify_content": null,
      "justify_items": null,
      "left": null,
      "margin": null,
      "max_height": null,
      "max_width": null,
      "min_height": null,
      "min_width": null,
      "object_fit": null,
      "object_position": null,
      "order": null,
      "overflow": null,
      "overflow_x": null,
      "overflow_y": null,
      "padding": null,
      "right": null,
      "top": null,
      "visibility": null,
      "width": null
     }
    },
    "d4b6fe18695c4ab993bf38e586237676": {
     "model_module": "@jupyter-widgets/controls",
     "model_name": "ProgressStyleModel",
     "state": {
      "_model_module": "@jupyter-widgets/controls",
      "_model_module_version": "1.5.0",
      "_model_name": "ProgressStyleModel",
      "_view_count": null,
      "_view_module": "@jupyter-widgets/base",
      "_view_module_version": "1.2.0",
      "_view_name": "StyleView",
      "bar_color": null,
      "description_width": "initial"
     }
    },
    "d4d177c5aad549cf89e61387d4482485": {
     "model_module": "@jupyter-widgets/controls",
     "model_name": "ProgressStyleModel",
     "state": {
      "_model_module": "@jupyter-widgets/controls",
      "_model_module_version": "1.5.0",
      "_model_name": "ProgressStyleModel",
      "_view_count": null,
      "_view_module": "@jupyter-widgets/base",
      "_view_module_version": "1.2.0",
      "_view_name": "StyleView",
      "bar_color": null,
      "description_width": "initial"
     }
    },
    "d532cffebd8f4a64bef5e788a76882c8": {
     "model_module": "@jupyter-widgets/base",
     "model_name": "LayoutModel",
     "state": {
      "_model_module": "@jupyter-widgets/base",
      "_model_module_version": "1.2.0",
      "_model_name": "LayoutModel",
      "_view_count": null,
      "_view_module": "@jupyter-widgets/base",
      "_view_module_version": "1.2.0",
      "_view_name": "LayoutView",
      "align_content": null,
      "align_items": null,
      "align_self": null,
      "border": null,
      "bottom": null,
      "display": null,
      "flex": null,
      "flex_flow": null,
      "grid_area": null,
      "grid_auto_columns": null,
      "grid_auto_flow": null,
      "grid_auto_rows": null,
      "grid_column": null,
      "grid_gap": null,
      "grid_row": null,
      "grid_template_areas": null,
      "grid_template_columns": null,
      "grid_template_rows": null,
      "height": null,
      "justify_content": null,
      "justify_items": null,
      "left": null,
      "margin": null,
      "max_height": null,
      "max_width": null,
      "min_height": null,
      "min_width": null,
      "object_fit": null,
      "object_position": null,
      "order": null,
      "overflow": null,
      "overflow_x": null,
      "overflow_y": null,
      "padding": null,
      "right": null,
      "top": null,
      "visibility": null,
      "width": null
     }
    },
    "d70dbe81bc6e4cefab4b40bfbf379f2a": {
     "model_module": "@jupyter-widgets/controls",
     "model_name": "ProgressStyleModel",
     "state": {
      "_model_module": "@jupyter-widgets/controls",
      "_model_module_version": "1.5.0",
      "_model_name": "ProgressStyleModel",
      "_view_count": null,
      "_view_module": "@jupyter-widgets/base",
      "_view_module_version": "1.2.0",
      "_view_name": "StyleView",
      "bar_color": null,
      "description_width": "initial"
     }
    },
    "d7860722a86849f3a7f1ac8b1d1072db": {
     "model_module": "@jupyter-widgets/controls",
     "model_name": "HTMLModel",
     "state": {
      "_dom_classes": [],
      "_model_module": "@jupyter-widgets/controls",
      "_model_module_version": "1.5.0",
      "_model_name": "HTMLModel",
      "_view_count": null,
      "_view_module": "@jupyter-widgets/controls",
      "_view_module_version": "1.5.0",
      "_view_name": "HTMLView",
      "description": "",
      "description_tooltip": null,
      "layout": "IPY_MODEL_5876cb4980624480b48a5f23ce416bba",
      "placeholder": "​",
      "style": "IPY_MODEL_2f8d1f21abd94b65a272be917c55fb95",
      "value": " 133/133 [24:15&lt;00:00, 10.94s/instance, train_loss=0.908, train_denotation_acc=0.842, dev_denotation_acc=0.732, dev_loss=1.54]"
     }
    },
    "d8137ea2e76540f6839fff4caa82b918": {
     "model_module": "@jupyter-widgets/controls",
     "model_name": "DescriptionStyleModel",
     "state": {
      "_model_module": "@jupyter-widgets/controls",
      "_model_module_version": "1.5.0",
      "_model_name": "DescriptionStyleModel",
      "_view_count": null,
      "_view_module": "@jupyter-widgets/base",
      "_view_module_version": "1.2.0",
      "_view_name": "StyleView",
      "description_width": ""
     }
    },
    "d82d01a6885a4d7e9ed96fd0cb28e7ca": {
     "model_module": "@jupyter-widgets/base",
     "model_name": "LayoutModel",
     "state": {
      "_model_module": "@jupyter-widgets/base",
      "_model_module_version": "1.2.0",
      "_model_name": "LayoutModel",
      "_view_count": null,
      "_view_module": "@jupyter-widgets/base",
      "_view_module_version": "1.2.0",
      "_view_name": "LayoutView",
      "align_content": null,
      "align_items": null,
      "align_self": null,
      "border": null,
      "bottom": null,
      "display": null,
      "flex": null,
      "flex_flow": null,
      "grid_area": null,
      "grid_auto_columns": null,
      "grid_auto_flow": null,
      "grid_auto_rows": null,
      "grid_column": null,
      "grid_gap": null,
      "grid_row": null,
      "grid_template_areas": null,
      "grid_template_columns": null,
      "grid_template_rows": null,
      "height": null,
      "justify_content": null,
      "justify_items": null,
      "left": null,
      "margin": null,
      "max_height": null,
      "max_width": null,
      "min_height": null,
      "min_width": null,
      "object_fit": null,
      "object_position": null,
      "order": null,
      "overflow": null,
      "overflow_x": null,
      "overflow_y": null,
      "padding": null,
      "right": null,
      "top": null,
      "visibility": null,
      "width": null
     }
    },
    "d853b4cf121140b2a0af32406c6e90fc": {
     "model_module": "@jupyter-widgets/controls",
     "model_name": "HBoxModel",
     "state": {
      "_dom_classes": [],
      "_model_module": "@jupyter-widgets/controls",
      "_model_module_version": "1.5.0",
      "_model_name": "HBoxModel",
      "_view_count": null,
      "_view_module": "@jupyter-widgets/controls",
      "_view_module_version": "1.5.0",
      "_view_name": "HBoxView",
      "box_style": "",
      "children": [
       "IPY_MODEL_551d5d6d55194397b8fc1760a3d724ca",
       "IPY_MODEL_089ade767e1648e386d91070d0962e98"
      ],
      "layout": "IPY_MODEL_4e8af0aa30ed4017abfc596223599a14"
     }
    },
    "d85c2562490f4dfd984640b43e6849f0": {
     "model_module": "@jupyter-widgets/base",
     "model_name": "LayoutModel",
     "state": {
      "_model_module": "@jupyter-widgets/base",
      "_model_module_version": "1.2.0",
      "_model_name": "LayoutModel",
      "_view_count": null,
      "_view_module": "@jupyter-widgets/base",
      "_view_module_version": "1.2.0",
      "_view_name": "LayoutView",
      "align_content": null,
      "align_items": null,
      "align_self": null,
      "border": null,
      "bottom": null,
      "display": null,
      "flex": null,
      "flex_flow": null,
      "grid_area": null,
      "grid_auto_columns": null,
      "grid_auto_flow": null,
      "grid_auto_rows": null,
      "grid_column": null,
      "grid_gap": null,
      "grid_row": null,
      "grid_template_areas": null,
      "grid_template_columns": null,
      "grid_template_rows": null,
      "height": null,
      "justify_content": null,
      "justify_items": null,
      "left": null,
      "margin": null,
      "max_height": null,
      "max_width": null,
      "min_height": null,
      "min_width": null,
      "object_fit": null,
      "object_position": null,
      "order": null,
      "overflow": null,
      "overflow_x": null,
      "overflow_y": null,
      "padding": null,
      "right": null,
      "top": null,
      "visibility": null,
      "width": null
     }
    },
    "da61f52a537548ebb445dfe65542b957": {
     "model_module": "@jupyter-widgets/controls",
     "model_name": "HBoxModel",
     "state": {
      "_dom_classes": [],
      "_model_module": "@jupyter-widgets/controls",
      "_model_module_version": "1.5.0",
      "_model_name": "HBoxModel",
      "_view_count": null,
      "_view_module": "@jupyter-widgets/controls",
      "_view_module_version": "1.5.0",
      "_view_name": "HBoxView",
      "box_style": "",
      "children": [
       "IPY_MODEL_3d9f41b6eb98485c9870011884b92556",
       "IPY_MODEL_fdd2b7dbd8644063844df7309f766068"
      ],
      "layout": "IPY_MODEL_cf27909ffa61425b97b88e025dac79a3"
     }
    },
    "dad82ee85d0047828a75a53a1638af90": {
     "model_module": "@jupyter-widgets/controls",
     "model_name": "HTMLModel",
     "state": {
      "_dom_classes": [],
      "_model_module": "@jupyter-widgets/controls",
      "_model_module_version": "1.5.0",
      "_model_name": "HTMLModel",
      "_view_count": null,
      "_view_module": "@jupyter-widgets/controls",
      "_view_module_version": "1.5.0",
      "_view_name": "HTMLView",
      "description": "",
      "description_tooltip": null,
      "layout": "IPY_MODEL_ecdc050f5e4c455da2ca527d1a5361cd",
      "placeholder": "​",
      "style": "IPY_MODEL_9d6362d7e8dd4893b4409b317779e11f",
      "value": " 40/40 [03:45&lt;00:00,  5.63s/instance, train_loss=1.61, train_denotation_acc=0.375, dev_denotation_acc=0.556]"
     }
    },
    "dc5b817d65e84a2086eb68d5569c7b65": {
     "model_module": "@jupyter-widgets/controls",
     "model_name": "HBoxModel",
     "state": {
      "_dom_classes": [],
      "_model_module": "@jupyter-widgets/controls",
      "_model_module_version": "1.5.0",
      "_model_name": "HBoxModel",
      "_view_count": null,
      "_view_module": "@jupyter-widgets/controls",
      "_view_module_version": "1.5.0",
      "_view_name": "HBoxView",
      "box_style": "",
      "children": [
       "IPY_MODEL_6628e48022834bd3907c2dee2b4831a9",
       "IPY_MODEL_43901a34f4b44645bfb1c64bed5efa9f"
      ],
      "layout": "IPY_MODEL_7cc48c4c7d6c46148b69d55eb22f3c72"
     }
    },
    "dcfe5df552704e8bb8b94864ff45b05e": {
     "model_module": "@jupyter-widgets/base",
     "model_name": "LayoutModel",
     "state": {
      "_model_module": "@jupyter-widgets/base",
      "_model_module_version": "1.2.0",
      "_model_name": "LayoutModel",
      "_view_count": null,
      "_view_module": "@jupyter-widgets/base",
      "_view_module_version": "1.2.0",
      "_view_name": "LayoutView",
      "align_content": null,
      "align_items": null,
      "align_self": null,
      "border": null,
      "bottom": null,
      "display": null,
      "flex": null,
      "flex_flow": null,
      "grid_area": null,
      "grid_auto_columns": null,
      "grid_auto_flow": null,
      "grid_auto_rows": null,
      "grid_column": null,
      "grid_gap": null,
      "grid_row": null,
      "grid_template_areas": null,
      "grid_template_columns": null,
      "grid_template_rows": null,
      "height": null,
      "justify_content": null,
      "justify_items": null,
      "left": null,
      "margin": null,
      "max_height": null,
      "max_width": null,
      "min_height": null,
      "min_width": null,
      "object_fit": null,
      "object_position": null,
      "order": null,
      "overflow": null,
      "overflow_x": null,
      "overflow_y": null,
      "padding": null,
      "right": null,
      "top": null,
      "visibility": null,
      "width": null
     }
    },
    "de5423e55b6743bdbabcfc7e36e4ccd5": {
     "model_module": "@jupyter-widgets/controls",
     "model_name": "ProgressStyleModel",
     "state": {
      "_model_module": "@jupyter-widgets/controls",
      "_model_module_version": "1.5.0",
      "_model_name": "ProgressStyleModel",
      "_view_count": null,
      "_view_module": "@jupyter-widgets/base",
      "_view_module_version": "1.2.0",
      "_view_name": "StyleView",
      "bar_color": null,
      "description_width": "initial"
     }
    },
    "df23820e10a1495f825ccce7db3d6958": {
     "model_module": "@jupyter-widgets/base",
     "model_name": "LayoutModel",
     "state": {
      "_model_module": "@jupyter-widgets/base",
      "_model_module_version": "1.2.0",
      "_model_name": "LayoutModel",
      "_view_count": null,
      "_view_module": "@jupyter-widgets/base",
      "_view_module_version": "1.2.0",
      "_view_name": "LayoutView",
      "align_content": null,
      "align_items": null,
      "align_self": null,
      "border": null,
      "bottom": null,
      "display": null,
      "flex": null,
      "flex_flow": null,
      "grid_area": null,
      "grid_auto_columns": null,
      "grid_auto_flow": null,
      "grid_auto_rows": null,
      "grid_column": null,
      "grid_gap": null,
      "grid_row": null,
      "grid_template_areas": null,
      "grid_template_columns": null,
      "grid_template_rows": null,
      "height": null,
      "justify_content": null,
      "justify_items": null,
      "left": null,
      "margin": null,
      "max_height": null,
      "max_width": null,
      "min_height": null,
      "min_width": null,
      "object_fit": null,
      "object_position": null,
      "order": null,
      "overflow": null,
      "overflow_x": null,
      "overflow_y": null,
      "padding": null,
      "right": null,
      "top": null,
      "visibility": null,
      "width": null
     }
    },
    "df71f793661245f09d3cf4166bd267bc": {
     "model_module": "@jupyter-widgets/controls",
     "model_name": "ProgressStyleModel",
     "state": {
      "_model_module": "@jupyter-widgets/controls",
      "_model_module_version": "1.5.0",
      "_model_name": "ProgressStyleModel",
      "_view_count": null,
      "_view_module": "@jupyter-widgets/base",
      "_view_module_version": "1.2.0",
      "_view_name": "StyleView",
      "bar_color": null,
      "description_width": "initial"
     }
    },
    "dfdadd3f79b94d23b25d838a8aa6e805": {
     "model_module": "@jupyter-widgets/controls",
     "model_name": "HBoxModel",
     "state": {
      "_dom_classes": [],
      "_model_module": "@jupyter-widgets/controls",
      "_model_module_version": "1.5.0",
      "_model_name": "HBoxModel",
      "_view_count": null,
      "_view_module": "@jupyter-widgets/controls",
      "_view_module_version": "1.5.0",
      "_view_name": "HBoxView",
      "box_style": "",
      "children": [
       "IPY_MODEL_974452a99c954c1483a74bd410456285",
       "IPY_MODEL_58d3a92675f44fe881f1a2f557abe5f0"
      ],
      "layout": "IPY_MODEL_d532cffebd8f4a64bef5e788a76882c8"
     }
    },
    "e3fa366185b546c9a0636b262ea05f73": {
     "model_module": "@jupyter-widgets/controls",
     "model_name": "DescriptionStyleModel",
     "state": {
      "_model_module": "@jupyter-widgets/controls",
      "_model_module_version": "1.5.0",
      "_model_name": "DescriptionStyleModel",
      "_view_count": null,
      "_view_module": "@jupyter-widgets/base",
      "_view_module_version": "1.2.0",
      "_view_name": "StyleView",
      "description_width": ""
     }
    },
    "e401922a8b7b4f3daa0eb4bff56286e4": {
     "model_module": "@jupyter-widgets/controls",
     "model_name": "HTMLModel",
     "state": {
      "_dom_classes": [],
      "_model_module": "@jupyter-widgets/controls",
      "_model_module_version": "1.5.0",
      "_model_name": "HTMLModel",
      "_view_count": null,
      "_view_module": "@jupyter-widgets/controls",
      "_view_module_version": "1.5.0",
      "_view_name": "HTMLView",
      "description": "",
      "description_tooltip": null,
      "layout": "IPY_MODEL_1a3a7b8b4b5341bbbd314a1866f824fb",
      "placeholder": "​",
      "style": "IPY_MODEL_969d57728aa943509e6c97b1ebac935e",
      "value": " 133/133 [24:33&lt;00:00, 11.08s/instance, train_loss=0.969, train_denotation_acc=0.872, dev_denotation_acc=0.732, dev_loss=1.46]"
     }
    },
    "e495b62133184788b0e13007803bd596": {
     "model_module": "@jupyter-widgets/controls",
     "model_name": "HBoxModel",
     "state": {
      "_dom_classes": [],
      "_model_module": "@jupyter-widgets/controls",
      "_model_module_version": "1.5.0",
      "_model_name": "HBoxModel",
      "_view_count": null,
      "_view_module": "@jupyter-widgets/controls",
      "_view_module_version": "1.5.0",
      "_view_name": "HBoxView",
      "box_style": "",
      "children": [
       "IPY_MODEL_25820410c2e74aadb339084c4641ffb4",
       "IPY_MODEL_b6d72b742e634926bb7837c9d30f5211"
      ],
      "layout": "IPY_MODEL_349e02b3106f4e139974d387aeb49e8a"
     }
    },
    "e5b25b48ff2b4b5b87c471238b27ff1c": {
     "model_module": "@jupyter-widgets/controls",
     "model_name": "HBoxModel",
     "state": {
      "_dom_classes": [],
      "_model_module": "@jupyter-widgets/controls",
      "_model_module_version": "1.5.0",
      "_model_name": "HBoxModel",
      "_view_count": null,
      "_view_module": "@jupyter-widgets/controls",
      "_view_module_version": "1.5.0",
      "_view_name": "HBoxView",
      "box_style": "",
      "children": [
       "IPY_MODEL_1c3f06618ecf46cfa2613be7d56a2e65",
       "IPY_MODEL_65fd64afff9848b387edcf2eb874d89b"
      ],
      "layout": "IPY_MODEL_b3860056d981495bb209085534442638"
     }
    },
    "e5d81cbcedec417faa64a46816109321": {
     "model_module": "@jupyter-widgets/controls",
     "model_name": "FloatProgressModel",
     "state": {
      "_dom_classes": [],
      "_model_module": "@jupyter-widgets/controls",
      "_model_module_version": "1.5.0",
      "_model_name": "FloatProgressModel",
      "_view_count": null,
      "_view_module": "@jupyter-widgets/controls",
      "_view_module_version": "1.5.0",
      "_view_name": "ProgressView",
      "bar_style": "success",
      "description": "epoch 1: 100%",
      "description_tooltip": null,
      "layout": "IPY_MODEL_bd92ba3ee1cb47e8905df3b7694f41c1",
      "max": 40,
      "min": 0,
      "orientation": "horizontal",
      "style": "IPY_MODEL_c7f3833de53d479c8fffb4dd20d02685",
      "value": 40
     }
    },
    "e60e2ca1b44249d2a718c6fa60b5690a": {
     "model_module": "@jupyter-widgets/controls",
     "model_name": "FloatProgressModel",
     "state": {
      "_dom_classes": [],
      "_model_module": "@jupyter-widgets/controls",
      "_model_module_version": "1.5.0",
      "_model_name": "FloatProgressModel",
      "_view_count": null,
      "_view_module": "@jupyter-widgets/controls",
      "_view_module_version": "1.5.0",
      "_view_name": "ProgressView",
      "bar_style": "success",
      "description": "epoch 8: 100%",
      "description_tooltip": null,
      "layout": "IPY_MODEL_1c02112415834068801f03605d7a6499",
      "max": 133,
      "min": 0,
      "orientation": "horizontal",
      "style": "IPY_MODEL_d70dbe81bc6e4cefab4b40bfbf379f2a",
      "value": 133
     }
    },
    "e66c6126648e4224a5470f97c1e6bfcc": {
     "model_module": "@jupyter-widgets/controls",
     "model_name": "DescriptionStyleModel",
     "state": {
      "_model_module": "@jupyter-widgets/controls",
      "_model_module_version": "1.5.0",
      "_model_name": "DescriptionStyleModel",
      "_view_count": null,
      "_view_module": "@jupyter-widgets/base",
      "_view_module_version": "1.2.0",
      "_view_name": "StyleView",
      "description_width": ""
     }
    },
    "e805155377e94b3eac6050ff56beef70": {
     "model_module": "@jupyter-widgets/base",
     "model_name": "LayoutModel",
     "state": {
      "_model_module": "@jupyter-widgets/base",
      "_model_module_version": "1.2.0",
      "_model_name": "LayoutModel",
      "_view_count": null,
      "_view_module": "@jupyter-widgets/base",
      "_view_module_version": "1.2.0",
      "_view_name": "LayoutView",
      "align_content": null,
      "align_items": null,
      "align_self": null,
      "border": null,
      "bottom": null,
      "display": null,
      "flex": null,
      "flex_flow": null,
      "grid_area": null,
      "grid_auto_columns": null,
      "grid_auto_flow": null,
      "grid_auto_rows": null,
      "grid_column": null,
      "grid_gap": null,
      "grid_row": null,
      "grid_template_areas": null,
      "grid_template_columns": null,
      "grid_template_rows": null,
      "height": null,
      "justify_content": null,
      "justify_items": null,
      "left": null,
      "margin": null,
      "max_height": null,
      "max_width": null,
      "min_height": null,
      "min_width": null,
      "object_fit": null,
      "object_position": null,
      "order": null,
      "overflow": null,
      "overflow_x": null,
      "overflow_y": null,
      "padding": null,
      "right": null,
      "top": null,
      "visibility": null,
      "width": null
     }
    },
    "ea2e6ba804c2473face777ba5076079e": {
     "model_module": "@jupyter-widgets/base",
     "model_name": "LayoutModel",
     "state": {
      "_model_module": "@jupyter-widgets/base",
      "_model_module_version": "1.2.0",
      "_model_name": "LayoutModel",
      "_view_count": null,
      "_view_module": "@jupyter-widgets/base",
      "_view_module_version": "1.2.0",
      "_view_name": "LayoutView",
      "align_content": null,
      "align_items": null,
      "align_self": null,
      "border": null,
      "bottom": null,
      "display": null,
      "flex": null,
      "flex_flow": null,
      "grid_area": null,
      "grid_auto_columns": null,
      "grid_auto_flow": null,
      "grid_auto_rows": null,
      "grid_column": null,
      "grid_gap": null,
      "grid_row": null,
      "grid_template_areas": null,
      "grid_template_columns": null,
      "grid_template_rows": null,
      "height": null,
      "justify_content": null,
      "justify_items": null,
      "left": null,
      "margin": null,
      "max_height": null,
      "max_width": null,
      "min_height": null,
      "min_width": null,
      "object_fit": null,
      "object_position": null,
      "order": null,
      "overflow": null,
      "overflow_x": null,
      "overflow_y": null,
      "padding": null,
      "right": null,
      "top": null,
      "visibility": null,
      "width": null
     }
    },
    "ea3368f8a9bc453f81082d1db2a741fb": {
     "model_module": "@jupyter-widgets/controls",
     "model_name": "HTMLModel",
     "state": {
      "_dom_classes": [],
      "_model_module": "@jupyter-widgets/controls",
      "_model_module_version": "1.5.0",
      "_model_name": "HTMLModel",
      "_view_count": null,
      "_view_module": "@jupyter-widgets/controls",
      "_view_module_version": "1.5.0",
      "_view_name": "HTMLView",
      "description": "",
      "description_tooltip": null,
      "layout": "IPY_MODEL_836a699ff7534c7cbf4c496897ed68ae",
      "placeholder": "​",
      "style": "IPY_MODEL_cd81b6f8fb7f4109961582fd54e12e6e",
      "value": " 40/40 [02:57&lt;00:00,  4.43s/instance, train_loss=0.479, train_denotation_acc=0.925, dev_denotation_acc=1]"
     }
    },
    "ea88762fe75c40699f36bbcea21b5739": {
     "model_module": "@jupyter-widgets/base",
     "model_name": "LayoutModel",
     "state": {
      "_model_module": "@jupyter-widgets/base",
      "_model_module_version": "1.2.0",
      "_model_name": "LayoutModel",
      "_view_count": null,
      "_view_module": "@jupyter-widgets/base",
      "_view_module_version": "1.2.0",
      "_view_name": "LayoutView",
      "align_content": null,
      "align_items": null,
      "align_self": null,
      "border": null,
      "bottom": null,
      "display": null,
      "flex": null,
      "flex_flow": null,
      "grid_area": null,
      "grid_auto_columns": null,
      "grid_auto_flow": null,
      "grid_auto_rows": null,
      "grid_column": null,
      "grid_gap": null,
      "grid_row": null,
      "grid_template_areas": null,
      "grid_template_columns": null,
      "grid_template_rows": null,
      "height": null,
      "justify_content": null,
      "justify_items": null,
      "left": null,
      "margin": null,
      "max_height": null,
      "max_width": null,
      "min_height": null,
      "min_width": null,
      "object_fit": null,
      "object_position": null,
      "order": null,
      "overflow": null,
      "overflow_x": null,
      "overflow_y": null,
      "padding": null,
      "right": null,
      "top": null,
      "visibility": null,
      "width": null
     }
    },
    "eb6dca02a0df4f3c868d1d51237b8597": {
     "model_module": "@jupyter-widgets/controls",
     "model_name": "HTMLModel",
     "state": {
      "_dom_classes": [],
      "_model_module": "@jupyter-widgets/controls",
      "_model_module_version": "1.5.0",
      "_model_name": "HTMLModel",
      "_view_count": null,
      "_view_module": "@jupyter-widgets/controls",
      "_view_module_version": "1.5.0",
      "_view_name": "HTMLView",
      "description": "",
      "description_tooltip": null,
      "layout": "IPY_MODEL_1185c695d6704f4eae7b2a409562f3c4",
      "placeholder": "​",
      "style": "IPY_MODEL_076e11cb30e24b359910ab19ea4b9568",
      "value": " 133/133 [24:52&lt;00:00, 11.22s/instance, train_loss=1.02, train_denotation_acc=0.872, dev_denotation_acc=0.78, dev_loss=1.6]"
     }
    },
    "ec0b06ae4f624f388f8accf81f98ba06": {
     "model_module": "@jupyter-widgets/controls",
     "model_name": "HBoxModel",
     "state": {
      "_dom_classes": [],
      "_model_module": "@jupyter-widgets/controls",
      "_model_module_version": "1.5.0",
      "_model_name": "HBoxModel",
      "_view_count": null,
      "_view_module": "@jupyter-widgets/controls",
      "_view_module_version": "1.5.0",
      "_view_name": "HBoxView",
      "box_style": "",
      "children": [
       "IPY_MODEL_c8bf177935ce485a8f277203322aaee7",
       "IPY_MODEL_ea3368f8a9bc453f81082d1db2a741fb"
      ],
      "layout": "IPY_MODEL_c91e0329c7e94ec796652b49df29497c"
     }
    },
    "ecc0cc15970549bfa8818f18b17a9ca2": {
     "model_module": "@jupyter-widgets/controls",
     "model_name": "HTMLModel",
     "state": {
      "_dom_classes": [],
      "_model_module": "@jupyter-widgets/controls",
      "_model_module_version": "1.5.0",
      "_model_name": "HTMLModel",
      "_view_count": null,
      "_view_module": "@jupyter-widgets/controls",
      "_view_module_version": "1.5.0",
      "_view_name": "HTMLView",
      "description": "",
      "description_tooltip": null,
      "layout": "IPY_MODEL_79bb4e17979e406bbc1790ef11b5137e",
      "placeholder": "​",
      "style": "IPY_MODEL_d8137ea2e76540f6839fff4caa82b918",
      "value": " 133/133 [03:47&lt;00:00,  1.71s/instance, train_loss=0.805, train_denotation_acc=0.782, dev_denotation_acc=0.78]"
     }
    },
    "ecdc050f5e4c455da2ca527d1a5361cd": {
     "model_module": "@jupyter-widgets/base",
     "model_name": "LayoutModel",
     "state": {
      "_model_module": "@jupyter-widgets/base",
      "_model_module_version": "1.2.0",
      "_model_name": "LayoutModel",
      "_view_count": null,
      "_view_module": "@jupyter-widgets/base",
      "_view_module_version": "1.2.0",
      "_view_name": "LayoutView",
      "align_content": null,
      "align_items": null,
      "align_self": null,
      "border": null,
      "bottom": null,
      "display": null,
      "flex": null,
      "flex_flow": null,
      "grid_area": null,
      "grid_auto_columns": null,
      "grid_auto_flow": null,
      "grid_auto_rows": null,
      "grid_column": null,
      "grid_gap": null,
      "grid_row": null,
      "grid_template_areas": null,
      "grid_template_columns": null,
      "grid_template_rows": null,
      "height": null,
      "justify_content": null,
      "justify_items": null,
      "left": null,
      "margin": null,
      "max_height": null,
      "max_width": null,
      "min_height": null,
      "min_width": null,
      "object_fit": null,
      "object_position": null,
      "order": null,
      "overflow": null,
      "overflow_x": null,
      "overflow_y": null,
      "padding": null,
      "right": null,
      "top": null,
      "visibility": null,
      "width": null
     }
    },
    "ed930c9765744a038ee8ac57280e2f1a": {
     "model_module": "@jupyter-widgets/base",
     "model_name": "LayoutModel",
     "state": {
      "_model_module": "@jupyter-widgets/base",
      "_model_module_version": "1.2.0",
      "_model_name": "LayoutModel",
      "_view_count": null,
      "_view_module": "@jupyter-widgets/base",
      "_view_module_version": "1.2.0",
      "_view_name": "LayoutView",
      "align_content": null,
      "align_items": null,
      "align_self": null,
      "border": null,
      "bottom": null,
      "display": null,
      "flex": null,
      "flex_flow": null,
      "grid_area": null,
      "grid_auto_columns": null,
      "grid_auto_flow": null,
      "grid_auto_rows": null,
      "grid_column": null,
      "grid_gap": null,
      "grid_row": null,
      "grid_template_areas": null,
      "grid_template_columns": null,
      "grid_template_rows": null,
      "height": null,
      "justify_content": null,
      "justify_items": null,
      "left": null,
      "margin": null,
      "max_height": null,
      "max_width": null,
      "min_height": null,
      "min_width": null,
      "object_fit": null,
      "object_position": null,
      "order": null,
      "overflow": null,
      "overflow_x": null,
      "overflow_y": null,
      "padding": null,
      "right": null,
      "top": null,
      "visibility": null,
      "width": null
     }
    },
    "efb788d91cc84e19a834c80b7069a8ff": {
     "model_module": "@jupyter-widgets/base",
     "model_name": "LayoutModel",
     "state": {
      "_model_module": "@jupyter-widgets/base",
      "_model_module_version": "1.2.0",
      "_model_name": "LayoutModel",
      "_view_count": null,
      "_view_module": "@jupyter-widgets/base",
      "_view_module_version": "1.2.0",
      "_view_name": "LayoutView",
      "align_content": null,
      "align_items": null,
      "align_self": null,
      "border": null,
      "bottom": null,
      "display": null,
      "flex": null,
      "flex_flow": null,
      "grid_area": null,
      "grid_auto_columns": null,
      "grid_auto_flow": null,
      "grid_auto_rows": null,
      "grid_column": null,
      "grid_gap": null,
      "grid_row": null,
      "grid_template_areas": null,
      "grid_template_columns": null,
      "grid_template_rows": null,
      "height": null,
      "justify_content": null,
      "justify_items": null,
      "left": null,
      "margin": null,
      "max_height": null,
      "max_width": null,
      "min_height": null,
      "min_width": null,
      "object_fit": null,
      "object_position": null,
      "order": null,
      "overflow": null,
      "overflow_x": null,
      "overflow_y": null,
      "padding": null,
      "right": null,
      "top": null,
      "visibility": null,
      "width": null
     }
    },
    "f1433dc5699a489e8cc6dd6449f82d38": {
     "model_module": "@jupyter-widgets/controls",
     "model_name": "ProgressStyleModel",
     "state": {
      "_model_module": "@jupyter-widgets/controls",
      "_model_module_version": "1.5.0",
      "_model_name": "ProgressStyleModel",
      "_view_count": null,
      "_view_module": "@jupyter-widgets/base",
      "_view_module_version": "1.2.0",
      "_view_name": "StyleView",
      "bar_color": null,
      "description_width": "initial"
     }
    },
    "f2a5781177dd49a8a85d5aac1d749796": {
     "model_module": "@jupyter-widgets/controls",
     "model_name": "HTMLModel",
     "state": {
      "_dom_classes": [],
      "_model_module": "@jupyter-widgets/controls",
      "_model_module_version": "1.5.0",
      "_model_name": "HTMLModel",
      "_view_count": null,
      "_view_module": "@jupyter-widgets/controls",
      "_view_module_version": "1.5.0",
      "_view_name": "HTMLView",
      "description": "",
      "description_tooltip": null,
      "layout": "IPY_MODEL_6b4ca4926eee4985a3a1df6d98beddc7",
      "placeholder": "​",
      "style": "IPY_MODEL_9aa0c14295894862b119a9e844fa031a",
      "value": " 40/40 [03:26&lt;00:00,  5.16s/instance, train_loss=0.935, train_denotation_acc=0.95, dev_denotation_acc=1]"
     }
    },
    "f2c54c5fbbe04bb3bef378e4995b7bea": {
     "model_module": "@jupyter-widgets/base",
     "model_name": "LayoutModel",
     "state": {
      "_model_module": "@jupyter-widgets/base",
      "_model_module_version": "1.2.0",
      "_model_name": "LayoutModel",
      "_view_count": null,
      "_view_module": "@jupyter-widgets/base",
      "_view_module_version": "1.2.0",
      "_view_name": "LayoutView",
      "align_content": null,
      "align_items": null,
      "align_self": null,
      "border": null,
      "bottom": null,
      "display": null,
      "flex": null,
      "flex_flow": null,
      "grid_area": null,
      "grid_auto_columns": null,
      "grid_auto_flow": null,
      "grid_auto_rows": null,
      "grid_column": null,
      "grid_gap": null,
      "grid_row": null,
      "grid_template_areas": null,
      "grid_template_columns": null,
      "grid_template_rows": null,
      "height": null,
      "justify_content": null,
      "justify_items": null,
      "left": null,
      "margin": null,
      "max_height": null,
      "max_width": null,
      "min_height": null,
      "min_width": null,
      "object_fit": null,
      "object_position": null,
      "order": null,
      "overflow": null,
      "overflow_x": null,
      "overflow_y": null,
      "padding": null,
      "right": null,
      "top": null,
      "visibility": null,
      "width": null
     }
    },
    "f2fe4312d12a476ead372db6fd875fa8": {
     "model_module": "@jupyter-widgets/controls",
     "model_name": "ProgressStyleModel",
     "state": {
      "_model_module": "@jupyter-widgets/controls",
      "_model_module_version": "1.5.0",
      "_model_name": "ProgressStyleModel",
      "_view_count": null,
      "_view_module": "@jupyter-widgets/base",
      "_view_module_version": "1.2.0",
      "_view_name": "StyleView",
      "bar_color": null,
      "description_width": "initial"
     }
    },
    "f50490528bd348eb9689288477cbb6ab": {
     "model_module": "@jupyter-widgets/controls",
     "model_name": "DescriptionStyleModel",
     "state": {
      "_model_module": "@jupyter-widgets/controls",
      "_model_module_version": "1.5.0",
      "_model_name": "DescriptionStyleModel",
      "_view_count": null,
      "_view_module": "@jupyter-widgets/base",
      "_view_module_version": "1.2.0",
      "_view_name": "StyleView",
      "description_width": ""
     }
    },
    "f5321513b7524956b97bbda4c3c5cc78": {
     "model_module": "@jupyter-widgets/controls",
     "model_name": "HBoxModel",
     "state": {
      "_dom_classes": [],
      "_model_module": "@jupyter-widgets/controls",
      "_model_module_version": "1.5.0",
      "_model_name": "HBoxModel",
      "_view_count": null,
      "_view_module": "@jupyter-widgets/controls",
      "_view_module_version": "1.5.0",
      "_view_name": "HBoxView",
      "box_style": "",
      "children": [
       "IPY_MODEL_4c87bbdb7f5d4354b03a0646037db15e",
       "IPY_MODEL_5087ba20ae974abc9744e84411abcf72"
      ],
      "layout": "IPY_MODEL_0678d1af0f464c51b9831b0927e15cde"
     }
    },
    "f59886b0d9434e83950a9571eb6f079c": {
     "model_module": "@jupyter-widgets/base",
     "model_name": "LayoutModel",
     "state": {
      "_model_module": "@jupyter-widgets/base",
      "_model_module_version": "1.2.0",
      "_model_name": "LayoutModel",
      "_view_count": null,
      "_view_module": "@jupyter-widgets/base",
      "_view_module_version": "1.2.0",
      "_view_name": "LayoutView",
      "align_content": null,
      "align_items": null,
      "align_self": null,
      "border": null,
      "bottom": null,
      "display": null,
      "flex": null,
      "flex_flow": null,
      "grid_area": null,
      "grid_auto_columns": null,
      "grid_auto_flow": null,
      "grid_auto_rows": null,
      "grid_column": null,
      "grid_gap": null,
      "grid_row": null,
      "grid_template_areas": null,
      "grid_template_columns": null,
      "grid_template_rows": null,
      "height": null,
      "justify_content": null,
      "justify_items": null,
      "left": null,
      "margin": null,
      "max_height": null,
      "max_width": null,
      "min_height": null,
      "min_width": null,
      "object_fit": null,
      "object_position": null,
      "order": null,
      "overflow": null,
      "overflow_x": null,
      "overflow_y": null,
      "padding": null,
      "right": null,
      "top": null,
      "visibility": null,
      "width": null
     }
    },
    "f5eb403de32b44b2ac9abc4173ac5be3": {
     "model_module": "@jupyter-widgets/controls",
     "model_name": "DescriptionStyleModel",
     "state": {
      "_model_module": "@jupyter-widgets/controls",
      "_model_module_version": "1.5.0",
      "_model_name": "DescriptionStyleModel",
      "_view_count": null,
      "_view_module": "@jupyter-widgets/base",
      "_view_module_version": "1.2.0",
      "_view_name": "StyleView",
      "description_width": ""
     }
    },
    "f62d3a2bf92a40b69cf72e5e4f1b4f16": {
     "model_module": "@jupyter-widgets/controls",
     "model_name": "DescriptionStyleModel",
     "state": {
      "_model_module": "@jupyter-widgets/controls",
      "_model_module_version": "1.5.0",
      "_model_name": "DescriptionStyleModel",
      "_view_count": null,
      "_view_module": "@jupyter-widgets/base",
      "_view_module_version": "1.2.0",
      "_view_name": "StyleView",
      "description_width": ""
     }
    },
    "f7485d8155c249ed824d5275530aa05c": {
     "model_module": "@jupyter-widgets/controls",
     "model_name": "ProgressStyleModel",
     "state": {
      "_model_module": "@jupyter-widgets/controls",
      "_model_module_version": "1.5.0",
      "_model_name": "ProgressStyleModel",
      "_view_count": null,
      "_view_module": "@jupyter-widgets/base",
      "_view_module_version": "1.2.0",
      "_view_name": "StyleView",
      "bar_color": null,
      "description_width": "initial"
     }
    },
    "f89a045545d5406d9da74dfee303fdcc": {
     "model_module": "@jupyter-widgets/controls",
     "model_name": "ProgressStyleModel",
     "state": {
      "_model_module": "@jupyter-widgets/controls",
      "_model_module_version": "1.5.0",
      "_model_name": "ProgressStyleModel",
      "_view_count": null,
      "_view_module": "@jupyter-widgets/base",
      "_view_module_version": "1.2.0",
      "_view_name": "StyleView",
      "bar_color": null,
      "description_width": "initial"
     }
    },
    "f99fc3d3f90d4e34989722aee0fcac9d": {
     "model_module": "@jupyter-widgets/controls",
     "model_name": "DescriptionStyleModel",
     "state": {
      "_model_module": "@jupyter-widgets/controls",
      "_model_module_version": "1.5.0",
      "_model_name": "DescriptionStyleModel",
      "_view_count": null,
      "_view_module": "@jupyter-widgets/base",
      "_view_module_version": "1.2.0",
      "_view_name": "StyleView",
      "description_width": ""
     }
    },
    "fb9dbe59a5b34ddf95cd61402fd720ad": {
     "model_module": "@jupyter-widgets/controls",
     "model_name": "ProgressStyleModel",
     "state": {
      "_model_module": "@jupyter-widgets/controls",
      "_model_module_version": "1.5.0",
      "_model_name": "ProgressStyleModel",
      "_view_count": null,
      "_view_module": "@jupyter-widgets/base",
      "_view_module_version": "1.2.0",
      "_view_name": "StyleView",
      "bar_color": null,
      "description_width": "initial"
     }
    },
    "fbe9605473ac4557af164c91795e6b0d": {
     "model_module": "@jupyter-widgets/base",
     "model_name": "LayoutModel",
     "state": {
      "_model_module": "@jupyter-widgets/base",
      "_model_module_version": "1.2.0",
      "_model_name": "LayoutModel",
      "_view_count": null,
      "_view_module": "@jupyter-widgets/base",
      "_view_module_version": "1.2.0",
      "_view_name": "LayoutView",
      "align_content": null,
      "align_items": null,
      "align_self": null,
      "border": null,
      "bottom": null,
      "display": null,
      "flex": null,
      "flex_flow": null,
      "grid_area": null,
      "grid_auto_columns": null,
      "grid_auto_flow": null,
      "grid_auto_rows": null,
      "grid_column": null,
      "grid_gap": null,
      "grid_row": null,
      "grid_template_areas": null,
      "grid_template_columns": null,
      "grid_template_rows": null,
      "height": null,
      "justify_content": null,
      "justify_items": null,
      "left": null,
      "margin": null,
      "max_height": null,
      "max_width": null,
      "min_height": null,
      "min_width": null,
      "object_fit": null,
      "object_position": null,
      "order": null,
      "overflow": null,
      "overflow_x": null,
      "overflow_y": null,
      "padding": null,
      "right": null,
      "top": null,
      "visibility": null,
      "width": null
     }
    },
    "fdd2b7dbd8644063844df7309f766068": {
     "model_module": "@jupyter-widgets/controls",
     "model_name": "HTMLModel",
     "state": {
      "_dom_classes": [],
      "_model_module": "@jupyter-widgets/controls",
      "_model_module_version": "1.5.0",
      "_model_name": "HTMLModel",
      "_view_count": null,
      "_view_module": "@jupyter-widgets/controls",
      "_view_module_version": "1.5.0",
      "_view_name": "HTMLView",
      "description": "",
      "description_tooltip": null,
      "layout": "IPY_MODEL_820b6564ecf64b5e8988a20c17d7ef3d",
      "placeholder": "​",
      "style": "IPY_MODEL_3676aa8881dd4405a04888473bd78e09",
      "value": " 133/133 [23:38&lt;00:00, 10.67s/instance, train_loss=0.737, train_denotation_acc=0.91, dev_denotation_acc=0.756, dev_loss=1.34]"
     }
    },
    "fe2530a408954c0684217f16b44f7f84": {
     "model_module": "@jupyter-widgets/controls",
     "model_name": "FloatProgressModel",
     "state": {
      "_dom_classes": [],
      "_model_module": "@jupyter-widgets/controls",
      "_model_module_version": "1.5.0",
      "_model_name": "FloatProgressModel",
      "_view_count": null,
      "_view_module": "@jupyter-widgets/controls",
      "_view_module_version": "1.5.0",
      "_view_name": "ProgressView",
      "bar_style": "success",
      "description": "epoch 9: 100%",
      "description_tooltip": null,
      "layout": "IPY_MODEL_996bed156384441fa1c9f9935f7ddd6b",
      "max": 133,
      "min": 0,
      "orientation": "horizontal",
      "style": "IPY_MODEL_a02794a213c94d77bfcde5805ea0ac2c",
      "value": 133
     }
    },
    "feba34bd916e4d3fb5c00fa08bd8ca7a": {
     "model_module": "@jupyter-widgets/controls",
     "model_name": "DescriptionStyleModel",
     "state": {
      "_model_module": "@jupyter-widgets/controls",
      "_model_module_version": "1.5.0",
      "_model_name": "DescriptionStyleModel",
      "_view_count": null,
      "_view_module": "@jupyter-widgets/base",
      "_view_module_version": "1.2.0",
      "_view_name": "StyleView",
      "description_width": ""
     }
    }
   }
  }
 },
 "nbformat": 4,
 "nbformat_minor": 1
}
